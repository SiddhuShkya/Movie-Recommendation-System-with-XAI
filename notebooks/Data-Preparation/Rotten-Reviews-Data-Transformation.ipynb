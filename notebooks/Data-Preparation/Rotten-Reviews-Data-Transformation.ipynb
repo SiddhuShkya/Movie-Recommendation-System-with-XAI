{
 "cells": [
  {
   "cell_type": "code",
   "execution_count": 1,
   "id": "c0fd494b-338b-4112-aa5d-f97a9da2e292",
   "metadata": {},
   "outputs": [],
   "source": [
    "# Importing Necessary Libraries\n",
    "import pandas as pd\n",
    "import matplotlib.pyplot as plt\n",
    "import seaborn as sns"
   ]
  },
  {
   "cell_type": "code",
   "execution_count": 2,
   "id": "0aabf385-5b7c-497c-9be2-00bba44fc9dc",
   "metadata": {},
   "outputs": [],
   "source": [
    "df_reviews = pd.read_csv(\"../../data/movie-review-data/rotten_tomatoes_movie_reviews.csv\")"
   ]
  },
  {
   "cell_type": "code",
   "execution_count": 3,
   "id": "7ccfb3df-a767-4aba-a85a-c704e4f02f01",
   "metadata": {},
   "outputs": [
    {
     "data": {
      "text/html": [
       "<div>\n",
       "<style scoped>\n",
       "    .dataframe tbody tr th:only-of-type {\n",
       "        vertical-align: middle;\n",
       "    }\n",
       "\n",
       "    .dataframe tbody tr th {\n",
       "        vertical-align: top;\n",
       "    }\n",
       "\n",
       "    .dataframe thead th {\n",
       "        text-align: right;\n",
       "    }\n",
       "</style>\n",
       "<table border=\"1\" class=\"dataframe\">\n",
       "  <thead>\n",
       "    <tr style=\"text-align: right;\">\n",
       "      <th></th>\n",
       "      <th>1386942</th>\n",
       "    </tr>\n",
       "  </thead>\n",
       "  <tbody>\n",
       "    <tr>\n",
       "      <th>id</th>\n",
       "      <td>the_report_2019</td>\n",
       "    </tr>\n",
       "    <tr>\n",
       "      <th>reviewId</th>\n",
       "      <td>2650553</td>\n",
       "    </tr>\n",
       "    <tr>\n",
       "      <th>creationDate</th>\n",
       "      <td>2019-12-02</td>\n",
       "    </tr>\n",
       "    <tr>\n",
       "      <th>criticName</th>\n",
       "      <td>Anne Brodie</td>\n",
       "    </tr>\n",
       "    <tr>\n",
       "      <th>isTopCritic</th>\n",
       "      <td>False</td>\n",
       "    </tr>\n",
       "    <tr>\n",
       "      <th>originalScore</th>\n",
       "      <td>NaN</td>\n",
       "    </tr>\n",
       "    <tr>\n",
       "      <th>reviewState</th>\n",
       "      <td>fresh</td>\n",
       "    </tr>\n",
       "    <tr>\n",
       "      <th>publicatioName</th>\n",
       "      <td>What She Said</td>\n",
       "    </tr>\n",
       "    <tr>\n",
       "      <th>reviewText</th>\n",
       "      <td>Driver's dangerous deep dive takes time, patie...</td>\n",
       "    </tr>\n",
       "    <tr>\n",
       "      <th>scoreSentiment</th>\n",
       "      <td>POSITIVE</td>\n",
       "    </tr>\n",
       "    <tr>\n",
       "      <th>reviewUrl</th>\n",
       "      <td>http://www.whatshesaidradio.com/what-she-said/...</td>\n",
       "    </tr>\n",
       "  </tbody>\n",
       "</table>\n",
       "</div>"
      ],
      "text/plain": [
       "                                                          1386942\n",
       "id                                                the_report_2019\n",
       "reviewId                                                  2650553\n",
       "creationDate                                           2019-12-02\n",
       "criticName                                            Anne Brodie\n",
       "isTopCritic                                                 False\n",
       "originalScore                                                 NaN\n",
       "reviewState                                                 fresh\n",
       "publicatioName                                      What She Said\n",
       "reviewText      Driver's dangerous deep dive takes time, patie...\n",
       "scoreSentiment                                           POSITIVE\n",
       "reviewUrl       http://www.whatshesaidradio.com/what-she-said/..."
      ]
     },
     "execution_count": 3,
     "metadata": {},
     "output_type": "execute_result"
    }
   ],
   "source": [
    "df_reviews.sample(1).T"
   ]
  },
  {
   "cell_type": "code",
   "execution_count": 4,
   "id": "e6cbf560-61e7-4694-a361-1983e69658bd",
   "metadata": {},
   "outputs": [
    {
     "data": {
      "text/html": [
       "<div>\n",
       "<style scoped>\n",
       "    .dataframe tbody tr th:only-of-type {\n",
       "        vertical-align: middle;\n",
       "    }\n",
       "\n",
       "    .dataframe tbody tr th {\n",
       "        vertical-align: top;\n",
       "    }\n",
       "\n",
       "    .dataframe thead th {\n",
       "        text-align: right;\n",
       "    }\n",
       "</style>\n",
       "<table border=\"1\" class=\"dataframe\">\n",
       "  <thead>\n",
       "    <tr style=\"text-align: right;\">\n",
       "      <th></th>\n",
       "      <th>838276</th>\n",
       "      <th>443531</th>\n",
       "    </tr>\n",
       "  </thead>\n",
       "  <tbody>\n",
       "    <tr>\n",
       "      <th>id</th>\n",
       "      <td>dragged_across_concrete</td>\n",
       "      <td>baby_mama</td>\n",
       "    </tr>\n",
       "    <tr>\n",
       "      <th>criticName</th>\n",
       "      <td>Jordan Ruimy</td>\n",
       "      <td>Tricia Olszewski</td>\n",
       "    </tr>\n",
       "    <tr>\n",
       "      <th>originalScore</th>\n",
       "      <td>A-</td>\n",
       "      <td>NaN</td>\n",
       "    </tr>\n",
       "    <tr>\n",
       "      <th>reviewText</th>\n",
       "      <td>Zahler isn't in the same league yet as Taranti...</td>\n",
       "      <td>After a parade of romantic comedies that shoot...</td>\n",
       "    </tr>\n",
       "    <tr>\n",
       "      <th>scoreSentiment</th>\n",
       "      <td>POSITIVE</td>\n",
       "      <td>POSITIVE</td>\n",
       "    </tr>\n",
       "  </tbody>\n",
       "</table>\n",
       "</div>"
      ],
      "text/plain": [
       "                                                           838276  \\\n",
       "id                                        dragged_across_concrete   \n",
       "criticName                                           Jordan Ruimy   \n",
       "originalScore                                                  A-   \n",
       "reviewText      Zahler isn't in the same league yet as Taranti...   \n",
       "scoreSentiment                                           POSITIVE   \n",
       "\n",
       "                                                           443531  \n",
       "id                                                      baby_mama  \n",
       "criticName                                       Tricia Olszewski  \n",
       "originalScore                                                 NaN  \n",
       "reviewText      After a parade of romantic comedies that shoot...  \n",
       "scoreSentiment                                           POSITIVE  "
      ]
     },
     "execution_count": 4,
     "metadata": {},
     "output_type": "execute_result"
    }
   ],
   "source": [
    "df_reviews.drop(columns=['reviewId','creationDate', 'isTopCritic', 'reviewState', 'publicatioName', 'reviewUrl'], inplace=True)\n",
    "df_reviews.sample(2).T"
   ]
  },
  {
   "cell_type": "code",
   "execution_count": 5,
   "id": "ebbfc7a4-cb02-42d7-b0e4-742343bbd69e",
   "metadata": {},
   "outputs": [
    {
     "data": {
      "text/plain": [
       "(1444963, 5)"
      ]
     },
     "execution_count": 5,
     "metadata": {},
     "output_type": "execute_result"
    }
   ],
   "source": [
    "df_reviews.shape"
   ]
  },
  {
   "cell_type": "code",
   "execution_count": 6,
   "id": "ed792408-d5c9-43b8-b99f-9f26757f7fa2",
   "metadata": {},
   "outputs": [],
   "source": [
    "df_reviews = df_reviews.drop_duplicates()\n",
    "df_reviews = df_reviews.reset_index(drop=True)"
   ]
  },
  {
   "cell_type": "code",
   "execution_count": 7,
   "id": "23753541-839d-43b4-964d-00b9e02a29c4",
   "metadata": {},
   "outputs": [
    {
     "data": {
      "text/plain": [
       "(1432282, 5)"
      ]
     },
     "execution_count": 7,
     "metadata": {},
     "output_type": "execute_result"
    }
   ],
   "source": [
    "df_reviews.shape"
   ]
  },
  {
   "cell_type": "code",
   "execution_count": 8,
   "id": "54450922-bc12-4850-a133-fa6b77124092",
   "metadata": {},
   "outputs": [
    {
     "data": {
      "text/plain": [
       "15510"
      ]
     },
     "execution_count": 8,
     "metadata": {},
     "output_type": "execute_result"
    }
   ],
   "source": [
    "df_reviews['criticName'].nunique()"
   ]
  },
  {
   "cell_type": "code",
   "execution_count": 9,
   "id": "905fac08-7752-448c-8c30-1922869cfd34",
   "metadata": {},
   "outputs": [],
   "source": [
    "df_reviews = df_reviews.groupby('id').agg({\n",
    "    'originalScore': lambda x: list(x),\n",
    "    'reviewText': lambda x: dict(zip(\n",
    "        df_reviews.loc[x.index, 'criticName'],\n",
    "        x\n",
    "    )),\n",
    "    'scoreSentiment': lambda x: {\n",
    "        'PositiveCount': (x == 'POSITIVE').sum(),\n",
    "        'NegativeCount': (x == 'NEGATIVE').sum()\n",
    "    }\n",
    "}).reset_index()"
   ]
  },
  {
   "cell_type": "code",
   "execution_count": 10,
   "id": "7fd7e649-14f2-45f2-ac08-c8dffd353b15",
   "metadata": {},
   "outputs": [],
   "source": [
    "df_reviews[['PositiveCount', 'NegativeCount']] = pd.DataFrame(\n",
    "    df_reviews['scoreSentiment'].tolist(), index=df_reviews.index\n",
    ")"
   ]
  },
  {
   "cell_type": "code",
   "execution_count": 11,
   "id": "cf762b41-f355-4d1b-8189-79b6f89d41ea",
   "metadata": {},
   "outputs": [
    {
     "data": {
      "text/html": [
       "<div>\n",
       "<style scoped>\n",
       "    .dataframe tbody tr th:only-of-type {\n",
       "        vertical-align: middle;\n",
       "    }\n",
       "\n",
       "    .dataframe tbody tr th {\n",
       "        vertical-align: top;\n",
       "    }\n",
       "\n",
       "    .dataframe thead th {\n",
       "        text-align: right;\n",
       "    }\n",
       "</style>\n",
       "<table border=\"1\" class=\"dataframe\">\n",
       "  <thead>\n",
       "    <tr style=\"text-align: right;\">\n",
       "      <th></th>\n",
       "      <th>id</th>\n",
       "      <th>originalScore</th>\n",
       "      <th>reviewText</th>\n",
       "      <th>PositiveCount</th>\n",
       "      <th>NegativeCount</th>\n",
       "      <th>TotalReviews</th>\n",
       "    </tr>\n",
       "  </thead>\n",
       "  <tbody>\n",
       "    <tr>\n",
       "      <th>0</th>\n",
       "      <td>$5_a_day</td>\n",
       "      <td>[2.5/5, D+, 4/5, 2.5/4]</td>\n",
       "      <td>{'Kevin Carr': '$5 a Day isn't perfect, but it...</td>\n",
       "      <td>2</td>\n",
       "      <td>2</td>\n",
       "      <td>4</td>\n",
       "    </tr>\n",
       "    <tr>\n",
       "      <th>1</th>\n",
       "      <td>009_re_cyborg</td>\n",
       "      <td>[2/5, nan, nan, 2/5, 3/5, 2/5, 2/5, 2/5, 4/5, ...</td>\n",
       "      <td>{'Joseph Walsh': 'Despite its good looks, ther...</td>\n",
       "      <td>3</td>\n",
       "      <td>10</td>\n",
       "      <td>13</td>\n",
       "    </tr>\n",
       "    <tr>\n",
       "      <th>2</th>\n",
       "      <td>00_mhz</td>\n",
       "      <td>[5/10, 8.5, 2/5]</td>\n",
       "      <td>{'Caitlin Kennedy': '...a stylishly minimalist...</td>\n",
       "      <td>2</td>\n",
       "      <td>1</td>\n",
       "      <td>3</td>\n",
       "    </tr>\n",
       "    <tr>\n",
       "      <th>3</th>\n",
       "      <td>0814255</td>\n",
       "      <td>[nan, 4/10, 2.0/4.0, 2.5/5, nan, 3/4, 2/4, 3.5...</td>\n",
       "      <td>{'Rene Jordan': 'The Lightning Thief is good j...</td>\n",
       "      <td>73</td>\n",
       "      <td>75</td>\n",
       "      <td>148</td>\n",
       "    </tr>\n",
       "    <tr>\n",
       "      <th>4</th>\n",
       "      <td>0878835</td>\n",
       "      <td>[nan, nan, 3.5/4.0, nan, nan, nan, 8.5/10, nan...</td>\n",
       "      <td>{'Rene Jordan': 'Formless and complicated.  [F...</td>\n",
       "      <td>123</td>\n",
       "      <td>19</td>\n",
       "      <td>142</td>\n",
       "    </tr>\n",
       "  </tbody>\n",
       "</table>\n",
       "</div>"
      ],
      "text/plain": [
       "              id                                      originalScore  \\\n",
       "0       $5_a_day                            [2.5/5, D+, 4/5, 2.5/4]   \n",
       "1  009_re_cyborg  [2/5, nan, nan, 2/5, 3/5, 2/5, 2/5, 2/5, 4/5, ...   \n",
       "2         00_mhz                                   [5/10, 8.5, 2/5]   \n",
       "3        0814255  [nan, 4/10, 2.0/4.0, 2.5/5, nan, 3/4, 2/4, 3.5...   \n",
       "4        0878835  [nan, nan, 3.5/4.0, nan, nan, nan, 8.5/10, nan...   \n",
       "\n",
       "                                          reviewText  PositiveCount  \\\n",
       "0  {'Kevin Carr': '$5 a Day isn't perfect, but it...              2   \n",
       "1  {'Joseph Walsh': 'Despite its good looks, ther...              3   \n",
       "2  {'Caitlin Kennedy': '...a stylishly minimalist...              2   \n",
       "3  {'Rene Jordan': 'The Lightning Thief is good j...             73   \n",
       "4  {'Rene Jordan': 'Formless and complicated.  [F...            123   \n",
       "\n",
       "   NegativeCount  TotalReviews  \n",
       "0              2             4  \n",
       "1             10            13  \n",
       "2              1             3  \n",
       "3             75           148  \n",
       "4             19           142  "
      ]
     },
     "execution_count": 11,
     "metadata": {},
     "output_type": "execute_result"
    }
   ],
   "source": [
    "df_reviews['TotalReviews'] = df_reviews['PositiveCount'] + df_reviews['NegativeCount']\n",
    "df_reviews.drop(columns='scoreSentiment', inplace=True)\n",
    "df_reviews.head()"
   ]
  },
  {
   "cell_type": "code",
   "execution_count": 12,
   "id": "75b5dc8e-6884-4fdc-8891-e866cd625f0b",
   "metadata": {},
   "outputs": [
    {
     "data": {
      "text/html": [
       "<div>\n",
       "<style scoped>\n",
       "    .dataframe tbody tr th:only-of-type {\n",
       "        vertical-align: middle;\n",
       "    }\n",
       "\n",
       "    .dataframe tbody tr th {\n",
       "        vertical-align: top;\n",
       "    }\n",
       "\n",
       "    .dataframe thead th {\n",
       "        text-align: right;\n",
       "    }\n",
       "</style>\n",
       "<table border=\"1\" class=\"dataframe\">\n",
       "  <thead>\n",
       "    <tr style=\"text-align: right;\">\n",
       "      <th></th>\n",
       "      <th>id</th>\n",
       "      <th>originalScore</th>\n",
       "      <th>reviewText</th>\n",
       "      <th>PositiveCount</th>\n",
       "      <th>NegativeCount</th>\n",
       "      <th>TotalReviews</th>\n",
       "    </tr>\n",
       "  </thead>\n",
       "  <tbody>\n",
       "    <tr>\n",
       "      <th>1</th>\n",
       "      <td>009_re_cyborg</td>\n",
       "      <td>[2/5, nan, nan, 2/5, 3/5, 2/5, 2/5, 2/5, 4/5, ...</td>\n",
       "      <td>{'Joseph Walsh': 'Despite its good looks, ther...</td>\n",
       "      <td>3</td>\n",
       "      <td>10</td>\n",
       "      <td>13</td>\n",
       "    </tr>\n",
       "    <tr>\n",
       "      <th>3</th>\n",
       "      <td>0814255</td>\n",
       "      <td>[nan, 4/10, 2.0/4.0, 2.5/5, nan, 3/4, 2/4, 3.5...</td>\n",
       "      <td>{'Rene Jordan': 'The Lightning Thief is good j...</td>\n",
       "      <td>73</td>\n",
       "      <td>75</td>\n",
       "      <td>148</td>\n",
       "    </tr>\n",
       "    <tr>\n",
       "      <th>4</th>\n",
       "      <td>0878835</td>\n",
       "      <td>[nan, nan, 3.5/4.0, nan, nan, nan, 8.5/10, nan...</td>\n",
       "      <td>{'Rene Jordan': 'Formless and complicated.  [F...</td>\n",
       "      <td>123</td>\n",
       "      <td>19</td>\n",
       "      <td>142</td>\n",
       "    </tr>\n",
       "    <tr>\n",
       "      <th>6</th>\n",
       "      <td>1-day</td>\n",
       "      <td>[2/5, 2/5, 4/5, 3/5, 3/5, 2/5, 5/5, 3/5, 4/5, ...</td>\n",
       "      <td>{'Anna Smith': 'A less gripping, if bleaker, t...</td>\n",
       "      <td>8</td>\n",
       "      <td>8</td>\n",
       "      <td>16</td>\n",
       "    </tr>\n",
       "    <tr>\n",
       "      <th>8</th>\n",
       "      <td>10</td>\n",
       "      <td>[4/5, 6/10, 8/10, 2.5/4, 6/10, 4/5, B-, 5/5, n...</td>\n",
       "      <td>{'Eddie Harrison': ''It's probably the writer/...</td>\n",
       "      <td>16</td>\n",
       "      <td>8</td>\n",
       "      <td>24</td>\n",
       "    </tr>\n",
       "  </tbody>\n",
       "</table>\n",
       "</div>"
      ],
      "text/plain": [
       "              id                                      originalScore  \\\n",
       "1  009_re_cyborg  [2/5, nan, nan, 2/5, 3/5, 2/5, 2/5, 2/5, 4/5, ...   \n",
       "3        0814255  [nan, 4/10, 2.0/4.0, 2.5/5, nan, 3/4, 2/4, 3.5...   \n",
       "4        0878835  [nan, nan, 3.5/4.0, nan, nan, nan, 8.5/10, nan...   \n",
       "6          1-day  [2/5, 2/5, 4/5, 3/5, 3/5, 2/5, 5/5, 3/5, 4/5, ...   \n",
       "8             10  [4/5, 6/10, 8/10, 2.5/4, 6/10, 4/5, B-, 5/5, n...   \n",
       "\n",
       "                                          reviewText  PositiveCount  \\\n",
       "1  {'Joseph Walsh': 'Despite its good looks, ther...              3   \n",
       "3  {'Rene Jordan': 'The Lightning Thief is good j...             73   \n",
       "4  {'Rene Jordan': 'Formless and complicated.  [F...            123   \n",
       "6  {'Anna Smith': 'A less gripping, if bleaker, t...              8   \n",
       "8  {'Eddie Harrison': ''It's probably the writer/...             16   \n",
       "\n",
       "   NegativeCount  TotalReviews  \n",
       "1             10            13  \n",
       "3             75           148  \n",
       "4             19           142  \n",
       "6              8            16  \n",
       "8              8            24  "
      ]
     },
     "execution_count": 12,
     "metadata": {},
     "output_type": "execute_result"
    }
   ],
   "source": [
    "df_reviews = df_reviews[df_reviews['TotalReviews'] >= 10]\n",
    "df_reviews.head()"
   ]
  },
  {
   "cell_type": "code",
   "execution_count": 13,
   "id": "5adaa06b-6892-4110-a87f-852a37a52558",
   "metadata": {},
   "outputs": [],
   "source": [
    "df_reviews.to_csv('../../data/movie-review-data/transformed_reviews.csv', index=False)"
   ]
  },
  {
   "cell_type": "code",
   "execution_count": null,
   "id": "a5089b2e-6966-4538-817f-bf90f088c1f9",
   "metadata": {},
   "outputs": [],
   "source": []
  }
 ],
 "metadata": {
  "kernelspec": {
   "display_name": "Python 3 (ipykernel)",
   "language": "python",
   "name": "python3"
  },
  "language_info": {
   "codemirror_mode": {
    "name": "ipython",
    "version": 3
   },
   "file_extension": ".py",
   "mimetype": "text/x-python",
   "name": "python",
   "nbconvert_exporter": "python",
   "pygments_lexer": "ipython3",
   "version": "3.12.2"
  }
 },
 "nbformat": 4,
 "nbformat_minor": 5
}
