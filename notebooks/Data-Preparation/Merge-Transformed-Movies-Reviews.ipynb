{
 "cells": [
  {
   "cell_type": "code",
   "execution_count": 1,
   "id": "66c78352-53ad-4b92-9c26-5a27b4c6cfb9",
   "metadata": {},
   "outputs": [],
   "source": [
    "# Importing Necessary Libraries\n",
    "import pandas as pd\n",
    "import random\n",
    "import matplotlib.pyplot as plt\n",
    "import seaborn as sns"
   ]
  },
  {
   "cell_type": "code",
   "execution_count": 2,
   "id": "d67da733-6c9a-48c3-acae-cc644f01f3c9",
   "metadata": {},
   "outputs": [],
   "source": [
    "df_movies = pd.read_csv(\"../../data/movie-review-data/transformed_movies.csv\")\n",
    "df_reviews = pd.read_csv(\"../../data/movie-review-data/transformed_reviews.csv\")"
   ]
  },
  {
   "cell_type": "code",
   "execution_count": 3,
   "id": "f71b8fa9-8050-4068-a512-4aa612eea8e9",
   "metadata": {},
   "outputs": [
    {
     "data": {
      "text/plain": [
       "(143258, 8)"
      ]
     },
     "execution_count": 3,
     "metadata": {},
     "output_type": "execute_result"
    }
   ],
   "source": [
    "df_movies.shape"
   ]
  },
  {
   "cell_type": "code",
   "execution_count": 4,
   "id": "b2f6edf4-779f-4700-947b-e56d0d6c82e6",
   "metadata": {},
   "outputs": [
    {
     "data": {
      "text/plain": [
       "(23088, 6)"
      ]
     },
     "execution_count": 4,
     "metadata": {},
     "output_type": "execute_result"
    }
   ],
   "source": [
    "df_reviews.shape"
   ]
  },
  {
   "cell_type": "code",
   "execution_count": 5,
   "id": "1a75d635-cd17-4758-a713-2141551c58eb",
   "metadata": {},
   "outputs": [
    {
     "name": "stdout",
     "output_type": "stream",
     "text": [
      "Number of common IDs: 23086\n"
     ]
    }
   ],
   "source": [
    "common_ids = set(df_movies['id']) & set(df_reviews['id'])\n",
    "print(f\"Number of common IDs: {len(common_ids)}\")"
   ]
  },
  {
   "cell_type": "code",
   "execution_count": 6,
   "id": "cd09272f-2e0d-4f34-ae92-b2be1d36df95",
   "metadata": {},
   "outputs": [
    {
     "name": "stdout",
     "output_type": "stream",
     "text": [
      "Merged DataFrame shape: (23295, 13)\n"
     ]
    },
    {
     "data": {
      "text/html": [
       "<div>\n",
       "<style scoped>\n",
       "    .dataframe tbody tr th:only-of-type {\n",
       "        vertical-align: middle;\n",
       "    }\n",
       "\n",
       "    .dataframe tbody tr th {\n",
       "        vertical-align: top;\n",
       "    }\n",
       "\n",
       "    .dataframe thead th {\n",
       "        text-align: right;\n",
       "    }\n",
       "</style>\n",
       "<table border=\"1\" class=\"dataframe\">\n",
       "  <thead>\n",
       "    <tr style=\"text-align: right;\">\n",
       "      <th></th>\n",
       "      <th>2176</th>\n",
       "      <th>20647</th>\n",
       "    </tr>\n",
       "  </thead>\n",
       "  <tbody>\n",
       "    <tr>\n",
       "      <th>id</th>\n",
       "      <td>a-wedding-for-bella</td>\n",
       "      <td>the_surrogate_2020</td>\n",
       "    </tr>\n",
       "    <tr>\n",
       "      <th>originalScore</th>\n",
       "      <td>['2.5/4', 'C+', nan, nan, nan, '2.5/5', '3/4',...</td>\n",
       "      <td>['3/5', nan, nan, '4/5', '3/5', '3/5', '4/5', ...</td>\n",
       "    </tr>\n",
       "    <tr>\n",
       "      <th>reviewText</th>\n",
       "      <td>{'James Verniere': nan, 'Philip Wuntch': \"You'...</td>\n",
       "      <td>{'Edward Porter': 'Jeremy Hersh’s movie often ...</td>\n",
       "    </tr>\n",
       "    <tr>\n",
       "      <th>PositiveCount</th>\n",
       "      <td>26</td>\n",
       "      <td>35</td>\n",
       "    </tr>\n",
       "    <tr>\n",
       "      <th>NegativeCount</th>\n",
       "      <td>22</td>\n",
       "      <td>3</td>\n",
       "    </tr>\n",
       "    <tr>\n",
       "      <th>TotalReviews</th>\n",
       "      <td>48</td>\n",
       "      <td>38</td>\n",
       "    </tr>\n",
       "    <tr>\n",
       "      <th>title</th>\n",
       "      <td>The Bread, My Sweet</td>\n",
       "      <td>The Surrogate</td>\n",
       "    </tr>\n",
       "    <tr>\n",
       "      <th>releaseDateStreaming</th>\n",
       "      <td>2017-04-01</td>\n",
       "      <td>2020-06-12</td>\n",
       "    </tr>\n",
       "    <tr>\n",
       "      <th>runtimeMinutes</th>\n",
       "      <td>105.0</td>\n",
       "      <td>93.0</td>\n",
       "    </tr>\n",
       "    <tr>\n",
       "      <th>genre</th>\n",
       "      <td>['comedy', 'drama', 'romance']</td>\n",
       "      <td>['drama', 'lgbtq+']</td>\n",
       "    </tr>\n",
       "    <tr>\n",
       "      <th>originalLanguage</th>\n",
       "      <td>English</td>\n",
       "      <td>English</td>\n",
       "    </tr>\n",
       "    <tr>\n",
       "      <th>director</th>\n",
       "      <td>Melissa Martin</td>\n",
       "      <td>Jeremy Hersh</td>\n",
       "    </tr>\n",
       "    <tr>\n",
       "      <th>writer</th>\n",
       "      <td>Melissa Martin</td>\n",
       "      <td>Jeremy Hersh</td>\n",
       "    </tr>\n",
       "  </tbody>\n",
       "</table>\n",
       "</div>"
      ],
      "text/plain": [
       "                                                                  2176   \\\n",
       "id                                                  a-wedding-for-bella   \n",
       "originalScore         ['2.5/4', 'C+', nan, nan, nan, '2.5/5', '3/4',...   \n",
       "reviewText            {'James Verniere': nan, 'Philip Wuntch': \"You'...   \n",
       "PositiveCount                                                        26   \n",
       "NegativeCount                                                        22   \n",
       "TotalReviews                                                         48   \n",
       "title                                               The Bread, My Sweet   \n",
       "releaseDateStreaming                                         2017-04-01   \n",
       "runtimeMinutes                                                    105.0   \n",
       "genre                                    ['comedy', 'drama', 'romance']   \n",
       "originalLanguage                                                English   \n",
       "director                                                 Melissa Martin   \n",
       "writer                                                   Melissa Martin   \n",
       "\n",
       "                                                                  20647  \n",
       "id                                                   the_surrogate_2020  \n",
       "originalScore         ['3/5', nan, nan, '4/5', '3/5', '3/5', '4/5', ...  \n",
       "reviewText            {'Edward Porter': 'Jeremy Hersh’s movie often ...  \n",
       "PositiveCount                                                        35  \n",
       "NegativeCount                                                         3  \n",
       "TotalReviews                                                         38  \n",
       "title                                                     The Surrogate  \n",
       "releaseDateStreaming                                         2020-06-12  \n",
       "runtimeMinutes                                                     93.0  \n",
       "genre                                               ['drama', 'lgbtq+']  \n",
       "originalLanguage                                                English  \n",
       "director                                                   Jeremy Hersh  \n",
       "writer                                                     Jeremy Hersh  "
      ]
     },
     "execution_count": 6,
     "metadata": {},
     "output_type": "execute_result"
    }
   ],
   "source": [
    "merged_df = pd.merge(df_reviews, df_movies, on='id', how='inner')\n",
    "print(f\"Merged DataFrame shape: {merged_df.shape}\")\n",
    "merged_df.sample(2).T"
   ]
  },
  {
   "cell_type": "code",
   "execution_count": 7,
   "id": "e088f671-2976-4a04-9b25-be9617101efe",
   "metadata": {},
   "outputs": [
    {
     "data": {
      "text/plain": [
       "(23295, 13)"
      ]
     },
     "execution_count": 7,
     "metadata": {},
     "output_type": "execute_result"
    }
   ],
   "source": [
    "merged_df.shape"
   ]
  },
  {
   "cell_type": "code",
   "execution_count": 8,
   "id": "567eeaef-71a9-4bd9-96b0-32cb2afb456d",
   "metadata": {},
   "outputs": [
    {
     "name": "stdout",
     "output_type": "stream",
     "text": [
      "Title: The Milk of Sorrow\n",
      "Streaming Release Date: 2015-10-01\n",
      "Runtime (minutes): 94.0\n",
      "Genre: ['drama']\n",
      "Language: Spanish\n",
      "Director: Claudia Llosa\n",
      "Writer: Claudia Llosa\n",
      "Positive Count: 32\n",
      "Negative Count: 9\n",
      "Total Review Count: 41\n",
      "\n",
      "Review Texts: {'Beth Accomando': 'Llosa, in only her second feature, reveals a maturity and confidence of a more experienced filmmaker.', 'Mattie Lucas': 'Ultimately it feels underdeveloped, done in by its own latent impenetrability, doggedly holding its audience at arms length.', 'Sarah Manvel': \"Some people have to be so brave just to live a normal life. What makes The Milk of Sorrow special is that, without being overbearing or explicit, Fausta's struggles to do just that can be seen as a metaphor for the struggles of Peru itself.\", 'Tim Brayton': 'Ably gives voice to a period in history almost completely invisible to the world at large.', 'Chris Chang': \"Llosa, daughter of the author Mario Vargas Llosa, employs symbolism so overwrought, her material might well have been better served as a text-even given the film's abundant visual virtues (particularly its spectacular use of landscape).\", 'Annlee Ellingson': \"The surface of Llosa's film may be placid, but the undercurrent of emotion is strong. She demonstrates exquisite control.\", 'Sheri Linden': 'The metaphors are so crystal-clear and the story unfolds at such a deliberate, often infuriatingly slow pace that the impact of the drama is muted.', 'Kent Turner': 'In due course, the painstakingly composed cinematography seduces the viewer.', 'Frederic and Mary Ann Brussat': 'A troubling Peruvian film about how violence lingers in the minds, bodies, and souls of its victims.', 'Jeannette Catsoulis': '\"The Milk of Sorrow\" is constrained by a rarefied screenplay and a near-mute central performance.', 'V.A. Musetto': 'Claudia Llosa, the director and co-writer, favors wide shots and long takes, which lend an air of realism to the beautifully shot allegory.', 'Matthew Turner': 'Heavily allegorical, frequently impenetrable and ultimately frustrating.', 'Kam Williams': 'An evocative character study painting a grim, if visually-captivating, portrait of a tormented soul suffering in silence while delivering a powerful message about the consequences of rape radiating across generations like ripples on a pond.', 'Noel Murray': \"The Milk Of Sorrow is about a country dealing with old wounds and old divisions, and it's about how sometimes it can be easier to cling to pain than to move past it.\", 'Jon Frosch': 'An affecting, gracefully crafted Peruvian film that struggles to breathe under the weight of too much allegory and symbolism.', 'Michelle Orange': \"It is to Llosa's great credit that she has infused Fausta's awakening with dignity, and made her of a time, place, and conception not to be confused with any other.\", 'Armond White': \"If you accurately described each scene, you'd have a book of poetry. That's how detailed and vivid are The Milk of Sorrow's rhythms.\", 'Joshua Rothkopf': \"Trauma is buried and rarely alluded to in this quiet slice of magical realism -- but there's no denying the pain when it comes.\", 'Ella Taylor': 'The movie, which won the Golden Bear at the 2009 Berlin Film Festival, is littered with unforgettable images of incongruity, destruction, and, finally, healing.', 'Phil Hall': 'Monotonous.', 'Simon Foster': \"(Director Claudia Llosa's) ability to articulate the complexities of the story, with its aesthetic and spiritual dimensions, is extraordinary for such a new talent.\", 'Prairie Miller': 'A potato, whether metaphorical or not, would have conveyed far more meaning on a dinner plate of the poor, than inside a female orifice. And if the protagonist is meant to be distanced and alienated from history, must the filmmaker do so too.', 'Alistair Harkness': \"Necessarily sombre in style, but with flashes of magic-realism sprinkled throughout, director Claudia Llosa makes admirable attempts to find beauty in her protagonist's upsetting circumstances...\", 'Derek Malcolm': \"There can be no more beautifully shot or perfectly framed film out in London at the moment than Claudia Liosa's allegorical tale.\", 'Rich Cline': \"Infused with local colour, this Peruvian film finds real resonance in its light handling of a personal journey. Without overstating its themes or sentimentalising the drama, filmmaker Llosa tells a story we'll never forget.\", 'Tom Dawson': 'Handling potentially lurid material with restraint, Llosa finds a measure of beauty in the rituals and superstitions of community life.', 'Catherine Shoard': \"The legacy of upset is at the heart of Llosa's brilliant film -- and it's a film that wears its heart firmly on its sleeve.\", 'Adam Lee Davies': 'It evolves into a striking work of shattering simplicity that details a grieving society slowly coming to terms with its past.', 'Tim Robey': \"The message is unclear, unless it's to think twice before ordering chips in Lima.\", 'David Parkinson': 'A rich and imaginative evocation of a family in turmoil.', 'Leo Robson': 'The title refers to a curse, suffered by the taciturn heroine, which affects the children of women raped during pregnancy. The film charts the symptoms, none of them dramatic.', 'Sloan Freer': 'A slow-burning slice of magical realism whose power lies in symbolism and subtlety rather than heavy-handed sensationalism.', 'Charlie Lyne': 'Like being hit in the face really, really slowly with a sledgehammer.', 'Amber Wilkinson': \"Although the layers of symbolism and allegory certainly add to the depth of the film's resonance, those who consider it purely as a more simply magic realist-inflected coming of age tale are unlikely to be disappointed either.\", 'India Bourke': \"Llosa tenderly documents the slow, surreal process of both personal and community rehabilitation in a film which seeks to lay to rest a nation's civil war grief.\", 'Lee Marshall': 'Arthouse audiences will find themselves dipping in and out of engagement but the story is too contrived in the long run to resonate much beyond its own four walls.', 'Peter Brunette': 'The film is gorgeously shot and contains a plethora of haunting images...', 'Simon Weaving': 'Gently paced and exquisitely shot, this story - tinged with magical realism - tells of an anxious young woman finding her way in the world after the death of her mother.', 'Andrew Schenker': \"The legacy of sexualized violence is the chief generational inheritance in Claudia Llosa's incisive, carefully observed Golden Bear-winner.\", 'Donald J. Levit': 'This Peruvian tale is about the superstitious but psychologically valid effects of terror.', 'Boyd van Hoeij': \"Peruvian realities and Llosa's light magical realism mesh to create a vivid picture of a society and its problems.\"}\n",
      "\n"
     ]
    }
   ],
   "source": [
    "# Select a random index\n",
    "random_index = random.randint(0, len(merged_df) - 1)\n",
    "\n",
    "# Fetch the row\n",
    "random_row = merged_df.iloc[random_index]\n",
    "\n",
    "# Print the full row neatly\n",
    "print(f\"Title: {random_row['title']}\")\n",
    "print(f\"Streaming Release Date: {random_row['releaseDateStreaming']}\")\n",
    "print(f\"Runtime (minutes): {random_row['runtimeMinutes']}\")\n",
    "print(f\"Genre: {random_row['genre']}\")\n",
    "print(f\"Language: {random_row['originalLanguage']}\")\n",
    "print(f\"Director: {random_row['director']}\")\n",
    "print(f\"Writer: {random_row['writer']}\")\n",
    "print(f\"Positive Count: {random_row['PositiveCount']}\")\n",
    "print(f\"Negative Count: {random_row['NegativeCount']}\")\n",
    "print(f\"Total Review Count: {random_row['TotalReviews']}\\n\")\n",
    "print(f\"Review Texts: {random_row['reviewText']}\\n\")"
   ]
  },
  {
   "cell_type": "code",
   "execution_count": 9,
   "id": "544c6a14-d30d-4be2-8bbf-2c1363e57691",
   "metadata": {},
   "outputs": [],
   "source": [
    "merged_df.to_csv('../../data/movie-review-data/merged_movies_reviews.csv', index=False)"
   ]
  },
  {
   "cell_type": "code",
   "execution_count": null,
   "id": "e1d61a2a-56ff-4dbe-a552-d7ba75751b71",
   "metadata": {},
   "outputs": [],
   "source": []
  }
 ],
 "metadata": {
  "kernelspec": {
   "display_name": "Python 3 (ipykernel)",
   "language": "python",
   "name": "python3"
  },
  "language_info": {
   "codemirror_mode": {
    "name": "ipython",
    "version": 3
   },
   "file_extension": ".py",
   "mimetype": "text/x-python",
   "name": "python",
   "nbconvert_exporter": "python",
   "pygments_lexer": "ipython3",
   "version": "3.12.2"
  }
 },
 "nbformat": 4,
 "nbformat_minor": 5
}
