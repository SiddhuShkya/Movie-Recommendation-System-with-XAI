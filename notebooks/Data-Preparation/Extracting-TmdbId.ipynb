{
 "cells": [
  {
   "cell_type": "code",
   "execution_count": 12,
   "id": "156e9933",
   "metadata": {},
   "outputs": [],
   "source": [
    "import os\n",
    "import ast\n",
    "import random\n",
    "import pandas as pd\n",
    "import numpy as np\n",
    "import seaborn as sns\n",
    "import matplotlib.pyplot as plt"
   ]
  },
  {
   "cell_type": "code",
   "execution_count": 13,
   "id": "a8253c98",
   "metadata": {},
   "outputs": [],
   "source": [
    "df = pd.read_csv('../../data/movie-review-data/plot-movies-reviews.csv')\n",
    "df_tmdb = pd.read_csv('../../data/movie-data-csv/TMDB_movie_dataset_v11.csv', low_memory=False)"
   ]
  },
  {
   "cell_type": "code",
   "execution_count": 14,
   "id": "7d25c585",
   "metadata": {},
   "outputs": [
    {
     "data": {
      "text/html": [
       "<div>\n",
       "<style scoped>\n",
       "    .dataframe tbody tr th:only-of-type {\n",
       "        vertical-align: middle;\n",
       "    }\n",
       "\n",
       "    .dataframe tbody tr th {\n",
       "        vertical-align: top;\n",
       "    }\n",
       "\n",
       "    .dataframe thead th {\n",
       "        text-align: right;\n",
       "    }\n",
       "</style>\n",
       "<table border=\"1\" class=\"dataframe\">\n",
       "  <thead>\n",
       "    <tr style=\"text-align: right;\">\n",
       "      <th></th>\n",
       "      <th>295</th>\n",
       "    </tr>\n",
       "  </thead>\n",
       "  <tbody>\n",
       "    <tr>\n",
       "      <th>id</th>\n",
       "      <td>1002332-big_heat</td>\n",
       "    </tr>\n",
       "    <tr>\n",
       "      <th>originalScore</th>\n",
       "      <td>['4/4', '2.5/4', '4/5', '9/10', nan, '5/5', '5...</td>\n",
       "    </tr>\n",
       "    <tr>\n",
       "      <th>reviewText</th>\n",
       "      <td>{'Brian Eggert': 'The Big Heat is a juicy and ...</td>\n",
       "    </tr>\n",
       "    <tr>\n",
       "      <th>PositiveCount</th>\n",
       "      <td>30</td>\n",
       "    </tr>\n",
       "    <tr>\n",
       "      <th>NegativeCount</th>\n",
       "      <td>0</td>\n",
       "    </tr>\n",
       "    <tr>\n",
       "      <th>TotalReviews</th>\n",
       "      <td>30</td>\n",
       "    </tr>\n",
       "    <tr>\n",
       "      <th>title</th>\n",
       "      <td>The Big Heat</td>\n",
       "    </tr>\n",
       "    <tr>\n",
       "      <th>releaseDateStreaming</th>\n",
       "      <td>2001-12-18</td>\n",
       "    </tr>\n",
       "    <tr>\n",
       "      <th>runtimeMinutes</th>\n",
       "      <td>90.0</td>\n",
       "    </tr>\n",
       "    <tr>\n",
       "      <th>genre</th>\n",
       "      <td>['crime', 'drama']</td>\n",
       "    </tr>\n",
       "    <tr>\n",
       "      <th>originalLanguage</th>\n",
       "      <td>English</td>\n",
       "    </tr>\n",
       "    <tr>\n",
       "      <th>director</th>\n",
       "      <td>Fritz Lang</td>\n",
       "    </tr>\n",
       "    <tr>\n",
       "      <th>writer</th>\n",
       "      <td>William P. McGivern</td>\n",
       "    </tr>\n",
       "    <tr>\n",
       "      <th>plot</th>\n",
       "      <td>Dave Bannion is an upright cop on the trail of...</td>\n",
       "    </tr>\n",
       "  </tbody>\n",
       "</table>\n",
       "</div>"
      ],
      "text/plain": [
       "                                                                    295\n",
       "id                                                     1002332-big_heat\n",
       "originalScore         ['4/4', '2.5/4', '4/5', '9/10', nan, '5/5', '5...\n",
       "reviewText            {'Brian Eggert': 'The Big Heat is a juicy and ...\n",
       "PositiveCount                                                        30\n",
       "NegativeCount                                                         0\n",
       "TotalReviews                                                         30\n",
       "title                                                      The Big Heat\n",
       "releaseDateStreaming                                         2001-12-18\n",
       "runtimeMinutes                                                     90.0\n",
       "genre                                                ['crime', 'drama']\n",
       "originalLanguage                                                English\n",
       "director                                                     Fritz Lang\n",
       "writer                                              William P. McGivern\n",
       "plot                  Dave Bannion is an upright cop on the trail of..."
      ]
     },
     "execution_count": 14,
     "metadata": {},
     "output_type": "execute_result"
    }
   ],
   "source": [
    "df.sample(1).T"
   ]
  },
  {
   "cell_type": "code",
   "execution_count": 15,
   "id": "01ecb740",
   "metadata": {},
   "outputs": [
    {
     "data": {
      "text/plain": [
       "(17769, 14)"
      ]
     },
     "execution_count": 15,
     "metadata": {},
     "output_type": "execute_result"
    }
   ],
   "source": [
    "df.shape"
   ]
  },
  {
   "cell_type": "code",
   "execution_count": 16,
   "id": "211e226f",
   "metadata": {},
   "outputs": [
    {
     "data": {
      "text/html": [
       "<div>\n",
       "<style scoped>\n",
       "    .dataframe tbody tr th:only-of-type {\n",
       "        vertical-align: middle;\n",
       "    }\n",
       "\n",
       "    .dataframe tbody tr th {\n",
       "        vertical-align: top;\n",
       "    }\n",
       "\n",
       "    .dataframe thead th {\n",
       "        text-align: right;\n",
       "    }\n",
       "</style>\n",
       "<table border=\"1\" class=\"dataframe\">\n",
       "  <thead>\n",
       "    <tr style=\"text-align: right;\">\n",
       "      <th></th>\n",
       "      <th>1175048</th>\n",
       "    </tr>\n",
       "  </thead>\n",
       "  <tbody>\n",
       "    <tr>\n",
       "      <th>id</th>\n",
       "      <td>749003</td>\n",
       "    </tr>\n",
       "    <tr>\n",
       "      <th>title</th>\n",
       "      <td>Black huge members versus Reiko Kobayakawa's a...</td>\n",
       "    </tr>\n",
       "    <tr>\n",
       "      <th>vote_average</th>\n",
       "      <td>0.0</td>\n",
       "    </tr>\n",
       "    <tr>\n",
       "      <th>vote_count</th>\n",
       "      <td>0</td>\n",
       "    </tr>\n",
       "    <tr>\n",
       "      <th>status</th>\n",
       "      <td>Released</td>\n",
       "    </tr>\n",
       "    <tr>\n",
       "      <th>release_date</th>\n",
       "      <td>2013-08-25</td>\n",
       "    </tr>\n",
       "    <tr>\n",
       "      <th>revenue</th>\n",
       "      <td>0</td>\n",
       "    </tr>\n",
       "    <tr>\n",
       "      <th>runtime</th>\n",
       "      <td>127</td>\n",
       "    </tr>\n",
       "    <tr>\n",
       "      <th>adult</th>\n",
       "      <td>True</td>\n",
       "    </tr>\n",
       "    <tr>\n",
       "      <th>backdrop_path</th>\n",
       "      <td>NaN</td>\n",
       "    </tr>\n",
       "    <tr>\n",
       "      <th>budget</th>\n",
       "      <td>0</td>\n",
       "    </tr>\n",
       "    <tr>\n",
       "      <th>homepage</th>\n",
       "      <td>NaN</td>\n",
       "    </tr>\n",
       "    <tr>\n",
       "      <th>imdb_id</th>\n",
       "      <td>NaN</td>\n",
       "    </tr>\n",
       "    <tr>\n",
       "      <th>original_language</th>\n",
       "      <td>ja</td>\n",
       "    </tr>\n",
       "    <tr>\n",
       "      <th>original_title</th>\n",
       "      <td>黒人巨大マラ VS 小早川玲子 驚異のグラマラス・ボディ</td>\n",
       "    </tr>\n",
       "    <tr>\n",
       "      <th>overview</th>\n",
       "      <td>NaN</td>\n",
       "    </tr>\n",
       "    <tr>\n",
       "      <th>popularity</th>\n",
       "      <td>0.6</td>\n",
       "    </tr>\n",
       "    <tr>\n",
       "      <th>poster_path</th>\n",
       "      <td>/gFnWyvn3xtEwYmu1gkMDooysuWK.jpg</td>\n",
       "    </tr>\n",
       "    <tr>\n",
       "      <th>tagline</th>\n",
       "      <td>NaN</td>\n",
       "    </tr>\n",
       "    <tr>\n",
       "      <th>genres</th>\n",
       "      <td>Drama</td>\n",
       "    </tr>\n",
       "    <tr>\n",
       "      <th>production_companies</th>\n",
       "      <td>Global Media Entertainment</td>\n",
       "    </tr>\n",
       "    <tr>\n",
       "      <th>production_countries</th>\n",
       "      <td>Japan</td>\n",
       "    </tr>\n",
       "    <tr>\n",
       "      <th>spoken_languages</th>\n",
       "      <td>English, Japanese</td>\n",
       "    </tr>\n",
       "    <tr>\n",
       "      <th>keywords</th>\n",
       "      <td>married woman, interracial sex, gangbang</td>\n",
       "    </tr>\n",
       "  </tbody>\n",
       "</table>\n",
       "</div>"
      ],
      "text/plain": [
       "                                                                1175048\n",
       "id                                                               749003\n",
       "title                 Black huge members versus Reiko Kobayakawa's a...\n",
       "vote_average                                                        0.0\n",
       "vote_count                                                            0\n",
       "status                                                         Released\n",
       "release_date                                                 2013-08-25\n",
       "revenue                                                               0\n",
       "runtime                                                             127\n",
       "adult                                                              True\n",
       "backdrop_path                                                       NaN\n",
       "budget                                                                0\n",
       "homepage                                                            NaN\n",
       "imdb_id                                                             NaN\n",
       "original_language                                                    ja\n",
       "original_title                             黒人巨大マラ VS 小早川玲子 驚異のグラマラス・ボディ\n",
       "overview                                                            NaN\n",
       "popularity                                                          0.6\n",
       "poster_path                            /gFnWyvn3xtEwYmu1gkMDooysuWK.jpg\n",
       "tagline                                                             NaN\n",
       "genres                                                            Drama\n",
       "production_companies                         Global Media Entertainment\n",
       "production_countries                                              Japan\n",
       "spoken_languages                                      English, Japanese\n",
       "keywords                       married woman, interracial sex, gangbang"
      ]
     },
     "execution_count": 16,
     "metadata": {},
     "output_type": "execute_result"
    }
   ],
   "source": [
    "df_tmdb.sample(1).T"
   ]
  },
  {
   "cell_type": "code",
   "execution_count": 17,
   "id": "a9ebd040",
   "metadata": {},
   "outputs": [
    {
     "data": {
      "text/plain": [
       "(1269226, 24)"
      ]
     },
     "execution_count": 17,
     "metadata": {},
     "output_type": "execute_result"
    }
   ],
   "source": [
    "df_tmdb.shape"
   ]
  },
  {
   "cell_type": "code",
   "execution_count": 18,
   "id": "39d356db",
   "metadata": {},
   "outputs": [
    {
     "name": "stdout",
     "output_type": "stream",
     "text": [
      "Number of common titles: 16273\n"
     ]
    }
   ],
   "source": [
    "common_titles = set(df['title']) & set(df_tmdb['title'])\n",
    "print(f\"Number of common titles: {len(common_titles)}\")"
   ]
  },
  {
   "cell_type": "code",
   "execution_count": 19,
   "id": "b1fab4c1",
   "metadata": {},
   "outputs": [
    {
     "data": {
      "text/html": [
       "<div>\n",
       "<style scoped>\n",
       "    .dataframe tbody tr th:only-of-type {\n",
       "        vertical-align: middle;\n",
       "    }\n",
       "\n",
       "    .dataframe tbody tr th {\n",
       "        vertical-align: top;\n",
       "    }\n",
       "\n",
       "    .dataframe thead th {\n",
       "        text-align: right;\n",
       "    }\n",
       "</style>\n",
       "<table border=\"1\" class=\"dataframe\">\n",
       "  <thead>\n",
       "    <tr style=\"text-align: right;\">\n",
       "      <th></th>\n",
       "      <th>22549</th>\n",
       "    </tr>\n",
       "  </thead>\n",
       "  <tbody>\n",
       "    <tr>\n",
       "      <th>id</th>\n",
       "      <td>black_friday_2021</td>\n",
       "    </tr>\n",
       "    <tr>\n",
       "      <th>originalScore</th>\n",
       "      <td>['2.5/5', '3/5', '2/5', '3/5', '3/5', nan, '2/...</td>\n",
       "    </tr>\n",
       "    <tr>\n",
       "      <th>reviewText</th>\n",
       "      <td>{'Keith Garlington': 'It&amp;#8217;s an entertaini...</td>\n",
       "    </tr>\n",
       "    <tr>\n",
       "      <th>PositiveCount</th>\n",
       "      <td>13</td>\n",
       "    </tr>\n",
       "    <tr>\n",
       "      <th>NegativeCount</th>\n",
       "      <td>7</td>\n",
       "    </tr>\n",
       "    <tr>\n",
       "      <th>TotalReviews</th>\n",
       "      <td>20</td>\n",
       "    </tr>\n",
       "    <tr>\n",
       "      <th>title</th>\n",
       "      <td>Black Friday</td>\n",
       "    </tr>\n",
       "    <tr>\n",
       "      <th>releaseDateStreaming</th>\n",
       "      <td>2021-11-23</td>\n",
       "    </tr>\n",
       "    <tr>\n",
       "      <th>runtimeMinutes</th>\n",
       "      <td>80.0</td>\n",
       "    </tr>\n",
       "    <tr>\n",
       "      <th>genre</th>\n",
       "      <td>['holiday', 'horror', 'sci-fi', 'comedy']</td>\n",
       "    </tr>\n",
       "    <tr>\n",
       "      <th>originalLanguage</th>\n",
       "      <td>English</td>\n",
       "    </tr>\n",
       "    <tr>\n",
       "      <th>director</th>\n",
       "      <td>Casey Tebo</td>\n",
       "    </tr>\n",
       "    <tr>\n",
       "      <th>writer</th>\n",
       "      <td>Andy Greskoviak</td>\n",
       "    </tr>\n",
       "    <tr>\n",
       "      <th>plot</th>\n",
       "      <td>Bombs tear through Bombay, wreaking havoc and ...</td>\n",
       "    </tr>\n",
       "    <tr>\n",
       "      <th>tmdbId</th>\n",
       "      <td>68666.0</td>\n",
       "    </tr>\n",
       "  </tbody>\n",
       "</table>\n",
       "</div>"
      ],
      "text/plain": [
       "                                                                  22549\n",
       "id                                                    black_friday_2021\n",
       "originalScore         ['2.5/5', '3/5', '2/5', '3/5', '3/5', nan, '2/...\n",
       "reviewText            {'Keith Garlington': 'It&#8217;s an entertaini...\n",
       "PositiveCount                                                        13\n",
       "NegativeCount                                                         7\n",
       "TotalReviews                                                         20\n",
       "title                                                      Black Friday\n",
       "releaseDateStreaming                                         2021-11-23\n",
       "runtimeMinutes                                                     80.0\n",
       "genre                         ['holiday', 'horror', 'sci-fi', 'comedy']\n",
       "originalLanguage                                                English\n",
       "director                                                     Casey Tebo\n",
       "writer                                                  Andy Greskoviak\n",
       "plot                  Bombs tear through Bombay, wreaking havoc and ...\n",
       "tmdbId                                                          68666.0"
      ]
     },
     "execution_count": 19,
     "metadata": {},
     "output_type": "execute_result"
    }
   ],
   "source": [
    "# Merge df and df_tmdb on the 'title' column\n",
    "df = df.merge(\n",
    "    df_tmdb[['title', 'id']],  # keep only the tmdb 'id' and 'title'\n",
    "    on='title',\n",
    "    how='left'\n",
    ")\n",
    "\n",
    "# Rename 'id_y' (from tmdb) to 'tmdbId' and keep original df id as is\n",
    "df = df.rename(columns={'id_y': 'tmdbId', 'id_x': 'id'})\n",
    "df.sample(1).T\n"
   ]
  },
  {
   "cell_type": "code",
   "execution_count": 20,
   "id": "523b8646",
   "metadata": {},
   "outputs": [
    {
     "data": {
      "text/plain": [
       "(81865, 15)"
      ]
     },
     "execution_count": 20,
     "metadata": {},
     "output_type": "execute_result"
    }
   ],
   "source": [
    "df.shape"
   ]
  },
  {
   "cell_type": "code",
   "execution_count": 21,
   "id": "31debc5a",
   "metadata": {},
   "outputs": [
    {
     "data": {
      "text/plain": [
       "id                          0\n",
       "originalScore               0\n",
       "reviewText                  0\n",
       "PositiveCount               0\n",
       "NegativeCount               0\n",
       "TotalReviews                0\n",
       "title                       0\n",
       "releaseDateStreaming     6774\n",
       "runtimeMinutes            845\n",
       "genre                     538\n",
       "originalLanguage         1446\n",
       "director                  308\n",
       "writer                  10600\n",
       "plot                        0\n",
       "tmdbId                    218\n",
       "dtype: int64"
      ]
     },
     "execution_count": 21,
     "metadata": {},
     "output_type": "execute_result"
    }
   ],
   "source": [
    "df.isnull().sum()"
   ]
  },
  {
   "cell_type": "code",
   "execution_count": 22,
   "id": "0265fa79",
   "metadata": {},
   "outputs": [
    {
     "data": {
      "text/plain": [
       "id                      0\n",
       "originalScore           0\n",
       "reviewText              0\n",
       "PositiveCount           0\n",
       "NegativeCount           0\n",
       "TotalReviews            0\n",
       "title                   0\n",
       "releaseDateStreaming    0\n",
       "runtimeMinutes          0\n",
       "genre                   0\n",
       "originalLanguage        0\n",
       "director                0\n",
       "writer                  0\n",
       "plot                    0\n",
       "tmdbId                  0\n",
       "dtype: int64"
      ]
     },
     "execution_count": 22,
     "metadata": {},
     "output_type": "execute_result"
    }
   ],
   "source": [
    "df = df.dropna()\n",
    "df.isnull().sum()"
   ]
  },
  {
   "cell_type": "code",
   "execution_count": 23,
   "id": "f631c00e",
   "metadata": {},
   "outputs": [
    {
     "data": {
      "text/plain": [
       "(65482, 15)"
      ]
     },
     "execution_count": 23,
     "metadata": {},
     "output_type": "execute_result"
    }
   ],
   "source": [
    "df.shape"
   ]
  },
  {
   "cell_type": "code",
   "execution_count": 29,
   "id": "ac28d509",
   "metadata": {},
   "outputs": [
    {
     "name": "stdout",
     "output_type": "stream",
     "text": [
      "TMDB ID: 286554.0\n",
      "Title: Two Night Stand\n",
      "Streaming Release Date: 2015-01-06\n",
      "Runtime (minutes): 86.0\n",
      "Genre: ['romance', 'comedy']\n",
      "Language: English\n",
      "Director: Max Nichols\n",
      "Writer: Mark Hammer\n",
      "\n",
      "Review Texts: {'Debbie Lynn Elias': 'Exuberant and engaging, filled with youthful fun and genuine moments of wide-eyed enchantment, Two Night Stand captures the heart with humor and sweet romance.', 'Nicholas Bell': \"Regardless of what side of the line you're on, its nifty frankness aside, there isn't much to recall when all the bland assimilations of cute preciousness fade into the ether.\", \"Stephen O'Nion\": 'Director Max Nichols serves up a few laughs but otherwise allows Two Night Stand to inch towards its status as predictable, bland Valentine\\'s fare you might select having exhausted Netflix\\'s other \"Quirky Romance\" options.', 'Ben Nicholson': 'Rather than zinging with intelligence, it instead becomes mired in smug passive-aggression that manages to be nothing like as frank as it thinks it is.', 'Matt Wolf': \"What's missing is a sufficiently varied narrative engine to keep this extended conceit on track; you may find yourself wishing the snow would melt long before the characters do.\", 'Reagan Gavin Rasquinha': 'It keeps you engaged and is often amusing.', 'Jason Best': \"Teller and Tipton make an appealingly awkward duo and their chemistry compensates for the film's contrived setup.\", 'Alex Zane': 'Fortunately, we have the sparkling Analeigh Tipton as Megan and the very likeable Miles Teller as Alec to keep this slight script alive.', 'David Nusair': \"...it's ultimately the endless charm of the actors that prevents one from checking out completely.\", 'David Edwards': \"The makers were aiming for a how-we-date-now rom-com. Instead, they've made a film that might have seemed hip 10 years back but now seems dated, cold and cynical.\", 'Stefan Pape': \"Though the simplicity of this narrative, and the restricted, confined setting is a unique selling point for Nichols, it's also suffocating, and to the filmmaker's detriment.\", 'Geoffrey Macnab': \"This attempt as a latter-day screwball romance, released in time for Valentine's Day, is charming in parts but also contrived.\", 'Allan Hunter': 'The easy charm of stars Miles Teller and Analeigh Tipton more than compensates for a screenplay that never quite bridges the divide between old-fashioned romance and the cruder tone that seems par for the course in modern comedy.', 'David Parkinson': 'Charming performances from both leads and insightful vignettes makes up for occasional clumsy writing and plot developments.', 'John Ferguson': \"While there is plenty of rude banter and are a few good laughs, Mark Hammer's script is neither witty nor insightful enough to carry the load.\", 'Mike McCahill': \"Two Night Stand is a notch below popping to Nando's on the list of things to do with a significant other this Valentine's.\", 'Rich Cline': 'Miles Teller and Analeigh Tipton are smart enough actors to make the most of this uneven romantic comedy', 'Nikki Baughan': 'Two Night Stand is as generic as they come.', 'Tom Huddleston': 'Yet another would-be charming male fantasy about how even the smartest girls can be charmed out of their pants by a schlubby doofus with a penchant for heavy negging.', 'MaryAnn Johanson': \"Apparently written by the same people who write the ridiculous quizzes and sex-tip listicles in Cosmo and Men's Health...\", 'Christine N. Ziemba': \"Teller has a relaxed, onscreen persona that endeared audiences in last year's The Spectacular Now, and Tipton keeps up brilliantly in her first lead role, effortlessly alternating between an ingenue and sex kitten.\", 'Frederic and Mary Ann Brussat': 'Two members of the Millennial generation trying to figure out the formula for intimacy.', 'Elias Savada': \"Two Night Stand takes place between Christmas and New Year's, but there's no holiday mirth to cheer about here.\", 'Sam Fragoso': 'A foreign film without subtitles - a movie whose language is incomprehensible to anyone who has truthfully been involved.', 'Todd Jorgenson': '... more like a failed sitcom pilot than an insightful look at contemporary relationships.', 'Jim Judy': \"This is really just a standard, R-rated rom-com in cinematic sheep's clothing that follows the usual trajectory of the genre. (Complete Content Review for Parents Also Available)\", \"Mike D'Angelo\": 'Two Night Stand is much more comfortable telling than it is showing', 'S. Jhoanna Robledo': 'Offbeat romcom takes frank look at sex, relationships.', 'Glenn Kenny': \"A slight but not-unengaging Young Person's Romantic Comedy ...\", 'Travis Hopson': 'Modestly charming and even perceptive.', 'Tirdad Derakhshani': 'Featuring strong dialogue and terrific performances, the film has moments of near-brilliance, but falls apart with a lame, conventional ending.', 'Kirk Honeycutt': 'A modest film that showcases the talent of Miles Teller and Analeigh Tipton.', 'Betsy Sharkey': 'It turns out \"Two Night Stand\" is a one-act sex comedy badly in need of two more - acts, not nights.', 'Ben Kenigsberg': \"It's hard not to root for this couple - and, more to the point, these actors - to get together again.\", 'John Hanlon': 'A \"romantic comedy\" that is neither romantic or comedic. It is as unambitious as its misguided main characters.', 'Stephanie Merry': 'As with most romantic comedies, the story falls apart with the formulaic injection of tension and the ensuing resolution, which is utterly outrageous even by rom-com standards.', 'Mick LaSalle': '\"Two Night Stand\" has its moments. But moments are all this movie has - and all its characters are likely to get.', 'Marsha McCreadie': \"These two are nice, though, which is nice. But the film is a date you won't want to repeat, despite its sparkly out-of-left-field conclusion. It's just another casual encounter, not a lasting thing.\", 'Jenni Miller': 'Two Night Stand comes so close to saying something insightful about dating in the digital age that the inevitable letdown is more bitter than usual.', 'Amy Nicholson': 'Honest? Sure. Romantic, funny, and charming? Not even close.', 'Elizabeth Weitzman': 'Teller is, by far, the best thing about this easygoing, stubbornly generic independent romance from Max Nichols.', 'Sara Stewart': 'As a testament to the power of good old-fashioned face-to-face conversation as aphrodisiac, the film works fairly well, if not as a primer on safe online dating.', 'James Rocchi': 'Charming but contrived, more slapdash than sexy and more interested in late-act reversals than real-life relationships, \"Two Night Stand\" isn\\'t really going to scratch anyone\\'s itchy spots, no matter how far it\\'s willing to go in trying to do so.', 'Nick McCarthy': \"It's attempt at conveying a candid portrait of contemporary hookup culture and the dishonesty of online dating profiles, but the film's sentiments are all past their expiration date.\", 'Stephen Farber': 'A likeable but forgettable trifle.', 'Ella Taylor': '\"Two Night Stand\\'s\" strength lies in the doubts and the ambivalence it expresses about the way we love now.', 'Tim Grierson': 'A perfectly pleasant, utterly disposable romantic comedy.'}\n",
      "\n",
      "Movie Plot: After an extremely regrettable one night stand, two strangers wake up to find themselves snowed in after sleeping through a blizzard that put all of Manhattan on ice. They're now trapped together in a tiny apartment, forced to get to know each other way more than any one night stand should.\n",
      "\n",
      "Positive Count: 18\n",
      "Negative Count: 29\n",
      "Total Review Count: 47\n"
     ]
    }
   ],
   "source": [
    "# Select a random index\n",
    "random_index = random.randint(0, len(df) - 1)\n",
    "\n",
    "# Fetch the row\n",
    "random_row = df.iloc[random_index]\n",
    "\n",
    "# Print the full row neatly\n",
    "print(f\"TMDB ID: {random_row['tmdbId']}\")\n",
    "print(f\"Title: {random_row['title']}\")\n",
    "print(f\"Streaming Release Date: {random_row['releaseDateStreaming']}\")\n",
    "print(f\"Runtime (minutes): {random_row['runtimeMinutes']}\")\n",
    "print(f\"Genre: {random_row['genre']}\")\n",
    "print(f\"Language: {random_row['originalLanguage']}\")\n",
    "print(f\"Director: {random_row['director']}\")\n",
    "print(f\"Writer: {random_row['writer']}\\n\")\n",
    "print(f\"Review Texts: {random_row['reviewText']}\\n\")\n",
    "print(f\"Movie Plot: {random_row['plot']}\\n\")\n",
    "print(f\"Positive Count: {random_row['PositiveCount']}\")\n",
    "print(f\"Negative Count: {random_row['NegativeCount']}\")\n",
    "print(f\"Total Review Count: {random_row['TotalReviews']}\")"
   ]
  },
  {
   "cell_type": "code",
   "execution_count": 31,
   "id": "05c672c1",
   "metadata": {},
   "outputs": [],
   "source": [
    "df.to_csv('../../data/final-data/data.csv', index=False)"
   ]
  },
  {
   "cell_type": "code",
   "execution_count": null,
   "id": "10441569",
   "metadata": {},
   "outputs": [],
   "source": []
  }
 ],
 "metadata": {
  "kernelspec": {
   "display_name": "base",
   "language": "python",
   "name": "python3"
  },
  "language_info": {
   "codemirror_mode": {
    "name": "ipython",
    "version": 3
   },
   "file_extension": ".py",
   "mimetype": "text/x-python",
   "name": "python",
   "nbconvert_exporter": "python",
   "pygments_lexer": "ipython3",
   "version": "3.12.2"
  }
 },
 "nbformat": 4,
 "nbformat_minor": 5
}
