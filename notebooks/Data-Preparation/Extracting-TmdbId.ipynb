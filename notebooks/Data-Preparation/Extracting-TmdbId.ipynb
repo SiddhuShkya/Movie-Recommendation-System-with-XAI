{
 "cells": [
  {
   "cell_type": "code",
   "execution_count": 36,
   "id": "156e9933",
   "metadata": {},
   "outputs": [],
   "source": [
    "import os\n",
    "import ast\n",
    "import random\n",
    "import pandas as pd\n",
    "import numpy as np\n",
    "import seaborn as sns\n",
    "import matplotlib.pyplot as plt"
   ]
  },
  {
   "cell_type": "code",
   "execution_count": 37,
   "id": "a8253c98",
   "metadata": {},
   "outputs": [],
   "source": [
    "df = pd.read_csv('../../data/movie-review-data/plot-movies-reviews.csv')\n",
    "df_tmdb = pd.read_csv('../../data/movie-data-csv/TMDB_movie_dataset_v11.csv', low_memory=False)"
   ]
  },
  {
   "cell_type": "code",
   "execution_count": 38,
   "id": "7d25c585",
   "metadata": {},
   "outputs": [
    {
     "data": {
      "text/html": [
       "<div>\n",
       "<style scoped>\n",
       "    .dataframe tbody tr th:only-of-type {\n",
       "        vertical-align: middle;\n",
       "    }\n",
       "\n",
       "    .dataframe tbody tr th {\n",
       "        vertical-align: top;\n",
       "    }\n",
       "\n",
       "    .dataframe thead th {\n",
       "        text-align: right;\n",
       "    }\n",
       "</style>\n",
       "<table border=\"1\" class=\"dataframe\">\n",
       "  <thead>\n",
       "    <tr style=\"text-align: right;\">\n",
       "      <th></th>\n",
       "      <th>6695</th>\n",
       "    </tr>\n",
       "  </thead>\n",
       "  <tbody>\n",
       "    <tr>\n",
       "      <th>id</th>\n",
       "      <td>future_weather</td>\n",
       "    </tr>\n",
       "    <tr>\n",
       "      <th>originalScore</th>\n",
       "      <td>[nan, nan, '4/5', '2.5/4', '3.5/5', '3/5', 'B-...</td>\n",
       "    </tr>\n",
       "    <tr>\n",
       "      <th>reviewText</th>\n",
       "      <td>{'Nicholas Bell': 'For her feature film debut,...</td>\n",
       "    </tr>\n",
       "    <tr>\n",
       "      <th>PositiveCount</th>\n",
       "      <td>13</td>\n",
       "    </tr>\n",
       "    <tr>\n",
       "      <th>NegativeCount</th>\n",
       "      <td>1</td>\n",
       "    </tr>\n",
       "    <tr>\n",
       "      <th>TotalReviews</th>\n",
       "      <td>14</td>\n",
       "    </tr>\n",
       "    <tr>\n",
       "      <th>title</th>\n",
       "      <td>Future Weather</td>\n",
       "    </tr>\n",
       "    <tr>\n",
       "      <th>releaseDateStreaming</th>\n",
       "      <td>2013-04-16</td>\n",
       "    </tr>\n",
       "    <tr>\n",
       "      <th>runtimeMinutes</th>\n",
       "      <td>100.0</td>\n",
       "    </tr>\n",
       "    <tr>\n",
       "      <th>genre</th>\n",
       "      <td>['drama']</td>\n",
       "    </tr>\n",
       "    <tr>\n",
       "      <th>originalLanguage</th>\n",
       "      <td>English</td>\n",
       "    </tr>\n",
       "    <tr>\n",
       "      <th>director</th>\n",
       "      <td>Jenny Deller</td>\n",
       "    </tr>\n",
       "    <tr>\n",
       "      <th>writer</th>\n",
       "      <td>Jenny Deller</td>\n",
       "    </tr>\n",
       "    <tr>\n",
       "      <th>plot</th>\n",
       "      <td>Abandoned by her dreamer single mom, a teenage...</td>\n",
       "    </tr>\n",
       "  </tbody>\n",
       "</table>\n",
       "</div>"
      ],
      "text/plain": [
       "                                                                   6695\n",
       "id                                                       future_weather\n",
       "originalScore         [nan, nan, '4/5', '2.5/4', '3.5/5', '3/5', 'B-...\n",
       "reviewText            {'Nicholas Bell': 'For her feature film debut,...\n",
       "PositiveCount                                                        13\n",
       "NegativeCount                                                         1\n",
       "TotalReviews                                                         14\n",
       "title                                                    Future Weather\n",
       "releaseDateStreaming                                         2013-04-16\n",
       "runtimeMinutes                                                    100.0\n",
       "genre                                                         ['drama']\n",
       "originalLanguage                                                English\n",
       "director                                                   Jenny Deller\n",
       "writer                                                     Jenny Deller\n",
       "plot                  Abandoned by her dreamer single mom, a teenage..."
      ]
     },
     "execution_count": 38,
     "metadata": {},
     "output_type": "execute_result"
    }
   ],
   "source": [
    "df.sample(1).T"
   ]
  },
  {
   "cell_type": "code",
   "execution_count": 39,
   "id": "01ecb740",
   "metadata": {},
   "outputs": [
    {
     "data": {
      "text/plain": [
       "(17769, 14)"
      ]
     },
     "execution_count": 39,
     "metadata": {},
     "output_type": "execute_result"
    }
   ],
   "source": [
    "df.shape"
   ]
  },
  {
   "cell_type": "code",
   "execution_count": 40,
   "id": "211e226f",
   "metadata": {},
   "outputs": [
    {
     "data": {
      "text/html": [
       "<div>\n",
       "<style scoped>\n",
       "    .dataframe tbody tr th:only-of-type {\n",
       "        vertical-align: middle;\n",
       "    }\n",
       "\n",
       "    .dataframe tbody tr th {\n",
       "        vertical-align: top;\n",
       "    }\n",
       "\n",
       "    .dataframe thead th {\n",
       "        text-align: right;\n",
       "    }\n",
       "</style>\n",
       "<table border=\"1\" class=\"dataframe\">\n",
       "  <thead>\n",
       "    <tr style=\"text-align: right;\">\n",
       "      <th></th>\n",
       "      <th>753480</th>\n",
       "    </tr>\n",
       "  </thead>\n",
       "  <tbody>\n",
       "    <tr>\n",
       "      <th>id</th>\n",
       "      <td>1317588</td>\n",
       "    </tr>\n",
       "    <tr>\n",
       "      <th>title</th>\n",
       "      <td>RevPro Presents CMLL Fantastica Mania UK 2024</td>\n",
       "    </tr>\n",
       "    <tr>\n",
       "      <th>vote_average</th>\n",
       "      <td>0.0</td>\n",
       "    </tr>\n",
       "    <tr>\n",
       "      <th>vote_count</th>\n",
       "      <td>0</td>\n",
       "    </tr>\n",
       "    <tr>\n",
       "      <th>status</th>\n",
       "      <td>Released</td>\n",
       "    </tr>\n",
       "    <tr>\n",
       "      <th>release_date</th>\n",
       "      <td>2024-05-19</td>\n",
       "    </tr>\n",
       "    <tr>\n",
       "      <th>revenue</th>\n",
       "      <td>0</td>\n",
       "    </tr>\n",
       "    <tr>\n",
       "      <th>runtime</th>\n",
       "      <td>0</td>\n",
       "    </tr>\n",
       "    <tr>\n",
       "      <th>adult</th>\n",
       "      <td>False</td>\n",
       "    </tr>\n",
       "    <tr>\n",
       "      <th>backdrop_path</th>\n",
       "      <td>/6dY3Xr6gnBOZFYC3JWUgj4pAiT5.jpg</td>\n",
       "    </tr>\n",
       "    <tr>\n",
       "      <th>budget</th>\n",
       "      <td>0</td>\n",
       "    </tr>\n",
       "    <tr>\n",
       "      <th>homepage</th>\n",
       "      <td>NaN</td>\n",
       "    </tr>\n",
       "    <tr>\n",
       "      <th>imdb_id</th>\n",
       "      <td>NaN</td>\n",
       "    </tr>\n",
       "    <tr>\n",
       "      <th>original_language</th>\n",
       "      <td>en</td>\n",
       "    </tr>\n",
       "    <tr>\n",
       "      <th>original_title</th>\n",
       "      <td>RevPro Presents CMLL Fantastica Mania UK 2024</td>\n",
       "    </tr>\n",
       "    <tr>\n",
       "      <th>overview</th>\n",
       "      <td>Fantastica Mania UK 2024 wasa professional wre...</td>\n",
       "    </tr>\n",
       "    <tr>\n",
       "      <th>popularity</th>\n",
       "      <td>0.986</td>\n",
       "    </tr>\n",
       "    <tr>\n",
       "      <th>poster_path</th>\n",
       "      <td>/e26ZacZu0T3sP7HKPQFfIQAHLlw.jpg</td>\n",
       "    </tr>\n",
       "    <tr>\n",
       "      <th>tagline</th>\n",
       "      <td>NaN</td>\n",
       "    </tr>\n",
       "    <tr>\n",
       "      <th>genres</th>\n",
       "      <td>NaN</td>\n",
       "    </tr>\n",
       "    <tr>\n",
       "      <th>production_companies</th>\n",
       "      <td>NaN</td>\n",
       "    </tr>\n",
       "    <tr>\n",
       "      <th>production_countries</th>\n",
       "      <td>NaN</td>\n",
       "    </tr>\n",
       "    <tr>\n",
       "      <th>spoken_languages</th>\n",
       "      <td>NaN</td>\n",
       "    </tr>\n",
       "    <tr>\n",
       "      <th>keywords</th>\n",
       "      <td>NaN</td>\n",
       "    </tr>\n",
       "  </tbody>\n",
       "</table>\n",
       "</div>"
      ],
      "text/plain": [
       "                                                                 753480\n",
       "id                                                              1317588\n",
       "title                     RevPro Presents CMLL Fantastica Mania UK 2024\n",
       "vote_average                                                        0.0\n",
       "vote_count                                                            0\n",
       "status                                                         Released\n",
       "release_date                                                 2024-05-19\n",
       "revenue                                                               0\n",
       "runtime                                                               0\n",
       "adult                                                             False\n",
       "backdrop_path                          /6dY3Xr6gnBOZFYC3JWUgj4pAiT5.jpg\n",
       "budget                                                                0\n",
       "homepage                                                            NaN\n",
       "imdb_id                                                             NaN\n",
       "original_language                                                    en\n",
       "original_title            RevPro Presents CMLL Fantastica Mania UK 2024\n",
       "overview              Fantastica Mania UK 2024 wasa professional wre...\n",
       "popularity                                                        0.986\n",
       "poster_path                            /e26ZacZu0T3sP7HKPQFfIQAHLlw.jpg\n",
       "tagline                                                             NaN\n",
       "genres                                                              NaN\n",
       "production_companies                                                NaN\n",
       "production_countries                                                NaN\n",
       "spoken_languages                                                    NaN\n",
       "keywords                                                            NaN"
      ]
     },
     "execution_count": 40,
     "metadata": {},
     "output_type": "execute_result"
    }
   ],
   "source": [
    "df_tmdb.sample(1).T"
   ]
  },
  {
   "cell_type": "code",
   "execution_count": 41,
   "id": "a9ebd040",
   "metadata": {},
   "outputs": [
    {
     "data": {
      "text/plain": [
       "(1269226, 24)"
      ]
     },
     "execution_count": 41,
     "metadata": {},
     "output_type": "execute_result"
    }
   ],
   "source": [
    "df_tmdb.shape"
   ]
  },
  {
   "cell_type": "code",
   "execution_count": 42,
   "id": "39d356db",
   "metadata": {},
   "outputs": [
    {
     "name": "stdout",
     "output_type": "stream",
     "text": [
      "Number of common titles: 16273\n"
     ]
    }
   ],
   "source": [
    "common_titles = set(df['title']) & set(df_tmdb['title'])\n",
    "print(f\"Number of common titles: {len(common_titles)}\")"
   ]
  },
  {
   "cell_type": "code",
   "execution_count": 43,
   "id": "b1fab4c1",
   "metadata": {},
   "outputs": [
    {
     "data": {
      "text/html": [
       "<div>\n",
       "<style scoped>\n",
       "    .dataframe tbody tr th:only-of-type {\n",
       "        vertical-align: middle;\n",
       "    }\n",
       "\n",
       "    .dataframe tbody tr th {\n",
       "        vertical-align: top;\n",
       "    }\n",
       "\n",
       "    .dataframe thead th {\n",
       "        text-align: right;\n",
       "    }\n",
       "</style>\n",
       "<table border=\"1\" class=\"dataframe\">\n",
       "  <thead>\n",
       "    <tr style=\"text-align: right;\">\n",
       "      <th></th>\n",
       "      <th>79066</th>\n",
       "    </tr>\n",
       "  </thead>\n",
       "  <tbody>\n",
       "    <tr>\n",
       "      <th>id</th>\n",
       "      <td>victoria_2015</td>\n",
       "    </tr>\n",
       "    <tr>\n",
       "      <th>originalScore</th>\n",
       "      <td>['4/5', '3.5/5', nan, '3.5/5', '8/10', nan, '3...</td>\n",
       "    </tr>\n",
       "    <tr>\n",
       "      <th>reviewText</th>\n",
       "      <td>{'Kat Halstead': 'Filmed in one shot, this low...</td>\n",
       "    </tr>\n",
       "    <tr>\n",
       "      <th>PositiveCount</th>\n",
       "      <td>113</td>\n",
       "    </tr>\n",
       "    <tr>\n",
       "      <th>NegativeCount</th>\n",
       "      <td>24</td>\n",
       "    </tr>\n",
       "    <tr>\n",
       "      <th>TotalReviews</th>\n",
       "      <td>137</td>\n",
       "    </tr>\n",
       "    <tr>\n",
       "      <th>title</th>\n",
       "      <td>Victoria</td>\n",
       "    </tr>\n",
       "    <tr>\n",
       "      <th>releaseDateStreaming</th>\n",
       "      <td>2016-03-08</td>\n",
       "    </tr>\n",
       "    <tr>\n",
       "      <th>runtimeMinutes</th>\n",
       "      <td>138.0</td>\n",
       "    </tr>\n",
       "    <tr>\n",
       "      <th>genre</th>\n",
       "      <td>['mystery &amp; thriller', 'crime', 'drama']</td>\n",
       "    </tr>\n",
       "    <tr>\n",
       "      <th>originalLanguage</th>\n",
       "      <td>English</td>\n",
       "    </tr>\n",
       "    <tr>\n",
       "      <th>director</th>\n",
       "      <td>Sebastian Schipper</td>\n",
       "    </tr>\n",
       "    <tr>\n",
       "      <th>writer</th>\n",
       "      <td>Sebastian Schipper,Olivia Neergaard-Holm,Eike ...</td>\n",
       "    </tr>\n",
       "    <tr>\n",
       "      <th>plot</th>\n",
       "      <td>The story of Queen Victoria, who came to the t...</td>\n",
       "    </tr>\n",
       "    <tr>\n",
       "      <th>tmdbId</th>\n",
       "      <td>665413.0</td>\n",
       "    </tr>\n",
       "  </tbody>\n",
       "</table>\n",
       "</div>"
      ],
      "text/plain": [
       "                                                                  79066\n",
       "id                                                        victoria_2015\n",
       "originalScore         ['4/5', '3.5/5', nan, '3.5/5', '8/10', nan, '3...\n",
       "reviewText            {'Kat Halstead': 'Filmed in one shot, this low...\n",
       "PositiveCount                                                       113\n",
       "NegativeCount                                                        24\n",
       "TotalReviews                                                        137\n",
       "title                                                          Victoria\n",
       "releaseDateStreaming                                         2016-03-08\n",
       "runtimeMinutes                                                    138.0\n",
       "genre                          ['mystery & thriller', 'crime', 'drama']\n",
       "originalLanguage                                                English\n",
       "director                                             Sebastian Schipper\n",
       "writer                Sebastian Schipper,Olivia Neergaard-Holm,Eike ...\n",
       "plot                  The story of Queen Victoria, who came to the t...\n",
       "tmdbId                                                         665413.0"
      ]
     },
     "execution_count": 43,
     "metadata": {},
     "output_type": "execute_result"
    }
   ],
   "source": [
    "# Merge df and df_tmdb on the 'title' column\n",
    "df = df.merge(\n",
    "    df_tmdb[['title', 'id']],  # keep only the tmdb 'id' and 'title'\n",
    "    on='title',\n",
    "    how='left'\n",
    ")\n",
    "\n",
    "# Rename 'id_y' (from tmdb) to 'tmdbId' and keep original df id as is\n",
    "df = df.rename(columns={'id_y': 'tmdbId', 'id_x': 'id'})\n",
    "df.sample(1).T\n"
   ]
  },
  {
   "cell_type": "code",
   "execution_count": 44,
   "id": "523b8646",
   "metadata": {},
   "outputs": [
    {
     "data": {
      "text/plain": [
       "(81865, 15)"
      ]
     },
     "execution_count": 44,
     "metadata": {},
     "output_type": "execute_result"
    }
   ],
   "source": [
    "df.shape"
   ]
  },
  {
   "cell_type": "code",
   "execution_count": 45,
   "id": "31debc5a",
   "metadata": {},
   "outputs": [
    {
     "data": {
      "text/plain": [
       "id                          0\n",
       "originalScore               0\n",
       "reviewText                  0\n",
       "PositiveCount               0\n",
       "NegativeCount               0\n",
       "TotalReviews                0\n",
       "title                       0\n",
       "releaseDateStreaming     6774\n",
       "runtimeMinutes            845\n",
       "genre                     538\n",
       "originalLanguage         1446\n",
       "director                  308\n",
       "writer                  10600\n",
       "plot                        0\n",
       "tmdbId                    218\n",
       "dtype: int64"
      ]
     },
     "execution_count": 45,
     "metadata": {},
     "output_type": "execute_result"
    }
   ],
   "source": [
    "df.isnull().sum()"
   ]
  },
  {
   "cell_type": "code",
   "execution_count": 46,
   "id": "0265fa79",
   "metadata": {},
   "outputs": [
    {
     "data": {
      "text/plain": [
       "id                      0\n",
       "originalScore           0\n",
       "reviewText              0\n",
       "PositiveCount           0\n",
       "NegativeCount           0\n",
       "TotalReviews            0\n",
       "title                   0\n",
       "releaseDateStreaming    0\n",
       "runtimeMinutes          0\n",
       "genre                   0\n",
       "originalLanguage        0\n",
       "director                0\n",
       "writer                  0\n",
       "plot                    0\n",
       "tmdbId                  0\n",
       "dtype: int64"
      ]
     },
     "execution_count": 46,
     "metadata": {},
     "output_type": "execute_result"
    }
   ],
   "source": [
    "df = df.dropna()\n",
    "df.isnull().sum()"
   ]
  },
  {
   "cell_type": "code",
   "execution_count": 47,
   "id": "f631c00e",
   "metadata": {},
   "outputs": [
    {
     "data": {
      "text/plain": [
       "(65482, 15)"
      ]
     },
     "execution_count": 47,
     "metadata": {},
     "output_type": "execute_result"
    }
   ],
   "source": [
    "df.shape"
   ]
  },
  {
   "cell_type": "code",
   "execution_count": 48,
   "id": "7c7c711b",
   "metadata": {},
   "outputs": [
    {
     "data": {
      "text/plain": [
       "(14050, 15)"
      ]
     },
     "execution_count": 48,
     "metadata": {},
     "output_type": "execute_result"
    }
   ],
   "source": [
    "df = df.drop_duplicates(subset='id', keep='first')\n",
    "df.shape"
   ]
  },
  {
   "cell_type": "code",
   "execution_count": 49,
   "id": "ac28d509",
   "metadata": {},
   "outputs": [
    {
     "name": "stdout",
     "output_type": "stream",
     "text": [
      "TMDB ID: 3114.0\n",
      "Title: The Searchers\n",
      "Streaming Release Date: 2006-06-06\n",
      "Runtime (minutes): 119.0\n",
      "Genre: ['western']\n",
      "Language: English\n",
      "Director: John Ford\n",
      "Writer: Alan Le May,Frank S. Nugent\n",
      "\n",
      "Review Texts: {'Edward Porter': '... Its boldness is compelling.', 'Victor Pineyro': 'A road movie disguised as a western. Ford deals with revenge, redemption, love, violence and obsession in a beautifully shot film by veteran cinematographer William C. Hoch. Full review in Spanish', 'Francois Truffaut': 'John Ford symbolizes an age of Hollywood, the one when good health prevailed over intelligence, craftiness over sincerity. This age has gone; Elia Kazan’s and Nicholas Ray’s movies make more money than John Ford’s, poetry triumphs over entertainment.', 'Brian Eggert': \"The motion picture Ford considered his own masterpiece confronts prior standards, meets issues of revenge and discrimination within a ponderous text, and revises the director's Western model forevermore.\", 'Don Shanahan': 'Gorgeous cinematography versus pushback politics.', 'Bradley Gibson': 'Entertaining, well-acted and directed, and beautiful to watch.', 'Sarah Brinks': \"Overall, I didn't enjoy The Searchers very much. I respect Ford as a filmmaker and I think he did his best to show a realistic view of how settlers felt about the Native Americans but it is still a tough film to watch with modern eyes.\", 'Mike Massie': 'Though it made no impression at the Academy Awards for 1956, the film was - and is now considered - a masterpiece to which all other Westerns are inevitably measured.', 'Matt Neal': \"The Searchers is the most important western of all time, but more than that, it's one of the most important movies of all time.\", 'Alberto Abuín': 'It is the silent witness of the bravest, and most wonderfully subtle, love story ever told in the seventh art. [Full Review in Spanish]', 'Kyle Smith': 'Apart from its stunning Monument Valley photography, The Searchers is mostly hokey and thinly written.', 'Michael Wilmington': \"[The Searchers is] Ford's greatest western, with John Wayne as the relentless adventurer Ethan Edwards.\", 'Jack Moffitt': 'This C.V. Whitney production is undoubtedly one of the greatest Westerns ever made.', 'Wesley Lovell': 'One of the better examples of the western genre.', 'Rob Nelson': 'Call Ethan one widescreen reminder of fear and guilt for a country that deserved at least one.', 'Keith H. Brown': 'An absolute must see.', 'Cole Smithey': 'A truly great western.', 'Ronald Holloway': 'Some fine vignettes of frontier life in the early southwest and a realistic presentation of the difficulties faced by the settlers in carving out a homestead in dangerous Indian country.', 'Dave Kehr': 'Through the central image of the frontier, the meeting point of wilderness and civilization, Ford explores the divisions of our national character, with its search for order and its need for violence, its spirit of community and its quest for independence', 'John J. Puccio': '...a much more multi-layered Western than most other such examples of the genre, and it is surely a classic of its kind.', 'Emanuel Levy': \"One of Ford's undisputed masterpiecs and a quintessential text of the 1950s, a rare Western that explores the deep roots of racism (and sexism) in American life, and gives John Wayne his most complex performance as the anomic hero.\", 'Chris Cabin': \"The minute The Searchers begins, it's impossible to look away.\", 'Steve Crum': \"John Wayne's best film, which says a prairie-full. Haunting, unforgettable.\", 'Derek Adams': \"There is perhaps some discrepancy in the play between Wayne's heroic image and the pathological outsider he plays here (forever excluded from home, as the doorway shots at beginning and end suggest), but it hardly matters, given the film's visual splendou\", \"Chuck O'Leary\": nan, 'Philip Martin': 'It may also be the best American movie, or at least the most American movie ....', 'Jonathan R. Perry': 'THE great American western.', 'Steven D. Greydanus': \"The Searchers's reputation is so widely accepted that it's a surprise to discover that the film, and Wayne's character, are more complex than the reputation suggests.\", 'Phil Villarreal': 'This is a film for the ages.', 'Nicolas Lacroix': nan, 'Chris Barsanti': nan, 'Greg Maki': nan, 'Ken Hanke': \"A powerful piece of filmmaking -- one of Ford's best works -- and I'd urge anyone who hasn't seen it to do so -- and decide for themselves what the film is or isn't saying\", 'Carol Cling': nan, 'Bosley Crowther': 'A rip-snorting Western, as brashly entertaining as they come.', 'Louis Black': \"Damn, this is Wayne's movie.\", 'Bob Bloom': \"A timeless classic, Wayne's most complex role. For anyone who says he cannot act, check this movie out!\", 'Scott Weinberg': nan, 'Jeffrey Westhoff': nan, 'John A. Nesbit': \"...it won't play as well with Native American audiences or with people sensitive to its inadvertent racism\", 'Roger Ebert': \"Contains scenes of magnificence, and one of John Wayne's best performances.\", 'Almar Haflidason': 'On the scale of Westerns this is undoubtedly one of the most grand.', 'Andrew Howe': \"If ever you need proof of the worth of the genre, you'll find it here.\", 'James Kendrick': 'a landmark Western that is at once a great, rousing adventure story, a fable about the nature of quest and fulfillment and an exploration of vicious racism', 'Dennis Schwartz': 'The quintessential American film about what it once meant to be American.', 'Dragan Antulov': 'A film that belongs to the category of so-called \"important\" movies - those which are remembered less by their own merit, and more by the way they influenced future film- makers.', 'Jeffrey M. Anderson': \"The Searchers gets so close to greatness you can almost smell it. It's easy to see why Martin Scorsese, George Lucas, and many others have championed it.\", 'Tim Dirks': 'The Searchers (1956) is considered by many to be a true American masterpiece of filmmaking, and the best and perhaps most-admired film of director John Ford.', 'Tom Keogh': 'The final shot of this genuine epic says everything the Western ever had to say about the price of the American frontier and those forgotten bones upon which a nation was built.', 'Matt Easterbrook': 'No one could use Monument Valley locations like John Ford could.'}\n",
      "\n",
      "Movie Plot: As a Civil War veteran spends years searching for a young niece captured by Indians, his motivation becomes increasingly questionable.\n",
      "\n",
      "Positive Count: 47\n",
      "Negative Count: 3\n",
      "Total Review Count: 50\n"
     ]
    }
   ],
   "source": [
    "# Select a random index\n",
    "random_index = random.randint(0, len(df) - 1)\n",
    "\n",
    "# Fetch the row\n",
    "random_row = df.iloc[random_index]\n",
    "\n",
    "# Print the full row neatly\n",
    "print(f\"TMDB ID: {random_row['tmdbId']}\")\n",
    "print(f\"Title: {random_row['title']}\")\n",
    "print(f\"Streaming Release Date: {random_row['releaseDateStreaming']}\")\n",
    "print(f\"Runtime (minutes): {random_row['runtimeMinutes']}\")\n",
    "print(f\"Genre: {random_row['genre']}\")\n",
    "print(f\"Language: {random_row['originalLanguage']}\")\n",
    "print(f\"Director: {random_row['director']}\")\n",
    "print(f\"Writer: {random_row['writer']}\\n\")\n",
    "print(f\"Review Texts: {random_row['reviewText']}\\n\")\n",
    "print(f\"Movie Plot: {random_row['plot']}\\n\")\n",
    "print(f\"Positive Count: {random_row['PositiveCount']}\")\n",
    "print(f\"Negative Count: {random_row['NegativeCount']}\")\n",
    "print(f\"Total Review Count: {random_row['TotalReviews']}\")"
   ]
  },
  {
   "cell_type": "code",
   "execution_count": 50,
   "id": "05c672c1",
   "metadata": {},
   "outputs": [],
   "source": [
    "df.to_csv('../../data/final-data/data.csv', index=False)"
   ]
  },
  {
   "cell_type": "code",
   "execution_count": null,
   "id": "10441569",
   "metadata": {},
   "outputs": [],
   "source": []
  }
 ],
 "metadata": {
  "kernelspec": {
   "display_name": "base",
   "language": "python",
   "name": "python3"
  },
  "language_info": {
   "codemirror_mode": {
    "name": "ipython",
    "version": 3
   },
   "file_extension": ".py",
   "mimetype": "text/x-python",
   "name": "python",
   "nbconvert_exporter": "python",
   "pygments_lexer": "ipython3",
   "version": "3.12.2"
  }
 },
 "nbformat": 4,
 "nbformat_minor": 5
}
