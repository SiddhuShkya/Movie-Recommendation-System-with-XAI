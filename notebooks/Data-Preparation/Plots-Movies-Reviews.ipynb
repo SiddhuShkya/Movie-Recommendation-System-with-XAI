{
 "cells": [
  {
   "cell_type": "code",
   "execution_count": 20,
   "id": "5df64b68",
   "metadata": {},
   "outputs": [],
   "source": [
    "import os\n",
    "import ast\n",
    "import random\n",
    "import pandas as pd\n",
    "import numpy as np\n",
    "import seaborn as sns\n",
    "import matplotlib.pyplot as plt"
   ]
  },
  {
   "cell_type": "code",
   "execution_count": 21,
   "id": "ed26c0c6",
   "metadata": {},
   "outputs": [
    {
     "data": {
      "application/vnd.microsoft.datawrangler.viewer.v0+json": {
       "columns": [
        {
         "name": "index",
         "rawType": "object",
         "type": "string"
        },
        {
         "name": "0",
         "rawType": "object",
         "type": "unknown"
        },
        {
         "name": "1",
         "rawType": "object",
         "type": "unknown"
        }
       ],
       "ref": "93324444-5151-4395-b870-6f9d8d933c2f",
       "rows": [
        [
         "id",
         "009_re_cyborg",
         "1-day"
        ],
        [
         "originalScore",
         "['2/5', nan, nan, '2/5', '3/5', '2/5', '2/5', '2/5', '4/5', '3/5', '1/5', '2/5', nan]",
         "['2/5', '2/5', '4/5', '3/5', '3/5', '2/5', '5/5', '3/5', '4/5', '2/5', '2/5', '2/5', '2/5', '3/5', '3/5', '2/5']"
        ],
        [
         "reviewText",
         "{'Joseph Walsh': \"Despite its good looks, there's no escaping 009 Re: Cyborg's tiresome and hollow script.\", 'Philip French': \"It's overlong and, for an animated film, there's too much windy philosophical talk of an ontological kind, dropping the names of Freud and the religious historian Mircea Eliade.\", 'MaryAnn Johanson': 'A whole lotta WTF folded into a derivative, misogynist, and just plain incoherent mess.', 'Derek Malcolm': 'We are treated to superb city landscapes but so much minor detail that you never know who is doing what to whom, or even why.', 'Tom Huddleston': \"It's beautifully animated - the climactic sequence in Earth orbit is breathtaking - and its philosophical digressions are fascinating, if completely bananas.\", 'Andrew Osmond': 'The script is lousy and laughable. Anime fans may be able to take the talky portentousness, but the ideas are ridiculous.', 'Chris Michael': \"We're in a post-9/11 world plagued with terror attacks. Is it an American corporate conspiracy? Or the work of a deity? Cue the obligatory second-half metaphysical blather.\", 'Jennifer Tate': \"The cyborgs' epic search for 'His Voice' quickly becomes a little tenuous and ridiculous, pushing the film into maddening and tedious territory.\", 'Ben Mortimer': 'One of the most ambitious and interesting movies of the last few years.', 'Siobhan Synnot': \"Terrific-looking action sequences alternate with less terrific expository chat. Despite the natter, it's all mildly baffling.\", 'Stephen Kelly': 'Ambitious, perhaps, but hardly entertaining.', 'Owen Williams': 'A disappointingly dated and unpowered Manga update.', 'Anton Bitel': 'The blending of 3DCG characters and traditionally drawn backgrounds offers a spectacular hybrid playground in which half-human robots can work through the shifting allegiances and crises of faith that have marked the new millennium.'}",
         "{'Anna Smith': 'A less gripping, if bleaker, take on the Kidulthood/Adulthood theme, with a few musical numbers thrown in. Authentic, perhaps, but far from a deeply rewarding cinematic experience.', 'Trevor Johnston': 'Woolcock deserves praise for ambition, but this tumbles awkwardly into some netherworld between streetwise musical and social-conscience crime chronicle.', 'Ali Catterall': \"You could call this a 'hip-hopera', a mix of filmmaking and social work, or a shot in the arm for British independent cinema. Just don't call it Bugsy Malone with real bullets.\", 'Kevin Maher': \"It's propulsive stuff that credibly mixes social realism with bursts of musical energy. Just occasionally, though, the movie falls for the gangland glamour - loving shots of guns, cars and posturing bad boys - it claims to despise.\", 'Peter Bradshaw': \"By turns gloomy, frenzied, downbeat and violently melodramatic, Penny Woolcock's gang grime musical throbs intermittently with energy.\", 'Tim Robey': \"Woolcock doesn't strictly glamourise this guns-'n'-babymothers lifestyle, but her shortcuts to gritty pathos are nearly as questionable.\", 'Priscilla Eyles': 'Woolcock has overcome all odds to produce one of the best British flicks since This Is England.', 'Derek Malcolm': \"Undoubtedly well acted and shot, and with a rip-roaring hip-hop score, it's impressively non-moralistic, just showing us how it is. That may be why Birmingham's cinemas have refused to show it.\", 'Sam Wigley': 'The film has a cheeky comic streak that offsets all the streetwise grandstanding.', 'Nigel Andrews': 'A gangsta farrago, convincing neither as street-tough crime drama nor soul-motorised rap show. The performers go through the motions, and emotions, as if reading cue cards.', 'Anthony Quinn': 'The street patois is at times incomprehensible, the plot is a joke and the music is absurdly aggressive.', 'Matthew Turner': \"1 Day is something of a mixed bag but it's ultimately worth seeing for the energy and commitment of its fired-up cast of unknowns.\", 'Robbie Collin': 'The performances are quality and the rapping, written and performed by the cast, is SUPERB - if anything, the film could have done with a lot more of it.', 'Alistair Harkness': \"It's a noble endeavour, but not a particularly successful one, primarily because her cast, as authentic as they are, don't really have the dramatic skills.\"}"
        ],
        [
         "PositiveCount",
         "3",
         "8"
        ],
        [
         "NegativeCount",
         "10",
         "8"
        ],
        [
         "TotalReviews",
         "13",
         "16"
        ],
        [
         "title",
         "009 Re: Cyborg",
         "1 Day"
        ],
        [
         "releaseDateStreaming",
         "2015-07-28",
         null
        ],
        [
         "runtimeMinutes",
         "103.0",
         "90.0"
        ],
        [
         "genre",
         "['action', 'sci-fi', 'animation']",
         "['drama']"
        ],
        [
         "originalLanguage",
         "Japanese",
         "English"
        ],
        [
         "director",
         "Kenji Kamiyama",
         "Penny Woolcock"
        ],
        [
         "writer",
         "Kenji Kamiyama",
         "Penny Woolcock"
        ]
       ],
       "shape": {
        "columns": 2,
        "rows": 13
       }
      },
      "text/html": [
       "<div>\n",
       "<style scoped>\n",
       "    .dataframe tbody tr th:only-of-type {\n",
       "        vertical-align: middle;\n",
       "    }\n",
       "\n",
       "    .dataframe tbody tr th {\n",
       "        vertical-align: top;\n",
       "    }\n",
       "\n",
       "    .dataframe thead th {\n",
       "        text-align: right;\n",
       "    }\n",
       "</style>\n",
       "<table border=\"1\" class=\"dataframe\">\n",
       "  <thead>\n",
       "    <tr style=\"text-align: right;\">\n",
       "      <th></th>\n",
       "      <th>0</th>\n",
       "      <th>1</th>\n",
       "    </tr>\n",
       "  </thead>\n",
       "  <tbody>\n",
       "    <tr>\n",
       "      <th>id</th>\n",
       "      <td>009_re_cyborg</td>\n",
       "      <td>1-day</td>\n",
       "    </tr>\n",
       "    <tr>\n",
       "      <th>originalScore</th>\n",
       "      <td>['2/5', nan, nan, '2/5', '3/5', '2/5', '2/5', ...</td>\n",
       "      <td>['2/5', '2/5', '4/5', '3/5', '3/5', '2/5', '5/...</td>\n",
       "    </tr>\n",
       "    <tr>\n",
       "      <th>reviewText</th>\n",
       "      <td>{'Joseph Walsh': \"Despite its good looks, ther...</td>\n",
       "      <td>{'Anna Smith': 'A less gripping, if bleaker, t...</td>\n",
       "    </tr>\n",
       "    <tr>\n",
       "      <th>PositiveCount</th>\n",
       "      <td>3</td>\n",
       "      <td>8</td>\n",
       "    </tr>\n",
       "    <tr>\n",
       "      <th>NegativeCount</th>\n",
       "      <td>10</td>\n",
       "      <td>8</td>\n",
       "    </tr>\n",
       "    <tr>\n",
       "      <th>TotalReviews</th>\n",
       "      <td>13</td>\n",
       "      <td>16</td>\n",
       "    </tr>\n",
       "    <tr>\n",
       "      <th>title</th>\n",
       "      <td>009 Re: Cyborg</td>\n",
       "      <td>1 Day</td>\n",
       "    </tr>\n",
       "    <tr>\n",
       "      <th>releaseDateStreaming</th>\n",
       "      <td>2015-07-28</td>\n",
       "      <td>NaN</td>\n",
       "    </tr>\n",
       "    <tr>\n",
       "      <th>runtimeMinutes</th>\n",
       "      <td>103.0</td>\n",
       "      <td>90.0</td>\n",
       "    </tr>\n",
       "    <tr>\n",
       "      <th>genre</th>\n",
       "      <td>['action', 'sci-fi', 'animation']</td>\n",
       "      <td>['drama']</td>\n",
       "    </tr>\n",
       "    <tr>\n",
       "      <th>originalLanguage</th>\n",
       "      <td>Japanese</td>\n",
       "      <td>English</td>\n",
       "    </tr>\n",
       "    <tr>\n",
       "      <th>director</th>\n",
       "      <td>Kenji Kamiyama</td>\n",
       "      <td>Penny Woolcock</td>\n",
       "    </tr>\n",
       "    <tr>\n",
       "      <th>writer</th>\n",
       "      <td>Kenji Kamiyama</td>\n",
       "      <td>Penny Woolcock</td>\n",
       "    </tr>\n",
       "  </tbody>\n",
       "</table>\n",
       "</div>"
      ],
      "text/plain": [
       "                                                                      0  \\\n",
       "id                                                        009_re_cyborg   \n",
       "originalScore         ['2/5', nan, nan, '2/5', '3/5', '2/5', '2/5', ...   \n",
       "reviewText            {'Joseph Walsh': \"Despite its good looks, ther...   \n",
       "PositiveCount                                                         3   \n",
       "NegativeCount                                                        10   \n",
       "TotalReviews                                                         13   \n",
       "title                                                    009 Re: Cyborg   \n",
       "releaseDateStreaming                                         2015-07-28   \n",
       "runtimeMinutes                                                    103.0   \n",
       "genre                                 ['action', 'sci-fi', 'animation']   \n",
       "originalLanguage                                               Japanese   \n",
       "director                                                 Kenji Kamiyama   \n",
       "writer                                                   Kenji Kamiyama   \n",
       "\n",
       "                                                                      1  \n",
       "id                                                                1-day  \n",
       "originalScore         ['2/5', '2/5', '4/5', '3/5', '3/5', '2/5', '5/...  \n",
       "reviewText            {'Anna Smith': 'A less gripping, if bleaker, t...  \n",
       "PositiveCount                                                         8  \n",
       "NegativeCount                                                         8  \n",
       "TotalReviews                                                         16  \n",
       "title                                                             1 Day  \n",
       "releaseDateStreaming                                                NaN  \n",
       "runtimeMinutes                                                     90.0  \n",
       "genre                                                         ['drama']  \n",
       "originalLanguage                                                English  \n",
       "director                                                 Penny Woolcock  \n",
       "writer                                                   Penny Woolcock  "
      ]
     },
     "execution_count": 21,
     "metadata": {},
     "output_type": "execute_result"
    }
   ],
   "source": [
    "df = pd.read_csv(\"../../data/movie-review-data/merged_movies_reviews.csv\")\n",
    "df.head(2).T"
   ]
  },
  {
   "cell_type": "code",
   "execution_count": 22,
   "id": "67c79aee",
   "metadata": {},
   "outputs": [
    {
     "data": {
      "text/plain": [
       "(23295, 13)"
      ]
     },
     "execution_count": 22,
     "metadata": {},
     "output_type": "execute_result"
    }
   ],
   "source": [
    "df.shape"
   ]
  },
  {
   "cell_type": "code",
   "execution_count": 23,
   "id": "ef7ea9df",
   "metadata": {},
   "outputs": [
    {
     "name": "stdout",
     "output_type": "stream",
     "text": [
      "Title: Pootie Tang\n",
      "Streaming Release Date: 2007-07-20\n",
      "Runtime (minutes): 81.0\n",
      "Genre: ['comedy', 'musical', 'adventure', 'action']\n",
      "Language: English\n",
      "Director: Louis C.K.\n",
      "Writer: Louis C.K.\n",
      "\n",
      "Review Texts: {'Wayne Broadway': \"'Pootie Tang' seems to have all the earmarks of a film that suffered from too many cooks adding their own special ingredients. \", 'Justin Brown': 'It started, and it just blew my mind...one of the worst movies of all time.', 'Brandon Collins': 'This belongs in the vault of all the worst things about America...we should be embarrassed...', 'Nathan Lee': \"Pootie Tang works, in part, because it doesn't. Which is to say the movie's special success is inextricable from the moments where it blatantly fails. The movie exerts a beguiling charm that can only be explained as the je ne sais quoi of sa da tay.\", 'Philip Martin': nan, 'Leo Goldsmith': nan, 'Ken Hanke': 'Writer-director Louis C.K. (I wouldn\\'t give my correct name either) was named on Entertainment Weekly\\'s \"It List,\" proving that entertainment is in a bad way.', 'Brian Orndorf': nan, 'JoBlo': nan, 'Janet Branagan': nan, 'David Noh': 'Pootie is such an original, utterly absurd conception that, however one may hesitate over superfluous matters of good taste or (horrors!) political correctness, anyone with an ounce of humor will find it impossible not to succumb in gales of laughter.', 'Catharine Tunnacliffe': \"There are bad movies, there are disappointing movies, and then there's Pootie Tang, a movie so incompetent, it almost defies description.\", 'Steve Rhodes': 'Its humor tires not too long after the beginning credits have finished rolling.', 'Dennis Lim': 'A bona fide cult object in the making.', 'Greg Muskewitz': nan, 'Luke Y. Thompson': \"It seems as if the studio thought they had a black Austin Powers, while in fact what they have is more like a black Dude, Where's My Car?.\", 'Steve Simels': 'Good for a couple of well-earned laughs but ultimately overstays its welcome.', 'Geoff Pevere': \"A pretty inspired and consistently witty satirical skewering of three decade's worth of macho black pop cultural clichs.\", 'Jim Judy': \"A spectacular train wreck of a film where the participants seem oblivious to the dreck they've crafted and performed in.\", 'Wesley Morris': 'Mostly an amusing exercise in black vernacular, searching for a point.', 'Tor Thorsen': \"Sorry, Lance, but Rudy Ray Moore you ain't.\", 'Eric Harrison': \"It would've made a great 30-minute comic short. Most of the film is padding.\", 'Kirk Honeycutt': 'This astonishingly unfunny Paramount comedy is burdened with writing, direction and acting that would cause Ed Wood to wince.', 'Chris Vognar': 'The rule is pretty simple: The thinner the skit, the thinner the big-screen spin-off.', 'Jim Lane': \"Mostly it's shoddy, amateurish, and cheap-looking.\", 'Michael Atkinson': 'The material it does pull off is daring and sharp.', 'Blake Wright': 'I would rather watch all the Pokemon movies, back to back, than waste my time watching this production for a second time.', 'Marjorie Baumgarten': 'Dull and unfunny claptrap.', 'Bruce Kirkland': 'Think of an infantile, babblegabbing Shaft without any real cool.', 'Shlomo Schwartzberg': \"It's content to stay at the level of puerile humor.\", 'Frank Swietek': 'Excruciatingly unfunny...an astonishingly awful movie.', 'Richard Harrington': 'A two-minute character-based skit ... stretched to a mind-boggling 82 minutes.', 'Gene Seymour': 'Its calculated crudity and sledgehammer gags offer the same ephemeral pleasures one gets when heckling a campy blaxploitation thriller.', 'Lou Lumenick': 'Akin to watching a random collection of deleted scenes from a misconceived movie that should never have darkened the inside of a theater in the first place.', 'Miles Beller': \"As a big-screen vamp on the cable sketch, it plays itself out long before 'The End' crawls into view.\", 'Terry Lawson': \"Funny as the joke may be, it's still only one joke.\", 'Christy Lemire': \"Calling the movie incoherent doesn't even begin to describe it.\", 'Roger Ebert': 'Not bad so much as inexplicable. You watch in puzzlement.', 'Christopher Muther': \"The movie's comic powers are often marred by silliness and stereotypes.\", 'Dan Fazio': \"[Pootie's] nonsense vocab eventually loses the power to impress.\", 'Owen Gleiberman': 'As brilliant as Rock can be, this material is a reflection of his shallow, moralistic side.', 'Elvis Mitchell': 'Succeeds as a laugh getter because of the spot-on satirical notes.', 'Robert K. Elder': 'Worse than a below-average sketch-to-screen Saturday Night Live film.', 'Bob Longino': 'Cheaply made stuff, patently stupid and, most of the time, a pure pleasure to watch.'}\n",
      "\n",
      "Positive Count: 12\n",
      "Negative Count: 32\n",
      "Total Review Count: 44\n"
     ]
    }
   ],
   "source": [
    "# Select a random index\n",
    "random_index = random.randint(0, len(df) - 1)\n",
    "\n",
    "# Fetch the row\n",
    "random_row = df.iloc[random_index]\n",
    "\n",
    "# Print the full row neatly\n",
    "print(f\"Title: {random_row['title']}\")\n",
    "print(f\"Streaming Release Date: {random_row['releaseDateStreaming']}\")\n",
    "print(f\"Runtime (minutes): {random_row['runtimeMinutes']}\")\n",
    "print(f\"Genre: {random_row['genre']}\")\n",
    "print(f\"Language: {random_row['originalLanguage']}\")\n",
    "print(f\"Director: {random_row['director']}\")\n",
    "print(f\"Writer: {random_row['writer']}\\n\")\n",
    "print(f\"Review Texts: {random_row['reviewText']}\\n\")\n",
    "print(f\"Positive Count: {random_row['PositiveCount']}\")\n",
    "print(f\"Negative Count: {random_row['NegativeCount']}\")\n",
    "print(f\"Total Review Count: {random_row['TotalReviews']}\")"
   ]
  },
  {
   "cell_type": "code",
   "execution_count": 24,
   "id": "c1cab04d",
   "metadata": {},
   "outputs": [],
   "source": [
    "# Extracting Movie Plot and Adding It To Our Data\n",
    "df1 = pd.read_csv('../../data/movie-data-csv/amazon-prime.csv')\n",
    "df2 = pd.read_csv('../../data/movie-data-csv/netflix-tv.csv')\n",
    "df3 = pd.read_csv('../../data/movie-data-csv/trailers12k.csv')\n",
    "df4 = pd.read_csv('../../data/movie-data-csv/tmdb.csv', low_memory=False)\n",
    "df5 = pd.read_csv('../../data/movie-data-csv/imdb.csv')\n",
    "df5.rename(columns={'Title': 'title'}, inplace=True)"
   ]
  },
  {
   "cell_type": "code",
   "execution_count": 25,
   "id": "10d973a9",
   "metadata": {},
   "outputs": [],
   "source": [
    "df3['plot'] = df3['plot'].apply(lambda x: ' '.join(ast.literal_eval(x)))"
   ]
  },
  {
   "cell_type": "code",
   "execution_count": 26,
   "id": "e01c102e",
   "metadata": {},
   "outputs": [],
   "source": [
    "df1_subset = df1[['title', 'plot']]\n",
    "df2_subset = df2[['title', 'plot']]\n",
    "df3_subset = df3[['title', 'plot']]\n",
    "df4_subset = df4[['title', 'plot']]\n",
    "df5_subset = df5[['title', 'plot']]"
   ]
  },
  {
   "cell_type": "code",
   "execution_count": 27,
   "id": "064aa8ed",
   "metadata": {},
   "outputs": [
    {
     "name": "stdout",
     "output_type": "stream",
     "text": [
      "(180252, 2)\n"
     ]
    },
    {
     "data": {
      "application/vnd.microsoft.datawrangler.viewer.v0+json": {
       "columns": [
        {
         "name": "index",
         "rawType": "int64",
         "type": "integer"
        },
        {
         "name": "title",
         "rawType": "object",
         "type": "string"
        },
        {
         "name": "plot",
         "rawType": "object",
         "type": "string"
        }
       ],
       "ref": "a9f5b519-2f56-43fd-801b-0d837d62fc1b",
       "rows": [
        [
         "0",
         "The Three Stooges",
         "The Three Stooges were an American vaudeville and comedy team active from 1922 until 1970, best known for their 190 short subject films by Columbia Pictures that have been regularly airing on television since 1958. Their hallmark was physical farce and slapstick. In films, the stooges were commonly known by their actual first names. There were a total of six stooges over the act's run (with only three active at any given time), but Moe Howard and Larry Fine were the mainstays throughout the ensemble's nearly fifty-year run."
        ],
        [
         "1",
         "The General",
         "During America’s Civil War, Union spies steal engineer Johnnie Gray's beloved locomotive, 'The General'—with Johnnie's lady love aboard an attached boxcar—and he single-handedly must do all in his power to both get The General back and to rescue Annabelle."
        ],
        [
         "2",
         "The Best Years of Our Lives",
         "It's the hope that sustains the spirit of every GI: the dream of the day when he will finally return home. For three WWII veterans, the day has arrived. But for each man, the dream is about to become a nightmare."
        ],
        [
         "3",
         "His Girl Friday",
         "Hildy, the journalist former wife of newspaper editor Walter Burns, visits his office to inform him that she's engaged and will be getting remarried the next day. Walter can't let that happen and frames the fiancé, Bruce Baldwin, for one thing after another, to keep him temporarily held in prison, while trying to steer Hildy into returning to her old job as his employee."
        ],
        [
         "4",
         "In a Lonely Place",
         "An aspiring actress begins to suspect that her temperamental boyfriend is a murderer."
        ]
       ],
       "shape": {
        "columns": 2,
        "rows": 5
       }
      },
      "text/html": [
       "<div>\n",
       "<style scoped>\n",
       "    .dataframe tbody tr th:only-of-type {\n",
       "        vertical-align: middle;\n",
       "    }\n",
       "\n",
       "    .dataframe tbody tr th {\n",
       "        vertical-align: top;\n",
       "    }\n",
       "\n",
       "    .dataframe thead th {\n",
       "        text-align: right;\n",
       "    }\n",
       "</style>\n",
       "<table border=\"1\" class=\"dataframe\">\n",
       "  <thead>\n",
       "    <tr style=\"text-align: right;\">\n",
       "      <th></th>\n",
       "      <th>title</th>\n",
       "      <th>plot</th>\n",
       "    </tr>\n",
       "  </thead>\n",
       "  <tbody>\n",
       "    <tr>\n",
       "      <th>0</th>\n",
       "      <td>The Three Stooges</td>\n",
       "      <td>The Three Stooges were an American vaudeville ...</td>\n",
       "    </tr>\n",
       "    <tr>\n",
       "      <th>1</th>\n",
       "      <td>The General</td>\n",
       "      <td>During America’s Civil War, Union spies steal ...</td>\n",
       "    </tr>\n",
       "    <tr>\n",
       "      <th>2</th>\n",
       "      <td>The Best Years of Our Lives</td>\n",
       "      <td>It's the hope that sustains the spirit of ever...</td>\n",
       "    </tr>\n",
       "    <tr>\n",
       "      <th>3</th>\n",
       "      <td>His Girl Friday</td>\n",
       "      <td>Hildy, the journalist former wife of newspaper...</td>\n",
       "    </tr>\n",
       "    <tr>\n",
       "      <th>4</th>\n",
       "      <td>In a Lonely Place</td>\n",
       "      <td>An aspiring actress begins to suspect that her...</td>\n",
       "    </tr>\n",
       "  </tbody>\n",
       "</table>\n",
       "</div>"
      ],
      "text/plain": [
       "                         title  \\\n",
       "0            The Three Stooges   \n",
       "1                  The General   \n",
       "2  The Best Years of Our Lives   \n",
       "3              His Girl Friday   \n",
       "4            In a Lonely Place   \n",
       "\n",
       "                                                plot  \n",
       "0  The Three Stooges were an American vaudeville ...  \n",
       "1  During America’s Civil War, Union spies steal ...  \n",
       "2  It's the hope that sustains the spirit of ever...  \n",
       "3  Hildy, the journalist former wife of newspaper...  \n",
       "4  An aspiring actress begins to suspect that her...  "
      ]
     },
     "execution_count": 27,
     "metadata": {},
     "output_type": "execute_result"
    }
   ],
   "source": [
    "df_combined = pd.concat([df1_subset, df2_subset, df3_subset, df4_subset, df5_subset], ignore_index=True)\n",
    "df_combined.dropna(subset=['title', 'plot'], inplace=True)\n",
    "print(df_combined.shape)\n",
    "df_combined.head()"
   ]
  },
  {
   "cell_type": "code",
   "execution_count": 28,
   "id": "77f91a8b",
   "metadata": {},
   "outputs": [
    {
     "data": {
      "text/plain": [
       "(153454, 2)"
      ]
     },
     "execution_count": 28,
     "metadata": {},
     "output_type": "execute_result"
    }
   ],
   "source": [
    "df_combined = df_combined.drop_duplicates(subset='title', keep='first').reset_index(drop=True)\n",
    "df_combined.shape"
   ]
  },
  {
   "cell_type": "code",
   "execution_count": 29,
   "id": "07b8316c",
   "metadata": {},
   "outputs": [
    {
     "name": "stdout",
     "output_type": "stream",
     "text": [
      "Number of common movie titles: 16491\n"
     ]
    }
   ],
   "source": [
    "common_movie_titles = set(df['title']) & set(df_combined['title'])\n",
    "print(f\"Number of common movie titles: {len(common_movie_titles)}\")"
   ]
  },
  {
   "cell_type": "code",
   "execution_count": 30,
   "id": "16854b88",
   "metadata": {},
   "outputs": [
    {
     "name": "stdout",
     "output_type": "stream",
     "text": [
      "Merged DataFrame shape: (17769, 14)\n"
     ]
    },
    {
     "data": {
      "application/vnd.microsoft.datawrangler.viewer.v0+json": {
       "columns": [
        {
         "name": "index",
         "rawType": "int64",
         "type": "integer"
        },
        {
         "name": "id",
         "rawType": "object",
         "type": "string"
        },
        {
         "name": "originalScore",
         "rawType": "object",
         "type": "string"
        },
        {
         "name": "reviewText",
         "rawType": "object",
         "type": "string"
        },
        {
         "name": "PositiveCount",
         "rawType": "int64",
         "type": "integer"
        },
        {
         "name": "NegativeCount",
         "rawType": "int64",
         "type": "integer"
        },
        {
         "name": "TotalReviews",
         "rawType": "int64",
         "type": "integer"
        },
        {
         "name": "title",
         "rawType": "object",
         "type": "string"
        },
        {
         "name": "releaseDateStreaming",
         "rawType": "object",
         "type": "unknown"
        },
        {
         "name": "runtimeMinutes",
         "rawType": "float64",
         "type": "float"
        },
        {
         "name": "genre",
         "rawType": "object",
         "type": "string"
        },
        {
         "name": "originalLanguage",
         "rawType": "object",
         "type": "unknown"
        },
        {
         "name": "director",
         "rawType": "object",
         "type": "string"
        },
        {
         "name": "writer",
         "rawType": "object",
         "type": "string"
        },
        {
         "name": "plot",
         "rawType": "object",
         "type": "string"
        }
       ],
       "ref": "52aeca1e-57d5-4541-b58c-06da3f6842c4",
       "rows": [
        [
         "0",
         "009_re_cyborg",
         "['2/5', nan, nan, '2/5', '3/5', '2/5', '2/5', '2/5', '4/5', '3/5', '1/5', '2/5', nan]",
         "{'Joseph Walsh': \"Despite its good looks, there's no escaping 009 Re: Cyborg's tiresome and hollow script.\", 'Philip French': \"It's overlong and, for an animated film, there's too much windy philosophical talk of an ontological kind, dropping the names of Freud and the religious historian Mircea Eliade.\", 'MaryAnn Johanson': 'A whole lotta WTF folded into a derivative, misogynist, and just plain incoherent mess.', 'Derek Malcolm': 'We are treated to superb city landscapes but so much minor detail that you never know who is doing what to whom, or even why.', 'Tom Huddleston': \"It's beautifully animated - the climactic sequence in Earth orbit is breathtaking - and its philosophical digressions are fascinating, if completely bananas.\", 'Andrew Osmond': 'The script is lousy and laughable. Anime fans may be able to take the talky portentousness, but the ideas are ridiculous.', 'Chris Michael': \"We're in a post-9/11 world plagued with terror attacks. Is it an American corporate conspiracy? Or the work of a deity? Cue the obligatory second-half metaphysical blather.\", 'Jennifer Tate': \"The cyborgs' epic search for 'His Voice' quickly becomes a little tenuous and ridiculous, pushing the film into maddening and tedious territory.\", 'Ben Mortimer': 'One of the most ambitious and interesting movies of the last few years.', 'Siobhan Synnot': \"Terrific-looking action sequences alternate with less terrific expository chat. Despite the natter, it's all mildly baffling.\", 'Stephen Kelly': 'Ambitious, perhaps, but hardly entertaining.', 'Owen Williams': 'A disappointingly dated and unpowered Manga update.', 'Anton Bitel': 'The blending of 3DCG characters and traditionally drawn backgrounds offers a spectacular hybrid playground in which half-human robots can work through the shifting allegiances and crises of faith that have marked the new millennium.'}",
         "3",
         "10",
         "13",
         "009 Re: Cyborg",
         "2015-07-28",
         "103.0",
         "['action', 'sci-fi', 'animation']",
         "Japanese",
         "Kenji Kamiyama",
         "Kenji Kamiyama",
         "009 Re:Cyborg follows a group of nine cyborgs, each of them created by a shadowy organization for use as weapons against humanity. The group turns on their creators to protect the population instead, using the powers given them to fight their creators."
        ],
        [
         "1",
         "10",
         "['4/5', '6/10', '8/10', '2.5/4', '6/10', '4/5', 'B-', '5/5', nan, '4/5', '2.5/5', '4/4', '4/5', '4/5', nan, '1/5', '2/5', '1/5', '2/5', '2/5', '3/5', '3/5', '4/5', nan]",
         "{'Eddie Harrison': \"'It's probably the writer/director's best film outside of the Pink Panther movies, and the portrait of the artist as a dirty aging man is one that still resonates today.'\", 'Sean Collier': 'It has some gags - some are even quite funny - but not nearly enough.', 'Mike Massie': 'A fascinating character study, bittersweet and insightful yet full of tremendous laughs.', 'Peter Canavese': \"10's tossed-off quality keeps it from greatness, but it also distinguishes it from the great mass of contemporary comedies smoothed to a shiny, edgeless formula. [Blu-ray]\", 'John J. Puccio': 'Dudley Moore is periodically funny, Julie Andrews is mostly charming, and Bo Derek is always gorgeous.', 'Cole Smithey': nan, 'Emanuel Levy': \"This passable but not great Blake Edwards picture became known for the huge impact that the beautiful Bo Derek had on hairstyle; Bo's stardom was shortlived, though.\", 'Susan Granger': nan, 'Gary Arnold': 'A sporadically funny, marginally interesting fiasco that might have evolved into a memorable romantic comedy.', 'Michael Szymanski': nan, 'Christopher Null': nan, 'Roger Ebert': \"Blake Edwards's 10 is perhaps the first comedy about terminal yearning. Like all great comedies, it deals with emotions very close to our hearts.\", 'Carol Cling': nan, 'Jon Niccum': 'People tend to forget what a hilarious movie this really is', 'Frederic and Mary Ann Brussat': '\"10\" explores sexual yearning in a drama that is both funny and right on target with its depiction of the yearnings of men.', 'Nick Davis': 'Sexist, juvenile, and pathetically structured, despite the gamest efforts of its actors and the blithe willingness of its famous non-actor.', 'Ken Hanke': 'It was a big hit. I have never understood why.', 'Alex Sandell': \"And oh, the irony, that the film only deserves a '1.'\", 'Joshua Tanzer': nan, 'Gerry Shamray': 'Highly over-rated Dudley Moore comedy.', 'Philip Martin': nan, 'Bob Grimm': nan, 'Scott Weinberg': 'Obvious but entertaining portrayal of midlife crisis gone horribly awry.', 'Tim Dirks': '10 (1979) is known for its numerical rating system for beautiful women. It described itself as \"a temptingly tasteful comedy for adults'}",
         "16",
         "8",
         "24",
         "10",
         "1997-09-03",
         "122.0",
         "['romance', 'comedy']",
         "English",
         "Blake Edwards",
         "Blake Edwards",
         "A Hollywood songwriter goes through a mid-life crisis and becomes infatuated with a sexy blonde newlywed."
        ],
        [
         "2",
         "1000013_12_angry_men",
         "[nan, nan, nan, nan, nan, nan, '4.0/4.0', '10/10', '4.5/5', nan, 'A+', '5/5', nan, nan, '3/4', '84/100', '5/5', '4/4', nan, '3.5/4', '4/4', 'B', '5/5', '4/5', 'B-', '82/100', nan, '5/5', '5/5', '4/5', 'A', nan, nan, 'A', '4/4', '5/5', '4/5', '5/5', '4/5', '5/5', '5/5', '4.5/5', '4/4', '4/5', '5/5', '4/5', '4/4', '5/5', '5/5', '5/5', '5/5', nan, 'A-', '92/100', nan, '9/10', '4/4', nan]",
         "{'Sean Axmaker': 'It&#8217;s a near perfect mix of theme and setting&#44; personal drama and social commentary&#44; a microcosm that suggests an entire world outside the frame &#46;&#46;&#46;', 'Edward Kosmal': \"Sidney Lumet's solid success is achieved without even once resorting to flashbacks or other standard procedures of the film trade. The secret rests in spirited dialogue, realistic setting and, of course, the excellent cast of outstanding character actors.\", 'Jonathan Baumbach': 'Within its simplicity there is a freshness and ingenuousness about Twelve Angry Men uncommon in a slickly sophisticated film industry.', 'André Bazin': 'One has to imagine the dramatic imagination that went into creating this fascinating, psychologically realistic motion picture, which, from start to finish, never changes its subject or its location.', 'Gisela Savdie': 'A court drama that transcends time or place; a real masterpiece. [Full review in Spanish]', 'Sarah Brinks': 'If you have never seen the film I cannot recommend it enough.', 'Richard Propes': \"Reginald Rose's script is one of deep revelation.\", 'Mike Massie': 'Thought-provoking, continually riveting, and absolutely unforgettable - and surprisingly designed around a very simple, tightly budgeted, special-effects-free premise.', 'Mark Jackson': '\"12 Angry Men\" puts the full range of human good and evil on display. It posits that, ultimately, the universe is benevolent, and our job, regarding each other, is to attempt with our best effort and greatest compassion to elucidate and clarify the truth.', 'Clyde Gilmour': \"One of Hollywood's more notable borrowings from television is this Reginald Rose drama about the soul-searchings of a murder-trial jury...\", 'Chris Stuckmann': \"This movie is a masterpiece. That term gets thrown around a lot -- it's a very easy thing to say about great films like this -- but this movie is one of the best. This is one of the very few films that I will call perfect.\", 'Christopher Machell': \"In the 60 years since its release, Sidney Lumet's masterpiece has lost none of its impact. In this age of unreason, 12 Angry Men remains sorely and urgently contemporary.\", 'David Keyes': 'With each new viewing I come away feelings as if I have peeled away another layer on the characters and their buried motives.', 'Fernando F. Croce': 'Lumet in his first film records it as a meticulous laboratory experiment, a clammy orchestra', 'David Nusair': '...the film has aged surprisingly well in the years since its 1957 release.', 'Dan Jardine': 'taut, well-crafted sociological study', 'Joshua Rothkopf': \"Too few films take on the art of arguing as a subject; we could certainly use more of them, but until then, Lumet's window into strained civic duty will continue to serve mightily.\", 'Glenn Heath Jr.': 'The film takes a confined, almost completely banal real-world location and makes it completely dynamic, using incredibly nimble camera movements to establish character motivation and theme.', 'Felix Vasquez Jr.': 'The cast is incredible, the writing superb, and the film is unparalleled in its sheer excellence.', 'Eric Melin': \"This was Sidney Lumet's first movie and it's as riveting as it was back in the late 50s, when everything was changing.\", 'James Kendrick': 'an incisive and gripping film', 'Dennis Schwartz': 'Lumet keeps things tense, sweaty, suspenseful and entertaining despite the contrived story line.', 'M. Faust': 'Outstanding Henry Fonda jury classic.', 'Matthew Pejkovic': \"A brilliant courtroom drama whose strength lies within the power of Rose's words and Sidney Lumet's great direction (his debut).\", 'Nick Davis': \"12 Angry Men has some shrewd observations to sell about argumentation and group behavior, but they're not the ones of which the film seems most proud.\", 'Hy Hollinger': 'The film leaves a tremendous impact.', 'Christopher Null': \"Every bit the classic it's been made out to be for all these years.\", 'Steve Crum': 'Power house jury room drama w/cast of memorable actors.', 'Cole Smithey': nan, 'Rob Humanick': 'Makes no self-saluting motions to greater importance, which gives the material the much-desired breathing room it needs to reach full potency.', 'Jonathan Rosenbaum': 'Mechanically written, but within its own middlebrow limitations, it delivers the goods.', 'Geoff Andrew': 'A strangely realistic thriller.', 'Emanuel Levy': \"Sidney Lumet's Oscar-nominated feature directing debut is a brilliant courtroom drama, featuring a superlative cast that includes Henry Fonda (also producer), Martin Balsam, Ed Begley, Jack Warden, and E.G. Marshall.\", 'Phil Villarreal': 'A masterful work of debate and dialogue; of shifting momentum and the ideal of sticking to your scruples in the face of antagonistic groupthink.', 'Daniel M. Kimmel': nan, 'Mark R. Leeper': 'This film is a great combination of an adult theme and the treatment suitable for younger audience.', 'Pablo Villaça': 'Ainda que se passe em um nico ambiente, esta obra-prima possui um alcance emocional imensurvel - e  incrvel que tenha sido o primeiro longa-metragem de Lumet.', 'Carol Cling': nan, 'Laura Clifford': nan, 'Jon Niccum': \"One-room dramas don't get much better than this\", 'A.H. Weiler': 'Although it may sound ungallant, these 12 Angry Men, are all right without distaff glamour. Their dramas are powerful and provocative enough to keep a viewer spellbound.', 'Ian Mantgani': 'An intense concentration of power, and my all-time favourite film.', 'Nicolas Lacroix': nan, 'Nell Minow': nan, 'Dan Lybarger': \"Sidney Lumet's debut feels a bit stagy but is never short on tension.\", 'Roger Ebert': 'This is a film where tension comes from personality conflict, dialogue and body language, not action.', 'Rob Vaux': nan, 'John J. Puccio': nan, 'Marty Mapes': nan, 'Scott Weinberg': 'Pure dynamite in movie form.', 'Tim Dirks': '12 Angry Men (1957) is the gripping, penetrating, and engrossing examination of a diverse group of twelve jurors - all male, mostly middle-aged, white, and', 'John A. Nesbit': \"12 Angry Men ranks as the tautest courtroom drama you'll ever see, surpassing Lumet's very good 1982 drama, The Verdict.\", 'Brian Webster': 'While the composition of juries might change over time, the issues and attitudes that are explored here are timeless, as is this classic film.', 'Ian Nathan': \"Thoroughly engaging, there is nothing dated or corny in Reginald Rose's intensely knowing screenplay and Lumet's energetic direction.\", 'Dragan Antulov': 'Completely deserved its high status of undisputed classic.', 'Steve Rhodes': 'In a time of bloated when special effects have become the real stars, going back to a classic like this can remind viewers what movie making is supposed to be about -- acting.', 'Urban Cinefile Critics': 'A film with texture, humour and relevance at all times. All in 91 minutes.'}",
         "58",
         "0",
         "58",
         "12 Angry Men",
         "2008-03-04",
         "95.0",
         "['drama']",
         "English",
         "Sidney Lumet",
         "Reginald Rose",
         "The defense and the prosecution have rested and the jury is filing into the jury room to decide if a young Spanish-American is guilty or innocent of murdering his father. What begins as an open and shut case soon becomes a mini-drama of each of the jurors' prejudices and preconceptions about the trial, the accused, and each other."
        ],
        [
         "3",
         "10000604-porgy_and_bess",
         "[nan, '4/10', 'B-', nan, nan, nan, nan, nan, nan, nan, '4/4', nan, nan, nan, nan, nan, nan, nan, nan, nan, nan, nan, nan, nan, nan, nan, nan, nan, nan, nan, nan, nan, nan, nan, nan, nan, nan, nan, nan, nan, '4/4', 'A-', '3.5/4', nan, nan, '2/5', nan]",
         "{'Austin Faricy': 'The production, lavish in the extreme, backs up the music visually, and the performances all first rate back it up dramatically.', 'Mike Massie': 'Its central notion of uncompromising forgiveness &#8211; Porgy refuses to see Bess&#8217; faults&#44; embracing only her best qualities &#8211; is thoroughly inspirational&#46;', 'Dennis Schwartz': 'The story is trite, but the music is elegant.', 'Chazz Crawford': 'The film does lose the intimate quality of the stage presentation... But the wealth of talent (Pearl Bailey, Sammy Davis, Dorothy Dandridge, Sidney Poitier, Diahann Carroll, Brock Peters and Leslie Scott) play It as if it were a labor of love.', 'Izzy Rowe': 'Goldwyn has done much with it and has given It a dignity and a meaning which never showed through before. He has eliminated the speaking dialect and has given the music a cloak of color which stands your ears on tip-toe.', 'Raoul Abdul': 'I shall never forget how deeply moved I was in a stage version when... Porgy left Catfish Row to find his Bess in far off New York. In this costly new film, at that tragic moment I only thought of what a beautiful shot the cameraman had achieved.', 'Loren Miller': \"Gershwin's music and the general high level of the acting make the movie palatable, but leave it Porgy. It is stale beer served in exquisite silver goblets to the accompaniment of beautiful music.\", 'Florence Epstein': \"Haunting music, beautifully sung and a love story that tears your heart. That's Porgy and Bess.\", 'Marjory Adams': \"As to the players, Dorothy Dandridge as Bess and Sidney Poitier as Porgy couldn't be improved... Sammy Davis Jr. is the evil schemer, Sportin' Life, and he does his own singing -- which is hard, smart and persuasively cynical.\", 'Clyde Reid': 'One good thing about the production is that lots of our younger starlets and budding male stars got a chance to \"spread their wings and strut their stuff\" before a major audience. They may now get a shot at bigger and better roles.', 'Wanda Hale': \"The backbone of this opera is the beautiful, inspiring music with which most of us are familiar. Next in importance is Sidney Poitier's portrayal of Porgy... This performance is the shining light of the film.\", 'Moira Walsh': \"[It's] exquisite to look at and its reproduction of the Gershwin score is well-nigh perfect. To obtain this physical perfection, however, it has sacrificed the universal human appeal which... was what endeared it to audiences all over the world.\", 'Mildred Martin': 'With Robert McFerrin singing for Porgy; Adele Addison for Bess, and Loulie Jean Norman for Clara, these roles are handled with memorable vocal beauty.', 'Robert Hatch': 'The cast had the talent for Porgy and Bess, but Mr. Goldwyn and Mr. Preminger have made them little more than supernumeraries to sensation.', 'Harold V. Cohen': 'Somewhere in Porgy and Bess something is missing. The bursting excitement, in the main. The transfer from the stage to the screen has been accomplished with conscientiousness but without inspiration.', 'George Bourke': '[A] near perfect bit of cinematic art.', 'Jay Carmody': 'Verve and vitality have been sacrificed in the big picture directed by Otto Preminger in favor of spectacle and sentimentality.', 'Helen Bower': 'This Porgy... has done its best to meet the challenge of turning an operetta of this nature into popular entertainment. If it sometimes seems slowed or stagey, the form of the musical melodrama rather than the film itself may have made this unavoidable.', 'Mae Tinee': \"Technically, it's a superb example of painstaking and polished film-making, and, altho there are times when it lacks life and motion, it's still very well worth seeing.\", 'George S. Schuyler': 'This American classic is written, played and presented with a dignity and artistry that so representative an example of American culture deserves.', 'Myles Standish': '[Poitier and Dandridge] convey the torrent of emotion strongly, reinforced by the luminous singing voices of Robert McFerrin and Adele Addison, which were dubbed in.', 'John Bustin': 'Of course, the principal ingredients -- the haunting musical score and the poignant story -- were already on hand, but this production enhances them greatly with a staging that is rich, artful and altogether stirring in every sense.', 'Penelope Gilliatt': \"Otto Preminger's film is ponderous and flat. It has nothing like the spirit of, for instance, his own Carmen Jones.\", 'Philip K. Scheuer': 'The praise must go much beyond these technical marvels. Porgy and Bess would not be the masterpiece it is if the 70-mm. film and the seven-channel sound were not equaled by the human element.', 'William Glover': 'Much of the great Gershwin score is sung by backstage performers -- only Miss Bailey and Davis vocalize on the sound track. But the fusing of actors and voices has been done with remarkable skill.', 'R.H. Gardner': 'In their eagerness to leave everything just as Gershwin left it, the adapters have done very little adapting... Aside from this weakness -- and I consider it a major one -- the Goldwyn Porgy is a commendable job.', 'Sherwin Kane': \"The  production shines with memorable individual performances... Sidney Poitier as Porgy, Dorothy Dandridge as Bess, Brock Peters as Crown, Sammy Davis, Jr. as Sportin' Life and Pearl Bailey as Maria are outstanding.\", 'P.S. Harrison': 'It is a superb production in every sense of the word, beautifully photographed in Technicolor and the Todd-AO process, and enhanced by six-track stereophonic sound that serves to make the famed and familiar [Gershwin] score all the more pleasurable.', 'Hortense Morton (Screen Scout)': \"Performances of excellent caliber are contributed by Diahann Carroll, Ruth Attaway and Earl Jackson. Andre Previn's musical direction is inspiring.\", 'Harold Whitehead': \"Perhaps best and the shortest way of praising this film, and it deserves all the accolades it gets, is to say that for anyone who is not familiar with or has never seen George Gershwin's folk opera, this is the finest possible introduction.\", 'Richard Harrity': '[Porgy and Bess]  has been made into a handsome motion picture by that elder genius of the colossal, Mr. Samuel Goldwyn. In fact, the filming of Porgy and Bess is a bit too handsome and a mite  too pretty, thereby sacrificing compassion for color.', 'Jack Curtis': \"The film version of the famous Broadway production certainly has plenty of somethin'. Specifically, there are brilliant splashes of color, intricate set designs, interesting photography, and an outstanding cast.\", 'Bob Blackburn': \"The pace is pretty hot and heavy without the reliefs that might make it a less exhausting experience. But these are faults, and it isn't faults that distinguish this picture. It's technically superb, musically delightful, and altogether rewarding.\", 'Alexander Walker': '[Preminger] washes the Todd-AO screen with filters to give the action \"mood.\" But I am tired of viewing musicals like this... as If through amber ski-goggles. However, shining through all this are the talents of Sidney Poitier and Dorothy Dandridge.', 'Colin Bennett': '[Porgy and Bess] is handsomely staged -- and \"staged\" is the operative word. This is not really film, but photographed, opera, set in an operatic frame of reference and moving at stage, not film, pace.', 'Times (UK) Staff': 'The overriding impression, however, is one of set scenes. songs and sequences, with the spotlight thrown less on fluid movement than on the conventions of opera and of theatre. This, in the end, amounts more to a subtraction than an addition.', 'SMH Staff': '[Preminger] has achieved a production that is lovely to the ear, sumptuously sombre to the eye (in cinematographer Leon Shamroy\\'s range of ambers and reds), and. occasionally, moving. The \"occasionally\" is the puzzle.', 'Guardian Staff': \"Samuel Goldwyn's production (directed by Otto Preminger) certainly does full justice to the score and that, where the score is relatively feeble, it bolsters up the dramatic action with devices possible on the screen but not on the stage.\", 'Richard Brody': 'Preminger and the cast overcome the opera’s contrivances and stereotypes to recapture Gershwin’s underlying humanistic vision of celebration and deliverance.', 'TIME Staff': 'Porgy and Bess is only a moderate and intermittent success as a musical show; as an attempt to produce a great work of cinematic art, it is a sometimes ponderous failure.', 'Shadow Stage': 'Producer Samuel Goldwyn and director Otto Preminger have assembled it with such artistry and loving care that it almost seems to have been written for the movies.', 'Emanuel Levy': \"One of the most underestimated movie musicals, based on Gershwin's masterpiece, Porgy and Bess receives a lavish production from Otto Preminger in an all-black, Oscar-nominated picture, starring Sidney Poitier and Dorothy Dandridge.\", 'TV Guide Staff': \"The brilliant score by the Gershwins and DuBose Heyward, however, will last forever, while Preminger's veteran cameraman, Leon Shamroy, did a wonderful job and the art direction by Serge Krizman and Joseph Wright is sensational.\", 'Bosley Crowther': 'This is a stunning, exciting and moving film, packed with human emotions and cheerful and mournful melodies. It bids fair to be as much a classic on the screen as it is on the stage.', 'Film4 Staff': \"That it stands as an entertaining spectacle and the director's best musical is secondary in interest to the Hollywood politics surrounding it.\", 'Phil Hall': 'A mediocre curio.', \"Emily O'Neill\": \"Should this Porgy and Bess be locked away? It ain't necessarily so.\"}",
         "34",
         "13",
         "47",
         "Porgy and Bess",
         null,
         "138.0",
         "['drama', 'musical', 'romance']",
         "English",
         "Otto Preminger,Rouben Mamoulian",
         "Dorothy Heyward,DuBose Heyward,DuBose Heyward,N. Richard Nash",
         "Set in the early 1900s in the fictional Catfish Row section of Charleston, South Carolina, which serves as home to a black fishing community, the story focuses on the titular characters, crippled beggar Porgy, who travels about in a goat-drawn cart, and the drug-addicted Bess, who lives with stevedore Crown, the local bully."
        ],
        [
         "4",
         "10000735-underworld",
         "[nan, nan, nan, '7/10', '4/4', '3.5/4', nan, nan, '3.5/4', nan, nan, '3/5', '3.5/4', '3.5/5', nan, nan, 'B-', nan]",
         "{'Roy Chartier': 'Many things combine to make Underworld an absorbing, spellbinding picture. The acting, direction, titles, photography, camera angles, story and action are a few of them.', 'Carl Sandburg': 'Underworld does for the sophisticated adult what football does for the college boy. And Bancroft achieves something of the herculean glory of a gory fullback, with Von Sternberg as his general, showing him the openings, guiding his raging course.', 'Robert E. Sherwood': 'It is the best picture of its type that has ever been made.', 'Yasser Medina': \"This silent gangster drama, signed with a Ben Hecht's script and directed by the great Josef von Sternberg, is one of the first to establish the usual parameters of the gangster genre. [Full review in Spanish]\", 'Mattie Lucas': 'Its luridly evocative look at honor among the gangsters and thieves who populate the Dreamland Cafe of Chicago is the stuff that old Hollywood dreams are made of.', 'Matt Brunson': \"A technical gem that showcases von Sternberg's prowess behind the camera.\", 'Richard Brody': \"Sternberg's richly ornamental compositions-which are dense with shadows and objects that separate viewers from the action-suggest a willful distance from his characters.\", 'Michael E. Grost': 'Gripping, superbly told tale of crooks and their girlfriends.', 'James Kendrick': \"von Sternberg's visual style and the art direction by German émigré Hans Dreier elevate Underworld into something more than a run-of-the-mill crime picture\", 'Sean Axmaker': \"Sternberg's direction is both classical and modern, with an expressive approach to storytelling and his distinctive visual style already apparent...\", 'Variety Staff': \"There's a wallop right through and yet the film retains romance, clicks not a little on comedy and even whitewashes itself with a 'moral.'\", 'Paul Brenner': 'The real world was not yet ready for a full-blown gangster drama in 1927.', 'Fernando F. Croce': \"Josef von Sternberg's Underworld is a fascinating early cornerstone of both the director's worldview and the gangster genre.\", 'Mordaunt Hall': 'Largely through the competent work of Messrs. Bancroft and Brook, Mr. von Sternberg gives a better idea of his powers as a director.', 'Tony Rayns': \"The film radiates total confidence in its own means and methods, and the themes are wholly Sternberg's.\", 'Film4 Staff': 'A great silent gangster film which had considerable influence on the classic crime dramas of the early 1930s.', 'Dennis Schwartz': 'Considered to be the first modern gangster film, where the criminals are the antihero heroes.', 'Dave Kehr': 'The first full-fledged gangster movie and still an effective mood piece.'}",
         "16",
         "2",
         "18",
         "Underworld",
         "2014-04-01",
         "80.0",
         "['crime', 'drama']",
         null,
         "Josef von Sternberg",
         "Charles Furthman,Robert N. Lee",
         "When high class hooker Nicole is kidnapped from her brothel, Rich businessman Hugo Motherskille hires her ex love Roy Bain to find her. Investigating the disappearance, he eventually finds traces that lead to Dr. Savary, who has produced a strange white powder that's coveted by a race of deformed human beings who live in the underworld in the sewers below the city."
        ]
       ],
       "shape": {
        "columns": 14,
        "rows": 5
       }
      },
      "text/html": [
       "<div>\n",
       "<style scoped>\n",
       "    .dataframe tbody tr th:only-of-type {\n",
       "        vertical-align: middle;\n",
       "    }\n",
       "\n",
       "    .dataframe tbody tr th {\n",
       "        vertical-align: top;\n",
       "    }\n",
       "\n",
       "    .dataframe thead th {\n",
       "        text-align: right;\n",
       "    }\n",
       "</style>\n",
       "<table border=\"1\" class=\"dataframe\">\n",
       "  <thead>\n",
       "    <tr style=\"text-align: right;\">\n",
       "      <th></th>\n",
       "      <th>id</th>\n",
       "      <th>originalScore</th>\n",
       "      <th>reviewText</th>\n",
       "      <th>PositiveCount</th>\n",
       "      <th>NegativeCount</th>\n",
       "      <th>TotalReviews</th>\n",
       "      <th>title</th>\n",
       "      <th>releaseDateStreaming</th>\n",
       "      <th>runtimeMinutes</th>\n",
       "      <th>genre</th>\n",
       "      <th>originalLanguage</th>\n",
       "      <th>director</th>\n",
       "      <th>writer</th>\n",
       "      <th>plot</th>\n",
       "    </tr>\n",
       "  </thead>\n",
       "  <tbody>\n",
       "    <tr>\n",
       "      <th>0</th>\n",
       "      <td>009_re_cyborg</td>\n",
       "      <td>['2/5', nan, nan, '2/5', '3/5', '2/5', '2/5', ...</td>\n",
       "      <td>{'Joseph Walsh': \"Despite its good looks, ther...</td>\n",
       "      <td>3</td>\n",
       "      <td>10</td>\n",
       "      <td>13</td>\n",
       "      <td>009 Re: Cyborg</td>\n",
       "      <td>2015-07-28</td>\n",
       "      <td>103.0</td>\n",
       "      <td>['action', 'sci-fi', 'animation']</td>\n",
       "      <td>Japanese</td>\n",
       "      <td>Kenji Kamiyama</td>\n",
       "      <td>Kenji Kamiyama</td>\n",
       "      <td>009 Re:Cyborg follows a group of nine cyborgs,...</td>\n",
       "    </tr>\n",
       "    <tr>\n",
       "      <th>1</th>\n",
       "      <td>10</td>\n",
       "      <td>['4/5', '6/10', '8/10', '2.5/4', '6/10', '4/5'...</td>\n",
       "      <td>{'Eddie Harrison': \"'It's probably the writer/...</td>\n",
       "      <td>16</td>\n",
       "      <td>8</td>\n",
       "      <td>24</td>\n",
       "      <td>10</td>\n",
       "      <td>1997-09-03</td>\n",
       "      <td>122.0</td>\n",
       "      <td>['romance', 'comedy']</td>\n",
       "      <td>English</td>\n",
       "      <td>Blake Edwards</td>\n",
       "      <td>Blake Edwards</td>\n",
       "      <td>A Hollywood songwriter goes through a mid-life...</td>\n",
       "    </tr>\n",
       "    <tr>\n",
       "      <th>2</th>\n",
       "      <td>1000013_12_angry_men</td>\n",
       "      <td>[nan, nan, nan, nan, nan, nan, '4.0/4.0', '10/...</td>\n",
       "      <td>{'Sean Axmaker': 'It&amp;#8217;s a near perfect mi...</td>\n",
       "      <td>58</td>\n",
       "      <td>0</td>\n",
       "      <td>58</td>\n",
       "      <td>12 Angry Men</td>\n",
       "      <td>2008-03-04</td>\n",
       "      <td>95.0</td>\n",
       "      <td>['drama']</td>\n",
       "      <td>English</td>\n",
       "      <td>Sidney Lumet</td>\n",
       "      <td>Reginald Rose</td>\n",
       "      <td>The defense and the prosecution have rested an...</td>\n",
       "    </tr>\n",
       "    <tr>\n",
       "      <th>3</th>\n",
       "      <td>10000604-porgy_and_bess</td>\n",
       "      <td>[nan, '4/10', 'B-', nan, nan, nan, nan, nan, n...</td>\n",
       "      <td>{'Austin Faricy': 'The production, lavish in t...</td>\n",
       "      <td>34</td>\n",
       "      <td>13</td>\n",
       "      <td>47</td>\n",
       "      <td>Porgy and Bess</td>\n",
       "      <td>NaN</td>\n",
       "      <td>138.0</td>\n",
       "      <td>['drama', 'musical', 'romance']</td>\n",
       "      <td>English</td>\n",
       "      <td>Otto Preminger,Rouben Mamoulian</td>\n",
       "      <td>Dorothy Heyward,DuBose Heyward,DuBose Heyward,...</td>\n",
       "      <td>Set in the early 1900s in the fictional Catfis...</td>\n",
       "    </tr>\n",
       "    <tr>\n",
       "      <th>4</th>\n",
       "      <td>10000735-underworld</td>\n",
       "      <td>[nan, nan, nan, '7/10', '4/4', '3.5/4', nan, n...</td>\n",
       "      <td>{'Roy Chartier': 'Many things combine to make ...</td>\n",
       "      <td>16</td>\n",
       "      <td>2</td>\n",
       "      <td>18</td>\n",
       "      <td>Underworld</td>\n",
       "      <td>2014-04-01</td>\n",
       "      <td>80.0</td>\n",
       "      <td>['crime', 'drama']</td>\n",
       "      <td>NaN</td>\n",
       "      <td>Josef von Sternberg</td>\n",
       "      <td>Charles Furthman,Robert N. Lee</td>\n",
       "      <td>When high class hooker Nicole is kidnapped fro...</td>\n",
       "    </tr>\n",
       "  </tbody>\n",
       "</table>\n",
       "</div>"
      ],
      "text/plain": [
       "                        id                                      originalScore  \\\n",
       "0            009_re_cyborg  ['2/5', nan, nan, '2/5', '3/5', '2/5', '2/5', ...   \n",
       "1                       10  ['4/5', '6/10', '8/10', '2.5/4', '6/10', '4/5'...   \n",
       "2     1000013_12_angry_men  [nan, nan, nan, nan, nan, nan, '4.0/4.0', '10/...   \n",
       "3  10000604-porgy_and_bess  [nan, '4/10', 'B-', nan, nan, nan, nan, nan, n...   \n",
       "4      10000735-underworld  [nan, nan, nan, '7/10', '4/4', '3.5/4', nan, n...   \n",
       "\n",
       "                                          reviewText  PositiveCount  \\\n",
       "0  {'Joseph Walsh': \"Despite its good looks, ther...              3   \n",
       "1  {'Eddie Harrison': \"'It's probably the writer/...             16   \n",
       "2  {'Sean Axmaker': 'It&#8217;s a near perfect mi...             58   \n",
       "3  {'Austin Faricy': 'The production, lavish in t...             34   \n",
       "4  {'Roy Chartier': 'Many things combine to make ...             16   \n",
       "\n",
       "   NegativeCount  TotalReviews           title releaseDateStreaming  \\\n",
       "0             10            13  009 Re: Cyborg           2015-07-28   \n",
       "1              8            24              10           1997-09-03   \n",
       "2              0            58    12 Angry Men           2008-03-04   \n",
       "3             13            47  Porgy and Bess                  NaN   \n",
       "4              2            18      Underworld           2014-04-01   \n",
       "\n",
       "   runtimeMinutes                              genre originalLanguage  \\\n",
       "0           103.0  ['action', 'sci-fi', 'animation']         Japanese   \n",
       "1           122.0              ['romance', 'comedy']          English   \n",
       "2            95.0                          ['drama']          English   \n",
       "3           138.0    ['drama', 'musical', 'romance']          English   \n",
       "4            80.0                 ['crime', 'drama']              NaN   \n",
       "\n",
       "                          director  \\\n",
       "0                   Kenji Kamiyama   \n",
       "1                    Blake Edwards   \n",
       "2                     Sidney Lumet   \n",
       "3  Otto Preminger,Rouben Mamoulian   \n",
       "4              Josef von Sternberg   \n",
       "\n",
       "                                              writer  \\\n",
       "0                                     Kenji Kamiyama   \n",
       "1                                      Blake Edwards   \n",
       "2                                      Reginald Rose   \n",
       "3  Dorothy Heyward,DuBose Heyward,DuBose Heyward,...   \n",
       "4                     Charles Furthman,Robert N. Lee   \n",
       "\n",
       "                                                plot  \n",
       "0  009 Re:Cyborg follows a group of nine cyborgs,...  \n",
       "1  A Hollywood songwriter goes through a mid-life...  \n",
       "2  The defense and the prosecution have rested an...  \n",
       "3  Set in the early 1900s in the fictional Catfis...  \n",
       "4  When high class hooker Nicole is kidnapped fro...  "
      ]
     },
     "execution_count": 30,
     "metadata": {},
     "output_type": "execute_result"
    }
   ],
   "source": [
    "merged_df = pd.merge(df, df_combined, on='title', how='inner')\n",
    "print(f\"Merged DataFrame shape: {merged_df.shape}\")\n",
    "merged_df.head()"
   ]
  },
  {
   "cell_type": "code",
   "execution_count": 31,
   "id": "17cade7e",
   "metadata": {},
   "outputs": [
    {
     "name": "stdout",
     "output_type": "stream",
     "text": [
      "Title: Five Nights in Maine\n",
      "Streaming Release Date: 2017-03-20\n",
      "Runtime (minutes): 84.0\n",
      "Genre: ['drama']\n",
      "Language: English\n",
      "Director: Maris Curran\n",
      "Writer: Maris Curran\n",
      "\n",
      "Review Texts: {'Kip Mooney': 'Occasionally it feels like this would work much better as a play.', 'Scott Nye': \"Had the earlier drama been more incisive, or the conclusion more restless, I would have walked away invigorated by Curran and her cast's discipline and rigor...\", 'Stephen Saito': \"In creating such an elegant, poignant portrait of what it's like to mourn, she shows there's hope in being able to recognize beauty as it exists in the world, sometimes in the most unexpected places.\", 'Nella Fitzgerald': \"Despite [Oyelowo's] acting chops, it is difficult to feel sympathy for him since we do not have the opportunity to learn much about his character.\", 'Jim Alexander': \"Ultimately, Five Nights in Maine is a film that's centered on a heavy and sad subject matter that ends up feeling empty.\", 'Jason Wilson': 'While inherently fascinating in its analysis of grief ... it has difficulty finding its hook.', 'Kristian M. Lin': \"Curran's deliberate pace captures the quietness of the setting of Five Nights in Maine, but the thinness of her script is what makes the film feel sluggish.\", 'Michael Snydel': \"Maris Curran's Five Nights in Maine has very little new to offer.\", 'Miriam Di Nunzio': \"The dialogue is minimalistic, and most of it courtesy of Lucinda's cruel taunts that cut like a knife. But even those moments are never fully explored.\", 'Todd Jorgenson': 'With its intimate setting and deliberate pace, the film feels like an acting workshop that might have worked better on stage.', 'S. Jhoanna Robledo': 'Quiet drama has strong acting but needs more story.', 'Adam Graham': 'Too much goes unsaid and too many issues are unresolved. The scenery is nice, but \"Five Nights in Maine\" just isn\\'t worth the trip.', 'Russ Fischer': \"Curran guides the cast to commendable performances across the board, with Oyelowo and Wiest delivering controlled, nuanced work to fill in the script's generous negative space.\", 'Gary Goldstein': 'The dreary postmortem drama \"Five Nights in Maine\" is barely kept afloat by the gravitas of dueling leads David Oyelowo and Dianne Wiest.', 'Neil Genzlinger': 'A believable character study that may not draw crowds but certainly challenges its two lead actors.', 'Scott Tobias': \"We're left to guess how they feel at the beginning of the film and we don't learn much more by the end.\", 'Tirdad Derakhshani': \"Curran's script gives the actors too little substance with which to work their magic. The filmmaker's minimalist style is too sparse for the material.\", 'Matt Prigge': 'It\\'s a small movie, often to a fault. But every time you\\'re about to write it off as \"Generic Grief Indie #451,\" it surprises you.', 'Nigel M. Smith': \"Her two exceptional stars do their best to convey their animosity via simmering glances. But in the end, Curran's muted approach does them no favors.\", 'Brian Orndorf': 'Just watching these two spar in \"Maine\" would be enough to satisfy, but Curran has prepared something special, transforming a simple tale of reconnection into a labyrinth of surging, confusing emotions.', 'Rex Reed': 'The effect is a series of vignettes that fail to hold attention even though the movie clocks in at a merciful 83 minutes.', 'Tony Hinds': \"The film's reluctance to sully its hands in schmaltzy Nicolas Sparks-esque digressions leaves us with a threadbare and anticlimactic narrative.\", 'Simi Horwitz': 'Inscrutable and not especially compelling.', 'Jesse Hassenger': \"Curran's film is at once admirable in its avoidance of easy sentiment and kind of predictable once its quiet seriousness makes itself known (which is to say very early on).\", 'Christopher Gray': \"Maris Curran never reconciles the film's impulse to interiority with its weakness for hothouse melodrama.\", 'Roger Moore': 'A fine cast gives us two nights worth of movie, but without nearly as much to chew on as the stingy-with-story director would have you believe.', 'Michael D. Reid': '[David Oyelowo and Dianne Wiest] bring impressive naturalism to their restrained performances.', 'Tim Grierson': 'A commendably restrained drama that turns out to be too muted for its own good.', 'David Nusair': 'Five nights in Maine suffers from an uneventful and thoroughly subdued feel that does, particularly as time progresses, render its positive attributes moot.', 'Andrew Barker': \"Curran's tasteful, challenging yet ultimately inscrutable debut feature never quite lives up to the caliber of her fine cast.\", 'Jon Frosch': 'Intriguing parts, underwhelming whole.'}\n",
      "\n",
      "Movie Plot: A young African American man, reeling from the tragic loss of his wife, travels to rural Maine to seek answers from his estranged mother-in-law, who is herself confronting guilt and grief over her daughter's death.\n",
      "\n",
      "Positive Count: 8\n",
      "Negative Count: 23\n",
      "Total Review Count: 31\n"
     ]
    }
   ],
   "source": [
    "# Select a random index\n",
    "random_index = random.randint(0, len(merged_df) - 1)\n",
    "\n",
    "# Fetch the row\n",
    "random_row = merged_df.iloc[random_index]\n",
    "\n",
    "# Print the full row neatly\n",
    "print(f\"Title: {random_row['title']}\")\n",
    "print(f\"Streaming Release Date: {random_row['releaseDateStreaming']}\")\n",
    "print(f\"Runtime (minutes): {random_row['runtimeMinutes']}\")\n",
    "print(f\"Genre: {random_row['genre']}\")\n",
    "print(f\"Language: {random_row['originalLanguage']}\")\n",
    "print(f\"Director: {random_row['director']}\")\n",
    "print(f\"Writer: {random_row['writer']}\\n\")\n",
    "print(f\"Review Texts: {random_row['reviewText']}\\n\")\n",
    "print(f\"Movie Plot: {random_row['plot']}\\n\")\n",
    "print(f\"Positive Count: {random_row['PositiveCount']}\")\n",
    "print(f\"Negative Count: {random_row['NegativeCount']}\")\n",
    "print(f\"Total Review Count: {random_row['TotalReviews']}\")"
   ]
  },
  {
   "cell_type": "code",
   "execution_count": 32,
   "id": "f9ad6ba2",
   "metadata": {},
   "outputs": [
    {
     "data": {
      "text/plain": [
       "(17769, 14)"
      ]
     },
     "execution_count": 32,
     "metadata": {},
     "output_type": "execute_result"
    }
   ],
   "source": [
    "merged_df.shape"
   ]
  },
  {
   "cell_type": "code",
   "execution_count": 33,
   "id": "2c10fea6",
   "metadata": {},
   "outputs": [
    {
     "data": {
      "application/vnd.microsoft.datawrangler.viewer.v0+json": {
       "columns": [
        {
         "name": "index",
         "rawType": "object",
         "type": "string"
        },
        {
         "name": "0",
         "rawType": "int64",
         "type": "integer"
        }
       ],
       "ref": "8e785634-4878-43d4-9a9b-a3d83b7d65ec",
       "rows": [
        [
         "id",
         "0"
        ],
        [
         "originalScore",
         "0"
        ],
        [
         "reviewText",
         "0"
        ],
        [
         "PositiveCount",
         "0"
        ],
        [
         "NegativeCount",
         "0"
        ],
        [
         "TotalReviews",
         "0"
        ],
        [
         "title",
         "0"
        ],
        [
         "releaseDateStreaming",
         "1043"
        ],
        [
         "runtimeMinutes",
         "178"
        ],
        [
         "genre",
         "118"
        ],
        [
         "originalLanguage",
         "240"
        ],
        [
         "director",
         "44"
        ],
        [
         "writer",
         "2619"
        ],
        [
         "plot",
         "0"
        ]
       ],
       "shape": {
        "columns": 1,
        "rows": 14
       }
      },
      "text/plain": [
       "id                         0\n",
       "originalScore              0\n",
       "reviewText                 0\n",
       "PositiveCount              0\n",
       "NegativeCount              0\n",
       "TotalReviews               0\n",
       "title                      0\n",
       "releaseDateStreaming    1043\n",
       "runtimeMinutes           178\n",
       "genre                    118\n",
       "originalLanguage         240\n",
       "director                  44\n",
       "writer                  2619\n",
       "plot                       0\n",
       "dtype: int64"
      ]
     },
     "execution_count": 33,
     "metadata": {},
     "output_type": "execute_result"
    }
   ],
   "source": [
    "merged_df.isnull().sum()    "
   ]
  },
  {
   "cell_type": "code",
   "execution_count": 34,
   "id": "3b8ec24b",
   "metadata": {},
   "outputs": [],
   "source": [
    "merged_df.to_csv('../../data/final-data/data.csv', index=False)"
   ]
  },
  {
   "cell_type": "code",
   "execution_count": null,
   "id": "8b53a05f",
   "metadata": {},
   "outputs": [],
   "source": []
  }
 ],
 "metadata": {
  "kernelspec": {
   "display_name": "base",
   "language": "python",
   "name": "python3"
  },
  "language_info": {
   "codemirror_mode": {
    "name": "ipython",
    "version": 3
   },
   "file_extension": ".py",
   "mimetype": "text/x-python",
   "name": "python",
   "nbconvert_exporter": "python",
   "pygments_lexer": "ipython3",
   "version": "3.12.2"
  }
 },
 "nbformat": 4,
 "nbformat_minor": 5
}
