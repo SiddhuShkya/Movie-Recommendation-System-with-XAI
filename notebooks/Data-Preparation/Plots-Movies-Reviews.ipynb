{
 "cells": [
  {
   "cell_type": "code",
   "execution_count": 11,
   "id": "5df64b68",
   "metadata": {},
   "outputs": [],
   "source": [
    "import os\n",
    "import ast\n",
    "import random\n",
    "import pandas as pd\n",
    "import numpy as np\n",
    "import seaborn as sns\n",
    "import matplotlib.pyplot as plt"
   ]
  },
  {
   "cell_type": "code",
   "execution_count": 12,
   "id": "ed26c0c6",
   "metadata": {},
   "outputs": [
    {
     "data": {
      "application/vnd.microsoft.datawrangler.viewer.v0+json": {
       "columns": [
        {
         "name": "index",
         "rawType": "object",
         "type": "string"
        },
        {
         "name": "0",
         "rawType": "object",
         "type": "unknown"
        },
        {
         "name": "1",
         "rawType": "object",
         "type": "unknown"
        }
       ],
       "ref": "ccfadde6-21b5-4f0b-ad36-4d61269d53d7",
       "rows": [
        [
         "id",
         "009_re_cyborg",
         "1-day"
        ],
        [
         "originalScore",
         "['2/5', nan, nan, '2/5', '3/5', '2/5', '2/5', '2/5', '4/5', '3/5', '1/5', '2/5', nan]",
         "['2/5', '2/5', '4/5', '3/5', '3/5', '2/5', '5/5', '3/5', '4/5', '2/5', '2/5', '2/5', '2/5', '3/5', '3/5', '2/5']"
        ],
        [
         "reviewText",
         "{'Joseph Walsh': \"Despite its good looks, there's no escaping 009 Re: Cyborg's tiresome and hollow script.\", 'Philip French': \"It's overlong and, for an animated film, there's too much windy philosophical talk of an ontological kind, dropping the names of Freud and the religious historian Mircea Eliade.\", 'MaryAnn Johanson': 'A whole lotta WTF folded into a derivative, misogynist, and just plain incoherent mess.', 'Derek Malcolm': 'We are treated to superb city landscapes but so much minor detail that you never know who is doing what to whom, or even why.', 'Tom Huddleston': \"It's beautifully animated - the climactic sequence in Earth orbit is breathtaking - and its philosophical digressions are fascinating, if completely bananas.\", 'Andrew Osmond': 'The script is lousy and laughable. Anime fans may be able to take the talky portentousness, but the ideas are ridiculous.', 'Chris Michael': \"We're in a post-9/11 world plagued with terror attacks. Is it an American corporate conspiracy? Or the work of a deity? Cue the obligatory second-half metaphysical blather.\", 'Jennifer Tate': \"The cyborgs' epic search for 'His Voice' quickly becomes a little tenuous and ridiculous, pushing the film into maddening and tedious territory.\", 'Ben Mortimer': 'One of the most ambitious and interesting movies of the last few years.', 'Siobhan Synnot': \"Terrific-looking action sequences alternate with less terrific expository chat. Despite the natter, it's all mildly baffling.\", 'Stephen Kelly': 'Ambitious, perhaps, but hardly entertaining.', 'Owen Williams': 'A disappointingly dated and unpowered Manga update.', 'Anton Bitel': 'The blending of 3DCG characters and traditionally drawn backgrounds offers a spectacular hybrid playground in which half-human robots can work through the shifting allegiances and crises of faith that have marked the new millennium.'}",
         "{'Anna Smith': 'A less gripping, if bleaker, take on the Kidulthood/Adulthood theme, with a few musical numbers thrown in. Authentic, perhaps, but far from a deeply rewarding cinematic experience.', 'Trevor Johnston': 'Woolcock deserves praise for ambition, but this tumbles awkwardly into some netherworld between streetwise musical and social-conscience crime chronicle.', 'Ali Catterall': \"You could call this a 'hip-hopera', a mix of filmmaking and social work, or a shot in the arm for British independent cinema. Just don't call it Bugsy Malone with real bullets.\", 'Kevin Maher': \"It's propulsive stuff that credibly mixes social realism with bursts of musical energy. Just occasionally, though, the movie falls for the gangland glamour - loving shots of guns, cars and posturing bad boys - it claims to despise.\", 'Peter Bradshaw': \"By turns gloomy, frenzied, downbeat and violently melodramatic, Penny Woolcock's gang grime musical throbs intermittently with energy.\", 'Tim Robey': \"Woolcock doesn't strictly glamourise this guns-'n'-babymothers lifestyle, but her shortcuts to gritty pathos are nearly as questionable.\", 'Priscilla Eyles': 'Woolcock has overcome all odds to produce one of the best British flicks since This Is England.', 'Derek Malcolm': \"Undoubtedly well acted and shot, and with a rip-roaring hip-hop score, it's impressively non-moralistic, just showing us how it is. That may be why Birmingham's cinemas have refused to show it.\", 'Sam Wigley': 'The film has a cheeky comic streak that offsets all the streetwise grandstanding.', 'Nigel Andrews': 'A gangsta farrago, convincing neither as street-tough crime drama nor soul-motorised rap show. The performers go through the motions, and emotions, as if reading cue cards.', 'Anthony Quinn': 'The street patois is at times incomprehensible, the plot is a joke and the music is absurdly aggressive.', 'Matthew Turner': \"1 Day is something of a mixed bag but it's ultimately worth seeing for the energy and commitment of its fired-up cast of unknowns.\", 'Robbie Collin': 'The performances are quality and the rapping, written and performed by the cast, is SUPERB - if anything, the film could have done with a lot more of it.', 'Alistair Harkness': \"It's a noble endeavour, but not a particularly successful one, primarily because her cast, as authentic as they are, don't really have the dramatic skills.\"}"
        ],
        [
         "PositiveCount",
         "3",
         "8"
        ],
        [
         "NegativeCount",
         "10",
         "8"
        ],
        [
         "TotalReviews",
         "13",
         "16"
        ],
        [
         "title",
         "009 Re: Cyborg",
         "1 Day"
        ],
        [
         "releaseDateStreaming",
         "2015-07-28",
         null
        ],
        [
         "runtimeMinutes",
         "103.0",
         "90.0"
        ],
        [
         "genre",
         "['action', 'sci-fi', 'animation']",
         "['drama']"
        ],
        [
         "originalLanguage",
         "Japanese",
         "English"
        ],
        [
         "director",
         "Kenji Kamiyama",
         "Penny Woolcock"
        ],
        [
         "writer",
         "Kenji Kamiyama",
         "Penny Woolcock"
        ]
       ],
       "shape": {
        "columns": 2,
        "rows": 13
       }
      },
      "text/html": [
       "<div>\n",
       "<style scoped>\n",
       "    .dataframe tbody tr th:only-of-type {\n",
       "        vertical-align: middle;\n",
       "    }\n",
       "\n",
       "    .dataframe tbody tr th {\n",
       "        vertical-align: top;\n",
       "    }\n",
       "\n",
       "    .dataframe thead th {\n",
       "        text-align: right;\n",
       "    }\n",
       "</style>\n",
       "<table border=\"1\" class=\"dataframe\">\n",
       "  <thead>\n",
       "    <tr style=\"text-align: right;\">\n",
       "      <th></th>\n",
       "      <th>0</th>\n",
       "      <th>1</th>\n",
       "    </tr>\n",
       "  </thead>\n",
       "  <tbody>\n",
       "    <tr>\n",
       "      <th>id</th>\n",
       "      <td>009_re_cyborg</td>\n",
       "      <td>1-day</td>\n",
       "    </tr>\n",
       "    <tr>\n",
       "      <th>originalScore</th>\n",
       "      <td>['2/5', nan, nan, '2/5', '3/5', '2/5', '2/5', ...</td>\n",
       "      <td>['2/5', '2/5', '4/5', '3/5', '3/5', '2/5', '5/...</td>\n",
       "    </tr>\n",
       "    <tr>\n",
       "      <th>reviewText</th>\n",
       "      <td>{'Joseph Walsh': \"Despite its good looks, ther...</td>\n",
       "      <td>{'Anna Smith': 'A less gripping, if bleaker, t...</td>\n",
       "    </tr>\n",
       "    <tr>\n",
       "      <th>PositiveCount</th>\n",
       "      <td>3</td>\n",
       "      <td>8</td>\n",
       "    </tr>\n",
       "    <tr>\n",
       "      <th>NegativeCount</th>\n",
       "      <td>10</td>\n",
       "      <td>8</td>\n",
       "    </tr>\n",
       "    <tr>\n",
       "      <th>TotalReviews</th>\n",
       "      <td>13</td>\n",
       "      <td>16</td>\n",
       "    </tr>\n",
       "    <tr>\n",
       "      <th>title</th>\n",
       "      <td>009 Re: Cyborg</td>\n",
       "      <td>1 Day</td>\n",
       "    </tr>\n",
       "    <tr>\n",
       "      <th>releaseDateStreaming</th>\n",
       "      <td>2015-07-28</td>\n",
       "      <td>NaN</td>\n",
       "    </tr>\n",
       "    <tr>\n",
       "      <th>runtimeMinutes</th>\n",
       "      <td>103.0</td>\n",
       "      <td>90.0</td>\n",
       "    </tr>\n",
       "    <tr>\n",
       "      <th>genre</th>\n",
       "      <td>['action', 'sci-fi', 'animation']</td>\n",
       "      <td>['drama']</td>\n",
       "    </tr>\n",
       "    <tr>\n",
       "      <th>originalLanguage</th>\n",
       "      <td>Japanese</td>\n",
       "      <td>English</td>\n",
       "    </tr>\n",
       "    <tr>\n",
       "      <th>director</th>\n",
       "      <td>Kenji Kamiyama</td>\n",
       "      <td>Penny Woolcock</td>\n",
       "    </tr>\n",
       "    <tr>\n",
       "      <th>writer</th>\n",
       "      <td>Kenji Kamiyama</td>\n",
       "      <td>Penny Woolcock</td>\n",
       "    </tr>\n",
       "  </tbody>\n",
       "</table>\n",
       "</div>"
      ],
      "text/plain": [
       "                                                                      0  \\\n",
       "id                                                        009_re_cyborg   \n",
       "originalScore         ['2/5', nan, nan, '2/5', '3/5', '2/5', '2/5', ...   \n",
       "reviewText            {'Joseph Walsh': \"Despite its good looks, ther...   \n",
       "PositiveCount                                                         3   \n",
       "NegativeCount                                                        10   \n",
       "TotalReviews                                                         13   \n",
       "title                                                    009 Re: Cyborg   \n",
       "releaseDateStreaming                                         2015-07-28   \n",
       "runtimeMinutes                                                    103.0   \n",
       "genre                                 ['action', 'sci-fi', 'animation']   \n",
       "originalLanguage                                               Japanese   \n",
       "director                                                 Kenji Kamiyama   \n",
       "writer                                                   Kenji Kamiyama   \n",
       "\n",
       "                                                                      1  \n",
       "id                                                                1-day  \n",
       "originalScore         ['2/5', '2/5', '4/5', '3/5', '3/5', '2/5', '5/...  \n",
       "reviewText            {'Anna Smith': 'A less gripping, if bleaker, t...  \n",
       "PositiveCount                                                         8  \n",
       "NegativeCount                                                         8  \n",
       "TotalReviews                                                         16  \n",
       "title                                                             1 Day  \n",
       "releaseDateStreaming                                                NaN  \n",
       "runtimeMinutes                                                     90.0  \n",
       "genre                                                         ['drama']  \n",
       "originalLanguage                                                English  \n",
       "director                                                 Penny Woolcock  \n",
       "writer                                                   Penny Woolcock  "
      ]
     },
     "execution_count": 12,
     "metadata": {},
     "output_type": "execute_result"
    }
   ],
   "source": [
    "df = pd.read_csv(\"../../data/movie-review-data/merged_movies_reviews.csv\")\n",
    "df.head(2).T"
   ]
  },
  {
   "cell_type": "code",
   "execution_count": 13,
   "id": "67c79aee",
   "metadata": {},
   "outputs": [
    {
     "data": {
      "text/plain": [
       "(23295, 13)"
      ]
     },
     "execution_count": 13,
     "metadata": {},
     "output_type": "execute_result"
    }
   ],
   "source": [
    "df.shape"
   ]
  },
  {
   "cell_type": "code",
   "execution_count": 14,
   "id": "ef7ea9df",
   "metadata": {},
   "outputs": [
    {
     "name": "stdout",
     "output_type": "stream",
     "text": [
      "Title: Mister America\n",
      "Streaming Release Date: 2019-10-11\n",
      "Runtime (minutes): 86.0\n",
      "Genre: ['comedy']\n",
      "Language: English\n",
      "Director: Eric Notarnicola\n",
      "Writer: Tim Heidecker,Gregg Turkington,Eric Notarnicola\n",
      "\n",
      "Review Texts: {'Randall King': 'This is cringey comedy, and the cringe factor is taken up a few notches in this narrative spinoff.', 'Dan Schindel': \"To anyone who doesn't find this to their taste, this can be weird, if not outright alienating. For those who can appreciate it, this is an unquestionable masterpiece.\", 'Nicolas Rapold': \"If Heidecker's not holding a mirror up to our idiocy Borat-style, there's no mistaking the echoes in a thin-skinned, name-calling brute elbowing his way onto political center stage for the ugliest reasons.\", 'Jennie Kermode': \"There's no additional wit here, no insider perspective and no investment in character. Most of what we're presented with was improvised and that's what it looks like -- a small group of not particularly charismatic actors winging it.\", 'Morgan Troper': 'At best, it plays like a bizarro version of The War Room.', 'Nadine Smith': \"Mister America does provide the most succinct summation thus far of the On Cinema mythology, even if it can't quite approximate the experience of the show itself.\", 'Andy Crump': 'The film means to deride that power through representation and succeeds -- but too well, both for its own good and the good of the audience.', 'Adam Patterson': 'This ever-growing mythology is impressive, creating a satirical monster that continues to grow more and more tentacles while cleverly lambasting one topic after another.', 'Ignatiy Vishnevetsky': \"Running only a little shorter than the average season of On Cinema At The Cinema, it's never as cringe-inducingly funny or inventive as the webseries that spawned it.\", 'Carson Lund': \"The long and circuitous narrative history of the so-called OCU weighs heavily on Eric Notarnicola's film.\", 'Gary Goldstein': 'Prolific actor-comedian-musician Tim Heidecker may have a sizable cult following but it\\'s doubtful he\\'ll find many new fans with his latest effort, the tedious and laugh-free mockumentary \"Mister America.\"', 'Nicholas Laskin': 'If nothing else, Mister America cements Tim Heidecker as one of our more unique and uncompromising comic visionaries.', 'Joey Magidson': \"You're either on board with Tim Heidecker and his style or you're not. Here, I was not. Frankly, the film is just not funny at all.\", 'David Ehrlich': \"Heidecker's comedy thrives in the liminal space between what's supposed to be funny and what's not, and the one thing he can't afford to do is stop to explain the joke.\", 'Mark Dujsik': \"Not too long into this movie ... one realizes that the filmmakers don't have much to say about the character ... or politics.\", 'Nick Allen': \"Mister America ambles through two overlapped realities (On Cinema's and our own) and reveals a pathos that makes its dry political comedy accessible beyond an ingrained fanbase, if not poignant.\", 'Patrick Cavanaugh': \"While it's humorous and entertaining throughout, Mister America is a tremendous victory for Heidecker, Turkington, and On Cinema fans for its existence alone.\", 'Frank Scheck': 'A witless, one-note political satire whose deficiencies are even more glaring when such humor feels entirely redundant to our current state of affairs.', 'David Bax': 'Mister America succeeds in unexpected ways by centering humanity and heart amidst the sarcasm and misanthropy.', 'Blake Goble': \"Mister America aims for the acerbic pitch of a '70s alternative political farce like The Candidate, but the parting feeling is that it's just an overdeveloped ramble.\", 'Louis Proyect': 'Don\\'t expect Comedy Central type fluff. This is dark comedy perfectly suited to the period we are living through and much more penetrating than \"Joker\".', 'Ben Kenigsberg': 'Although \"Mister America\" has inspired moments throughout, Tim\\'s ignorance, insensitivity and ill-fitting tailoring aren\\'t really good for 90 minutes of laughs.', 'Candice Frederick': 'Underscores recognizable themes no less irritating in mockumentary form than they are in real life: white supremacy, miscarriages of justice, and racial disenfranchisement. But the film needs to say something about it rather than merely hold up a mirror.', 'Daniel Kurland': \"Whether you're aware of On Cinema's decade-long past... or just admire gonzo experimental filmmaking, Mister America is an immensely satisfying triumph.\", 'Danielle Solzman': \"While there's nothing inherently groundbreaking in Mister America, the film should play for some solid laughs among On Cinema fans.\", 'Peter Debruge': 'The movie amounts to a few weak gags stretched out to feature length.', 'Rendy Jones': 'I don\\'t know how many \"On Cinema\" fans there are in this world, but believe me when I say that this is specifically for you.', 'Evan Dossey': 'Unclear how well this will work for audiences not immersed in the On Cinema universe, but it should really hit the spot for members of the On Cinema Family. Oscar, are you watching?', 'Roger Moore': 'Painfully unfunny. Excruciating. For Tim Heidecker cultists only.'}\n",
      "\n",
      "Positive Count: 19\n",
      "Negative Count: 10\n",
      "Total Review Count: 29\n"
     ]
    }
   ],
   "source": [
    "# Select a random index\n",
    "random_index = random.randint(0, len(df) - 1)\n",
    "\n",
    "# Fetch the row\n",
    "random_row = df.iloc[random_index]\n",
    "\n",
    "# Print the full row neatly\n",
    "print(f\"Title: {random_row['title']}\")\n",
    "print(f\"Streaming Release Date: {random_row['releaseDateStreaming']}\")\n",
    "print(f\"Runtime (minutes): {random_row['runtimeMinutes']}\")\n",
    "print(f\"Genre: {random_row['genre']}\")\n",
    "print(f\"Language: {random_row['originalLanguage']}\")\n",
    "print(f\"Director: {random_row['director']}\")\n",
    "print(f\"Writer: {random_row['writer']}\\n\")\n",
    "print(f\"Review Texts: {random_row['reviewText']}\\n\")\n",
    "print(f\"Positive Count: {random_row['PositiveCount']}\")\n",
    "print(f\"Negative Count: {random_row['NegativeCount']}\")\n",
    "print(f\"Total Review Count: {random_row['TotalReviews']}\")"
   ]
  },
  {
   "cell_type": "code",
   "execution_count": 15,
   "id": "c1cab04d",
   "metadata": {},
   "outputs": [],
   "source": [
    "# Extracting Movie Plot and Adding It To Our Data\n",
    "df1 = pd.read_csv('../../data/movie-data-csv/amazon-prime.csv')\n",
    "df2 = pd.read_csv('../../data/movie-data-csv/netflix-tv.csv')\n",
    "df3 = pd.read_csv('../../data/movie-data-csv/trailers12k.csv')\n",
    "df4 = pd.read_csv('../../data/movie-data-csv/tmdb-grouplens.csv', low_memory=False)\n",
    "df5 = pd.read_csv('../../data/movie-data-csv/imdb.csv')\n",
    "df5.rename(columns={'Title': 'title'}, inplace=True)"
   ]
  },
  {
   "cell_type": "code",
   "execution_count": 16,
   "id": "10d973a9",
   "metadata": {},
   "outputs": [],
   "source": [
    "df3['plot'] = df3['plot'].apply(lambda x: ' '.join(ast.literal_eval(x)))"
   ]
  },
  {
   "cell_type": "code",
   "execution_count": 17,
   "id": "e01c102e",
   "metadata": {},
   "outputs": [],
   "source": [
    "df1_subset = df1[['title', 'plot']]\n",
    "df2_subset = df2[['title', 'plot']]\n",
    "df3_subset = df3[['title', 'plot']]\n",
    "df4_subset = df4[['title', 'plot']]\n",
    "df5_subset = df5[['title', 'plot']]"
   ]
  },
  {
   "cell_type": "code",
   "execution_count": 18,
   "id": "064aa8ed",
   "metadata": {},
   "outputs": [
    {
     "name": "stdout",
     "output_type": "stream",
     "text": [
      "(180252, 2)\n"
     ]
    },
    {
     "data": {
      "application/vnd.microsoft.datawrangler.viewer.v0+json": {
       "columns": [
        {
         "name": "index",
         "rawType": "int64",
         "type": "integer"
        },
        {
         "name": "title",
         "rawType": "object",
         "type": "string"
        },
        {
         "name": "plot",
         "rawType": "object",
         "type": "string"
        }
       ],
       "ref": "34598109-0f06-4e89-8731-6459ad5b329b",
       "rows": [
        [
         "0",
         "The Three Stooges",
         "The Three Stooges were an American vaudeville and comedy team active from 1922 until 1970, best known for their 190 short subject films by Columbia Pictures that have been regularly airing on television since 1958. Their hallmark was physical farce and slapstick. In films, the stooges were commonly known by their actual first names. There were a total of six stooges over the act's run (with only three active at any given time), but Moe Howard and Larry Fine were the mainstays throughout the ensemble's nearly fifty-year run."
        ],
        [
         "1",
         "The General",
         "During America’s Civil War, Union spies steal engineer Johnnie Gray's beloved locomotive, 'The General'—with Johnnie's lady love aboard an attached boxcar—and he single-handedly must do all in his power to both get The General back and to rescue Annabelle."
        ],
        [
         "2",
         "The Best Years of Our Lives",
         "It's the hope that sustains the spirit of every GI: the dream of the day when he will finally return home. For three WWII veterans, the day has arrived. But for each man, the dream is about to become a nightmare."
        ],
        [
         "3",
         "His Girl Friday",
         "Hildy, the journalist former wife of newspaper editor Walter Burns, visits his office to inform him that she's engaged and will be getting remarried the next day. Walter can't let that happen and frames the fiancé, Bruce Baldwin, for one thing after another, to keep him temporarily held in prison, while trying to steer Hildy into returning to her old job as his employee."
        ],
        [
         "4",
         "In a Lonely Place",
         "An aspiring actress begins to suspect that her temperamental boyfriend is a murderer."
        ]
       ],
       "shape": {
        "columns": 2,
        "rows": 5
       }
      },
      "text/html": [
       "<div>\n",
       "<style scoped>\n",
       "    .dataframe tbody tr th:only-of-type {\n",
       "        vertical-align: middle;\n",
       "    }\n",
       "\n",
       "    .dataframe tbody tr th {\n",
       "        vertical-align: top;\n",
       "    }\n",
       "\n",
       "    .dataframe thead th {\n",
       "        text-align: right;\n",
       "    }\n",
       "</style>\n",
       "<table border=\"1\" class=\"dataframe\">\n",
       "  <thead>\n",
       "    <tr style=\"text-align: right;\">\n",
       "      <th></th>\n",
       "      <th>title</th>\n",
       "      <th>plot</th>\n",
       "    </tr>\n",
       "  </thead>\n",
       "  <tbody>\n",
       "    <tr>\n",
       "      <th>0</th>\n",
       "      <td>The Three Stooges</td>\n",
       "      <td>The Three Stooges were an American vaudeville ...</td>\n",
       "    </tr>\n",
       "    <tr>\n",
       "      <th>1</th>\n",
       "      <td>The General</td>\n",
       "      <td>During America’s Civil War, Union spies steal ...</td>\n",
       "    </tr>\n",
       "    <tr>\n",
       "      <th>2</th>\n",
       "      <td>The Best Years of Our Lives</td>\n",
       "      <td>It's the hope that sustains the spirit of ever...</td>\n",
       "    </tr>\n",
       "    <tr>\n",
       "      <th>3</th>\n",
       "      <td>His Girl Friday</td>\n",
       "      <td>Hildy, the journalist former wife of newspaper...</td>\n",
       "    </tr>\n",
       "    <tr>\n",
       "      <th>4</th>\n",
       "      <td>In a Lonely Place</td>\n",
       "      <td>An aspiring actress begins to suspect that her...</td>\n",
       "    </tr>\n",
       "  </tbody>\n",
       "</table>\n",
       "</div>"
      ],
      "text/plain": [
       "                         title  \\\n",
       "0            The Three Stooges   \n",
       "1                  The General   \n",
       "2  The Best Years of Our Lives   \n",
       "3              His Girl Friday   \n",
       "4            In a Lonely Place   \n",
       "\n",
       "                                                plot  \n",
       "0  The Three Stooges were an American vaudeville ...  \n",
       "1  During America’s Civil War, Union spies steal ...  \n",
       "2  It's the hope that sustains the spirit of ever...  \n",
       "3  Hildy, the journalist former wife of newspaper...  \n",
       "4  An aspiring actress begins to suspect that her...  "
      ]
     },
     "execution_count": 18,
     "metadata": {},
     "output_type": "execute_result"
    }
   ],
   "source": [
    "df_combined = pd.concat([df1_subset, df2_subset, df3_subset, df4_subset, df5_subset], ignore_index=True)\n",
    "df_combined.dropna(subset=['title', 'plot'], inplace=True)\n",
    "print(df_combined.shape)\n",
    "df_combined.head()"
   ]
  },
  {
   "cell_type": "code",
   "execution_count": 19,
   "id": "77f91a8b",
   "metadata": {},
   "outputs": [
    {
     "data": {
      "text/plain": [
       "(153454, 2)"
      ]
     },
     "execution_count": 19,
     "metadata": {},
     "output_type": "execute_result"
    }
   ],
   "source": [
    "df_combined = df_combined.drop_duplicates(subset='title', keep='first').reset_index(drop=True)\n",
    "df_combined.shape"
   ]
  },
  {
   "cell_type": "code",
   "execution_count": 20,
   "id": "07b8316c",
   "metadata": {},
   "outputs": [
    {
     "name": "stdout",
     "output_type": "stream",
     "text": [
      "Number of common movie titles: 16491\n"
     ]
    }
   ],
   "source": [
    "common_movie_titles = set(df['title']) & set(df_combined['title'])\n",
    "print(f\"Number of common movie titles: {len(common_movie_titles)}\")"
   ]
  },
  {
   "cell_type": "code",
   "execution_count": 21,
   "id": "16854b88",
   "metadata": {},
   "outputs": [
    {
     "name": "stdout",
     "output_type": "stream",
     "text": [
      "Merged DataFrame shape: (17769, 14)\n"
     ]
    },
    {
     "data": {
      "application/vnd.microsoft.datawrangler.viewer.v0+json": {
       "columns": [
        {
         "name": "index",
         "rawType": "int64",
         "type": "integer"
        },
        {
         "name": "id",
         "rawType": "object",
         "type": "string"
        },
        {
         "name": "originalScore",
         "rawType": "object",
         "type": "string"
        },
        {
         "name": "reviewText",
         "rawType": "object",
         "type": "string"
        },
        {
         "name": "PositiveCount",
         "rawType": "int64",
         "type": "integer"
        },
        {
         "name": "NegativeCount",
         "rawType": "int64",
         "type": "integer"
        },
        {
         "name": "TotalReviews",
         "rawType": "int64",
         "type": "integer"
        },
        {
         "name": "title",
         "rawType": "object",
         "type": "string"
        },
        {
         "name": "releaseDateStreaming",
         "rawType": "object",
         "type": "unknown"
        },
        {
         "name": "runtimeMinutes",
         "rawType": "float64",
         "type": "float"
        },
        {
         "name": "genre",
         "rawType": "object",
         "type": "string"
        },
        {
         "name": "originalLanguage",
         "rawType": "object",
         "type": "unknown"
        },
        {
         "name": "director",
         "rawType": "object",
         "type": "string"
        },
        {
         "name": "writer",
         "rawType": "object",
         "type": "string"
        },
        {
         "name": "plot",
         "rawType": "object",
         "type": "string"
        }
       ],
       "ref": "259b094a-f7e6-4b1e-8c95-311706d42744",
       "rows": [
        [
         "0",
         "009_re_cyborg",
         "['2/5', nan, nan, '2/5', '3/5', '2/5', '2/5', '2/5', '4/5', '3/5', '1/5', '2/5', nan]",
         "{'Joseph Walsh': \"Despite its good looks, there's no escaping 009 Re: Cyborg's tiresome and hollow script.\", 'Philip French': \"It's overlong and, for an animated film, there's too much windy philosophical talk of an ontological kind, dropping the names of Freud and the religious historian Mircea Eliade.\", 'MaryAnn Johanson': 'A whole lotta WTF folded into a derivative, misogynist, and just plain incoherent mess.', 'Derek Malcolm': 'We are treated to superb city landscapes but so much minor detail that you never know who is doing what to whom, or even why.', 'Tom Huddleston': \"It's beautifully animated - the climactic sequence in Earth orbit is breathtaking - and its philosophical digressions are fascinating, if completely bananas.\", 'Andrew Osmond': 'The script is lousy and laughable. Anime fans may be able to take the talky portentousness, but the ideas are ridiculous.', 'Chris Michael': \"We're in a post-9/11 world plagued with terror attacks. Is it an American corporate conspiracy? Or the work of a deity? Cue the obligatory second-half metaphysical blather.\", 'Jennifer Tate': \"The cyborgs' epic search for 'His Voice' quickly becomes a little tenuous and ridiculous, pushing the film into maddening and tedious territory.\", 'Ben Mortimer': 'One of the most ambitious and interesting movies of the last few years.', 'Siobhan Synnot': \"Terrific-looking action sequences alternate with less terrific expository chat. Despite the natter, it's all mildly baffling.\", 'Stephen Kelly': 'Ambitious, perhaps, but hardly entertaining.', 'Owen Williams': 'A disappointingly dated and unpowered Manga update.', 'Anton Bitel': 'The blending of 3DCG characters and traditionally drawn backgrounds offers a spectacular hybrid playground in which half-human robots can work through the shifting allegiances and crises of faith that have marked the new millennium.'}",
         "3",
         "10",
         "13",
         "009 Re: Cyborg",
         "2015-07-28",
         "103.0",
         "['action', 'sci-fi', 'animation']",
         "Japanese",
         "Kenji Kamiyama",
         "Kenji Kamiyama",
         "009 Re:Cyborg follows a group of nine cyborgs, each of them created by a shadowy organization for use as weapons against humanity. The group turns on their creators to protect the population instead, using the powers given them to fight their creators."
        ],
        [
         "1",
         "10",
         "['4/5', '6/10', '8/10', '2.5/4', '6/10', '4/5', 'B-', '5/5', nan, '4/5', '2.5/5', '4/4', '4/5', '4/5', nan, '1/5', '2/5', '1/5', '2/5', '2/5', '3/5', '3/5', '4/5', nan]",
         "{'Eddie Harrison': \"'It's probably the writer/director's best film outside of the Pink Panther movies, and the portrait of the artist as a dirty aging man is one that still resonates today.'\", 'Sean Collier': 'It has some gags - some are even quite funny - but not nearly enough.', 'Mike Massie': 'A fascinating character study, bittersweet and insightful yet full of tremendous laughs.', 'Peter Canavese': \"10's tossed-off quality keeps it from greatness, but it also distinguishes it from the great mass of contemporary comedies smoothed to a shiny, edgeless formula. [Blu-ray]\", 'John J. Puccio': 'Dudley Moore is periodically funny, Julie Andrews is mostly charming, and Bo Derek is always gorgeous.', 'Cole Smithey': nan, 'Emanuel Levy': \"This passable but not great Blake Edwards picture became known for the huge impact that the beautiful Bo Derek had on hairstyle; Bo's stardom was shortlived, though.\", 'Susan Granger': nan, 'Gary Arnold': 'A sporadically funny, marginally interesting fiasco that might have evolved into a memorable romantic comedy.', 'Michael Szymanski': nan, 'Christopher Null': nan, 'Roger Ebert': \"Blake Edwards's 10 is perhaps the first comedy about terminal yearning. Like all great comedies, it deals with emotions very close to our hearts.\", 'Carol Cling': nan, 'Jon Niccum': 'People tend to forget what a hilarious movie this really is', 'Frederic and Mary Ann Brussat': '\"10\" explores sexual yearning in a drama that is both funny and right on target with its depiction of the yearnings of men.', 'Nick Davis': 'Sexist, juvenile, and pathetically structured, despite the gamest efforts of its actors and the blithe willingness of its famous non-actor.', 'Ken Hanke': 'It was a big hit. I have never understood why.', 'Alex Sandell': \"And oh, the irony, that the film only deserves a '1.'\", 'Joshua Tanzer': nan, 'Gerry Shamray': 'Highly over-rated Dudley Moore comedy.', 'Philip Martin': nan, 'Bob Grimm': nan, 'Scott Weinberg': 'Obvious but entertaining portrayal of midlife crisis gone horribly awry.', 'Tim Dirks': '10 (1979) is known for its numerical rating system for beautiful women. It described itself as \"a temptingly tasteful comedy for adults'}",
         "16",
         "8",
         "24",
         "10",
         "1997-09-03",
         "122.0",
         "['romance', 'comedy']",
         "English",
         "Blake Edwards",
         "Blake Edwards",
         "A Hollywood songwriter goes through a mid-life crisis and becomes infatuated with a sexy blonde newlywed."
        ],
        [
         "2",
         "1000013_12_angry_men",
         "[nan, nan, nan, nan, nan, nan, '4.0/4.0', '10/10', '4.5/5', nan, 'A+', '5/5', nan, nan, '3/4', '84/100', '5/5', '4/4', nan, '3.5/4', '4/4', 'B', '5/5', '4/5', 'B-', '82/100', nan, '5/5', '5/5', '4/5', 'A', nan, nan, 'A', '4/4', '5/5', '4/5', '5/5', '4/5', '5/5', '5/5', '4.5/5', '4/4', '4/5', '5/5', '4/5', '4/4', '5/5', '5/5', '5/5', '5/5', nan, 'A-', '92/100', nan, '9/10', '4/4', nan]",
         "{'Sean Axmaker': 'It&#8217;s a near perfect mix of theme and setting&#44; personal drama and social commentary&#44; a microcosm that suggests an entire world outside the frame &#46;&#46;&#46;', 'Edward Kosmal': \"Sidney Lumet's solid success is achieved without even once resorting to flashbacks or other standard procedures of the film trade. The secret rests in spirited dialogue, realistic setting and, of course, the excellent cast of outstanding character actors.\", 'Jonathan Baumbach': 'Within its simplicity there is a freshness and ingenuousness about Twelve Angry Men uncommon in a slickly sophisticated film industry.', 'André Bazin': 'One has to imagine the dramatic imagination that went into creating this fascinating, psychologically realistic motion picture, which, from start to finish, never changes its subject or its location.', 'Gisela Savdie': 'A court drama that transcends time or place; a real masterpiece. [Full review in Spanish]', 'Sarah Brinks': 'If you have never seen the film I cannot recommend it enough.', 'Richard Propes': \"Reginald Rose's script is one of deep revelation.\", 'Mike Massie': 'Thought-provoking, continually riveting, and absolutely unforgettable - and surprisingly designed around a very simple, tightly budgeted, special-effects-free premise.', 'Mark Jackson': '\"12 Angry Men\" puts the full range of human good and evil on display. It posits that, ultimately, the universe is benevolent, and our job, regarding each other, is to attempt with our best effort and greatest compassion to elucidate and clarify the truth.', 'Clyde Gilmour': \"One of Hollywood's more notable borrowings from television is this Reginald Rose drama about the soul-searchings of a murder-trial jury...\", 'Chris Stuckmann': \"This movie is a masterpiece. That term gets thrown around a lot -- it's a very easy thing to say about great films like this -- but this movie is one of the best. This is one of the very few films that I will call perfect.\", 'Christopher Machell': \"In the 60 years since its release, Sidney Lumet's masterpiece has lost none of its impact. In this age of unreason, 12 Angry Men remains sorely and urgently contemporary.\", 'David Keyes': 'With each new viewing I come away feelings as if I have peeled away another layer on the characters and their buried motives.', 'Fernando F. Croce': 'Lumet in his first film records it as a meticulous laboratory experiment, a clammy orchestra', 'David Nusair': '...the film has aged surprisingly well in the years since its 1957 release.', 'Dan Jardine': 'taut, well-crafted sociological study', 'Joshua Rothkopf': \"Too few films take on the art of arguing as a subject; we could certainly use more of them, but until then, Lumet's window into strained civic duty will continue to serve mightily.\", 'Glenn Heath Jr.': 'The film takes a confined, almost completely banal real-world location and makes it completely dynamic, using incredibly nimble camera movements to establish character motivation and theme.', 'Felix Vasquez Jr.': 'The cast is incredible, the writing superb, and the film is unparalleled in its sheer excellence.', 'Eric Melin': \"This was Sidney Lumet's first movie and it's as riveting as it was back in the late 50s, when everything was changing.\", 'James Kendrick': 'an incisive and gripping film', 'Dennis Schwartz': 'Lumet keeps things tense, sweaty, suspenseful and entertaining despite the contrived story line.', 'M. Faust': 'Outstanding Henry Fonda jury classic.', 'Matthew Pejkovic': \"A brilliant courtroom drama whose strength lies within the power of Rose's words and Sidney Lumet's great direction (his debut).\", 'Nick Davis': \"12 Angry Men has some shrewd observations to sell about argumentation and group behavior, but they're not the ones of which the film seems most proud.\", 'Hy Hollinger': 'The film leaves a tremendous impact.', 'Christopher Null': \"Every bit the classic it's been made out to be for all these years.\", 'Steve Crum': 'Power house jury room drama w/cast of memorable actors.', 'Cole Smithey': nan, 'Rob Humanick': 'Makes no self-saluting motions to greater importance, which gives the material the much-desired breathing room it needs to reach full potency.', 'Jonathan Rosenbaum': 'Mechanically written, but within its own middlebrow limitations, it delivers the goods.', 'Geoff Andrew': 'A strangely realistic thriller.', 'Emanuel Levy': \"Sidney Lumet's Oscar-nominated feature directing debut is a brilliant courtroom drama, featuring a superlative cast that includes Henry Fonda (also producer), Martin Balsam, Ed Begley, Jack Warden, and E.G. Marshall.\", 'Phil Villarreal': 'A masterful work of debate and dialogue; of shifting momentum and the ideal of sticking to your scruples in the face of antagonistic groupthink.', 'Daniel M. Kimmel': nan, 'Mark R. Leeper': 'This film is a great combination of an adult theme and the treatment suitable for younger audience.', 'Pablo Villaça': 'Ainda que se passe em um nico ambiente, esta obra-prima possui um alcance emocional imensurvel - e  incrvel que tenha sido o primeiro longa-metragem de Lumet.', 'Carol Cling': nan, 'Laura Clifford': nan, 'Jon Niccum': \"One-room dramas don't get much better than this\", 'A.H. Weiler': 'Although it may sound ungallant, these 12 Angry Men, are all right without distaff glamour. Their dramas are powerful and provocative enough to keep a viewer spellbound.', 'Ian Mantgani': 'An intense concentration of power, and my all-time favourite film.', 'Nicolas Lacroix': nan, 'Nell Minow': nan, 'Dan Lybarger': \"Sidney Lumet's debut feels a bit stagy but is never short on tension.\", 'Roger Ebert': 'This is a film where tension comes from personality conflict, dialogue and body language, not action.', 'Rob Vaux': nan, 'John J. Puccio': nan, 'Marty Mapes': nan, 'Scott Weinberg': 'Pure dynamite in movie form.', 'Tim Dirks': '12 Angry Men (1957) is the gripping, penetrating, and engrossing examination of a diverse group of twelve jurors - all male, mostly middle-aged, white, and', 'John A. Nesbit': \"12 Angry Men ranks as the tautest courtroom drama you'll ever see, surpassing Lumet's very good 1982 drama, The Verdict.\", 'Brian Webster': 'While the composition of juries might change over time, the issues and attitudes that are explored here are timeless, as is this classic film.', 'Ian Nathan': \"Thoroughly engaging, there is nothing dated or corny in Reginald Rose's intensely knowing screenplay and Lumet's energetic direction.\", 'Dragan Antulov': 'Completely deserved its high status of undisputed classic.', 'Steve Rhodes': 'In a time of bloated when special effects have become the real stars, going back to a classic like this can remind viewers what movie making is supposed to be about -- acting.', 'Urban Cinefile Critics': 'A film with texture, humour and relevance at all times. All in 91 minutes.'}",
         "58",
         "0",
         "58",
         "12 Angry Men",
         "2008-03-04",
         "95.0",
         "['drama']",
         "English",
         "Sidney Lumet",
         "Reginald Rose",
         "The defense and the prosecution have rested and the jury is filing into the jury room to decide if a young Spanish-American is guilty or innocent of murdering his father. What begins as an open and shut case soon becomes a mini-drama of each of the jurors' prejudices and preconceptions about the trial, the accused, and each other."
        ],
        [
         "3",
         "10000604-porgy_and_bess",
         "[nan, '4/10', 'B-', nan, nan, nan, nan, nan, nan, nan, '4/4', nan, nan, nan, nan, nan, nan, nan, nan, nan, nan, nan, nan, nan, nan, nan, nan, nan, nan, nan, nan, nan, nan, nan, nan, nan, nan, nan, nan, nan, '4/4', 'A-', '3.5/4', nan, nan, '2/5', nan]",
         "{'Austin Faricy': 'The production, lavish in the extreme, backs up the music visually, and the performances all first rate back it up dramatically.', 'Mike Massie': 'Its central notion of uncompromising forgiveness &#8211; Porgy refuses to see Bess&#8217; faults&#44; embracing only her best qualities &#8211; is thoroughly inspirational&#46;', 'Dennis Schwartz': 'The story is trite, but the music is elegant.', 'Chazz Crawford': 'The film does lose the intimate quality of the stage presentation... But the wealth of talent (Pearl Bailey, Sammy Davis, Dorothy Dandridge, Sidney Poitier, Diahann Carroll, Brock Peters and Leslie Scott) play It as if it were a labor of love.', 'Izzy Rowe': 'Goldwyn has done much with it and has given It a dignity and a meaning which never showed through before. He has eliminated the speaking dialect and has given the music a cloak of color which stands your ears on tip-toe.', 'Raoul Abdul': 'I shall never forget how deeply moved I was in a stage version when... Porgy left Catfish Row to find his Bess in far off New York. In this costly new film, at that tragic moment I only thought of what a beautiful shot the cameraman had achieved.', 'Loren Miller': \"Gershwin's music and the general high level of the acting make the movie palatable, but leave it Porgy. It is stale beer served in exquisite silver goblets to the accompaniment of beautiful music.\", 'Florence Epstein': \"Haunting music, beautifully sung and a love story that tears your heart. That's Porgy and Bess.\", 'Marjory Adams': \"As to the players, Dorothy Dandridge as Bess and Sidney Poitier as Porgy couldn't be improved... Sammy Davis Jr. is the evil schemer, Sportin' Life, and he does his own singing -- which is hard, smart and persuasively cynical.\", 'Clyde Reid': 'One good thing about the production is that lots of our younger starlets and budding male stars got a chance to \"spread their wings and strut their stuff\" before a major audience. They may now get a shot at bigger and better roles.', 'Wanda Hale': \"The backbone of this opera is the beautiful, inspiring music with which most of us are familiar. Next in importance is Sidney Poitier's portrayal of Porgy... This performance is the shining light of the film.\", 'Moira Walsh': \"[It's] exquisite to look at and its reproduction of the Gershwin score is well-nigh perfect. To obtain this physical perfection, however, it has sacrificed the universal human appeal which... was what endeared it to audiences all over the world.\", 'Mildred Martin': 'With Robert McFerrin singing for Porgy; Adele Addison for Bess, and Loulie Jean Norman for Clara, these roles are handled with memorable vocal beauty.', 'Robert Hatch': 'The cast had the talent for Porgy and Bess, but Mr. Goldwyn and Mr. Preminger have made them little more than supernumeraries to sensation.', 'Harold V. Cohen': 'Somewhere in Porgy and Bess something is missing. The bursting excitement, in the main. The transfer from the stage to the screen has been accomplished with conscientiousness but without inspiration.', 'George Bourke': '[A] near perfect bit of cinematic art.', 'Jay Carmody': 'Verve and vitality have been sacrificed in the big picture directed by Otto Preminger in favor of spectacle and sentimentality.', 'Helen Bower': 'This Porgy... has done its best to meet the challenge of turning an operetta of this nature into popular entertainment. If it sometimes seems slowed or stagey, the form of the musical melodrama rather than the film itself may have made this unavoidable.', 'Mae Tinee': \"Technically, it's a superb example of painstaking and polished film-making, and, altho there are times when it lacks life and motion, it's still very well worth seeing.\", 'George S. Schuyler': 'This American classic is written, played and presented with a dignity and artistry that so representative an example of American culture deserves.', 'Myles Standish': '[Poitier and Dandridge] convey the torrent of emotion strongly, reinforced by the luminous singing voices of Robert McFerrin and Adele Addison, which were dubbed in.', 'John Bustin': 'Of course, the principal ingredients -- the haunting musical score and the poignant story -- were already on hand, but this production enhances them greatly with a staging that is rich, artful and altogether stirring in every sense.', 'Penelope Gilliatt': \"Otto Preminger's film is ponderous and flat. It has nothing like the spirit of, for instance, his own Carmen Jones.\", 'Philip K. Scheuer': 'The praise must go much beyond these technical marvels. Porgy and Bess would not be the masterpiece it is if the 70-mm. film and the seven-channel sound were not equaled by the human element.', 'William Glover': 'Much of the great Gershwin score is sung by backstage performers -- only Miss Bailey and Davis vocalize on the sound track. But the fusing of actors and voices has been done with remarkable skill.', 'R.H. Gardner': 'In their eagerness to leave everything just as Gershwin left it, the adapters have done very little adapting... Aside from this weakness -- and I consider it a major one -- the Goldwyn Porgy is a commendable job.', 'Sherwin Kane': \"The  production shines with memorable individual performances... Sidney Poitier as Porgy, Dorothy Dandridge as Bess, Brock Peters as Crown, Sammy Davis, Jr. as Sportin' Life and Pearl Bailey as Maria are outstanding.\", 'P.S. Harrison': 'It is a superb production in every sense of the word, beautifully photographed in Technicolor and the Todd-AO process, and enhanced by six-track stereophonic sound that serves to make the famed and familiar [Gershwin] score all the more pleasurable.', 'Hortense Morton (Screen Scout)': \"Performances of excellent caliber are contributed by Diahann Carroll, Ruth Attaway and Earl Jackson. Andre Previn's musical direction is inspiring.\", 'Harold Whitehead': \"Perhaps best and the shortest way of praising this film, and it deserves all the accolades it gets, is to say that for anyone who is not familiar with or has never seen George Gershwin's folk opera, this is the finest possible introduction.\", 'Richard Harrity': '[Porgy and Bess]  has been made into a handsome motion picture by that elder genius of the colossal, Mr. Samuel Goldwyn. In fact, the filming of Porgy and Bess is a bit too handsome and a mite  too pretty, thereby sacrificing compassion for color.', 'Jack Curtis': \"The film version of the famous Broadway production certainly has plenty of somethin'. Specifically, there are brilliant splashes of color, intricate set designs, interesting photography, and an outstanding cast.\", 'Bob Blackburn': \"The pace is pretty hot and heavy without the reliefs that might make it a less exhausting experience. But these are faults, and it isn't faults that distinguish this picture. It's technically superb, musically delightful, and altogether rewarding.\", 'Alexander Walker': '[Preminger] washes the Todd-AO screen with filters to give the action \"mood.\" But I am tired of viewing musicals like this... as If through amber ski-goggles. However, shining through all this are the talents of Sidney Poitier and Dorothy Dandridge.', 'Colin Bennett': '[Porgy and Bess] is handsomely staged -- and \"staged\" is the operative word. This is not really film, but photographed, opera, set in an operatic frame of reference and moving at stage, not film, pace.', 'Times (UK) Staff': 'The overriding impression, however, is one of set scenes. songs and sequences, with the spotlight thrown less on fluid movement than on the conventions of opera and of theatre. This, in the end, amounts more to a subtraction than an addition.', 'SMH Staff': '[Preminger] has achieved a production that is lovely to the ear, sumptuously sombre to the eye (in cinematographer Leon Shamroy\\'s range of ambers and reds), and. occasionally, moving. The \"occasionally\" is the puzzle.', 'Guardian Staff': \"Samuel Goldwyn's production (directed by Otto Preminger) certainly does full justice to the score and that, where the score is relatively feeble, it bolsters up the dramatic action with devices possible on the screen but not on the stage.\", 'Richard Brody': 'Preminger and the cast overcome the opera’s contrivances and stereotypes to recapture Gershwin’s underlying humanistic vision of celebration and deliverance.', 'TIME Staff': 'Porgy and Bess is only a moderate and intermittent success as a musical show; as an attempt to produce a great work of cinematic art, it is a sometimes ponderous failure.', 'Shadow Stage': 'Producer Samuel Goldwyn and director Otto Preminger have assembled it with such artistry and loving care that it almost seems to have been written for the movies.', 'Emanuel Levy': \"One of the most underestimated movie musicals, based on Gershwin's masterpiece, Porgy and Bess receives a lavish production from Otto Preminger in an all-black, Oscar-nominated picture, starring Sidney Poitier and Dorothy Dandridge.\", 'TV Guide Staff': \"The brilliant score by the Gershwins and DuBose Heyward, however, will last forever, while Preminger's veteran cameraman, Leon Shamroy, did a wonderful job and the art direction by Serge Krizman and Joseph Wright is sensational.\", 'Bosley Crowther': 'This is a stunning, exciting and moving film, packed with human emotions and cheerful and mournful melodies. It bids fair to be as much a classic on the screen as it is on the stage.', 'Film4 Staff': \"That it stands as an entertaining spectacle and the director's best musical is secondary in interest to the Hollywood politics surrounding it.\", 'Phil Hall': 'A mediocre curio.', \"Emily O'Neill\": \"Should this Porgy and Bess be locked away? It ain't necessarily so.\"}",
         "34",
         "13",
         "47",
         "Porgy and Bess",
         null,
         "138.0",
         "['drama', 'musical', 'romance']",
         "English",
         "Otto Preminger,Rouben Mamoulian",
         "Dorothy Heyward,DuBose Heyward,DuBose Heyward,N. Richard Nash",
         "Set in the early 1900s in the fictional Catfish Row section of Charleston, South Carolina, which serves as home to a black fishing community, the story focuses on the titular characters, crippled beggar Porgy, who travels about in a goat-drawn cart, and the drug-addicted Bess, who lives with stevedore Crown, the local bully."
        ],
        [
         "4",
         "10000735-underworld",
         "[nan, nan, nan, '7/10', '4/4', '3.5/4', nan, nan, '3.5/4', nan, nan, '3/5', '3.5/4', '3.5/5', nan, nan, 'B-', nan]",
         "{'Roy Chartier': 'Many things combine to make Underworld an absorbing, spellbinding picture. The acting, direction, titles, photography, camera angles, story and action are a few of them.', 'Carl Sandburg': 'Underworld does for the sophisticated adult what football does for the college boy. And Bancroft achieves something of the herculean glory of a gory fullback, with Von Sternberg as his general, showing him the openings, guiding his raging course.', 'Robert E. Sherwood': 'It is the best picture of its type that has ever been made.', 'Yasser Medina': \"This silent gangster drama, signed with a Ben Hecht's script and directed by the great Josef von Sternberg, is one of the first to establish the usual parameters of the gangster genre. [Full review in Spanish]\", 'Mattie Lucas': 'Its luridly evocative look at honor among the gangsters and thieves who populate the Dreamland Cafe of Chicago is the stuff that old Hollywood dreams are made of.', 'Matt Brunson': \"A technical gem that showcases von Sternberg's prowess behind the camera.\", 'Richard Brody': \"Sternberg's richly ornamental compositions-which are dense with shadows and objects that separate viewers from the action-suggest a willful distance from his characters.\", 'Michael E. Grost': 'Gripping, superbly told tale of crooks and their girlfriends.', 'James Kendrick': \"von Sternberg's visual style and the art direction by German émigré Hans Dreier elevate Underworld into something more than a run-of-the-mill crime picture\", 'Sean Axmaker': \"Sternberg's direction is both classical and modern, with an expressive approach to storytelling and his distinctive visual style already apparent...\", 'Variety Staff': \"There's a wallop right through and yet the film retains romance, clicks not a little on comedy and even whitewashes itself with a 'moral.'\", 'Paul Brenner': 'The real world was not yet ready for a full-blown gangster drama in 1927.', 'Fernando F. Croce': \"Josef von Sternberg's Underworld is a fascinating early cornerstone of both the director's worldview and the gangster genre.\", 'Mordaunt Hall': 'Largely through the competent work of Messrs. Bancroft and Brook, Mr. von Sternberg gives a better idea of his powers as a director.', 'Tony Rayns': \"The film radiates total confidence in its own means and methods, and the themes are wholly Sternberg's.\", 'Film4 Staff': 'A great silent gangster film which had considerable influence on the classic crime dramas of the early 1930s.', 'Dennis Schwartz': 'Considered to be the first modern gangster film, where the criminals are the antihero heroes.', 'Dave Kehr': 'The first full-fledged gangster movie and still an effective mood piece.'}",
         "16",
         "2",
         "18",
         "Underworld",
         "2014-04-01",
         "80.0",
         "['crime', 'drama']",
         null,
         "Josef von Sternberg",
         "Charles Furthman,Robert N. Lee",
         "When high class hooker Nicole is kidnapped from her brothel, Rich businessman Hugo Motherskille hires her ex love Roy Bain to find her. Investigating the disappearance, he eventually finds traces that lead to Dr. Savary, who has produced a strange white powder that's coveted by a race of deformed human beings who live in the underworld in the sewers below the city."
        ]
       ],
       "shape": {
        "columns": 14,
        "rows": 5
       }
      },
      "text/html": [
       "<div>\n",
       "<style scoped>\n",
       "    .dataframe tbody tr th:only-of-type {\n",
       "        vertical-align: middle;\n",
       "    }\n",
       "\n",
       "    .dataframe tbody tr th {\n",
       "        vertical-align: top;\n",
       "    }\n",
       "\n",
       "    .dataframe thead th {\n",
       "        text-align: right;\n",
       "    }\n",
       "</style>\n",
       "<table border=\"1\" class=\"dataframe\">\n",
       "  <thead>\n",
       "    <tr style=\"text-align: right;\">\n",
       "      <th></th>\n",
       "      <th>id</th>\n",
       "      <th>originalScore</th>\n",
       "      <th>reviewText</th>\n",
       "      <th>PositiveCount</th>\n",
       "      <th>NegativeCount</th>\n",
       "      <th>TotalReviews</th>\n",
       "      <th>title</th>\n",
       "      <th>releaseDateStreaming</th>\n",
       "      <th>runtimeMinutes</th>\n",
       "      <th>genre</th>\n",
       "      <th>originalLanguage</th>\n",
       "      <th>director</th>\n",
       "      <th>writer</th>\n",
       "      <th>plot</th>\n",
       "    </tr>\n",
       "  </thead>\n",
       "  <tbody>\n",
       "    <tr>\n",
       "      <th>0</th>\n",
       "      <td>009_re_cyborg</td>\n",
       "      <td>['2/5', nan, nan, '2/5', '3/5', '2/5', '2/5', ...</td>\n",
       "      <td>{'Joseph Walsh': \"Despite its good looks, ther...</td>\n",
       "      <td>3</td>\n",
       "      <td>10</td>\n",
       "      <td>13</td>\n",
       "      <td>009 Re: Cyborg</td>\n",
       "      <td>2015-07-28</td>\n",
       "      <td>103.0</td>\n",
       "      <td>['action', 'sci-fi', 'animation']</td>\n",
       "      <td>Japanese</td>\n",
       "      <td>Kenji Kamiyama</td>\n",
       "      <td>Kenji Kamiyama</td>\n",
       "      <td>009 Re:Cyborg follows a group of nine cyborgs,...</td>\n",
       "    </tr>\n",
       "    <tr>\n",
       "      <th>1</th>\n",
       "      <td>10</td>\n",
       "      <td>['4/5', '6/10', '8/10', '2.5/4', '6/10', '4/5'...</td>\n",
       "      <td>{'Eddie Harrison': \"'It's probably the writer/...</td>\n",
       "      <td>16</td>\n",
       "      <td>8</td>\n",
       "      <td>24</td>\n",
       "      <td>10</td>\n",
       "      <td>1997-09-03</td>\n",
       "      <td>122.0</td>\n",
       "      <td>['romance', 'comedy']</td>\n",
       "      <td>English</td>\n",
       "      <td>Blake Edwards</td>\n",
       "      <td>Blake Edwards</td>\n",
       "      <td>A Hollywood songwriter goes through a mid-life...</td>\n",
       "    </tr>\n",
       "    <tr>\n",
       "      <th>2</th>\n",
       "      <td>1000013_12_angry_men</td>\n",
       "      <td>[nan, nan, nan, nan, nan, nan, '4.0/4.0', '10/...</td>\n",
       "      <td>{'Sean Axmaker': 'It&amp;#8217;s a near perfect mi...</td>\n",
       "      <td>58</td>\n",
       "      <td>0</td>\n",
       "      <td>58</td>\n",
       "      <td>12 Angry Men</td>\n",
       "      <td>2008-03-04</td>\n",
       "      <td>95.0</td>\n",
       "      <td>['drama']</td>\n",
       "      <td>English</td>\n",
       "      <td>Sidney Lumet</td>\n",
       "      <td>Reginald Rose</td>\n",
       "      <td>The defense and the prosecution have rested an...</td>\n",
       "    </tr>\n",
       "    <tr>\n",
       "      <th>3</th>\n",
       "      <td>10000604-porgy_and_bess</td>\n",
       "      <td>[nan, '4/10', 'B-', nan, nan, nan, nan, nan, n...</td>\n",
       "      <td>{'Austin Faricy': 'The production, lavish in t...</td>\n",
       "      <td>34</td>\n",
       "      <td>13</td>\n",
       "      <td>47</td>\n",
       "      <td>Porgy and Bess</td>\n",
       "      <td>NaN</td>\n",
       "      <td>138.0</td>\n",
       "      <td>['drama', 'musical', 'romance']</td>\n",
       "      <td>English</td>\n",
       "      <td>Otto Preminger,Rouben Mamoulian</td>\n",
       "      <td>Dorothy Heyward,DuBose Heyward,DuBose Heyward,...</td>\n",
       "      <td>Set in the early 1900s in the fictional Catfis...</td>\n",
       "    </tr>\n",
       "    <tr>\n",
       "      <th>4</th>\n",
       "      <td>10000735-underworld</td>\n",
       "      <td>[nan, nan, nan, '7/10', '4/4', '3.5/4', nan, n...</td>\n",
       "      <td>{'Roy Chartier': 'Many things combine to make ...</td>\n",
       "      <td>16</td>\n",
       "      <td>2</td>\n",
       "      <td>18</td>\n",
       "      <td>Underworld</td>\n",
       "      <td>2014-04-01</td>\n",
       "      <td>80.0</td>\n",
       "      <td>['crime', 'drama']</td>\n",
       "      <td>NaN</td>\n",
       "      <td>Josef von Sternberg</td>\n",
       "      <td>Charles Furthman,Robert N. Lee</td>\n",
       "      <td>When high class hooker Nicole is kidnapped fro...</td>\n",
       "    </tr>\n",
       "  </tbody>\n",
       "</table>\n",
       "</div>"
      ],
      "text/plain": [
       "                        id                                      originalScore  \\\n",
       "0            009_re_cyborg  ['2/5', nan, nan, '2/5', '3/5', '2/5', '2/5', ...   \n",
       "1                       10  ['4/5', '6/10', '8/10', '2.5/4', '6/10', '4/5'...   \n",
       "2     1000013_12_angry_men  [nan, nan, nan, nan, nan, nan, '4.0/4.0', '10/...   \n",
       "3  10000604-porgy_and_bess  [nan, '4/10', 'B-', nan, nan, nan, nan, nan, n...   \n",
       "4      10000735-underworld  [nan, nan, nan, '7/10', '4/4', '3.5/4', nan, n...   \n",
       "\n",
       "                                          reviewText  PositiveCount  \\\n",
       "0  {'Joseph Walsh': \"Despite its good looks, ther...              3   \n",
       "1  {'Eddie Harrison': \"'It's probably the writer/...             16   \n",
       "2  {'Sean Axmaker': 'It&#8217;s a near perfect mi...             58   \n",
       "3  {'Austin Faricy': 'The production, lavish in t...             34   \n",
       "4  {'Roy Chartier': 'Many things combine to make ...             16   \n",
       "\n",
       "   NegativeCount  TotalReviews           title releaseDateStreaming  \\\n",
       "0             10            13  009 Re: Cyborg           2015-07-28   \n",
       "1              8            24              10           1997-09-03   \n",
       "2              0            58    12 Angry Men           2008-03-04   \n",
       "3             13            47  Porgy and Bess                  NaN   \n",
       "4              2            18      Underworld           2014-04-01   \n",
       "\n",
       "   runtimeMinutes                              genre originalLanguage  \\\n",
       "0           103.0  ['action', 'sci-fi', 'animation']         Japanese   \n",
       "1           122.0              ['romance', 'comedy']          English   \n",
       "2            95.0                          ['drama']          English   \n",
       "3           138.0    ['drama', 'musical', 'romance']          English   \n",
       "4            80.0                 ['crime', 'drama']              NaN   \n",
       "\n",
       "                          director  \\\n",
       "0                   Kenji Kamiyama   \n",
       "1                    Blake Edwards   \n",
       "2                     Sidney Lumet   \n",
       "3  Otto Preminger,Rouben Mamoulian   \n",
       "4              Josef von Sternberg   \n",
       "\n",
       "                                              writer  \\\n",
       "0                                     Kenji Kamiyama   \n",
       "1                                      Blake Edwards   \n",
       "2                                      Reginald Rose   \n",
       "3  Dorothy Heyward,DuBose Heyward,DuBose Heyward,...   \n",
       "4                     Charles Furthman,Robert N. Lee   \n",
       "\n",
       "                                                plot  \n",
       "0  009 Re:Cyborg follows a group of nine cyborgs,...  \n",
       "1  A Hollywood songwriter goes through a mid-life...  \n",
       "2  The defense and the prosecution have rested an...  \n",
       "3  Set in the early 1900s in the fictional Catfis...  \n",
       "4  When high class hooker Nicole is kidnapped fro...  "
      ]
     },
     "execution_count": 21,
     "metadata": {},
     "output_type": "execute_result"
    }
   ],
   "source": [
    "merged_df = pd.merge(df, df_combined, on='title', how='inner')\n",
    "print(f\"Merged DataFrame shape: {merged_df.shape}\")\n",
    "merged_df.head()"
   ]
  },
  {
   "cell_type": "code",
   "execution_count": 22,
   "id": "17cade7e",
   "metadata": {},
   "outputs": [
    {
     "name": "stdout",
     "output_type": "stream",
     "text": [
      "Title: Babel\n",
      "Streaming Release Date: 2007-02-20\n",
      "Runtime (minutes): 142.0\n",
      "Genre: ['drama']\n",
      "Language: Arabic\n",
      "Director: Alejandro González Iñárritu\n",
      "Writer: Guillermo Arriaga\n",
      "\n",
      "Review Texts: {'Murtada Elfadl': 'Blanchett and Pitt are playing a version of the &quot;ugly Americans abroad&quot; trope&#46; The film does not shy away from presenting them as entitled despite the circumstances that they are in&#46;', 'Catherine Springer': 'Unlike Crash, where the characters felt like cartoons and stereotypes, these characters are fleshed out and real, and the performances are first-rate, with a performance from Brad Pitt that is his most mature work.', 'Jason Adams': 'I have to wonder if Iñárritu knows how to find any meaning in the endless barrage of misery that spills out of him without tricking it out in some sort of multi-cultural pluralistic hodgepodge of time-looping bull', 'Rosa Parra': 'A look at the interconnectedness between human beings internationally. How our actions and decisions can affect/impact people around us and even in other countries.', 'Mike Massie': 'The acting is exceptional, allowing the loosely connected storylines to garner greater gravity.', 'David Lamble': 'See Babel while it still illuminates a big screen, for all the clues it contains about our times, as we babble more and more about less and less.', 'Mattie Lucas': '[Iñarritu] has captured humanity in all of its flawed glory - fallen yet beautiful, tragic yet hopeful - all crying out to be heard.', 'Namrata Joshi': \"There are moments when a lot is left unsaid. There's a remarkable stillness and delicacy as the music and images interplay and do all the talking.\", 'PJ Nabarro': 'An irredeemably overdetermined, far-fetched and transparently schematic piece.', 'Megan Basham': \"On a practical level it's hard not to see that nearly every calamity in Babel could have been avoided had the characters exercised better judgment\", 'Heather Huntington': nan, 'Matthew Pejkovic': \"Babel is a beautifully depressing film about responsibility, redemption, and ultimately that there are consequences to people's actions, regardless of who they are and where they live.\", 'Fernando F. Croce': \"The gimmick-machinery whirrs, but the human beings in it can't breath\", 'James Wegg': 'Director Alejandro Gonz&aacute;lez I&ntilde;&aacute;rritu and writer Guillermo Arriaga have fashioned their ideas with conviction and obvious care.', 'Felix Vasquez Jr.': 'An ensemble cast, low-key drama, and tolerable political commentary make \"Babel\" a gripping success.', 'Brian Marder': nan, 'Jonathan Kiefer': nan, 'Thomas Peyser': 'Babel...belongs to an unfortunately proliferating genre that might be called the higher kitsch.', 'Brandon Fibbs': '...language acts more as a means to distance and isolate us than aid in our understanding of one another.', 'Rob Gonsalves': 'A lumbering&#44; stitched-together mess&#46;', 'Moira Sullivan': 'Babel directed by Alejandro Gonzalez Inarritu is one of the most compelling films to date.', 'Joe Lozito': nan, 'Anton Bitel': 'an affecting examination of disconnected lives in an interconnected world.', 'Brian Webster': 'Smart, interesting to look at, and courageous, this is one of the best films of 2006.', 'Michael Wade Simpson': \"There is some hope, in Iñárritu's world, each of the characters may have a family and love, but this is shown to be, at best, a diversion against the real world, which is a much more intolerable, incomprehensive place.\", 'Brian Tallerico': 'The kind of film that will echo deep in your soul.', 'Cole Smithey': 'Alejandro González Iñárritu and screenwriter Guillermo Arriaga cap off the trilogy of films that began with \"Amores Perros\" and \"21 Grams\" with a rich and engrossing drama.', 'Michelle Orange': 'A better title for this film would have been \"Murphy\\'s Law,\" as Inarritu has a relentless grip on the banality of its tenets.', 'Mark Holcomb': \"Alejandro González Iñárritu's latest sprawling, dispersed art-film blockbuster prompts a question: Does he just not know how to tell a story?\", 'Alex Sandell': 'Rubbish so pretentious it would make the folks behind Crash begin to blush.', 'Luis Martinez': 'Babel es más que eso, es contradicción y antítesis, es la obra cumbre y gloriosa de un visionario en un retrato triste y dramático de nuestro mundo.', 'Philip French': 'An impressive, beautifully acted work with a tragic sense of life. The formality of its structure controls a seething anger.', 'Peter Bradshaw': 'Well acted and handsomely photographed, but still extraordinarily overpraised and overblown, a middlebrow piece of near-nonsense: the kind of self-conscious arthouse cinema that is custom-tailored and machine-tooled for the dinner-party demographic.', 'Pablo Villaça': 'Acaba trazendo [seu diretor e seu roteirista] em um caminho que já percorreram duas vezes %u2013 só que, aqui, eles o fazem de maneira bem mais esquemática, melodramática e, conseqüentemente, menos interessante.', 'Matthew De Abaitua': \"You can't make the same film three times and not expect people to carp. Go and see it with politically-minded friends and thrash it out afterwards over coffee.\", 'Enrique Buchichio': 'Si algún mérito tiene González Iñárritu (además de la conducción de un buen elenco) es el de haber sido capaz de dar a una película menor y pretenciosa la forma de un cine supuestamente original e importante.', 'Stella Papamichael': \"Babel can be unnecessarily convoluted, ultimately though it's the stark simplicity of the dilemmas faced by each character that hits home, wherever that may be.\", 'Dave Calhoun': 'If misery is your pornography, Babel is your holy grail.', 'Neil Smith': 'For all its contrivances, Babel offers a gripping treatise on fate, chance and language with an epic sweep that leaves you marvelling at its ambition.', 'Mark Adams': 'Well structured, but rather cold.', 'Uri Lessing': \"The film takes its main characters, spreads them out all over the world, and subjects them to emotionally and physically tortuous situations. Think last year's Crash on a global scale.\", 'Ted Murphy': 'The idea of the ripple effect of events has been handled by other movies that I somehow was hoping there would be something deeper or more meaningful in the message of Babel.', \"James O'Ehley\": 'When bad things happen to stupid people, are we supposed to care?', 'Ian Freer': 'It may be too slow for some tastes, but Babel remains emotionally bruising but compulsive viewing.', 'Jordan Hiller': 'The fact that someone was so inspired by our pathetic and pitiable inability to communicate with our fellow man to craft a film with that message and that message alone is noteworthy.', 'David N. Butterworth': '\"Babel\" is a well-intentioned -- and finely acted -- tower of power that might have worked better had its theme of universal communication difficulties been better integrated.', 'Kam Williams': 'Feelbad experiences abound in modern morality play.', 'Urban Cinefile Critics': 'Actions, reactions and consequences are the themes of Babel, an intense and gripping drama that explores the closely connected chain of humanity that links us inextricably to each other.', 'Michael A. Smith': '...once again Pitt has cast aside the exterior to bring out the character inside. A scene where he breaks down and sobs while talking to his son is heartbreaking.', 'Lisa Johnson': \"Iñárritu not only tries to pull the heart strings with children weeping; there's also the completely gratuitous side story about Asian teens in short skirts sans panties.\", 'Victoria Alexander': 'An emotionally visceral and empathetic triumph.', 'Gina Carbone': \"Looking back, there are so many moments of beauty in Babel, mostly born of frustration and empathy with these characters. So why doesn't it connect?\", 'Greg Maki': '... Harrowing, compelling viewing.', 'Rex Roberts': 'Earnest to a fault and depressing beyond reason, the film is unrelenting in its attempts to wrap the world in a shroud of fatalism.', 'Forrest Hartman': \"Babel is arresting thanks to the complexities of the storytelling and Inarritu's deft ability to massage the audience.\", 'Mark R. Leeper': 'This is a moving but very downbeat film. The stories do not add up to much other than to say that bad things happen.', 'Mike McGranaghan': \"Babel is the kind of movie I would recommend to a specific audience. If you don't mind sitting and soaking up the little details and absorbing a theme as deep as it will go, then you may agree that this film is quite rewarding.\", 'James Kendrick': 'a collection of often powerful scenes in search of something grand to say', 'Christopher Smith': 'If you know and love the work of Mexican-born director Alejandro Gonzalez Inarritu, you understand going into his films that you must do so armed with a good deal of trust. His latest, \"Babel,\" is no exception.', 'Ross Anthony': 'Bleak, edgy, hyper-real. Purposely depleted of warm colors. Pitt and Blanchett only appear intermittently (and not terribly dynamically). An art-type film in three countries.', 'Susan Tavernetti': \"Babel doesn't snap pieces of a plot puzzle together to satisfy a viewer. It's not that kind of a film. Immediate gratification comes in the form of vibrant, impressionistic scenes.\", 'John Wirt': \"Babel is skillful filmmaking, but the film's whole is less than its parts. After the drama ends, little has been learned.\", 'Donald Munro': \"Riveting and eloquent. One of the year's best.\", 'Mark Dujsik': \"The film's ambition, unfortunately, exceeds its reach, let alone its grasp.\", 'Robert Roten': 'Similar in tone to Iñárritu\\'s earlier film, \"21 Grams,\" but not as effective.', 'Ken Hanke': \"A film that's more to be admired than liked, more to be thought about than felt. It's a good film -- maybe close to a great one -- but one that I have no desire to revisit.\", 'Steven Snyder': \"It's a complicated film, and at times a convoluted story, which is held together by its impressive array of performances.\", 'Steve Rhodes': 'The lethargically paced Babel alternates between being kind of boring to being mildly interesting', 'Thomas Delapa': \"If Crash drove you to distraction, then thou best stay away from Babel, this year's towering exercise in socio-political-psycho babble.\", 'Linda Cook': 'An amazing, disturbing drama, \"Babel\" is a puzzle of film that pieces itself together bit by bit.', 'Joseph Proimakis': 'full review in Greek', 'Diana Saenger': 'Throughout the film the unpredictability, different and unique characters and the fast pace fuels the intrigue.', 'Beth Accomando': 'Iñárritu is an exceptionally gifted director who makes each individual scene in Babel work beautifully. However, he runs into trouble as he attempts to pull all the plot strands together.', 'Tony Medley': \"While this might not be for everyone, certainly not for the lazy, it is a brilliant piece of movie-making. It grabs you and doesn't let go.\", 'Dennis Schwartz': '... settles for being a decent but contrived and unmoving psychological drama.', 'David Elliott': 'Long, belabored, terminally solemn despite some vigor, and numbingly sentimental under a tough surface, this is a serpentine coiling of three modestly connected and episodic stories.', 'Carla Meyer': \"It's in the more natural-seeming spurts of joy, rather in the less organic moments of crisis, that Babel makes its best argument for a universal experience.\", 'Jack Garner': \"Babel expresses a great yearning for an understanding that straddles all our borders. It's among the best films of the year.\", 'Roger Moore': \"It's a great film made with style and heart and hope, a cautionary parable and an almost certain Oscar contender.\", 'Shawn Levy': 'There are passages in all of his films -- in Babel they include a wedding in Mexico, a car chase in the desert, and a night at a Tokyo disco -- that absolutely bristle with inspired energy and dazzling photography, sound and editing.', 'Rene Rodriguez': \"The experience of watching Babel is undeniably riveting: Even if the film doesn't really lead anywhere, you still can't take your eyes off it.\", 'Robert W. Butler': \"Because of its thematic flaws, Babel isn't the masterpiece some are claiming. Yet it remains powerful stuff, a glum but concerned look at how a seemingly isolated event can affect lives on the other side of the globe.\", 'Jeff Vice': 'The film is not always successful at doing so, and not all of the plot lines work as well as others. But there are strong performances and an intriguing look at the subject matter.', 'John Beifuss': 'Inarritu is the auteur as puppet master -- a Dr. Mabuse of the art house.', 'Amy Biancolli': \"[Iñárritu] remains as entranced as ever by fate, loss and the interconnectedness of humankind, and I admire him for it. But Babel isn't the last or best word on that subject. It's just a lot of talk.\", 'Duane Dudek': 'The result is, ultimately, a portrait of the global village being built on a foundation of bad judgments made in good faith on a daily basis, which we barely survive by the skin of our teeth and through the kindness of strangers.', 'Robert Denerstein': \"True to its title, Babel hinges on missed and faulty communications of both the personal and the cultural variety. It's a sweeping movie about characters who often suffer from tunnel vision.\", \"Sean O'Connell\": \"Finds a tense undercurrent (that) keeps us involved through the film's moderate pace and constant narrative shuffling.\", 'Nick Rogers': 'Being diplomatic because of Inarritu and Arriaga\\'s past success isn\\'t worth it, given the irony that a story about communication breakdown so woefully fails to connect. \"Babel\" is a bore.', 'Michael Booth': 'Babel is the masterful third installment in this trilogy of truth and consequence.', 'Bill Muller': \"As each story comes to its conclusion, some characters rise above, while others are crushed under the weight of the day's events. The tales are equal parts miracle and tragedy. And that's often what life is, which makes Babel ring true.\", 'Alex Billington': 'This is a movie where the intriguing stories are crafted perfectly by a master storyteller.', 'Lori Hoffman': \"... [Alejandro Iñárritu's] plea for improved global communication ... squanders fine performances in a film that is engulfed by the director's pretentious mindset.\", 'Matt Brunson': \"There's a lot to chew over in Babel. But because it's overstuffed, it also means that there's a lot not worth swallowing.\", 'Philip Martin': 'From the past to the present to the future, from savagery to civilization to a kind of cybernetic autism. Babel does what a movie can do. It whisks us away.', 'Daniel M. Kimmel': 'Like the famous Biblical tower, Babel is ultimately too much noise and more of a monument to the ego of its creators than an achievement in itself.', 'Eric D. Snider': 'Has an unwelcome sense of self-importance and heavy-handedness.', 'Nell Minow': \"The film's sympathy for all of its characters is in itself the answer, or at least the beginning of one, to the questions it raises.\", 'Steve Crum': \"Except for the rather contrived Tokyo link, 'Babel' is as good as 'Crash.' It is definitely worth seeing, but take a deep breath first.\", 'Bill Clark': 'How much you enjoy Babel will be based entirely on your degree of cynicism.', 'Richard Roeper': 'One of the most challenging and saddest movies of the year -- and also one of the most memorable.', 'Marc Savlov': \"It's a masterful film, the kind you itch to see twice or more, as elliptical as a dream and as direct as the short sharp shock of lead kissing flesh.\", 'Phoebe Flowers': 'Gripping, patient and utterly enchanting, it is a marked growth for Iñárritu and Arriaga, who have taken a precarious conceit and transformed it into one of the most powerful movies of the year.', 'Lou Lumenick': \"[Babel] is, in short, one of the year's best movies.\", 'Lawrence Toppman': 'At its best, Babel expresses the emotions that link of all of us, even if we have no way to share them. I just wish it did a better job of communicating them.', 'Jonathan Rosenbaum': \"The filmmakers don't seem to understand or care much about many of these people, but they use them to unload ideas about violence, communication, and tribal misunderstandings -- trading on suffering as they aim for cosmic wisdom.\", 'Eleanor Ringel Cater': \"Good intentions don't always make good movies. And this one simply wasn't worth their effort.\", 'James Sanford': \"fascinating, sprawling drama ...an ambitious, engrossing piece of work that builds on the promise shown in Innaritu's first two features.\", 'Phil Villarreal': 'If last year\\'s best-picture Oscar winner, \"Crash,\" argued, \"Can\\'t we all just get along?\" \"Babel\" counters, \"Let\\'s stop traveling and talking to each other.\"', 'John Thomason': \"At two and a half hours, it's never boring but has trouble connecting the disparate characters into a cohesive whole. In fact, the Japanese story, while providing many beautiful, graceful moments, belongs to another movie entirely.\", 'Eric Melin': \"No character is on hand to neatly tie up the film's themes (like how we all Crash into each other), and there is an overall feeling of empathy that does not come at the expense of a realistic ending.\", 'Mark Palermo': \"Through it all is the motif of children at prey in a social order that's ready to destroy them.\", 'Pete Hammond': 'An unqualified triumph from Alejandro Gonzalez Inarritu. World class filmmaking of the highest order.', 'Frank Swietek': \"Like its scriptural model, an impressive structure, but one that doesn't reach the intended emotional heights.\", 'Pete Vonder Haar': \"...here's the most important lesson %u2013 if you're going to a Mexican wedding, make plans to spend the night.\", 'Cherryl Dawson and Leigh Ann Palone': 'This is one of those movies that would work better at home, where you could pause the tape when you need to take a break or fast forward when things start to slow down too much.', 'Ty Burr': \"For a movie that insists on the truth of humanity's mutual dependency, Babel feels disconnected from anything but its own artistic determinism.\", 'Dustin Putman': 'Thought-provoking long after its haunting final frame, Babel is a weighty and complex spellbinder.', 'Geoff Pevere': 'Babel is supposed to be a cry of humanist anguish that echoes -- in four languages -- around the world. Why does it feel as much like an elaborate game of middlebrow post-millennial Clue?', 'Tom Keogh': 'The film is something to see. But despite the dynamism of all those individual moments, Babel looks like an empty edifice.', 'Mick LaSalle': 'In the end, a film of profound ambition is unmasked as one without real purpose, a misguided attempt to make a serious, important statement despite having nothing, really, to say.', 'Carrie Rickey': 'I was shaken, but not stirred.', 'Gary Thompson': 'Babel feels less like the work of an existential moper and more like the evening news.', 'Bruce Kirkland': \"Dark, sophisticated and challenging, this film is a stunning conclusion to Inarritu's trilogy that began with Amores Perros and 21 Grams.\", 'Tom Long': 'Something of a one-note film, albeit a beautifully played note.', 'Terry Lawson': 'An extension and expansion of 21 Grams in every way, and this time proves too much of a mystical thing.', 'Chris Vognar': 'Individually, the stories are beautifully shot, intimately acted and usually engrossing.', 'Mary F. Pols': \"[Inarritu's] eloquence of delivery is remarkable.\", 'Angela Baldassarre': 'Tragedy is so overwhelming in Alejandro Gonzalez Inarritu\\'s \"Babel\" that my anxiety increased throughout the viewing.', 'Jeffrey Overstreet': \"Babel is Arriaga's finest script yet.... But, like Amores Perros and 21 Grams, the film feels like a 21-car pile-up of catastrophes.\", 'Matthew Turner': 'The entire ensemble cast give terrific performances, particularly Kikuchi, whose heart-breaking performance is simultaneously shocking, funny and moving.', 'Brian Orndorf': 'I would be surprised if, after 140 minutes of grim punishment, any audience member could be truly moved by this everlasting symphony of pain.', 'Willie Waffle': 'one of the most dramatic, exciting and moving films of the year.', 'William Arnold': 'Holds you tightly within its grip through its lengthy running time and forces you to empathize with a large cast of international characters and their individual quests in a visceral way.', 'Robin Clifford': 'The world-spanning story has intriguing elements...But, the overall study falls short of the individual stories.', 'Stephen Hunter': \"It's pretty -- oh, what's the word? -- stupid in its dramatization of the silly little connections that unite us, and it's somewhat selective in its choice of them.\", 'Chris Hewitt': \"Babel didn't begin to bug me until afterward, when I was thinking about it and realizing there's less to it than meets the eye. Watching it, though, is an often dazzling experience.\", 'Michael Wilmington': 'It sweeps you along in a tide of cinematic energy and high-voltage drama.', 'Todd Gilchrist': 'In his latest film, Babel, director Alejandro Gonzalez intertwines four stories that are overripe with nail-biting potential and then unleashes them on the audience without mercy. And while this may actually rank as the most challenging, difficult,', 'Matt Pais': 'Satisfies as a story of people thousands of miles apart inextricably intertwined, with the snowball of fate already rolling down the hill.', 'Josh Larsen': 'Coincidence can be a heavy burden for a movie...', 'Andrew Sarris': 'The terrorizing of two sets of children a continent apart may strike some viewers -- and does strike this viewer -- as unduly manipulative.', 'Laura Clifford': \"...while the pair's [Iñárritu and Arriaga] filmmaking skills cannot be denied, the film's emotional resonance is weakened by a feeling of repetition and cliche...\", 'Scott Nash': 'Babel is a movie with its heart in the right place, but like its own characters, its message gets lost in translation.', 'Cynthia Fuchs': 'Babel suggests that violence forges its own kind of language, a means to forge closeness across distances of experience, location, and time.', 'Tom Charity': \"For all its apparent scope, the film's in-your-face fatalism ultimately feels forced. The cumulative effect is more grueling than cathartic, even if it may also be good for the soul.\", 'Eric Lurio': \"The acting is terrific, especially Barraza, who manages to carry the entire segment by herself. The Moroccan kids are really good too, It's a bit long, and in the end doesn't really work all that well.\", 'Noel Murray': \"Until [Babel] hits overload and short-circuits, it's often brilliantly cinematic.\", 'Rich Cline': 'Iñárritu and Arriaga continue their three-pronged approach with this powerfully moving drama.', 'Jeffrey M. Anderson': '[Many] will probably find something profound in this beautiful-looking mishmash, but the profundity exists only in the intent, and not in the execution.', 'Kevin Biggers': 'The ending is cowardly, mawkishly idealistic and, worst of all, panders to the upbeat-ending demands of Hollywood (Babel is the largest financed Iñárritu film).', 'Sara Michelle Fetters': 'The film is a powerhouse, a viscerally charged powder keg of passion, triumph, regret, valor and depression all fighting with one another tooth and nail for supremacy.', 'Maitland McDonagh': \"Provocative elements notwithstanding, there's less than meets the eye to Alejandro Gonzalez Inarritu and Guillermo Arriaga's variations on the theme of miscommunication and devestatingly careless acts.\", 'Timothy Knight': \"...A richly nuanced, at times shattering film that brings Inarritu's Death Trilogy to a stunning close.\", 'Lisa Rose': \"The biblical themes are reflected in the film's multilingual dialogue, broad geographic scope and, you could add, its failed ambitions.\", 'Jack Mathews': \"...A powerful movie that should win all the year's ensemble acting awards.\", 'Bob Strauss': 'Babel swept me up, up, up and carried me away.', 'Luke Y. Thompson': '...A feel-good movie for the politically correct that sets up some intriguing characters and premises but resolves them all with a sledgehammer of self-righteousness.', 'Rob Vaux': \"Iñárritu's spiritual side combines with his insight into human nature to transcend the shakier elements.\", 'Susan Granger': \"Tension-filled and compelling - it's one of the best pictures of 2006!\", 'Kurt Loder': \"At the end, it doesn't really pull together into a seamless vision, but it's filled with sights and scenes that are uniquely absorbing.\", 'Peter Rainer': 'If they really want to appear radical the next time out, my advice is: Tell a single story and tell it well. What a concept.', 'Dave White': nan, 'Coco Forsythe': nan, 'Jeffrey Chen': 'At the simplest level, the movie is several dramas told effectively, and processing the emotions in its most dramatic moments may be the best reward in watching it.', 'Bryant Frazer': \"Obviously concerned with the Big Issues, Iñárritu spends an inordinate amount of time screwing his characters -- and his audience. It doesn't serve him well.\", 'Erik Childress': 'Weaves its power through, instead of above us, in the effort of its own testament that the inner horrors of our time on Earth should be a uniter and not a divider, no matter who the decider might be.', 'Chris Barsanti': 'succeeds only in making noise.', 'Joanne Kaufman': 'The ultimate poor judgment: the decision to put Babel before the camera. That defies comprehension in any language.', 'A.O. Scott': 'Babel possesses unusual aesthetic force, even if it does not seem to be tethered to any coherent idea or narrative logic.', \"Andrew O'Hehir\": \"The problem with Babel isn't that it's a bad movie. It's a good movie, or, more accurately, it's several pieces of good movie, chopped up in service of a pretentious, portentous and slightly silly artistic vision.\", 'Claudia Puig': 'How Iñárritu and screenwriter Guillermo Arriaga seamlessly link these four stories makes for an unconventional film experience that is weighty, thought-provoking and riveting.', 'Carina Chocano': 'The film explores the ways in which cultural assumptions and biases tend to obscure reality even when reality is plain, and the way our perceived differences keep us from finding a human connection to one other.', 'Dana Stevens': 'Makes Crash, another recent film with converging stories and a multicultural cast, look like an undergraduate term paper on race relations.', 'Marcy Dermansky': \"Unrelentingly, unremittingly sad, excruciatingly painful, all for no valid reason, Alejandro González Iñárritu's Babel is a movie to avoid at all costs.\", 'Jan Stuart': \"If Babel falls an inch or three short of greatness, it's always a great ride.\", 'Scott Foundas': \"Babel has an undeniable power, even (or perhaps especially) when it's at its most contrived and implausible.\", 'Frederic and Mary Ann Brussat': 'A multidimensional story that explores what happens when love is ignored, squandered, or annihilated by anger, alienation, hatred and violence. One of the best films of the year.', 'Andy Klein': '...all his films feel overly \"directed\" in the worst sense of the word: the jumbled chronology...and the plotting feel arbitrary: Bad things don\\'t merely happen to his characters; González Iñárritu inflicts these catastrophes on them.', 'Nick Schager': \"There isn't a second when Iñárritu's film feels as if it's replicating life's coincidental nature.\", 'Lisa Schwarzbaum': 'Unflappable desert village life, pulsing Tokyo teen culture, and a vibrant Mexican wedding are treated with reverence and delight, in unsubtle contrast to depictions of people lost in cultural wildernesses.', 'Rex Reed': \"Babel is a brilliant, profound and devastating film that explores the dangers and consequences of what can happen when words fail, communication ceases and all you've got left are feelings. Babel is a masterpiece.\", 'Christy Lemire': 'When [Inarritu] aims at making any sort of large, loud statement, what mostly comes out is noise. In silence, though, he speaks volumes.', 'David Ansen': \"If Babel were a football game, I'd flag it 15 yards for piling on. Others may want to give it an Oscar. To each his own.\", 'Jim Ridley': \"Time perhaps scrambling it's for Alejandro González Iñárritu to stop his narratives.\", 'Edward Douglas': 'Another powerful and unforgettable emotional experience, only slightly marred by its unconventional storytelling technique.', 'James Berardinelli': \"Its complex (yet not mystifying) storytelling, forceful character development, and superb cinematography make this a candidate for one of 2006's best offerings.\", 'Richard Schickel': \"The actors -- including [González Iñárritu's] two big stars -- are all wonderfully real, seemingly as surprised by the depths and dangers of their circumstances and emotions as we are.\", 'David Denby': \"Iñárritu has enough talent to shake up conventional moviemaking. But he still hasn't figured out how to use it.\", 'Harvey S. Karten': 'An original...and on an epic stage.', 'Peter Travers': \"The year's richest, most complex and ultimately most heartbreaking film.\", 'Jules Brenner': 'The connections between the stories develop an underlying sense of irony that works like a last act twist in a crime novel and provides a satisfying feeling of discovery.', 'Ed Gonzalez': 'Comparisons to Crash are fair only up to a point, given how Babel is prone to sacrificing character at the altar of the almighty shock tactic, but the film more accurately brings to mind the schematic, globe-trotting Syriana.', 'Jim Emerson': 'Babel has the very best of intentions, and tries very hard, but cannot bring them to life. What I mean is, it left me cold.', 'Kim Voynar': 'The beauty of Babel is how Iñnáritu weaves all these pieces together to create a unified picture of how language, communication barriers and cultural differences divide us, while simultaneously showing us the commonalities ...', 'Joshua Tyler': \"Babel is depressing, long, boring, and if it's trying to say something important I wasn't able to hear it.\", 'Liam Lacey': 'Ambitious and absorbing for nearly all its 2 1/2-hour running time.', 'Jessica Letkemann': 'What unfolds, courtesy of Innaritu and the excellent cast, is a commentary on how the 21st century is a constantly upset balance of cultures whose every move has repercussions upon each other.', 'Jon Popick': \"I probably won't see a better film this year.\", 'Eugene Novikov': \"Babel is about lack of communication, per its title, and that theme resonates through Inarritu's four stories on levels both global and personal.\", 'Richard Mowe': \"There's a dazzling array of faces, languages and imagery that sears into your soul.\", 'Emanuel Levy': \"Linking personal identities and global politics in a thematically compelling and emotionally touching way, Babel is Innaritu's most ambitious and commercial film to date, easily overcoming narrative weaknesses of contrivance and melodramatic excess.\", 'Ray Bennett': 'This is not a fear-mongering movie, but it is unpredictable and shocking, with compassion hanging on for dear life.', 'Todd McCarthy': '... gripping nearly all the way.'}\n",
      "\n",
      "Movie Plot: Tragedy strikes a married couple on vacation in the Moroccan desert, touching off an interlocking story involving four different families. Four interlocking stories connected by a single gun converge at the end to reveal a complex, tragic story of the lives of humanity around the world and how we truly aren't all that different. In Morocco, a troubled married couple are on vacation trying to work out their differences. Meanwhile, a Moroccan herder buys a rifle for his sons so they can keep the jackals away from his herd. A girl in Japan dealing with rejection, her mother's death, her father's emotional distance, her own self-consciousness, and a disability, deals with modern life in the enormous metropolis of Tokyo, Japan. On the opposite side of the world the married couple's Mexican nanny takes the couple's two children with her to her son's wedding in Mexico, only to meet trouble on the return trip. Combined, it provides a powerful story and an equally-powerful looking glass into the lives of seemingly random people around the world and it shows just how connected we really are. In Morocco, a shepherd buys a powerful rifle for his sons to protect his herd of goats against jackal attacks. The younger decides to test the weapon's range of 3 km and shoots an American woman on a bus--part of a married couple who are trying to mend their marriage with a holiday in Morocco. Due to the incident, in San Diego their Mexican maid travels to Mexico with their children for her son's wedding. Meanwhile in Tokyo, the police try to contact the former owner of the rifle, and his daughter, who is feeling rejected, misunderstands the reason for the investigation. Three concurrent but interrelated stories covering four countries on three continents are presented. Just outside the small town of Tazzarine in the Moroccan desert, goat farmer Abdullah has just purchased a rifle from his neighbor. The rifle is for his eldest son, pre-teen Ahmed, to shoot jackals who have been killing their goats. However, Abdullah's younger son Yussef, who in many ways displays more maturity than his brother, ends up being more natural with the firearm. The boys fool around with it, aiming at various items, testing its shooting distance, and Yussef shoots at a tour bus off in the distance; the boys guess by the actions of the bus that he probably hit it. The two scared boys later learn indirectly that an American tourist was killed on the bu, and they must figure out what to do with this information, which turns out to be incorrect: Susan Jones, did not die immediately from her gunshot wound to the shoulder, but she is seriously wounded. She and her husband Richard were on vacation at the time trying to mend their loving but troubled marriage; they haven't been able to deal with the recent SIDS death of their youngest, Sam. Not only must Richard figure out how to get Susan the medical attention necessary to save her life--the nearest hospital is two hours away--but he must also deal with a busload of fellow passengers who sympathize with the Jones' plight but are concerned about their own health and safety based partly on speculation that Susan's shooting was a terrorist attack. Richard and Susan's time away from their home in San Diego is extended, so their illegal-alien Mexican housekeeper Amelia must continue looking after the Jones' other children, young adolescents Mike and Debbie; however, her own son Luis is getting married in their hometown just across the border in Mexico and Amelia can't find anyone to stay with Mike and Debbie in her absence, so she decides to take them with her, which leads to potential problems as she doesn't have Richard's or Susan's written consent to cross the border with them. She's mainly at the mercy of their chauffeur for the day: her headstrong nephew Santiago. Meanwhile in Tokyo, Chieko Wataya, a deaf teenager, is mourning her mother's recent suicide. At the same time she's reaching her sexual awakening and she's having problems dealing with that because her disability turns off boys her age, so they reject her--so she seeks out that sexual release with older men in inappropriate ways, equating this sex with the love that's now missing from the Wataya household. These issues come to a head when the police come looking for her father, for what she believes is further questioning about whether her mother's death was actually suicide. \"In Gen. 11:9, the name of Babel is etymologized by association with the Hebrew verb balal, 'to confuse or confound'\" (www.wikipedia.org/wiki/babel)...\"Babel\", through a series of misunderstandings, interweaves the unfortunate circumstances of a Moroccan, an American, a Mexican, and a Japanese family. A Moroccan family acquires a rifle to protect their goats. An American woman on a bus tour with her husband is accidentally shot, which is in turn grossly exaggerated by the press, who are quick to label the incident a \"terrorist attack\". The couple's children accompany their long-time caretaker to Mexico to attend her son's wedding, and face problems upon re-entering the United States. A Japanese widower confronts difficulties communicating with his deaf teenage daughter who simply craves human contact. Richard and Susan are a couple from San Diego, California who are vacationing in Morocco while their two children are at home with their Mexican housekeeper Amelia. A rifle finds its way into the hands of a local herdsman's young sons, who recklessly take a shot at a tour bus and hit Susan in the shoulder, causing her severe injury. The distraught Richard calls home to tell Amelia of the situation, who shortly departs for Mexico to attend her son's wedding, with Richard and Susan's children in tow. Disaster thus multiplies, with the situation in Morocco ascribed to terrorists in the media, while Amelia meets with trouble at the Mexican border when she attempts to return to San Diego with Richard and Susan's children. Meanwhile, in Tokyo, a widower tied to the rifle in question, a complex shift of ownership to which the audience is privy, attempts to deal with the memories of his recently-deceased wife and his strained relationship with their deaf teenage daughter.\n",
      "\n",
      "Positive Count: 142\n",
      "Negative Count: 62\n",
      "Total Review Count: 204\n"
     ]
    }
   ],
   "source": [
    "# Select a random index\n",
    "random_index = random.randint(0, len(merged_df) - 1)\n",
    "\n",
    "# Fetch the row\n",
    "random_row = merged_df.iloc[random_index]\n",
    "\n",
    "# Print the full row neatly\n",
    "print(f\"Title: {random_row['title']}\")\n",
    "print(f\"Streaming Release Date: {random_row['releaseDateStreaming']}\")\n",
    "print(f\"Runtime (minutes): {random_row['runtimeMinutes']}\")\n",
    "print(f\"Genre: {random_row['genre']}\")\n",
    "print(f\"Language: {random_row['originalLanguage']}\")\n",
    "print(f\"Director: {random_row['director']}\")\n",
    "print(f\"Writer: {random_row['writer']}\\n\")\n",
    "print(f\"Review Texts: {random_row['reviewText']}\\n\")\n",
    "print(f\"Movie Plot: {random_row['plot']}\\n\")\n",
    "print(f\"Positive Count: {random_row['PositiveCount']}\")\n",
    "print(f\"Negative Count: {random_row['NegativeCount']}\")\n",
    "print(f\"Total Review Count: {random_row['TotalReviews']}\")"
   ]
  },
  {
   "cell_type": "code",
   "execution_count": 23,
   "id": "f9ad6ba2",
   "metadata": {},
   "outputs": [
    {
     "data": {
      "text/plain": [
       "(17769, 14)"
      ]
     },
     "execution_count": 23,
     "metadata": {},
     "output_type": "execute_result"
    }
   ],
   "source": [
    "merged_df.shape"
   ]
  },
  {
   "cell_type": "code",
   "execution_count": 24,
   "id": "2c10fea6",
   "metadata": {},
   "outputs": [
    {
     "data": {
      "application/vnd.microsoft.datawrangler.viewer.v0+json": {
       "columns": [
        {
         "name": "index",
         "rawType": "object",
         "type": "string"
        },
        {
         "name": "0",
         "rawType": "int64",
         "type": "integer"
        }
       ],
       "ref": "e7fdbdf1-3b23-44d8-b399-79897f405b46",
       "rows": [
        [
         "id",
         "0"
        ],
        [
         "originalScore",
         "0"
        ],
        [
         "reviewText",
         "0"
        ],
        [
         "PositiveCount",
         "0"
        ],
        [
         "NegativeCount",
         "0"
        ],
        [
         "TotalReviews",
         "0"
        ],
        [
         "title",
         "0"
        ],
        [
         "releaseDateStreaming",
         "1043"
        ],
        [
         "runtimeMinutes",
         "178"
        ],
        [
         "genre",
         "118"
        ],
        [
         "originalLanguage",
         "240"
        ],
        [
         "director",
         "44"
        ],
        [
         "writer",
         "2619"
        ],
        [
         "plot",
         "0"
        ]
       ],
       "shape": {
        "columns": 1,
        "rows": 14
       }
      },
      "text/plain": [
       "id                         0\n",
       "originalScore              0\n",
       "reviewText                 0\n",
       "PositiveCount              0\n",
       "NegativeCount              0\n",
       "TotalReviews               0\n",
       "title                      0\n",
       "releaseDateStreaming    1043\n",
       "runtimeMinutes           178\n",
       "genre                    118\n",
       "originalLanguage         240\n",
       "director                  44\n",
       "writer                  2619\n",
       "plot                       0\n",
       "dtype: int64"
      ]
     },
     "execution_count": 24,
     "metadata": {},
     "output_type": "execute_result"
    }
   ],
   "source": [
    "merged_df.isnull().sum()    "
   ]
  },
  {
   "cell_type": "code",
   "execution_count": 25,
   "id": "3b8ec24b",
   "metadata": {},
   "outputs": [],
   "source": [
    "merged_df.to_csv('../../data/movie-review-data/plot-movies-reviews.csv', index=False)"
   ]
  },
  {
   "cell_type": "code",
   "execution_count": null,
   "id": "8b53a05f",
   "metadata": {},
   "outputs": [],
   "source": []
  }
 ],
 "metadata": {
  "kernelspec": {
   "display_name": "base",
   "language": "python",
   "name": "python3"
  },
  "language_info": {
   "codemirror_mode": {
    "name": "ipython",
    "version": 3
   },
   "file_extension": ".py",
   "mimetype": "text/x-python",
   "name": "python",
   "nbconvert_exporter": "python",
   "pygments_lexer": "ipython3",
   "version": "3.12.2"
  }
 },
 "nbformat": 4,
 "nbformat_minor": 5
}
