{
 "cells": [
  {
   "cell_type": "code",
   "execution_count": 16,
   "id": "5df64b68",
   "metadata": {},
   "outputs": [],
   "source": [
    "import os\n",
    "import ast\n",
    "import random\n",
    "import pandas as pd\n",
    "import numpy as np\n",
    "import seaborn as sns\n",
    "import matplotlib.pyplot as plt"
   ]
  },
  {
   "cell_type": "code",
   "execution_count": 17,
   "id": "ed26c0c6",
   "metadata": {},
   "outputs": [
    {
     "data": {
      "application/vnd.microsoft.datawrangler.viewer.v0+json": {
       "columns": [
        {
         "name": "index",
         "rawType": "object",
         "type": "string"
        },
        {
         "name": "0",
         "rawType": "object",
         "type": "unknown"
        },
        {
         "name": "1",
         "rawType": "object",
         "type": "unknown"
        }
       ],
       "ref": "705e1590-4abd-40f6-a77c-fc3b62631aec",
       "rows": [
        [
         "id",
         "009_re_cyborg",
         "1-day"
        ],
        [
         "originalScore",
         "['2/5', nan, nan, '2/5', '3/5', '2/5', '2/5', '2/5', '4/5', '3/5', '1/5', '2/5', nan]",
         "['2/5', '2/5', '4/5', '3/5', '3/5', '2/5', '5/5', '3/5', '4/5', '2/5', '2/5', '2/5', '2/5', '3/5', '3/5', '2/5']"
        ],
        [
         "reviewText",
         "{'Joseph Walsh': \"Despite its good looks, there's no escaping 009 Re: Cyborg's tiresome and hollow script.\", 'Philip French': \"It's overlong and, for an animated film, there's too much windy philosophical talk of an ontological kind, dropping the names of Freud and the religious historian Mircea Eliade.\", 'MaryAnn Johanson': 'A whole lotta WTF folded into a derivative, misogynist, and just plain incoherent mess.', 'Derek Malcolm': 'We are treated to superb city landscapes but so much minor detail that you never know who is doing what to whom, or even why.', 'Tom Huddleston': \"It's beautifully animated - the climactic sequence in Earth orbit is breathtaking - and its philosophical digressions are fascinating, if completely bananas.\", 'Andrew Osmond': 'The script is lousy and laughable. Anime fans may be able to take the talky portentousness, but the ideas are ridiculous.', 'Chris Michael': \"We're in a post-9/11 world plagued with terror attacks. Is it an American corporate conspiracy? Or the work of a deity? Cue the obligatory second-half metaphysical blather.\", 'Jennifer Tate': \"The cyborgs' epic search for 'His Voice' quickly becomes a little tenuous and ridiculous, pushing the film into maddening and tedious territory.\", 'Ben Mortimer': 'One of the most ambitious and interesting movies of the last few years.', 'Siobhan Synnot': \"Terrific-looking action sequences alternate with less terrific expository chat. Despite the natter, it's all mildly baffling.\", 'Stephen Kelly': 'Ambitious, perhaps, but hardly entertaining.', 'Owen Williams': 'A disappointingly dated and unpowered Manga update.', 'Anton Bitel': 'The blending of 3DCG characters and traditionally drawn backgrounds offers a spectacular hybrid playground in which half-human robots can work through the shifting allegiances and crises of faith that have marked the new millennium.'}",
         "{'Anna Smith': 'A less gripping, if bleaker, take on the Kidulthood/Adulthood theme, with a few musical numbers thrown in. Authentic, perhaps, but far from a deeply rewarding cinematic experience.', 'Trevor Johnston': 'Woolcock deserves praise for ambition, but this tumbles awkwardly into some netherworld between streetwise musical and social-conscience crime chronicle.', 'Ali Catterall': \"You could call this a 'hip-hopera', a mix of filmmaking and social work, or a shot in the arm for British independent cinema. Just don't call it Bugsy Malone with real bullets.\", 'Kevin Maher': \"It's propulsive stuff that credibly mixes social realism with bursts of musical energy. Just occasionally, though, the movie falls for the gangland glamour - loving shots of guns, cars and posturing bad boys - it claims to despise.\", 'Peter Bradshaw': \"By turns gloomy, frenzied, downbeat and violently melodramatic, Penny Woolcock's gang grime musical throbs intermittently with energy.\", 'Tim Robey': \"Woolcock doesn't strictly glamourise this guns-'n'-babymothers lifestyle, but her shortcuts to gritty pathos are nearly as questionable.\", 'Priscilla Eyles': 'Woolcock has overcome all odds to produce one of the best British flicks since This Is England.', 'Derek Malcolm': \"Undoubtedly well acted and shot, and with a rip-roaring hip-hop score, it's impressively non-moralistic, just showing us how it is. That may be why Birmingham's cinemas have refused to show it.\", 'Sam Wigley': 'The film has a cheeky comic streak that offsets all the streetwise grandstanding.', 'Nigel Andrews': 'A gangsta farrago, convincing neither as street-tough crime drama nor soul-motorised rap show. The performers go through the motions, and emotions, as if reading cue cards.', 'Anthony Quinn': 'The street patois is at times incomprehensible, the plot is a joke and the music is absurdly aggressive.', 'Matthew Turner': \"1 Day is something of a mixed bag but it's ultimately worth seeing for the energy and commitment of its fired-up cast of unknowns.\", 'Robbie Collin': 'The performances are quality and the rapping, written and performed by the cast, is SUPERB - if anything, the film could have done with a lot more of it.', 'Alistair Harkness': \"It's a noble endeavour, but not a particularly successful one, primarily because her cast, as authentic as they are, don't really have the dramatic skills.\"}"
        ],
        [
         "PositiveCount",
         "3",
         "8"
        ],
        [
         "NegativeCount",
         "10",
         "8"
        ],
        [
         "TotalReviews",
         "13",
         "16"
        ],
        [
         "title",
         "009 Re: Cyborg",
         "1 Day"
        ],
        [
         "releaseDateStreaming",
         "2015-07-28",
         null
        ],
        [
         "runtimeMinutes",
         "103.0",
         "90.0"
        ],
        [
         "genre",
         "['action', 'sci-fi', 'animation']",
         "['drama']"
        ],
        [
         "originalLanguage",
         "Japanese",
         "English"
        ],
        [
         "director",
         "Kenji Kamiyama",
         "Penny Woolcock"
        ],
        [
         "writer",
         "Kenji Kamiyama",
         "Penny Woolcock"
        ]
       ],
       "shape": {
        "columns": 2,
        "rows": 13
       }
      },
      "text/html": [
       "<div>\n",
       "<style scoped>\n",
       "    .dataframe tbody tr th:only-of-type {\n",
       "        vertical-align: middle;\n",
       "    }\n",
       "\n",
       "    .dataframe tbody tr th {\n",
       "        vertical-align: top;\n",
       "    }\n",
       "\n",
       "    .dataframe thead th {\n",
       "        text-align: right;\n",
       "    }\n",
       "</style>\n",
       "<table border=\"1\" class=\"dataframe\">\n",
       "  <thead>\n",
       "    <tr style=\"text-align: right;\">\n",
       "      <th></th>\n",
       "      <th>0</th>\n",
       "      <th>1</th>\n",
       "    </tr>\n",
       "  </thead>\n",
       "  <tbody>\n",
       "    <tr>\n",
       "      <th>id</th>\n",
       "      <td>009_re_cyborg</td>\n",
       "      <td>1-day</td>\n",
       "    </tr>\n",
       "    <tr>\n",
       "      <th>originalScore</th>\n",
       "      <td>['2/5', nan, nan, '2/5', '3/5', '2/5', '2/5', ...</td>\n",
       "      <td>['2/5', '2/5', '4/5', '3/5', '3/5', '2/5', '5/...</td>\n",
       "    </tr>\n",
       "    <tr>\n",
       "      <th>reviewText</th>\n",
       "      <td>{'Joseph Walsh': \"Despite its good looks, ther...</td>\n",
       "      <td>{'Anna Smith': 'A less gripping, if bleaker, t...</td>\n",
       "    </tr>\n",
       "    <tr>\n",
       "      <th>PositiveCount</th>\n",
       "      <td>3</td>\n",
       "      <td>8</td>\n",
       "    </tr>\n",
       "    <tr>\n",
       "      <th>NegativeCount</th>\n",
       "      <td>10</td>\n",
       "      <td>8</td>\n",
       "    </tr>\n",
       "    <tr>\n",
       "      <th>TotalReviews</th>\n",
       "      <td>13</td>\n",
       "      <td>16</td>\n",
       "    </tr>\n",
       "    <tr>\n",
       "      <th>title</th>\n",
       "      <td>009 Re: Cyborg</td>\n",
       "      <td>1 Day</td>\n",
       "    </tr>\n",
       "    <tr>\n",
       "      <th>releaseDateStreaming</th>\n",
       "      <td>2015-07-28</td>\n",
       "      <td>NaN</td>\n",
       "    </tr>\n",
       "    <tr>\n",
       "      <th>runtimeMinutes</th>\n",
       "      <td>103.0</td>\n",
       "      <td>90.0</td>\n",
       "    </tr>\n",
       "    <tr>\n",
       "      <th>genre</th>\n",
       "      <td>['action', 'sci-fi', 'animation']</td>\n",
       "      <td>['drama']</td>\n",
       "    </tr>\n",
       "    <tr>\n",
       "      <th>originalLanguage</th>\n",
       "      <td>Japanese</td>\n",
       "      <td>English</td>\n",
       "    </tr>\n",
       "    <tr>\n",
       "      <th>director</th>\n",
       "      <td>Kenji Kamiyama</td>\n",
       "      <td>Penny Woolcock</td>\n",
       "    </tr>\n",
       "    <tr>\n",
       "      <th>writer</th>\n",
       "      <td>Kenji Kamiyama</td>\n",
       "      <td>Penny Woolcock</td>\n",
       "    </tr>\n",
       "  </tbody>\n",
       "</table>\n",
       "</div>"
      ],
      "text/plain": [
       "                                                                      0  \\\n",
       "id                                                        009_re_cyborg   \n",
       "originalScore         ['2/5', nan, nan, '2/5', '3/5', '2/5', '2/5', ...   \n",
       "reviewText            {'Joseph Walsh': \"Despite its good looks, ther...   \n",
       "PositiveCount                                                         3   \n",
       "NegativeCount                                                        10   \n",
       "TotalReviews                                                         13   \n",
       "title                                                    009 Re: Cyborg   \n",
       "releaseDateStreaming                                         2015-07-28   \n",
       "runtimeMinutes                                                    103.0   \n",
       "genre                                 ['action', 'sci-fi', 'animation']   \n",
       "originalLanguage                                               Japanese   \n",
       "director                                                 Kenji Kamiyama   \n",
       "writer                                                   Kenji Kamiyama   \n",
       "\n",
       "                                                                      1  \n",
       "id                                                                1-day  \n",
       "originalScore         ['2/5', '2/5', '4/5', '3/5', '3/5', '2/5', '5/...  \n",
       "reviewText            {'Anna Smith': 'A less gripping, if bleaker, t...  \n",
       "PositiveCount                                                         8  \n",
       "NegativeCount                                                         8  \n",
       "TotalReviews                                                         16  \n",
       "title                                                             1 Day  \n",
       "releaseDateStreaming                                                NaN  \n",
       "runtimeMinutes                                                     90.0  \n",
       "genre                                                         ['drama']  \n",
       "originalLanguage                                                English  \n",
       "director                                                 Penny Woolcock  \n",
       "writer                                                   Penny Woolcock  "
      ]
     },
     "execution_count": 17,
     "metadata": {},
     "output_type": "execute_result"
    }
   ],
   "source": [
    "df = pd.read_csv(\"../../data/movie-review-data/merged_movies_reviews.csv\")\n",
    "df.head(2).T"
   ]
  },
  {
   "cell_type": "code",
   "execution_count": 18,
   "id": "67c79aee",
   "metadata": {},
   "outputs": [
    {
     "data": {
      "text/plain": [
       "(23295, 13)"
      ]
     },
     "execution_count": 18,
     "metadata": {},
     "output_type": "execute_result"
    }
   ],
   "source": [
    "df.shape"
   ]
  },
  {
   "cell_type": "code",
   "execution_count": 19,
   "id": "ef7ea9df",
   "metadata": {},
   "outputs": [
    {
     "name": "stdout",
     "output_type": "stream",
     "text": [
      "Title: Clifford\n",
      "Streaming Release Date: 2016-09-17\n",
      "Runtime (minutes): 89.0\n",
      "Genre: ['kids & family', 'comedy']\n",
      "Language: English\n",
      "Director: Paul Flaherty\n",
      "Writer: William Porter,Steven Kampmann\n",
      "\n",
      "Review Texts: {'Brian Orndorf': \"There's Short's ability to milk moments for everything they're worth, giving the part his all, and such enthusiasm supports the endeavor through some incredibly iffy ideas.\", 'Gene Siskel': \"The kid is obnoxious from start to finish, and the way he fantasizes about his uncle's girlfriend (Mary Steenburgen) is tasteless.\", 'Peter Rainer': \"Clifford, starring Martin Short as a precociously nasty 10-year-old, is not a good movie. It's not even good/bad. But Short has a few of those laugh-out-loud moments.\", 'Jay Boyar': \"Clifford never quite finds its tone. The course of the plot has an inevitability about it that is about as wearying as it is reassuring... And yet Clifford is intermittently hilarious, mainly thanks to Short's performance.\", 'Dennis King': \"Short's bizarre casting is the only reason for Clifford to exist. Aside from that, this is an unimaginative, ill-begotten comedy about a bad little boy.\", 'People Staff': \"Hamstrung by a script that is neither funny nor fanciful enough, Clifford just sits on the screen, as flat as last week's seltzer.\", 'Malcolm Johnson': 'Whether he is pretending to be angelic or flashing satanic looks, Short makes Clifford an often riotous comic creation. And Grodin, with his fussy airs, makes a perfect fall guy.', 'Roger Hurlburt': 'Worthless from start to finish, Clifford is a supreme disaster -- a film that neither Short, Grodin nor Steenburgen will be adding to their resumes.', 'Renee Schonfeld': 'Witless slapstick with leering, obnoxious man-child.', 'TV Guide Staff': 'A weird movie that could have stood to be weirder still.', 'Variety Staff': 'Orion serves up another long-on-the-shelf turkey with this gimmicky, poorly conceived comedy.', 'Jonathan Rosenbaum': \"Now let's have a show of hands: how many want to see Martin Short play a ten-year-old brat who makes everybody miserable and winds up staying with his uncle (Charles Grodin) in Los Angeles for a week?\", 'Neil Cohen': 'A hellish, horrible experience wasting the talents of all involved.', \"Chuck O'Leary\": \"One can't help but laugh at Short's nutty rendition of an unctous little 10-year-old devil, and Grodin's angry reactions are equally funny as his increasingly exasperated uncle.\", 'Emanuel Levy': nan, 'Caffeinated Clint': 'One to cross off your CV Marty', 'Daniel M. Kimmel': nan, 'David Nusair': \"[The film] isn't nearly as bad as it's been made out to be.\", 'Ken Hanke': 'Worse than you can imagine.', 'Blake French': nan, 'Carol Cling': nan, 'Philip Martin': nan, 'Caryn James': 'When Martin puts Clifford on a harrowing hyperspeed version of the Larry the Scary Rex ride, the special effects are impressive, but not worth waiting for.', 'Tony Toscano': nan, 'Linda Cook': nan, 'Scott Weinberg': 'The DVD should come with a free bottle of aspirin.', 'Robert Faires': \"Grodin's a fine foil and Steenburgen has some lovely, loopy bits, but their characters are handled mildly, almost naturalistically, and that spills onto Clifford, too. Which is deadly here.\", 'Desson Thomson': 'Remember when Martin Short was funny?', 'Roger Ebert': 'Clifford is not bad on the acting, directing or even writing levels. It fails on a deeper level still, the level of the underlying conception. Something about the material itself is profoundly not funny. Irredeemably not funny.', 'Chris Hicks': 'Clifford is the worst comedy since Captain Ron or Pure Luck or Cross My Heart... come to think of it, they all starred Martin Short, too.', 'Lois Alter Mark': \"Once you've gotten past the gimmick, the film falls short.\"}\n",
      "\n",
      "Positive Count: 4\n",
      "Negative Count: 27\n",
      "Total Review Count: 31\n"
     ]
    }
   ],
   "source": [
    "# Select a random index\n",
    "random_index = random.randint(0, len(df) - 1)\n",
    "\n",
    "# Fetch the row\n",
    "random_row = df.iloc[random_index]\n",
    "\n",
    "# Print the full row neatly\n",
    "print(f\"Title: {random_row['title']}\")\n",
    "print(f\"Streaming Release Date: {random_row['releaseDateStreaming']}\")\n",
    "print(f\"Runtime (minutes): {random_row['runtimeMinutes']}\")\n",
    "print(f\"Genre: {random_row['genre']}\")\n",
    "print(f\"Language: {random_row['originalLanguage']}\")\n",
    "print(f\"Director: {random_row['director']}\")\n",
    "print(f\"Writer: {random_row['writer']}\\n\")\n",
    "print(f\"Review Texts: {random_row['reviewText']}\\n\")\n",
    "print(f\"Positive Count: {random_row['PositiveCount']}\")\n",
    "print(f\"Negative Count: {random_row['NegativeCount']}\")\n",
    "print(f\"Total Review Count: {random_row['TotalReviews']}\")"
   ]
  },
  {
   "cell_type": "code",
   "execution_count": 20,
   "id": "c1cab04d",
   "metadata": {},
   "outputs": [],
   "source": [
    "# Extracting Movie Plot and Adding It To Our Data\n",
    "df1 = pd.read_csv('../../data/movie-data-csv/amazon-prime.csv')\n",
    "df2 = pd.read_csv('../../data/movie-data-csv/netflix-tv.csv')\n",
    "df3 = pd.read_csv('../../data/movie-data-csv/trailers12k.csv')\n",
    "df4 = pd.read_csv('../../data/movie-data-csv/tmdb.csv', low_memory=False)\n",
    "df5 = pd.read_csv('../../data/movie-data-csv/imdb.csv')\n",
    "df5.rename(columns={'Title': 'title'}, inplace=True)"
   ]
  },
  {
   "cell_type": "code",
   "execution_count": 21,
   "id": "10d973a9",
   "metadata": {},
   "outputs": [],
   "source": [
    "df3['plot'] = df3['plot'].apply(lambda x: ' '.join(ast.literal_eval(x)))"
   ]
  },
  {
   "cell_type": "code",
   "execution_count": 22,
   "id": "e01c102e",
   "metadata": {},
   "outputs": [],
   "source": [
    "df1_subset = df1[['title', 'plot']]\n",
    "df2_subset = df2[['title', 'plot']]\n",
    "df3_subset = df3[['title', 'plot']]\n",
    "df4_subset = df4[['title', 'plot']]\n",
    "df5_subset = df5[['title', 'plot']]"
   ]
  },
  {
   "cell_type": "code",
   "execution_count": 23,
   "id": "064aa8ed",
   "metadata": {},
   "outputs": [
    {
     "name": "stdout",
     "output_type": "stream",
     "text": [
      "(180252, 2)\n"
     ]
    },
    {
     "data": {
      "application/vnd.microsoft.datawrangler.viewer.v0+json": {
       "columns": [
        {
         "name": "index",
         "rawType": "int64",
         "type": "integer"
        },
        {
         "name": "title",
         "rawType": "object",
         "type": "string"
        },
        {
         "name": "plot",
         "rawType": "object",
         "type": "string"
        }
       ],
       "ref": "267d529a-7753-4ff3-8623-c6be3cdee792",
       "rows": [
        [
         "0",
         "The Three Stooges",
         "The Three Stooges were an American vaudeville and comedy team active from 1922 until 1970, best known for their 190 short subject films by Columbia Pictures that have been regularly airing on television since 1958. Their hallmark was physical farce and slapstick. In films, the stooges were commonly known by their actual first names. There were a total of six stooges over the act's run (with only three active at any given time), but Moe Howard and Larry Fine were the mainstays throughout the ensemble's nearly fifty-year run."
        ],
        [
         "1",
         "The General",
         "During America’s Civil War, Union spies steal engineer Johnnie Gray's beloved locomotive, 'The General'—with Johnnie's lady love aboard an attached boxcar—and he single-handedly must do all in his power to both get The General back and to rescue Annabelle."
        ],
        [
         "2",
         "The Best Years of Our Lives",
         "It's the hope that sustains the spirit of every GI: the dream of the day when he will finally return home. For three WWII veterans, the day has arrived. But for each man, the dream is about to become a nightmare."
        ],
        [
         "3",
         "His Girl Friday",
         "Hildy, the journalist former wife of newspaper editor Walter Burns, visits his office to inform him that she's engaged and will be getting remarried the next day. Walter can't let that happen and frames the fiancé, Bruce Baldwin, for one thing after another, to keep him temporarily held in prison, while trying to steer Hildy into returning to her old job as his employee."
        ],
        [
         "4",
         "In a Lonely Place",
         "An aspiring actress begins to suspect that her temperamental boyfriend is a murderer."
        ]
       ],
       "shape": {
        "columns": 2,
        "rows": 5
       }
      },
      "text/html": [
       "<div>\n",
       "<style scoped>\n",
       "    .dataframe tbody tr th:only-of-type {\n",
       "        vertical-align: middle;\n",
       "    }\n",
       "\n",
       "    .dataframe tbody tr th {\n",
       "        vertical-align: top;\n",
       "    }\n",
       "\n",
       "    .dataframe thead th {\n",
       "        text-align: right;\n",
       "    }\n",
       "</style>\n",
       "<table border=\"1\" class=\"dataframe\">\n",
       "  <thead>\n",
       "    <tr style=\"text-align: right;\">\n",
       "      <th></th>\n",
       "      <th>title</th>\n",
       "      <th>plot</th>\n",
       "    </tr>\n",
       "  </thead>\n",
       "  <tbody>\n",
       "    <tr>\n",
       "      <th>0</th>\n",
       "      <td>The Three Stooges</td>\n",
       "      <td>The Three Stooges were an American vaudeville ...</td>\n",
       "    </tr>\n",
       "    <tr>\n",
       "      <th>1</th>\n",
       "      <td>The General</td>\n",
       "      <td>During America’s Civil War, Union spies steal ...</td>\n",
       "    </tr>\n",
       "    <tr>\n",
       "      <th>2</th>\n",
       "      <td>The Best Years of Our Lives</td>\n",
       "      <td>It's the hope that sustains the spirit of ever...</td>\n",
       "    </tr>\n",
       "    <tr>\n",
       "      <th>3</th>\n",
       "      <td>His Girl Friday</td>\n",
       "      <td>Hildy, the journalist former wife of newspaper...</td>\n",
       "    </tr>\n",
       "    <tr>\n",
       "      <th>4</th>\n",
       "      <td>In a Lonely Place</td>\n",
       "      <td>An aspiring actress begins to suspect that her...</td>\n",
       "    </tr>\n",
       "  </tbody>\n",
       "</table>\n",
       "</div>"
      ],
      "text/plain": [
       "                         title  \\\n",
       "0            The Three Stooges   \n",
       "1                  The General   \n",
       "2  The Best Years of Our Lives   \n",
       "3              His Girl Friday   \n",
       "4            In a Lonely Place   \n",
       "\n",
       "                                                plot  \n",
       "0  The Three Stooges were an American vaudeville ...  \n",
       "1  During America’s Civil War, Union spies steal ...  \n",
       "2  It's the hope that sustains the spirit of ever...  \n",
       "3  Hildy, the journalist former wife of newspaper...  \n",
       "4  An aspiring actress begins to suspect that her...  "
      ]
     },
     "execution_count": 23,
     "metadata": {},
     "output_type": "execute_result"
    }
   ],
   "source": [
    "df_combined = pd.concat([df1_subset, df2_subset, df3_subset, df4_subset, df5_subset], ignore_index=True)\n",
    "df_combined.dropna(subset=['title', 'plot'], inplace=True)\n",
    "print(df_combined.shape)\n",
    "df_combined.head()"
   ]
  },
  {
   "cell_type": "code",
   "execution_count": 24,
   "id": "77f91a8b",
   "metadata": {},
   "outputs": [
    {
     "data": {
      "text/plain": [
       "(153454, 2)"
      ]
     },
     "execution_count": 24,
     "metadata": {},
     "output_type": "execute_result"
    }
   ],
   "source": [
    "df_combined = df_combined.drop_duplicates(subset='title', keep='first').reset_index(drop=True)\n",
    "df_combined.shape"
   ]
  },
  {
   "cell_type": "code",
   "execution_count": 25,
   "id": "07b8316c",
   "metadata": {},
   "outputs": [
    {
     "name": "stdout",
     "output_type": "stream",
     "text": [
      "Number of common movie titles: 16491\n"
     ]
    }
   ],
   "source": [
    "common_movie_titles = set(df['title']) & set(df_combined['title'])\n",
    "print(f\"Number of common movie titles: {len(common_movie_titles)}\")"
   ]
  },
  {
   "cell_type": "code",
   "execution_count": 26,
   "id": "16854b88",
   "metadata": {},
   "outputs": [
    {
     "name": "stdout",
     "output_type": "stream",
     "text": [
      "Merged DataFrame shape: (17769, 14)\n"
     ]
    },
    {
     "data": {
      "application/vnd.microsoft.datawrangler.viewer.v0+json": {
       "columns": [
        {
         "name": "index",
         "rawType": "int64",
         "type": "integer"
        },
        {
         "name": "id",
         "rawType": "object",
         "type": "string"
        },
        {
         "name": "originalScore",
         "rawType": "object",
         "type": "string"
        },
        {
         "name": "reviewText",
         "rawType": "object",
         "type": "string"
        },
        {
         "name": "PositiveCount",
         "rawType": "int64",
         "type": "integer"
        },
        {
         "name": "NegativeCount",
         "rawType": "int64",
         "type": "integer"
        },
        {
         "name": "TotalReviews",
         "rawType": "int64",
         "type": "integer"
        },
        {
         "name": "title",
         "rawType": "object",
         "type": "string"
        },
        {
         "name": "releaseDateStreaming",
         "rawType": "object",
         "type": "unknown"
        },
        {
         "name": "runtimeMinutes",
         "rawType": "float64",
         "type": "float"
        },
        {
         "name": "genre",
         "rawType": "object",
         "type": "string"
        },
        {
         "name": "originalLanguage",
         "rawType": "object",
         "type": "unknown"
        },
        {
         "name": "director",
         "rawType": "object",
         "type": "string"
        },
        {
         "name": "writer",
         "rawType": "object",
         "type": "string"
        },
        {
         "name": "plot",
         "rawType": "object",
         "type": "string"
        }
       ],
       "ref": "683cba5c-090d-4588-816f-787387453344",
       "rows": [
        [
         "0",
         "009_re_cyborg",
         "['2/5', nan, nan, '2/5', '3/5', '2/5', '2/5', '2/5', '4/5', '3/5', '1/5', '2/5', nan]",
         "{'Joseph Walsh': \"Despite its good looks, there's no escaping 009 Re: Cyborg's tiresome and hollow script.\", 'Philip French': \"It's overlong and, for an animated film, there's too much windy philosophical talk of an ontological kind, dropping the names of Freud and the religious historian Mircea Eliade.\", 'MaryAnn Johanson': 'A whole lotta WTF folded into a derivative, misogynist, and just plain incoherent mess.', 'Derek Malcolm': 'We are treated to superb city landscapes but so much minor detail that you never know who is doing what to whom, or even why.', 'Tom Huddleston': \"It's beautifully animated - the climactic sequence in Earth orbit is breathtaking - and its philosophical digressions are fascinating, if completely bananas.\", 'Andrew Osmond': 'The script is lousy and laughable. Anime fans may be able to take the talky portentousness, but the ideas are ridiculous.', 'Chris Michael': \"We're in a post-9/11 world plagued with terror attacks. Is it an American corporate conspiracy? Or the work of a deity? Cue the obligatory second-half metaphysical blather.\", 'Jennifer Tate': \"The cyborgs' epic search for 'His Voice' quickly becomes a little tenuous and ridiculous, pushing the film into maddening and tedious territory.\", 'Ben Mortimer': 'One of the most ambitious and interesting movies of the last few years.', 'Siobhan Synnot': \"Terrific-looking action sequences alternate with less terrific expository chat. Despite the natter, it's all mildly baffling.\", 'Stephen Kelly': 'Ambitious, perhaps, but hardly entertaining.', 'Owen Williams': 'A disappointingly dated and unpowered Manga update.', 'Anton Bitel': 'The blending of 3DCG characters and traditionally drawn backgrounds offers a spectacular hybrid playground in which half-human robots can work through the shifting allegiances and crises of faith that have marked the new millennium.'}",
         "3",
         "10",
         "13",
         "009 Re: Cyborg",
         "2015-07-28",
         "103.0",
         "['action', 'sci-fi', 'animation']",
         "Japanese",
         "Kenji Kamiyama",
         "Kenji Kamiyama",
         "009 Re:Cyborg follows a group of nine cyborgs, each of them created by a shadowy organization for use as weapons against humanity. The group turns on their creators to protect the population instead, using the powers given them to fight their creators."
        ],
        [
         "1",
         "10",
         "['4/5', '6/10', '8/10', '2.5/4', '6/10', '4/5', 'B-', '5/5', nan, '4/5', '2.5/5', '4/4', '4/5', '4/5', nan, '1/5', '2/5', '1/5', '2/5', '2/5', '3/5', '3/5', '4/5', nan]",
         "{'Eddie Harrison': \"'It's probably the writer/director's best film outside of the Pink Panther movies, and the portrait of the artist as a dirty aging man is one that still resonates today.'\", 'Sean Collier': 'It has some gags - some are even quite funny - but not nearly enough.', 'Mike Massie': 'A fascinating character study, bittersweet and insightful yet full of tremendous laughs.', 'Peter Canavese': \"10's tossed-off quality keeps it from greatness, but it also distinguishes it from the great mass of contemporary comedies smoothed to a shiny, edgeless formula. [Blu-ray]\", 'John J. Puccio': 'Dudley Moore is periodically funny, Julie Andrews is mostly charming, and Bo Derek is always gorgeous.', 'Cole Smithey': nan, 'Emanuel Levy': \"This passable but not great Blake Edwards picture became known for the huge impact that the beautiful Bo Derek had on hairstyle; Bo's stardom was shortlived, though.\", 'Susan Granger': nan, 'Gary Arnold': 'A sporadically funny, marginally interesting fiasco that might have evolved into a memorable romantic comedy.', 'Michael Szymanski': nan, 'Christopher Null': nan, 'Roger Ebert': \"Blake Edwards's 10 is perhaps the first comedy about terminal yearning. Like all great comedies, it deals with emotions very close to our hearts.\", 'Carol Cling': nan, 'Jon Niccum': 'People tend to forget what a hilarious movie this really is', 'Frederic and Mary Ann Brussat': '\"10\" explores sexual yearning in a drama that is both funny and right on target with its depiction of the yearnings of men.', 'Nick Davis': 'Sexist, juvenile, and pathetically structured, despite the gamest efforts of its actors and the blithe willingness of its famous non-actor.', 'Ken Hanke': 'It was a big hit. I have never understood why.', 'Alex Sandell': \"And oh, the irony, that the film only deserves a '1.'\", 'Joshua Tanzer': nan, 'Gerry Shamray': 'Highly over-rated Dudley Moore comedy.', 'Philip Martin': nan, 'Bob Grimm': nan, 'Scott Weinberg': 'Obvious but entertaining portrayal of midlife crisis gone horribly awry.', 'Tim Dirks': '10 (1979) is known for its numerical rating system for beautiful women. It described itself as \"a temptingly tasteful comedy for adults'}",
         "16",
         "8",
         "24",
         "10",
         "1997-09-03",
         "122.0",
         "['romance', 'comedy']",
         "English",
         "Blake Edwards",
         "Blake Edwards",
         "A Hollywood songwriter goes through a mid-life crisis and becomes infatuated with a sexy blonde newlywed."
        ],
        [
         "2",
         "1000013_12_angry_men",
         "[nan, nan, nan, nan, nan, nan, '4.0/4.0', '10/10', '4.5/5', nan, 'A+', '5/5', nan, nan, '3/4', '84/100', '5/5', '4/4', nan, '3.5/4', '4/4', 'B', '5/5', '4/5', 'B-', '82/100', nan, '5/5', '5/5', '4/5', 'A', nan, nan, 'A', '4/4', '5/5', '4/5', '5/5', '4/5', '5/5', '5/5', '4.5/5', '4/4', '4/5', '5/5', '4/5', '4/4', '5/5', '5/5', '5/5', '5/5', nan, 'A-', '92/100', nan, '9/10', '4/4', nan]",
         "{'Sean Axmaker': 'It&#8217;s a near perfect mix of theme and setting&#44; personal drama and social commentary&#44; a microcosm that suggests an entire world outside the frame &#46;&#46;&#46;', 'Edward Kosmal': \"Sidney Lumet's solid success is achieved without even once resorting to flashbacks or other standard procedures of the film trade. The secret rests in spirited dialogue, realistic setting and, of course, the excellent cast of outstanding character actors.\", 'Jonathan Baumbach': 'Within its simplicity there is a freshness and ingenuousness about Twelve Angry Men uncommon in a slickly sophisticated film industry.', 'André Bazin': 'One has to imagine the dramatic imagination that went into creating this fascinating, psychologically realistic motion picture, which, from start to finish, never changes its subject or its location.', 'Gisela Savdie': 'A court drama that transcends time or place; a real masterpiece. [Full review in Spanish]', 'Sarah Brinks': 'If you have never seen the film I cannot recommend it enough.', 'Richard Propes': \"Reginald Rose's script is one of deep revelation.\", 'Mike Massie': 'Thought-provoking, continually riveting, and absolutely unforgettable - and surprisingly designed around a very simple, tightly budgeted, special-effects-free premise.', 'Mark Jackson': '\"12 Angry Men\" puts the full range of human good and evil on display. It posits that, ultimately, the universe is benevolent, and our job, regarding each other, is to attempt with our best effort and greatest compassion to elucidate and clarify the truth.', 'Clyde Gilmour': \"One of Hollywood's more notable borrowings from television is this Reginald Rose drama about the soul-searchings of a murder-trial jury...\", 'Chris Stuckmann': \"This movie is a masterpiece. That term gets thrown around a lot -- it's a very easy thing to say about great films like this -- but this movie is one of the best. This is one of the very few films that I will call perfect.\", 'Christopher Machell': \"In the 60 years since its release, Sidney Lumet's masterpiece has lost none of its impact. In this age of unreason, 12 Angry Men remains sorely and urgently contemporary.\", 'David Keyes': 'With each new viewing I come away feelings as if I have peeled away another layer on the characters and their buried motives.', 'Fernando F. Croce': 'Lumet in his first film records it as a meticulous laboratory experiment, a clammy orchestra', 'David Nusair': '...the film has aged surprisingly well in the years since its 1957 release.', 'Dan Jardine': 'taut, well-crafted sociological study', 'Joshua Rothkopf': \"Too few films take on the art of arguing as a subject; we could certainly use more of them, but until then, Lumet's window into strained civic duty will continue to serve mightily.\", 'Glenn Heath Jr.': 'The film takes a confined, almost completely banal real-world location and makes it completely dynamic, using incredibly nimble camera movements to establish character motivation and theme.', 'Felix Vasquez Jr.': 'The cast is incredible, the writing superb, and the film is unparalleled in its sheer excellence.', 'Eric Melin': \"This was Sidney Lumet's first movie and it's as riveting as it was back in the late 50s, when everything was changing.\", 'James Kendrick': 'an incisive and gripping film', 'Dennis Schwartz': 'Lumet keeps things tense, sweaty, suspenseful and entertaining despite the contrived story line.', 'M. Faust': 'Outstanding Henry Fonda jury classic.', 'Matthew Pejkovic': \"A brilliant courtroom drama whose strength lies within the power of Rose's words and Sidney Lumet's great direction (his debut).\", 'Nick Davis': \"12 Angry Men has some shrewd observations to sell about argumentation and group behavior, but they're not the ones of which the film seems most proud.\", 'Hy Hollinger': 'The film leaves a tremendous impact.', 'Christopher Null': \"Every bit the classic it's been made out to be for all these years.\", 'Steve Crum': 'Power house jury room drama w/cast of memorable actors.', 'Cole Smithey': nan, 'Rob Humanick': 'Makes no self-saluting motions to greater importance, which gives the material the much-desired breathing room it needs to reach full potency.', 'Jonathan Rosenbaum': 'Mechanically written, but within its own middlebrow limitations, it delivers the goods.', 'Geoff Andrew': 'A strangely realistic thriller.', 'Emanuel Levy': \"Sidney Lumet's Oscar-nominated feature directing debut is a brilliant courtroom drama, featuring a superlative cast that includes Henry Fonda (also producer), Martin Balsam, Ed Begley, Jack Warden, and E.G. Marshall.\", 'Phil Villarreal': 'A masterful work of debate and dialogue; of shifting momentum and the ideal of sticking to your scruples in the face of antagonistic groupthink.', 'Daniel M. Kimmel': nan, 'Mark R. Leeper': 'This film is a great combination of an adult theme and the treatment suitable for younger audience.', 'Pablo Villaça': 'Ainda que se passe em um nico ambiente, esta obra-prima possui um alcance emocional imensurvel - e  incrvel que tenha sido o primeiro longa-metragem de Lumet.', 'Carol Cling': nan, 'Laura Clifford': nan, 'Jon Niccum': \"One-room dramas don't get much better than this\", 'A.H. Weiler': 'Although it may sound ungallant, these 12 Angry Men, are all right without distaff glamour. Their dramas are powerful and provocative enough to keep a viewer spellbound.', 'Ian Mantgani': 'An intense concentration of power, and my all-time favourite film.', 'Nicolas Lacroix': nan, 'Nell Minow': nan, 'Dan Lybarger': \"Sidney Lumet's debut feels a bit stagy but is never short on tension.\", 'Roger Ebert': 'This is a film where tension comes from personality conflict, dialogue and body language, not action.', 'Rob Vaux': nan, 'John J. Puccio': nan, 'Marty Mapes': nan, 'Scott Weinberg': 'Pure dynamite in movie form.', 'Tim Dirks': '12 Angry Men (1957) is the gripping, penetrating, and engrossing examination of a diverse group of twelve jurors - all male, mostly middle-aged, white, and', 'John A. Nesbit': \"12 Angry Men ranks as the tautest courtroom drama you'll ever see, surpassing Lumet's very good 1982 drama, The Verdict.\", 'Brian Webster': 'While the composition of juries might change over time, the issues and attitudes that are explored here are timeless, as is this classic film.', 'Ian Nathan': \"Thoroughly engaging, there is nothing dated or corny in Reginald Rose's intensely knowing screenplay and Lumet's energetic direction.\", 'Dragan Antulov': 'Completely deserved its high status of undisputed classic.', 'Steve Rhodes': 'In a time of bloated when special effects have become the real stars, going back to a classic like this can remind viewers what movie making is supposed to be about -- acting.', 'Urban Cinefile Critics': 'A film with texture, humour and relevance at all times. All in 91 minutes.'}",
         "58",
         "0",
         "58",
         "12 Angry Men",
         "2008-03-04",
         "95.0",
         "['drama']",
         "English",
         "Sidney Lumet",
         "Reginald Rose",
         "The defense and the prosecution have rested and the jury is filing into the jury room to decide if a young Spanish-American is guilty or innocent of murdering his father. What begins as an open and shut case soon becomes a mini-drama of each of the jurors' prejudices and preconceptions about the trial, the accused, and each other."
        ],
        [
         "3",
         "10000604-porgy_and_bess",
         "[nan, '4/10', 'B-', nan, nan, nan, nan, nan, nan, nan, '4/4', nan, nan, nan, nan, nan, nan, nan, nan, nan, nan, nan, nan, nan, nan, nan, nan, nan, nan, nan, nan, nan, nan, nan, nan, nan, nan, nan, nan, nan, '4/4', 'A-', '3.5/4', nan, nan, '2/5', nan]",
         "{'Austin Faricy': 'The production, lavish in the extreme, backs up the music visually, and the performances all first rate back it up dramatically.', 'Mike Massie': 'Its central notion of uncompromising forgiveness &#8211; Porgy refuses to see Bess&#8217; faults&#44; embracing only her best qualities &#8211; is thoroughly inspirational&#46;', 'Dennis Schwartz': 'The story is trite, but the music is elegant.', 'Chazz Crawford': 'The film does lose the intimate quality of the stage presentation... But the wealth of talent (Pearl Bailey, Sammy Davis, Dorothy Dandridge, Sidney Poitier, Diahann Carroll, Brock Peters and Leslie Scott) play It as if it were a labor of love.', 'Izzy Rowe': 'Goldwyn has done much with it and has given It a dignity and a meaning which never showed through before. He has eliminated the speaking dialect and has given the music a cloak of color which stands your ears on tip-toe.', 'Raoul Abdul': 'I shall never forget how deeply moved I was in a stage version when... Porgy left Catfish Row to find his Bess in far off New York. In this costly new film, at that tragic moment I only thought of what a beautiful shot the cameraman had achieved.', 'Loren Miller': \"Gershwin's music and the general high level of the acting make the movie palatable, but leave it Porgy. It is stale beer served in exquisite silver goblets to the accompaniment of beautiful music.\", 'Florence Epstein': \"Haunting music, beautifully sung and a love story that tears your heart. That's Porgy and Bess.\", 'Marjory Adams': \"As to the players, Dorothy Dandridge as Bess and Sidney Poitier as Porgy couldn't be improved... Sammy Davis Jr. is the evil schemer, Sportin' Life, and he does his own singing -- which is hard, smart and persuasively cynical.\", 'Clyde Reid': 'One good thing about the production is that lots of our younger starlets and budding male stars got a chance to \"spread their wings and strut their stuff\" before a major audience. They may now get a shot at bigger and better roles.', 'Wanda Hale': \"The backbone of this opera is the beautiful, inspiring music with which most of us are familiar. Next in importance is Sidney Poitier's portrayal of Porgy... This performance is the shining light of the film.\", 'Moira Walsh': \"[It's] exquisite to look at and its reproduction of the Gershwin score is well-nigh perfect. To obtain this physical perfection, however, it has sacrificed the universal human appeal which... was what endeared it to audiences all over the world.\", 'Mildred Martin': 'With Robert McFerrin singing for Porgy; Adele Addison for Bess, and Loulie Jean Norman for Clara, these roles are handled with memorable vocal beauty.', 'Robert Hatch': 'The cast had the talent for Porgy and Bess, but Mr. Goldwyn and Mr. Preminger have made them little more than supernumeraries to sensation.', 'Harold V. Cohen': 'Somewhere in Porgy and Bess something is missing. The bursting excitement, in the main. The transfer from the stage to the screen has been accomplished with conscientiousness but without inspiration.', 'George Bourke': '[A] near perfect bit of cinematic art.', 'Jay Carmody': 'Verve and vitality have been sacrificed in the big picture directed by Otto Preminger in favor of spectacle and sentimentality.', 'Helen Bower': 'This Porgy... has done its best to meet the challenge of turning an operetta of this nature into popular entertainment. If it sometimes seems slowed or stagey, the form of the musical melodrama rather than the film itself may have made this unavoidable.', 'Mae Tinee': \"Technically, it's a superb example of painstaking and polished film-making, and, altho there are times when it lacks life and motion, it's still very well worth seeing.\", 'George S. Schuyler': 'This American classic is written, played and presented with a dignity and artistry that so representative an example of American culture deserves.', 'Myles Standish': '[Poitier and Dandridge] convey the torrent of emotion strongly, reinforced by the luminous singing voices of Robert McFerrin and Adele Addison, which were dubbed in.', 'John Bustin': 'Of course, the principal ingredients -- the haunting musical score and the poignant story -- were already on hand, but this production enhances them greatly with a staging that is rich, artful and altogether stirring in every sense.', 'Penelope Gilliatt': \"Otto Preminger's film is ponderous and flat. It has nothing like the spirit of, for instance, his own Carmen Jones.\", 'Philip K. Scheuer': 'The praise must go much beyond these technical marvels. Porgy and Bess would not be the masterpiece it is if the 70-mm. film and the seven-channel sound were not equaled by the human element.', 'William Glover': 'Much of the great Gershwin score is sung by backstage performers -- only Miss Bailey and Davis vocalize on the sound track. But the fusing of actors and voices has been done with remarkable skill.', 'R.H. Gardner': 'In their eagerness to leave everything just as Gershwin left it, the adapters have done very little adapting... Aside from this weakness -- and I consider it a major one -- the Goldwyn Porgy is a commendable job.', 'Sherwin Kane': \"The  production shines with memorable individual performances... Sidney Poitier as Porgy, Dorothy Dandridge as Bess, Brock Peters as Crown, Sammy Davis, Jr. as Sportin' Life and Pearl Bailey as Maria are outstanding.\", 'P.S. Harrison': 'It is a superb production in every sense of the word, beautifully photographed in Technicolor and the Todd-AO process, and enhanced by six-track stereophonic sound that serves to make the famed and familiar [Gershwin] score all the more pleasurable.', 'Hortense Morton (Screen Scout)': \"Performances of excellent caliber are contributed by Diahann Carroll, Ruth Attaway and Earl Jackson. Andre Previn's musical direction is inspiring.\", 'Harold Whitehead': \"Perhaps best and the shortest way of praising this film, and it deserves all the accolades it gets, is to say that for anyone who is not familiar with or has never seen George Gershwin's folk opera, this is the finest possible introduction.\", 'Richard Harrity': '[Porgy and Bess]  has been made into a handsome motion picture by that elder genius of the colossal, Mr. Samuel Goldwyn. In fact, the filming of Porgy and Bess is a bit too handsome and a mite  too pretty, thereby sacrificing compassion for color.', 'Jack Curtis': \"The film version of the famous Broadway production certainly has plenty of somethin'. Specifically, there are brilliant splashes of color, intricate set designs, interesting photography, and an outstanding cast.\", 'Bob Blackburn': \"The pace is pretty hot and heavy without the reliefs that might make it a less exhausting experience. But these are faults, and it isn't faults that distinguish this picture. It's technically superb, musically delightful, and altogether rewarding.\", 'Alexander Walker': '[Preminger] washes the Todd-AO screen with filters to give the action \"mood.\" But I am tired of viewing musicals like this... as If through amber ski-goggles. However, shining through all this are the talents of Sidney Poitier and Dorothy Dandridge.', 'Colin Bennett': '[Porgy and Bess] is handsomely staged -- and \"staged\" is the operative word. This is not really film, but photographed, opera, set in an operatic frame of reference and moving at stage, not film, pace.', 'Times (UK) Staff': 'The overriding impression, however, is one of set scenes. songs and sequences, with the spotlight thrown less on fluid movement than on the conventions of opera and of theatre. This, in the end, amounts more to a subtraction than an addition.', 'SMH Staff': '[Preminger] has achieved a production that is lovely to the ear, sumptuously sombre to the eye (in cinematographer Leon Shamroy\\'s range of ambers and reds), and. occasionally, moving. The \"occasionally\" is the puzzle.', 'Guardian Staff': \"Samuel Goldwyn's production (directed by Otto Preminger) certainly does full justice to the score and that, where the score is relatively feeble, it bolsters up the dramatic action with devices possible on the screen but not on the stage.\", 'Richard Brody': 'Preminger and the cast overcome the opera’s contrivances and stereotypes to recapture Gershwin’s underlying humanistic vision of celebration and deliverance.', 'TIME Staff': 'Porgy and Bess is only a moderate and intermittent success as a musical show; as an attempt to produce a great work of cinematic art, it is a sometimes ponderous failure.', 'Shadow Stage': 'Producer Samuel Goldwyn and director Otto Preminger have assembled it with such artistry and loving care that it almost seems to have been written for the movies.', 'Emanuel Levy': \"One of the most underestimated movie musicals, based on Gershwin's masterpiece, Porgy and Bess receives a lavish production from Otto Preminger in an all-black, Oscar-nominated picture, starring Sidney Poitier and Dorothy Dandridge.\", 'TV Guide Staff': \"The brilliant score by the Gershwins and DuBose Heyward, however, will last forever, while Preminger's veteran cameraman, Leon Shamroy, did a wonderful job and the art direction by Serge Krizman and Joseph Wright is sensational.\", 'Bosley Crowther': 'This is a stunning, exciting and moving film, packed with human emotions and cheerful and mournful melodies. It bids fair to be as much a classic on the screen as it is on the stage.', 'Film4 Staff': \"That it stands as an entertaining spectacle and the director's best musical is secondary in interest to the Hollywood politics surrounding it.\", 'Phil Hall': 'A mediocre curio.', \"Emily O'Neill\": \"Should this Porgy and Bess be locked away? It ain't necessarily so.\"}",
         "34",
         "13",
         "47",
         "Porgy and Bess",
         null,
         "138.0",
         "['drama', 'musical', 'romance']",
         "English",
         "Otto Preminger,Rouben Mamoulian",
         "Dorothy Heyward,DuBose Heyward,DuBose Heyward,N. Richard Nash",
         "Set in the early 1900s in the fictional Catfish Row section of Charleston, South Carolina, which serves as home to a black fishing community, the story focuses on the titular characters, crippled beggar Porgy, who travels about in a goat-drawn cart, and the drug-addicted Bess, who lives with stevedore Crown, the local bully."
        ],
        [
         "4",
         "10000735-underworld",
         "[nan, nan, nan, '7/10', '4/4', '3.5/4', nan, nan, '3.5/4', nan, nan, '3/5', '3.5/4', '3.5/5', nan, nan, 'B-', nan]",
         "{'Roy Chartier': 'Many things combine to make Underworld an absorbing, spellbinding picture. The acting, direction, titles, photography, camera angles, story and action are a few of them.', 'Carl Sandburg': 'Underworld does for the sophisticated adult what football does for the college boy. And Bancroft achieves something of the herculean glory of a gory fullback, with Von Sternberg as his general, showing him the openings, guiding his raging course.', 'Robert E. Sherwood': 'It is the best picture of its type that has ever been made.', 'Yasser Medina': \"This silent gangster drama, signed with a Ben Hecht's script and directed by the great Josef von Sternberg, is one of the first to establish the usual parameters of the gangster genre. [Full review in Spanish]\", 'Mattie Lucas': 'Its luridly evocative look at honor among the gangsters and thieves who populate the Dreamland Cafe of Chicago is the stuff that old Hollywood dreams are made of.', 'Matt Brunson': \"A technical gem that showcases von Sternberg's prowess behind the camera.\", 'Richard Brody': \"Sternberg's richly ornamental compositions-which are dense with shadows and objects that separate viewers from the action-suggest a willful distance from his characters.\", 'Michael E. Grost': 'Gripping, superbly told tale of crooks and their girlfriends.', 'James Kendrick': \"von Sternberg's visual style and the art direction by German émigré Hans Dreier elevate Underworld into something more than a run-of-the-mill crime picture\", 'Sean Axmaker': \"Sternberg's direction is both classical and modern, with an expressive approach to storytelling and his distinctive visual style already apparent...\", 'Variety Staff': \"There's a wallop right through and yet the film retains romance, clicks not a little on comedy and even whitewashes itself with a 'moral.'\", 'Paul Brenner': 'The real world was not yet ready for a full-blown gangster drama in 1927.', 'Fernando F. Croce': \"Josef von Sternberg's Underworld is a fascinating early cornerstone of both the director's worldview and the gangster genre.\", 'Mordaunt Hall': 'Largely through the competent work of Messrs. Bancroft and Brook, Mr. von Sternberg gives a better idea of his powers as a director.', 'Tony Rayns': \"The film radiates total confidence in its own means and methods, and the themes are wholly Sternberg's.\", 'Film4 Staff': 'A great silent gangster film which had considerable influence on the classic crime dramas of the early 1930s.', 'Dennis Schwartz': 'Considered to be the first modern gangster film, where the criminals are the antihero heroes.', 'Dave Kehr': 'The first full-fledged gangster movie and still an effective mood piece.'}",
         "16",
         "2",
         "18",
         "Underworld",
         "2014-04-01",
         "80.0",
         "['crime', 'drama']",
         null,
         "Josef von Sternberg",
         "Charles Furthman,Robert N. Lee",
         "When high class hooker Nicole is kidnapped from her brothel, Rich businessman Hugo Motherskille hires her ex love Roy Bain to find her. Investigating the disappearance, he eventually finds traces that lead to Dr. Savary, who has produced a strange white powder that's coveted by a race of deformed human beings who live in the underworld in the sewers below the city."
        ]
       ],
       "shape": {
        "columns": 14,
        "rows": 5
       }
      },
      "text/html": [
       "<div>\n",
       "<style scoped>\n",
       "    .dataframe tbody tr th:only-of-type {\n",
       "        vertical-align: middle;\n",
       "    }\n",
       "\n",
       "    .dataframe tbody tr th {\n",
       "        vertical-align: top;\n",
       "    }\n",
       "\n",
       "    .dataframe thead th {\n",
       "        text-align: right;\n",
       "    }\n",
       "</style>\n",
       "<table border=\"1\" class=\"dataframe\">\n",
       "  <thead>\n",
       "    <tr style=\"text-align: right;\">\n",
       "      <th></th>\n",
       "      <th>id</th>\n",
       "      <th>originalScore</th>\n",
       "      <th>reviewText</th>\n",
       "      <th>PositiveCount</th>\n",
       "      <th>NegativeCount</th>\n",
       "      <th>TotalReviews</th>\n",
       "      <th>title</th>\n",
       "      <th>releaseDateStreaming</th>\n",
       "      <th>runtimeMinutes</th>\n",
       "      <th>genre</th>\n",
       "      <th>originalLanguage</th>\n",
       "      <th>director</th>\n",
       "      <th>writer</th>\n",
       "      <th>plot</th>\n",
       "    </tr>\n",
       "  </thead>\n",
       "  <tbody>\n",
       "    <tr>\n",
       "      <th>0</th>\n",
       "      <td>009_re_cyborg</td>\n",
       "      <td>['2/5', nan, nan, '2/5', '3/5', '2/5', '2/5', ...</td>\n",
       "      <td>{'Joseph Walsh': \"Despite its good looks, ther...</td>\n",
       "      <td>3</td>\n",
       "      <td>10</td>\n",
       "      <td>13</td>\n",
       "      <td>009 Re: Cyborg</td>\n",
       "      <td>2015-07-28</td>\n",
       "      <td>103.0</td>\n",
       "      <td>['action', 'sci-fi', 'animation']</td>\n",
       "      <td>Japanese</td>\n",
       "      <td>Kenji Kamiyama</td>\n",
       "      <td>Kenji Kamiyama</td>\n",
       "      <td>009 Re:Cyborg follows a group of nine cyborgs,...</td>\n",
       "    </tr>\n",
       "    <tr>\n",
       "      <th>1</th>\n",
       "      <td>10</td>\n",
       "      <td>['4/5', '6/10', '8/10', '2.5/4', '6/10', '4/5'...</td>\n",
       "      <td>{'Eddie Harrison': \"'It's probably the writer/...</td>\n",
       "      <td>16</td>\n",
       "      <td>8</td>\n",
       "      <td>24</td>\n",
       "      <td>10</td>\n",
       "      <td>1997-09-03</td>\n",
       "      <td>122.0</td>\n",
       "      <td>['romance', 'comedy']</td>\n",
       "      <td>English</td>\n",
       "      <td>Blake Edwards</td>\n",
       "      <td>Blake Edwards</td>\n",
       "      <td>A Hollywood songwriter goes through a mid-life...</td>\n",
       "    </tr>\n",
       "    <tr>\n",
       "      <th>2</th>\n",
       "      <td>1000013_12_angry_men</td>\n",
       "      <td>[nan, nan, nan, nan, nan, nan, '4.0/4.0', '10/...</td>\n",
       "      <td>{'Sean Axmaker': 'It&amp;#8217;s a near perfect mi...</td>\n",
       "      <td>58</td>\n",
       "      <td>0</td>\n",
       "      <td>58</td>\n",
       "      <td>12 Angry Men</td>\n",
       "      <td>2008-03-04</td>\n",
       "      <td>95.0</td>\n",
       "      <td>['drama']</td>\n",
       "      <td>English</td>\n",
       "      <td>Sidney Lumet</td>\n",
       "      <td>Reginald Rose</td>\n",
       "      <td>The defense and the prosecution have rested an...</td>\n",
       "    </tr>\n",
       "    <tr>\n",
       "      <th>3</th>\n",
       "      <td>10000604-porgy_and_bess</td>\n",
       "      <td>[nan, '4/10', 'B-', nan, nan, nan, nan, nan, n...</td>\n",
       "      <td>{'Austin Faricy': 'The production, lavish in t...</td>\n",
       "      <td>34</td>\n",
       "      <td>13</td>\n",
       "      <td>47</td>\n",
       "      <td>Porgy and Bess</td>\n",
       "      <td>NaN</td>\n",
       "      <td>138.0</td>\n",
       "      <td>['drama', 'musical', 'romance']</td>\n",
       "      <td>English</td>\n",
       "      <td>Otto Preminger,Rouben Mamoulian</td>\n",
       "      <td>Dorothy Heyward,DuBose Heyward,DuBose Heyward,...</td>\n",
       "      <td>Set in the early 1900s in the fictional Catfis...</td>\n",
       "    </tr>\n",
       "    <tr>\n",
       "      <th>4</th>\n",
       "      <td>10000735-underworld</td>\n",
       "      <td>[nan, nan, nan, '7/10', '4/4', '3.5/4', nan, n...</td>\n",
       "      <td>{'Roy Chartier': 'Many things combine to make ...</td>\n",
       "      <td>16</td>\n",
       "      <td>2</td>\n",
       "      <td>18</td>\n",
       "      <td>Underworld</td>\n",
       "      <td>2014-04-01</td>\n",
       "      <td>80.0</td>\n",
       "      <td>['crime', 'drama']</td>\n",
       "      <td>NaN</td>\n",
       "      <td>Josef von Sternberg</td>\n",
       "      <td>Charles Furthman,Robert N. Lee</td>\n",
       "      <td>When high class hooker Nicole is kidnapped fro...</td>\n",
       "    </tr>\n",
       "  </tbody>\n",
       "</table>\n",
       "</div>"
      ],
      "text/plain": [
       "                        id                                      originalScore  \\\n",
       "0            009_re_cyborg  ['2/5', nan, nan, '2/5', '3/5', '2/5', '2/5', ...   \n",
       "1                       10  ['4/5', '6/10', '8/10', '2.5/4', '6/10', '4/5'...   \n",
       "2     1000013_12_angry_men  [nan, nan, nan, nan, nan, nan, '4.0/4.0', '10/...   \n",
       "3  10000604-porgy_and_bess  [nan, '4/10', 'B-', nan, nan, nan, nan, nan, n...   \n",
       "4      10000735-underworld  [nan, nan, nan, '7/10', '4/4', '3.5/4', nan, n...   \n",
       "\n",
       "                                          reviewText  PositiveCount  \\\n",
       "0  {'Joseph Walsh': \"Despite its good looks, ther...              3   \n",
       "1  {'Eddie Harrison': \"'It's probably the writer/...             16   \n",
       "2  {'Sean Axmaker': 'It&#8217;s a near perfect mi...             58   \n",
       "3  {'Austin Faricy': 'The production, lavish in t...             34   \n",
       "4  {'Roy Chartier': 'Many things combine to make ...             16   \n",
       "\n",
       "   NegativeCount  TotalReviews           title releaseDateStreaming  \\\n",
       "0             10            13  009 Re: Cyborg           2015-07-28   \n",
       "1              8            24              10           1997-09-03   \n",
       "2              0            58    12 Angry Men           2008-03-04   \n",
       "3             13            47  Porgy and Bess                  NaN   \n",
       "4              2            18      Underworld           2014-04-01   \n",
       "\n",
       "   runtimeMinutes                              genre originalLanguage  \\\n",
       "0           103.0  ['action', 'sci-fi', 'animation']         Japanese   \n",
       "1           122.0              ['romance', 'comedy']          English   \n",
       "2            95.0                          ['drama']          English   \n",
       "3           138.0    ['drama', 'musical', 'romance']          English   \n",
       "4            80.0                 ['crime', 'drama']              NaN   \n",
       "\n",
       "                          director  \\\n",
       "0                   Kenji Kamiyama   \n",
       "1                    Blake Edwards   \n",
       "2                     Sidney Lumet   \n",
       "3  Otto Preminger,Rouben Mamoulian   \n",
       "4              Josef von Sternberg   \n",
       "\n",
       "                                              writer  \\\n",
       "0                                     Kenji Kamiyama   \n",
       "1                                      Blake Edwards   \n",
       "2                                      Reginald Rose   \n",
       "3  Dorothy Heyward,DuBose Heyward,DuBose Heyward,...   \n",
       "4                     Charles Furthman,Robert N. Lee   \n",
       "\n",
       "                                                plot  \n",
       "0  009 Re:Cyborg follows a group of nine cyborgs,...  \n",
       "1  A Hollywood songwriter goes through a mid-life...  \n",
       "2  The defense and the prosecution have rested an...  \n",
       "3  Set in the early 1900s in the fictional Catfis...  \n",
       "4  When high class hooker Nicole is kidnapped fro...  "
      ]
     },
     "execution_count": 26,
     "metadata": {},
     "output_type": "execute_result"
    }
   ],
   "source": [
    "merged_df = pd.merge(df, df_combined, on='title', how='inner')\n",
    "print(f\"Merged DataFrame shape: {merged_df.shape}\")\n",
    "merged_df.head()"
   ]
  },
  {
   "cell_type": "code",
   "execution_count": 32,
   "id": "17cade7e",
   "metadata": {},
   "outputs": [
    {
     "name": "stdout",
     "output_type": "stream",
     "text": [
      "Title: Bartleby\n",
      "Streaming Release Date: 2017-03-11\n",
      "Runtime (minutes): 82.0\n",
      "Genre: ['comedy', 'drama']\n",
      "Language: English\n",
      "Director: Jonathan Parker\n",
      "Writer: Jonathan Parker,Catherine DiNapoli,Herman Melville\n",
      "\n",
      "Review Texts: {'Richard Propes': 'Glover carries the film but ultimately his performance is for naught.', 'Jonathan Rosenbaum': nan, 'Todd Jorgenson': nan, 'Emanuel Levy': nan, 'Philip Martin': nan, 'Jamie Russell': nan, 'Dennis Schwartz': 'The film was weird, but not funny or meaningful.', 'David Cornelius': \"Glover is perfect for the role, and Paymer lends a strange, almost addictive voice to his character's vocal style.\", 'Andrea Chase': nan, 'Marrit Ingman': nan, 'Eleanor Ringel Cater': 'What was subtle and mystifying in the novella is now broad and farcical.', 'Jean Lowerison': 'Paymer and Glover are terrific as the perplexed boss and the laconic non-performing employee.', 'Jeff Vice': \"It's a film that hinges on its casting, and Glover really doesn't fit the part.\", 'Phil Villarreal': 'You will likely prefer to keep on watching.', 'Gerry Shamray': \"It's surprisingly bland despite the heavy doses of weird performances and direction.\", 'Dan Lybarger': 'Director Jonathan Parker gets points simply for trying to tackle the writings of Herman Melville.', 'Christine James': 'As a feature-length film, it wears out its welcome as tryingly as the title character.', 'Moira MacDonald': 'An intriguing near-miss.', 'David Elliott': 'If Melville is creatively a great whale, this film is canned tuna.', 'Carrie Rickey': \"Except for Paymer as the boss who ultimately expresses empathy for Bartleby's pain, the performances are so stylized as to be drained of human emotion.\", 'Susan Stark': nan, 'John Monaghan': 'The movie, like Bartleby, is something of a stiff -- an extra-dry office comedy that seems twice as long as its 83 minutes.', 'Joe Leydon': \"A much more successful translation than its most famous previous film adaptation, writer-director Anthony Friedman's similarly updated 1970 British production.\", 'Mick LaSalle': 'This is a shrewd and effective film from a director who understands how to create and sustain a mood.', 'Mike Gregory': \"Co-writer/director Jonathan Parker's attempts to fashion a Brazil-like, hyper-real satire fall dreadfully short.\", 'Charles Savage': 'Though this film can be clumsy, its ambitions are equally -- and admirably -- uncommercial.', 'Rob Blackwelder': 'under-rehearsed and lifeless', 'Cherryl Dawson and Leigh Ann Palone': 'Quirky and understated office comedy with Crispin Glover as the guy who would prefer not to work, but likes to hang around.', 'Richard Roeper': \"I liked the original short story but this movie, even at an hour and twenty-some minutes, it's too long and it goes nowhere.\", 'Chuck Wilson': \"While Parker and co-writer Catherine di Napoli are faithful to Melville's plotline, they and a fully engaged supporting cast ... have made the old boy's characters more quick-witted than any English Lit major would have thought possible.\", 'Eric Harrison': 'Hard to resist.', 'Bob Strauss': \"While Glover, the irrepressible eccentric of River's Edge, Dead Man and Back to the Future, is perfect casting for the role, he represents Bartleby's main overall flaw.\", 'Emily Blunt': nan, 'Owen Gleiberman': 'Bartleby is a one-joke movie, and a bad joke at that.', 'Jocelyn Szczepaniak-Gillece': 'Funny, somber, absurd, and, finally, achingly sad, Bartleby is a fine, understated piece of filmmaking.', 'Kevin Thomas': 'Sad to say, it lacks the pace and energy to make it come alive and therefore remains more of a literary conceit than a movie.', 'Gary Dowell': 'A Frankenstein mishmash that careens from dark satire to cartoonish slapstick, Bartleby performs neither one very well.', 'Luke Y. Thompson': 'Parker updates the setting in an attempt to make the film relevant today, without fully understanding what it was that made the story relevant in the first place.', 'Erica Abeel': \"With a small budget and a brilliant team, director/co-writer Jonathan Parker has brought new relevance to Bartleby's revolt, and converted an office sitcom format into a damning critique of the way many people spend their days.\", 'Gene Seymour': 'Uneven and half-baked.', 'Eric Lurio': \"It's nice to see Piscopo again after all these years, and Chaykin and Headly are priceless.\", 'Roger Ebert': 'I admire it and yet cannot recommend it, because it overstays its natural running time.', 'Megan Turner': 'File under B for boring.', 'Ken Fox': \"Parker should be commended for taking a fresh approach to familiar material, but his determination to remain true to the original text leads him to adopt a somewhat mannered tone ... that ultimately dulls the human tragedy at the story's core.\", 'Frank Swietek': 'As satisfyingly odd and intriguing a tale as it was a century and a half ago...has a delightfully dour, deadpan tone and stylistic consistency.', 'Jessica Winter': 'The loud, musty production design ... smells of recirculated air and enervated ambition, but unfortunately, so does the movie itself.', 'Ed Gonzalez': \"Jonathan Parker's Bartleby should have been the be-all-end-all of the modern-office anomie films.\", 'Harvey S. Karten': \"Is office work really as alienating as 'Bartleby' so effectively makes it?\", 'A.O. Scott': 'Mr. Parker has brilliantly updated his source and grasped its essence, composing a sorrowful and hilarious tone poem about alienated labor, or an absurdist workplace sitcom.', 'Christopher Null': 'From its nauseating spinning credits sequence to a very talented but underutilized supporting cast, Bartleby squanders as much as it gives out.'}\n",
      "\n",
      "Movie Plot: An adaptation of Herman Melville's short story \"Bartleby, the Scrivener\" told in the setting of a modern office.\n",
      "\n",
      "Positive Count: 19\n",
      "Negative Count: 31\n",
      "Total Review Count: 50\n"
     ]
    }
   ],
   "source": [
    "# Select a random index\n",
    "random_index = random.randint(0, len(merged_df) - 1)\n",
    "\n",
    "# Fetch the row\n",
    "random_row = merged_df.iloc[random_index]\n",
    "\n",
    "# Print the full row neatly\n",
    "print(f\"Title: {random_row['title']}\")\n",
    "print(f\"Streaming Release Date: {random_row['releaseDateStreaming']}\")\n",
    "print(f\"Runtime (minutes): {random_row['runtimeMinutes']}\")\n",
    "print(f\"Genre: {random_row['genre']}\")\n",
    "print(f\"Language: {random_row['originalLanguage']}\")\n",
    "print(f\"Director: {random_row['director']}\")\n",
    "print(f\"Writer: {random_row['writer']}\\n\")\n",
    "print(f\"Review Texts: {random_row['reviewText']}\\n\")\n",
    "print(f\"Movie Plot: {random_row['plot']}\\n\")\n",
    "print(f\"Positive Count: {random_row['PositiveCount']}\")\n",
    "print(f\"Negative Count: {random_row['NegativeCount']}\")\n",
    "print(f\"Total Review Count: {random_row['TotalReviews']}\")"
   ]
  },
  {
   "cell_type": "code",
   "execution_count": 28,
   "id": "f9ad6ba2",
   "metadata": {},
   "outputs": [
    {
     "data": {
      "text/plain": [
       "(17769, 14)"
      ]
     },
     "execution_count": 28,
     "metadata": {},
     "output_type": "execute_result"
    }
   ],
   "source": [
    "merged_df.shape"
   ]
  },
  {
   "cell_type": "code",
   "execution_count": 29,
   "id": "2c10fea6",
   "metadata": {},
   "outputs": [
    {
     "data": {
      "application/vnd.microsoft.datawrangler.viewer.v0+json": {
       "columns": [
        {
         "name": "index",
         "rawType": "object",
         "type": "string"
        },
        {
         "name": "0",
         "rawType": "int64",
         "type": "integer"
        }
       ],
       "ref": "44c50541-bda2-4267-9255-1d974ef4ca55",
       "rows": [
        [
         "id",
         "0"
        ],
        [
         "originalScore",
         "0"
        ],
        [
         "reviewText",
         "0"
        ],
        [
         "PositiveCount",
         "0"
        ],
        [
         "NegativeCount",
         "0"
        ],
        [
         "TotalReviews",
         "0"
        ],
        [
         "title",
         "0"
        ],
        [
         "releaseDateStreaming",
         "1043"
        ],
        [
         "runtimeMinutes",
         "178"
        ],
        [
         "genre",
         "118"
        ],
        [
         "originalLanguage",
         "240"
        ],
        [
         "director",
         "44"
        ],
        [
         "writer",
         "2619"
        ],
        [
         "plot",
         "0"
        ]
       ],
       "shape": {
        "columns": 1,
        "rows": 14
       }
      },
      "text/plain": [
       "id                         0\n",
       "originalScore              0\n",
       "reviewText                 0\n",
       "PositiveCount              0\n",
       "NegativeCount              0\n",
       "TotalReviews               0\n",
       "title                      0\n",
       "releaseDateStreaming    1043\n",
       "runtimeMinutes           178\n",
       "genre                    118\n",
       "originalLanguage         240\n",
       "director                  44\n",
       "writer                  2619\n",
       "plot                       0\n",
       "dtype: int64"
      ]
     },
     "execution_count": 29,
     "metadata": {},
     "output_type": "execute_result"
    }
   ],
   "source": [
    "merged_df.isnull().sum()    "
   ]
  },
  {
   "cell_type": "code",
   "execution_count": 30,
   "id": "3b8ec24b",
   "metadata": {},
   "outputs": [],
   "source": [
    "merged_df.to_csv('../../data/final-data/data.csv', index=False)"
   ]
  },
  {
   "cell_type": "code",
   "execution_count": null,
   "id": "8b53a05f",
   "metadata": {},
   "outputs": [],
   "source": []
  }
 ],
 "metadata": {
  "kernelspec": {
   "display_name": "base",
   "language": "python",
   "name": "python3"
  },
  "language_info": {
   "codemirror_mode": {
    "name": "ipython",
    "version": 3
   },
   "file_extension": ".py",
   "mimetype": "text/x-python",
   "name": "python",
   "nbconvert_exporter": "python",
   "pygments_lexer": "ipython3",
   "version": "3.12.2"
  }
 },
 "nbformat": 4,
 "nbformat_minor": 5
}
