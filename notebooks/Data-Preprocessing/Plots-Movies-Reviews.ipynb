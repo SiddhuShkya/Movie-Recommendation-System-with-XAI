{
 "cells": [
  {
   "cell_type": "code",
   "execution_count": 1,
   "id": "5df64b68",
   "metadata": {},
   "outputs": [],
   "source": [
    "import os\n",
    "import ast\n",
    "import random\n",
    "import pandas as pd\n",
    "import numpy as np\n",
    "import seaborn as sns\n",
    "import matplotlib.pyplot as plt"
   ]
  },
  {
   "cell_type": "code",
   "execution_count": 2,
   "id": "ed26c0c6",
   "metadata": {},
   "outputs": [
    {
     "data": {
      "application/vnd.microsoft.datawrangler.viewer.v0+json": {
       "columns": [
        {
         "name": "index",
         "rawType": "object",
         "type": "string"
        },
        {
         "name": "0",
         "rawType": "object",
         "type": "unknown"
        },
        {
         "name": "1",
         "rawType": "object",
         "type": "unknown"
        }
       ],
       "ref": "af928e3d-de00-4677-8573-893eea0462ba",
       "rows": [
        [
         "id",
         "009_re_cyborg",
         "1-day"
        ],
        [
         "originalScore",
         "['2/5', nan, nan, '2/5', '3/5', '2/5', '2/5', '2/5', '4/5', '3/5', '1/5', '2/5', nan]",
         "['2/5', '2/5', '4/5', '3/5', '3/5', '2/5', '5/5', '3/5', '4/5', '2/5', '2/5', '2/5', '2/5', '3/5', '3/5', '2/5']"
        ],
        [
         "reviewText",
         "{'Joseph Walsh': \"Despite its good looks, there's no escaping 009 Re: Cyborg's tiresome and hollow script.\", 'Philip French': \"It's overlong and, for an animated film, there's too much windy philosophical talk of an ontological kind, dropping the names of Freud and the religious historian Mircea Eliade.\", 'MaryAnn Johanson': 'A whole lotta WTF folded into a derivative, misogynist, and just plain incoherent mess.', 'Derek Malcolm': 'We are treated to superb city landscapes but so much minor detail that you never know who is doing what to whom, or even why.', 'Tom Huddleston': \"It's beautifully animated - the climactic sequence in Earth orbit is breathtaking - and its philosophical digressions are fascinating, if completely bananas.\", 'Andrew Osmond': 'The script is lousy and laughable. Anime fans may be able to take the talky portentousness, but the ideas are ridiculous.', 'Chris Michael': \"We're in a post-9/11 world plagued with terror attacks. Is it an American corporate conspiracy? Or the work of a deity? Cue the obligatory second-half metaphysical blather.\", 'Jennifer Tate': \"The cyborgs' epic search for 'His Voice' quickly becomes a little tenuous and ridiculous, pushing the film into maddening and tedious territory.\", 'Ben Mortimer': 'One of the most ambitious and interesting movies of the last few years.', 'Siobhan Synnot': \"Terrific-looking action sequences alternate with less terrific expository chat. Despite the natter, it's all mildly baffling.\", 'Stephen Kelly': 'Ambitious, perhaps, but hardly entertaining.', 'Owen Williams': 'A disappointingly dated and unpowered Manga update.', 'Anton Bitel': 'The blending of 3DCG characters and traditionally drawn backgrounds offers a spectacular hybrid playground in which half-human robots can work through the shifting allegiances and crises of faith that have marked the new millennium.'}",
         "{'Anna Smith': 'A less gripping, if bleaker, take on the Kidulthood/Adulthood theme, with a few musical numbers thrown in. Authentic, perhaps, but far from a deeply rewarding cinematic experience.', 'Trevor Johnston': 'Woolcock deserves praise for ambition, but this tumbles awkwardly into some netherworld between streetwise musical and social-conscience crime chronicle.', 'Ali Catterall': \"You could call this a 'hip-hopera', a mix of filmmaking and social work, or a shot in the arm for British independent cinema. Just don't call it Bugsy Malone with real bullets.\", 'Kevin Maher': \"It's propulsive stuff that credibly mixes social realism with bursts of musical energy. Just occasionally, though, the movie falls for the gangland glamour - loving shots of guns, cars and posturing bad boys - it claims to despise.\", 'Peter Bradshaw': \"By turns gloomy, frenzied, downbeat and violently melodramatic, Penny Woolcock's gang grime musical throbs intermittently with energy.\", 'Tim Robey': \"Woolcock doesn't strictly glamourise this guns-'n'-babymothers lifestyle, but her shortcuts to gritty pathos are nearly as questionable.\", 'Priscilla Eyles': 'Woolcock has overcome all odds to produce one of the best British flicks since This Is England.', 'Derek Malcolm': \"Undoubtedly well acted and shot, and with a rip-roaring hip-hop score, it's impressively non-moralistic, just showing us how it is. That may be why Birmingham's cinemas have refused to show it.\", 'Sam Wigley': 'The film has a cheeky comic streak that offsets all the streetwise grandstanding.', 'Nigel Andrews': 'A gangsta farrago, convincing neither as street-tough crime drama nor soul-motorised rap show. The performers go through the motions, and emotions, as if reading cue cards.', 'Anthony Quinn': 'The street patois is at times incomprehensible, the plot is a joke and the music is absurdly aggressive.', 'Matthew Turner': \"1 Day is something of a mixed bag but it's ultimately worth seeing for the energy and commitment of its fired-up cast of unknowns.\", 'Robbie Collin': 'The performances are quality and the rapping, written and performed by the cast, is SUPERB - if anything, the film could have done with a lot more of it.', 'Alistair Harkness': \"It's a noble endeavour, but not a particularly successful one, primarily because her cast, as authentic as they are, don't really have the dramatic skills.\"}"
        ],
        [
         "PositiveCount",
         "3",
         "8"
        ],
        [
         "NegativeCount",
         "10",
         "8"
        ],
        [
         "TotalReviews",
         "13",
         "16"
        ],
        [
         "title",
         "009 Re: Cyborg",
         "1 Day"
        ],
        [
         "releaseDateStreaming",
         "2015-07-28",
         null
        ],
        [
         "runtimeMinutes",
         "103.0",
         "90.0"
        ],
        [
         "genre",
         "['action', 'sci-fi', 'animation']",
         "['drama']"
        ],
        [
         "originalLanguage",
         "Japanese",
         "English"
        ],
        [
         "director",
         "Kenji Kamiyama",
         "Penny Woolcock"
        ],
        [
         "writer",
         "Kenji Kamiyama",
         "Penny Woolcock"
        ]
       ],
       "shape": {
        "columns": 2,
        "rows": 13
       }
      },
      "text/html": [
       "<div>\n",
       "<style scoped>\n",
       "    .dataframe tbody tr th:only-of-type {\n",
       "        vertical-align: middle;\n",
       "    }\n",
       "\n",
       "    .dataframe tbody tr th {\n",
       "        vertical-align: top;\n",
       "    }\n",
       "\n",
       "    .dataframe thead th {\n",
       "        text-align: right;\n",
       "    }\n",
       "</style>\n",
       "<table border=\"1\" class=\"dataframe\">\n",
       "  <thead>\n",
       "    <tr style=\"text-align: right;\">\n",
       "      <th></th>\n",
       "      <th>0</th>\n",
       "      <th>1</th>\n",
       "    </tr>\n",
       "  </thead>\n",
       "  <tbody>\n",
       "    <tr>\n",
       "      <th>id</th>\n",
       "      <td>009_re_cyborg</td>\n",
       "      <td>1-day</td>\n",
       "    </tr>\n",
       "    <tr>\n",
       "      <th>originalScore</th>\n",
       "      <td>['2/5', nan, nan, '2/5', '3/5', '2/5', '2/5', ...</td>\n",
       "      <td>['2/5', '2/5', '4/5', '3/5', '3/5', '2/5', '5/...</td>\n",
       "    </tr>\n",
       "    <tr>\n",
       "      <th>reviewText</th>\n",
       "      <td>{'Joseph Walsh': \"Despite its good looks, ther...</td>\n",
       "      <td>{'Anna Smith': 'A less gripping, if bleaker, t...</td>\n",
       "    </tr>\n",
       "    <tr>\n",
       "      <th>PositiveCount</th>\n",
       "      <td>3</td>\n",
       "      <td>8</td>\n",
       "    </tr>\n",
       "    <tr>\n",
       "      <th>NegativeCount</th>\n",
       "      <td>10</td>\n",
       "      <td>8</td>\n",
       "    </tr>\n",
       "    <tr>\n",
       "      <th>TotalReviews</th>\n",
       "      <td>13</td>\n",
       "      <td>16</td>\n",
       "    </tr>\n",
       "    <tr>\n",
       "      <th>title</th>\n",
       "      <td>009 Re: Cyborg</td>\n",
       "      <td>1 Day</td>\n",
       "    </tr>\n",
       "    <tr>\n",
       "      <th>releaseDateStreaming</th>\n",
       "      <td>2015-07-28</td>\n",
       "      <td>NaN</td>\n",
       "    </tr>\n",
       "    <tr>\n",
       "      <th>runtimeMinutes</th>\n",
       "      <td>103.0</td>\n",
       "      <td>90.0</td>\n",
       "    </tr>\n",
       "    <tr>\n",
       "      <th>genre</th>\n",
       "      <td>['action', 'sci-fi', 'animation']</td>\n",
       "      <td>['drama']</td>\n",
       "    </tr>\n",
       "    <tr>\n",
       "      <th>originalLanguage</th>\n",
       "      <td>Japanese</td>\n",
       "      <td>English</td>\n",
       "    </tr>\n",
       "    <tr>\n",
       "      <th>director</th>\n",
       "      <td>Kenji Kamiyama</td>\n",
       "      <td>Penny Woolcock</td>\n",
       "    </tr>\n",
       "    <tr>\n",
       "      <th>writer</th>\n",
       "      <td>Kenji Kamiyama</td>\n",
       "      <td>Penny Woolcock</td>\n",
       "    </tr>\n",
       "  </tbody>\n",
       "</table>\n",
       "</div>"
      ],
      "text/plain": [
       "                                                                      0  \\\n",
       "id                                                        009_re_cyborg   \n",
       "originalScore         ['2/5', nan, nan, '2/5', '3/5', '2/5', '2/5', ...   \n",
       "reviewText            {'Joseph Walsh': \"Despite its good looks, ther...   \n",
       "PositiveCount                                                         3   \n",
       "NegativeCount                                                        10   \n",
       "TotalReviews                                                         13   \n",
       "title                                                    009 Re: Cyborg   \n",
       "releaseDateStreaming                                         2015-07-28   \n",
       "runtimeMinutes                                                    103.0   \n",
       "genre                                 ['action', 'sci-fi', 'animation']   \n",
       "originalLanguage                                               Japanese   \n",
       "director                                                 Kenji Kamiyama   \n",
       "writer                                                   Kenji Kamiyama   \n",
       "\n",
       "                                                                      1  \n",
       "id                                                                1-day  \n",
       "originalScore         ['2/5', '2/5', '4/5', '3/5', '3/5', '2/5', '5/...  \n",
       "reviewText            {'Anna Smith': 'A less gripping, if bleaker, t...  \n",
       "PositiveCount                                                         8  \n",
       "NegativeCount                                                         8  \n",
       "TotalReviews                                                         16  \n",
       "title                                                             1 Day  \n",
       "releaseDateStreaming                                                NaN  \n",
       "runtimeMinutes                                                     90.0  \n",
       "genre                                                         ['drama']  \n",
       "originalLanguage                                                English  \n",
       "director                                                 Penny Woolcock  \n",
       "writer                                                   Penny Woolcock  "
      ]
     },
     "execution_count": 2,
     "metadata": {},
     "output_type": "execute_result"
    }
   ],
   "source": [
    "df = pd.read_csv(\"../../data/movie-review-data/merged_movies_reviews.csv\")\n",
    "df.head(2).T"
   ]
  },
  {
   "cell_type": "code",
   "execution_count": 3,
   "id": "67c79aee",
   "metadata": {},
   "outputs": [
    {
     "data": {
      "text/plain": [
       "(23295, 13)"
      ]
     },
     "execution_count": 3,
     "metadata": {},
     "output_type": "execute_result"
    }
   ],
   "source": [
    "df.shape"
   ]
  },
  {
   "cell_type": "code",
   "execution_count": 4,
   "id": "ef7ea9df",
   "metadata": {},
   "outputs": [
    {
     "name": "stdout",
     "output_type": "stream",
     "text": [
      "Title: The People vs. George Lucas\n",
      "Streaming Release Date: 2017-01-07\n",
      "Runtime (minutes): 93.0\n",
      "Genre: ['documentary', 'comedy']\n",
      "Language: English\n",
      "Director: Alexandre O. Philippe\n",
      "Writer: Alexandre O. Philippe\n",
      "\n",
      "Review Texts: {'Keith Garlington': 'It may seem like it&#8217;s taking a side&#44; but if you look a little deeper under the surface I think you&#8217;ll find a much broader critique that makes for a very appealing film&#44; especially for Star Wars fans&#46;', 'Matthew Pejkovic': 'A surprisingly level headed exploration into the revolt of a fanatical fan base towards their messiah that is funny, insightful and just a tad silly.', 'John Gholson': \"For disillusioned fans like myself, it's a unnecessary reminder of the things you hate about a thing you used to love.\", 'R.L. Shaffer': 'An outstanding look at the enormously dysfunctional relationship between a creator and his adoring fans.', 'Felix Vasquez Jr.': 'Really a testament to the hollow fruitless worship of the Star Wars Saga...', 'Christian Toto': \"The visionary behind 'Star Wars' could learn a thing or two from the smart, and richly comic, documentary The People vs. George Lucas\", 'Josh Bell': \"A skillfully edited, wide-ranging look at a subject that's very close to many movie fans' hearts.\", 'Matt Singer': 'A devastating indictment of our modern geek culture of entitlement.', 'Ed Whitfield': \"... The Modesto Merchandiser did a generation's imagining for them and left these kids with a mortgage sized bill for services rendered.\", 'Lisa Kennedy': 'Eentertaining if mildly worrisome.', 'J. R. Jones': 'This look at Star Wars fanatics and their love-hate relationship with George Lucas turns out to be more interesting than most fanboy docs because director Alexandre O. Philippe touches on some fairly knotty matters of film history and creative ownership.', 'Rich Cline': 'This thoroughly entertaining documentary will appeal mostly to people just like me: those who were total Star Wars obsessives starting back in 1977.', 'Mike Scott': \"The nerd-rage on display when discussing Lucas' ceaseless tinkering with his films -- to say nothing of the midi-chlorians debate -- is ... plenty entertaining.\", 'Fr. Chris Carpenter': 'Entertaining...Director Alexandre O. Philippe incorporates an impressive amount of footage not only from the \"Star Wars\" movies but from the many fan films and spoofs that have been produced.', 'Gary Goldstein': 'You don\\'t have to be a \"Star Wars\" nut to enjoy this fast-paced film, though it\\'s sure to resonate most with those whose childhoods - and beyond - were shaped by the 1977 phenomenon.', 'Joe Neumaier': 'If you\\'re a Force completist, this is as crucial as a bootleg of 1978\\'s \"Star Wars Holiday Special.\" Which, by the way, was awesome.', 'Mark Keizer': 'It catalogues and recalls events so vividly that it will become a communal experience for those with conflicted feelings about Luke, Han and those stupid, furry things from Episode VI.', 'Mike Hale': 'There\\'s a lot of anger floating around in \"The People vs.,\" but Mr. Philippe somehow manages to make the overall tone good-hearted, and he ends on a sentimental note of exasperated love for the man frequently referred to as \"the creator.\"', 'Kyle Smith': '\\'The People vs. George Lucas\" is an open- and-shut case, but that doesn\\'t mean it can\\'t also be an entertaining one.', 'Ethan Alter': 'Despite the provocative title, this Star Wars-themed documentary is less effective as a legal brief than as a portrait of contemporary fandom.', 'Elise Nakhnikian': \"Smart, funny, and often impassioned, it's entertaining even when it's just exploring the filmmaker's relationship with his rebellious army of fans.\", 'David Fear': \"You'll wish you could escape to a galaxy far, far away.\", 'Karina Longworth': \"It's an exhausting airing of nerd grievances, the monolithic arguments leavened only slightly by counterpoints seemingly inserted for comic relief.\", 'Edward Douglas': \"Even those who aren't as fanatical should be able to appreciate the enthusiasm and energy people are willing to put into something they love and hate as much as they do George Lucas' 'Star Wars' movies.\", 'Marshall Fine': 'A novelty item, but an often entertaining one.', 'Brian Orndorf': \"More concentrated on surface fears than penetrating hardened geek exteriors, failing to connect an clear argument worth the time invested. It's a bent valentine 11 years too late.\"}\n",
      "\n",
      "Positive Count: 19\n",
      "Negative Count: 7\n",
      "Total Review Count: 26\n"
     ]
    }
   ],
   "source": [
    "# Select a random index\n",
    "random_index = random.randint(0, len(df) - 1)\n",
    "\n",
    "# Fetch the row\n",
    "random_row = df.iloc[random_index]\n",
    "\n",
    "# Print the full row neatly\n",
    "print(f\"Title: {random_row['title']}\")\n",
    "print(f\"Streaming Release Date: {random_row['releaseDateStreaming']}\")\n",
    "print(f\"Runtime (minutes): {random_row['runtimeMinutes']}\")\n",
    "print(f\"Genre: {random_row['genre']}\")\n",
    "print(f\"Language: {random_row['originalLanguage']}\")\n",
    "print(f\"Director: {random_row['director']}\")\n",
    "print(f\"Writer: {random_row['writer']}\\n\")\n",
    "print(f\"Review Texts: {random_row['reviewText']}\\n\")\n",
    "print(f\"Positive Count: {random_row['PositiveCount']}\")\n",
    "print(f\"Negative Count: {random_row['NegativeCount']}\")\n",
    "print(f\"Total Review Count: {random_row['TotalReviews']}\")"
   ]
  },
  {
   "cell_type": "code",
   "execution_count": 7,
   "id": "c1cab04d",
   "metadata": {},
   "outputs": [],
   "source": [
    "# Extracting Movie Plot and Adding It To Our Data\n",
    "df1 = pd.read_csv('../../data/movie-data-csv/amazon-prime.csv')\n",
    "df2 = pd.read_csv('../../data/movie-data-csv/netflix-tv.csv')\n",
    "df3 = pd.read_csv('../../data/movie-data-csv/trailers12k.csv')\n",
    "df4 = pd.read_csv('../../data/movie-data-csv/tmdb.csv', low_memory=False)\n",
    "df5 = pd.read_csv('../../data/movie-data-csv/imdb.csv')\n",
    "df5.rename(columns={'Title': 'title'}, inplace=True)"
   ]
  },
  {
   "cell_type": "code",
   "execution_count": 8,
   "id": "10d973a9",
   "metadata": {},
   "outputs": [],
   "source": [
    "df3['plot'] = df3['plot'].apply(lambda x: ' '.join(ast.literal_eval(x)))"
   ]
  },
  {
   "cell_type": "code",
   "execution_count": 9,
   "id": "e01c102e",
   "metadata": {},
   "outputs": [],
   "source": [
    "df1_subset = df1[['title', 'plot']]\n",
    "df2_subset = df2[['title', 'plot']]\n",
    "df3_subset = df3[['title', 'plot']]\n",
    "df4_subset = df4[['title', 'plot']]\n",
    "df5_subset = df5[['title', 'plot']]"
   ]
  },
  {
   "cell_type": "code",
   "execution_count": 10,
   "id": "064aa8ed",
   "metadata": {},
   "outputs": [
    {
     "name": "stdout",
     "output_type": "stream",
     "text": [
      "(180252, 2)\n"
     ]
    },
    {
     "data": {
      "application/vnd.microsoft.datawrangler.viewer.v0+json": {
       "columns": [
        {
         "name": "index",
         "rawType": "int64",
         "type": "integer"
        },
        {
         "name": "title",
         "rawType": "object",
         "type": "string"
        },
        {
         "name": "plot",
         "rawType": "object",
         "type": "string"
        }
       ],
       "ref": "08a26563-46d2-4823-abb2-032ca5b6452a",
       "rows": [
        [
         "0",
         "The Three Stooges",
         "The Three Stooges were an American vaudeville and comedy team active from 1922 until 1970, best known for their 190 short subject films by Columbia Pictures that have been regularly airing on television since 1958. Their hallmark was physical farce and slapstick. In films, the stooges were commonly known by their actual first names. There were a total of six stooges over the act's run (with only three active at any given time), but Moe Howard and Larry Fine were the mainstays throughout the ensemble's nearly fifty-year run."
        ],
        [
         "1",
         "The General",
         "During America’s Civil War, Union spies steal engineer Johnnie Gray's beloved locomotive, 'The General'—with Johnnie's lady love aboard an attached boxcar—and he single-handedly must do all in his power to both get The General back and to rescue Annabelle."
        ],
        [
         "2",
         "The Best Years of Our Lives",
         "It's the hope that sustains the spirit of every GI: the dream of the day when he will finally return home. For three WWII veterans, the day has arrived. But for each man, the dream is about to become a nightmare."
        ],
        [
         "3",
         "His Girl Friday",
         "Hildy, the journalist former wife of newspaper editor Walter Burns, visits his office to inform him that she's engaged and will be getting remarried the next day. Walter can't let that happen and frames the fiancé, Bruce Baldwin, for one thing after another, to keep him temporarily held in prison, while trying to steer Hildy into returning to her old job as his employee."
        ],
        [
         "4",
         "In a Lonely Place",
         "An aspiring actress begins to suspect that her temperamental boyfriend is a murderer."
        ]
       ],
       "shape": {
        "columns": 2,
        "rows": 5
       }
      },
      "text/html": [
       "<div>\n",
       "<style scoped>\n",
       "    .dataframe tbody tr th:only-of-type {\n",
       "        vertical-align: middle;\n",
       "    }\n",
       "\n",
       "    .dataframe tbody tr th {\n",
       "        vertical-align: top;\n",
       "    }\n",
       "\n",
       "    .dataframe thead th {\n",
       "        text-align: right;\n",
       "    }\n",
       "</style>\n",
       "<table border=\"1\" class=\"dataframe\">\n",
       "  <thead>\n",
       "    <tr style=\"text-align: right;\">\n",
       "      <th></th>\n",
       "      <th>title</th>\n",
       "      <th>plot</th>\n",
       "    </tr>\n",
       "  </thead>\n",
       "  <tbody>\n",
       "    <tr>\n",
       "      <th>0</th>\n",
       "      <td>The Three Stooges</td>\n",
       "      <td>The Three Stooges were an American vaudeville ...</td>\n",
       "    </tr>\n",
       "    <tr>\n",
       "      <th>1</th>\n",
       "      <td>The General</td>\n",
       "      <td>During America’s Civil War, Union spies steal ...</td>\n",
       "    </tr>\n",
       "    <tr>\n",
       "      <th>2</th>\n",
       "      <td>The Best Years of Our Lives</td>\n",
       "      <td>It's the hope that sustains the spirit of ever...</td>\n",
       "    </tr>\n",
       "    <tr>\n",
       "      <th>3</th>\n",
       "      <td>His Girl Friday</td>\n",
       "      <td>Hildy, the journalist former wife of newspaper...</td>\n",
       "    </tr>\n",
       "    <tr>\n",
       "      <th>4</th>\n",
       "      <td>In a Lonely Place</td>\n",
       "      <td>An aspiring actress begins to suspect that her...</td>\n",
       "    </tr>\n",
       "  </tbody>\n",
       "</table>\n",
       "</div>"
      ],
      "text/plain": [
       "                         title  \\\n",
       "0            The Three Stooges   \n",
       "1                  The General   \n",
       "2  The Best Years of Our Lives   \n",
       "3              His Girl Friday   \n",
       "4            In a Lonely Place   \n",
       "\n",
       "                                                plot  \n",
       "0  The Three Stooges were an American vaudeville ...  \n",
       "1  During America’s Civil War, Union spies steal ...  \n",
       "2  It's the hope that sustains the spirit of ever...  \n",
       "3  Hildy, the journalist former wife of newspaper...  \n",
       "4  An aspiring actress begins to suspect that her...  "
      ]
     },
     "execution_count": 10,
     "metadata": {},
     "output_type": "execute_result"
    }
   ],
   "source": [
    "df_combined = pd.concat([df1_subset, df2_subset, df3_subset, df4_subset, df5_subset], ignore_index=True)\n",
    "df_combined.dropna(subset=['title', 'plot'], inplace=True)\n",
    "print(df_combined.shape)\n",
    "df_combined.head()"
   ]
  },
  {
   "cell_type": "code",
   "execution_count": 11,
   "id": "77f91a8b",
   "metadata": {},
   "outputs": [
    {
     "data": {
      "text/plain": [
       "(153454, 2)"
      ]
     },
     "execution_count": 11,
     "metadata": {},
     "output_type": "execute_result"
    }
   ],
   "source": [
    "df_combined = df_combined.drop_duplicates(subset='title', keep='first').reset_index(drop=True)\n",
    "df_combined.shape"
   ]
  },
  {
   "cell_type": "code",
   "execution_count": 13,
   "id": "07b8316c",
   "metadata": {},
   "outputs": [
    {
     "name": "stdout",
     "output_type": "stream",
     "text": [
      "Number of common movie titles: 16491\n"
     ]
    }
   ],
   "source": [
    "common_movie_titles = set(df['title']) & set(df_combined['title'])\n",
    "print(f\"Number of common movie titles: {len(common_movie_titles)}\")"
   ]
  },
  {
   "cell_type": "code",
   "execution_count": 14,
   "id": "16854b88",
   "metadata": {},
   "outputs": [
    {
     "name": "stdout",
     "output_type": "stream",
     "text": [
      "Merged DataFrame shape: (17769, 14)\n"
     ]
    },
    {
     "data": {
      "application/vnd.microsoft.datawrangler.viewer.v0+json": {
       "columns": [
        {
         "name": "index",
         "rawType": "int64",
         "type": "integer"
        },
        {
         "name": "title",
         "rawType": "object",
         "type": "string"
        },
        {
         "name": "plot",
         "rawType": "object",
         "type": "string"
        },
        {
         "name": "id",
         "rawType": "object",
         "type": "string"
        },
        {
         "name": "originalScore",
         "rawType": "object",
         "type": "string"
        },
        {
         "name": "reviewText",
         "rawType": "object",
         "type": "string"
        },
        {
         "name": "PositiveCount",
         "rawType": "int64",
         "type": "integer"
        },
        {
         "name": "NegativeCount",
         "rawType": "int64",
         "type": "integer"
        },
        {
         "name": "TotalReviews",
         "rawType": "int64",
         "type": "integer"
        },
        {
         "name": "releaseDateStreaming",
         "rawType": "object",
         "type": "string"
        },
        {
         "name": "runtimeMinutes",
         "rawType": "float64",
         "type": "float"
        },
        {
         "name": "genre",
         "rawType": "object",
         "type": "string"
        },
        {
         "name": "originalLanguage",
         "rawType": "object",
         "type": "string"
        },
        {
         "name": "director",
         "rawType": "object",
         "type": "string"
        },
        {
         "name": "writer",
         "rawType": "object",
         "type": "string"
        }
       ],
       "ref": "f5ae214b-a1ff-45b3-b165-f232e060cff5",
       "rows": [
        [
         "0",
         "The Three Stooges",
         "The Three Stooges were an American vaudeville and comedy team active from 1922 until 1970, best known for their 190 short subject films by Columbia Pictures that have been regularly airing on television since 1958. Their hallmark was physical farce and slapstick. In films, the stooges were commonly known by their actual first names. There were a total of six stooges over the act's run (with only three active at any given time), but Moe Howard and Larry Fine were the mainstays throughout the ensemble's nearly fifty-year run.",
         "1205530-three_stooges",
         "['2/5', '4/10', '3.0/4.0', nan, nan, '1.5/4', '6/10', '2/5', nan, nan, nan, 'B', '2/5', '2.5/5', '2.5/5', 'C+', nan, '3/5', nan, '3/5', '3/5', nan, '2.5/5', '3/5', '2/5', '3/5', '1/5', '4/5', '3/5', '2/5', '3/5', '8/10', nan, '4/5', '1/5', '3/5', '2/5', '2/5', '4/10', nan, '3.5/5', '3/5', '3/5', nan, '3.5/5', nan, 'B', nan, 'C-', '2/4', '1/4', '5/10', '2/4', '4/5', '3.5/5', '3/5', 'B', nan, '3/4', '2.5/4', nan, '3/4', '5/10', '3/4', '7/10', '3.5/5', '2.5/4', '1.5/4', '3/5', '1/4', nan, nan, nan, nan, '2/5', nan, '2.5/4', 'C+', nan, '4/5', '1.5/4', '2/5', 'C-', 'B+', '3/4', 'C-', '2.5/4', 'C', '2.1/2', nan, 'C', '0.5/5', nan, '3/4', '1.5/4', 'B', nan, '8/10', '2/5', '3/10', '4/5', '2/4', '4/5', '5.5/10', '.5/4', '1.5/4', '1.5/4', '2.5/5', '2.5/4', '2/4', '1/5', '4.5/10', '3.5/5', '2/4', nan, 'A-', '3/5', '2/4', 'B-', '3/4', '2/5', 'B', 'C-', 'D', nan, 'D+', '2.5/4', 'C', '2.5/4', '8/10', '2.5/4', '3/5', '1/5', '4/5', '3/5', '2/4', nan, nan, '2/5', nan, nan, '2/4', '2.5/5', '3/4', 'B', '0.5/4', '2.5/4', '3/4', 'C-', '2.5/4', '1.5/5']",
         "{'Keith Garlington': 'Even with their tremendous efforts&#44; this still felt like a really good Elvis impersonator&#46; They look like Elvis&#46; They sound like Elvis&#46; They shake like Elvis&#46; But they aren&#8217;t Elvis&#46;', 'Mike Massie': \"If this weren't a movie, the three stars would certainly make a striking Vegas show.\", 'Richard Propes': 'Should you see it? Why soitenly!', 'Brian D. Johnson': \"The Three Stooges does not suck. It's not great but it is amusing, oddly inoffensive-and sweet, something the original never tried to be.\", 'Micheal Compton': 'There are plenty of laughs to be had as well... The three leads should be commended as well. They perfectly capture the dopey innocence of the characters with some rather impressive mimicry of the iconic characters.', 'Kelly Jane Torrance': \"You can't replicate a comedy classic.\", 'Debbie Baldwin': 'The casting of the trio is spot on and the supporting cast is strong, as well. I laughed out loud on several occasions.', 'Jamie Neish': 'Brings with it a welcome and surprising level of warmth, but is sadly too thronged and weak-minded to affirm its worth.', 'Eleanor Ringel Cater': 'The Three Stooges is like being nyuck-ed to death.', 'J. Hoberman': 'The brutish schtick got old a long time ago.', 'Felix Vasquez Jr.': 'When the movie works, it can derive some raucous laughter...', 'Will Leitch': \"It's innocent and silly and brainless and funny. This is not a dumb comedy done smartly; this is a dumb comedy done dumbly.\", 'Tom Glasson': \"Short, silly and charmingly harmless, it's likely only the Stooges aficionados will find a whole lot to love.\", 'Kofi Outlaw': 'Stooges will resonate strongly or not at all, depending on the viewer. But a Jersey Shore experience is about where the film falls short of honorable intentions.', 'Rich Cline': 'For filmmakers who are good at finding pathos in the most unlikely places, this film is more like a return to the vacuous idiocy of Dumb and Dumber', 'Erick Weber': \"It's absurd, it's mindless, it's infantine but it's also bizarrely charming.\", 'Philip French': 'Resembles a scenario knocked up one afternoon for the Marx brothers and rejected the following day.', 'Tara Brady': \"The architects behind There's Something About Mary and Kingpin make merry with the poking and thumping, but are ultimately far too fond of their comic heroes to make them or us truly squirm.\", 'Jason Best': 'About as funny as a poke in the eye.', 'Graham Young': 'Slapstick, slapstick and even more slapstick. Think of it as a Junior Jackass.', 'Derek Malcolm': 'This could have been a truly awful summation of the work of such minor legends but it works surprisingly well.', 'MaryAnn Johanson': 'We need to be fixing global warming. And yet people who are probably pretty smart and consider themselves creative thinkers are spending their time on this.', 'Christopher Tookey': \"They're just as hopelessly violent, bad-tempered and stupid at the end as they were at the beginning. These days, that's refreshingly anarchic.\", 'Allan Hunter': 'A film that is most definitely an acquired taste.', \"Phelim O'Neill\": 'It shows that what made the Stooges work all those years ago, though hardly in vogue, still works today.', 'Andrew Schenker': \"The quicker it's forgotten, the better.\", 'Nigel Andrews': 'Quaint but exuberantly crafted.', 'James Lachno': 'Chase scenes and physical comedy exchanges allow the action to romp along at a fair lick.', 'Steven Neish': 'Better suited to a short-film than a feature length adventure (itself split into three separate episodes), the characters annoy far more than they ever manage to amuse.', 'Karen Krizanovich': 'The Three Stooges is far more enjoyable than it perhaps ought to be.', 'William Bibbiani': \"If you don't like it, you can go 'nyuck' yourself.\", 'Francesca Steele': 'Surprisingly, sensibly restrained and rather touching. In relative terms, of course.', 'Matthew Turner': 'An extremely faithful reboot that delivers some huge laughs, thanks to a witty script, pacy direction, some inspired comic set-pieces and a trio of terrific performances from Sean Hayes, Chris Diamantopoulos and Will Sasso.', 'Rob Carnevale': 'Far from paying respectful homage to the memory of the original Stooges and potentially encouraging a new generation of viewers to revisit them, this lame comedy may leave them wondering what the fuss was all about in the first place.', 'Tom Huddleston': \"'The Three Stooges' is exactly the film it wants to be. Was it worth ten years of anyone's life? Probably not. Is it worth 88 minutes of yours? Absolutely.\", 'James White': 'The mooted Stooges - Sean Penn, Jim Carrey, Benicio del Toro - dodged a bullet judging by this muddle of creaky slapstick and laugh-free plotting.', 'James Mottram': \"There are only so many three-way nose-tweaks you can take, and the Farrellys' idea of splitting the film into three nominal episodes doesn't really solve the problem.\", 'James Plath': 'Ultimately, \"The Three Stooges: The Movie\" isn\\'t funny enough for a comedy, which is too bad, because the three stars really worked hard to nail their characters.', 'Simon Foster': 'Perfectly-pitched performances by the three new Stooges...and a sweetly sentimental line in brotherly love ensures that a paper-thin plot is of no consequence at all when it comes to the laugh-to-running-time ratio.', 'Tom Clift': 'Three Stooges is a very stupid film. Then again, if you bought a ticket expecting anything different, then really, the only idiot is you.', 'Liam Maguren': 'The physical comedy set pieces are performed with an impressive level of planning, timing and choreography', 'Jim Schembri': 'Anyone who has ever enjoyed so much as a guilty giggle from watching the cartoonish antics of The Three Stooges as they eye-poke, head-slap and gut-punch each other will get a major kick from this loving reboot...Good, clean, stupid fun.', 'Luke Buckmaster': 'Without actually saying it, and certainly without needing to, the Farrellys present the Three Stooges as grown men with severe intellectual disorders, blissfully ignorant of their impairments.', 'Simon Miraudo': \"Those with a penchant for consequence-free violence and olde-timey hijinks should be mighty amused. Basically, it's for dads and dads-at-heart.\", 'Andrew L. Urban': 'Every 8 - 10 year old, and adults with 8 - 10 year old funny bones, will guffaw and giggle at the dim wits with big hearts whose originators are part of showbiz royalty. The iconic threesome are resurrected in look and sound-alikes', 'Bruce Bennett': 'For fans, the Farrelly bros. take fits the bill. By all means go see it and take an immature friend or a kid at heart.', 'Brian Gibson': \"Not too heavy on the nyuks but a bit light on sustained yuks. As with the originals-devoid of character depth, social satire, or other subtext-there's not enough slap behind the schtick. Heartfelt humour-homage that ends up more like korny komic karaoke.\", 'Paul Chambers': 'Excellent casting. Poor writing. Poor execution. That\\'s the unfortunate truth about \"The Three Stooges.\"', 'John Beifuss': \"A subplot that lands Moe on 'Jersey Shore' will date faster than the Tojo references in 'The Yoke's on Me' (1944), and the use of Talking Heads and Allman Brothers music to score several bits of Stoogery is distracting and inexplicable.\", 'Sean P. Means': \"I was hoping for one good joke, one gut-busting bit of slapstick - any sign that there's some small amount of brainpower backing up the silliness. But there was nothing.\", 'Jeff Bayer': \"This film feels like a quality straight to DVD flick. 'The Three Stooges' is not as painful as I thought it would be.\", 'Glenn Lovell': \"... fitfully amusing, the Farrellys on their best behavior ... We certainly can't quibble with the casting. These guys are so close to the originals I thought I was watching the Stooges digitally resurrected.\", 'Jim Lane': 'When it comes to the Three Stooges, some kids never grow up.', 'Neil Pond': 'A jubilantly juvenile celebration of the act\\'s slapstick legacy that grafts vintage \"Stooge-isms\" onto modern jokes about iPhones, Twitter and reality TV.', 'Jeffrey M. Anderson': 'The cast members emulate the famous 1930s-era comedians perfectly, catching their rhythms, tones, and mannerisms with amazing accuracy.', 'Mark Pfeiffer': 'The terrifically timed, well-executed silliness is embraced without irony or any greater sense of purpose. It delivers what it promises: scene after scene of low comedy done with relish.', 'David Denby': 'The movie is so infantile that it achieves a special kind of purity and gentleness.', 'Michael Dequina': \"Turns out to be far more effective than anyone could have ever anticipated, and that's mainly because there are no big names slapping each other silly.\", 'Linda Cook': 'I may not love the Three Stooges, but someone I love does.', 'Rob Humanick': \"A spot-on love letter to (and recreation of) comedy's greatest trio; Larry David as a buzzkilling nun is but the first of many strokes of genius.\", 'John Wirt': \"The Farrelly brothers re-create the Stooges' choreographed mayhem and anarchic spirit with exacting fidelity.\", 'Susan Granger': 'Frantic and foolishly funny', 'Betsy Sherman': \"Chris Diamantopoulos leads the cast as an amazing Moe; not only does he capture that cartoonish '30s body language, but he makes his face look like a fist.\", 'Jackie K. Cooper': 'I walked into the theater with a feeling of dread and walked out with a smile on my face. The three guys won me over.', 'Diana Saenger': 'A Laugh A Minute', 'Eric Melin': \"So lighthearted and good-natured it's almost impossible to resist completely. A couple of the sequences come close to hilarity, but if the last reel would have taken the slapstick to dizzying idiotic heights, it would be a solid movie all around.\", 'Mike McGranaghan': 'Seeing a movie in which three other actors play the Stooges is akin to watching an Elvis impersonator. Sure, it looks like a duck and it quacks like a duck, but it most certainly is not a duck.', 'Joshua Rothkopf': \"The metafriction between these classic dupes and today's idiots chafes uneasily.\", 'David Nusair': 'A miscalculation of near epic proportions...', 'Michael Arbeiter': 'If you are a Stooge purist who is offended by the very idea of a contemporary \"revival\" of the act, the movie won\\'t change your mind.', 'Nick Pinkerton': 'The leads acquit themselves in the physical comedy, resurrecting shtick honed on a thousand-and-one vaudeville stages, and recreated in as many playgrounds.', 'Jeanne Kaplan': \"Despite what one may think of The Three Stooges and their comedic style, it is tough stuff --- pratfalls, slapping, poking eyes, etc. It's all in the timing, and to make it look real and seamless takes a lot of practice.\", 'David Kaplan': 'If I had to choose one of the trio for most outstanding Stooge portrayal, it would be Diamantopoulos. His physical transformation to Moe is uncanny, but it is his demeanor that is truly amazing.', 'Frank Wilkins': 'Neither as laugh-out-loud funny as many had hoped for, nor as excruciatingly dreadful as most feared it would be.', 'Robert Denerstein': 'The Farrelly brothers manage a fine imitation of The Three Stooges, but the movie never quite comes together', 'Phil Villarreal': 'I hope this is the start of a franchise, but not of feature-length sequels. Just three-minute-long shorts that play as prologues to real comedies.', 'Cole Smithey': \"For all of the tremendous effort put into transposing The Three Stooges' brand of physical comedy into a feature film, an unpolished script hampers the result. First-act laughs succumb to third-act disappointment.\", 'Devin Faraci': \"If you're a Stooges fan, go see the movie. If you like crude, silly slapstick, go see the movie. If you have a stick up your ass, go see Titanic.\", 'Gary Wolcott': \"Sometimes, it's smart to do dumb. Unlike about half the Farrelly brothers flicks, The Three Stooges is actually funny.\", 'Matt Brunson': \"Can anyone who isn't a Stooge fan possibly enjoy The Three Stooges? More to the point, can anyone who IS a Stooge fan (like me) possibly find merit in this Farrelly misfire?\", 'Jason Zingale': \"[A] well-meaning but hopeless homage to Moe, Larry and Curly that even longtime Stooges fans won't find very funny.\", 'Rebecca Murray': \"The Three Stooges is better than you'd expect, although I doubt it will wind up converting any Three Stooges non-enthusiasts.\", 'Steve Crum': 'An imitation Three Stooges flick cannot possibly get any funnier than &apos;The Three Stooges&#58; The Movie&#46;&apos; I laughed&#44; and laughed&#46;&#46;&#46;to my surprise&#46;', 'Jaime N. Christley': \"In the hands of the Farrellys, the Stooges are, unsurprisingly, made into totems of the duo's favored themes and values: separation anxiety, and the special qualities of home and family, however dysfunctional.\", 'Kevin Carr': \"It's a misdirected misfire of missed opportunities. Now, I'm going to wash the taste of this film out of my mouth by watching some classic Three Stooges episodes.\", 'Bob Bloom': '(\\'The Three Stooges\") is a memory piece for ... adults who yearn for those days when they rushed home from school, turned on the television and heard the strains of \"Three Blind Mice\" that was the invitation to 15 minutes of disorderly chaos. ...', 'Eric D. Snider': \"Any reasonable objections to the Farrellys' Three Stooges will not be on the grounds that it desecrates a revered comedy franchise, but on the grounds that it's not very funny.\", 'Leonard Maltin': 'None of this would be possible without the inspired and fully-committed performances of Sean Hayes as Larry, Will Sasso as Curly, and Chris Diamantopoulos as Moe... They never break character or wink at the audience...', 'Maitland McDonagh': 'A misbegotten attempt to revive the anarchic slapstick antics of the trio who scandalized generations of parents and update it for 21st-century audiences.', 'Corey Hall': \"An excuse for slapstick and hokey puns that were musty 60 years ago. Such antics are tolerable in tiny doses, but the movie's slight 92-minute running time is really pushing things.\", 'Marc Savlov': \"All three leads are adequate, but the simple act of attempting to re-create the madcap aura of the original Stooges' brotherly sadomasochism is doomed from the get-go.\", 'Todd Jorgenson': 'The problem with the film is less in the execution that in the concept, for the same reason that the original Stooges shorts were more amusing than their features.', 'Rich Heldenfels': \"Sure, it's derivative, and sentimental. But it still made me laugh more than once.\", 'Stephen Whitty': \"If this is a tribute, it's a crass and clumsy one.\", 'James Verniere': 'This is slapstick with the emphasis on the slap.', 'Jim Judy': \"Trust me, you'd rather be poked in the eyes, slapped or pounded on the head repeatedly rather than sit through this travesty. (Full Content Review for Parents also available)\", 'Jordan Hoffman': 'It is so relentlessly, gleefully and willfully dumb that, even if you are so broken an individual that you refuse to laugh, you will at least watch it in reverence and awe.', 'Bill Gibron': 'Tthis is a strange combination of homage and hack-job that never rises above its otherwise obvious intentions', 'Chris Bumbray': \"It's about as good a THREE STOOGES movie as we're likely to get- but that's not very good at all.\", 'Grae Drake': \"Although I am still bewildered by it, enjoying this movie has inspired me to revisit the original material. It's making me chuckle just as much. Could it be that I had to mature a little in order to enjoy such juvenile pleasures? Man, am I confused.\", 'Peter Travers': \"For the Farrellys, The Three Stooges is a labor of love. For non-believers, it's merely a labor.\", 'Dave White': 'Up is down. Black is white. I just laughed nonstop through a hundred-minute-long Three Stooges impersonation.', 'Scott Chitwood': \"I'd recommend The Three Stooges to anyone 10 and under. Everyone else should probably just go back and watch the original Three Stooges on TV reruns.\", 'Willie Waffle': \"Ultimately, you aren't watching THE Three Stooges. You are watching three guys do an impression of THE Three Stooges. It's like Nickelback doing a cover of a Beatles song.\", \"Sean O'Connell\": \"Even by Stooges standards, it's overly juvenile and totally dumb.\", 'Lou Lumenick': 'You would think that after a quarter-century in development at four different studios, somebody would have figured out how to make a funny movie about the Three Stooges.', 'Jim Slotek': '[A] half-baked -- and yes, pointless -- homage.', 'Stephen Cole': \"The Three Stooges weighs in at about 15 howlers over 90 minutes. Not bad, about the same ratio of hilarity to hokey as the Stooges' old shorts.\", 'Peter Howell': 'The Three Stooges is moronic, stupid, idiotic entertainment for knuckleheads.', 'Daniel M. Kimmel': \"It is doubly sad. It not only fails to bring the Stooges back to life, it similarly fails to do the same thing for the Farrellys' career.\", 'Kimberly Gadette': \"The movie provides its own answer as to why the original Stooges' earlier projects were confined to two-reelers and shorts. Sometimes Moe is less.\", 'Michael A. Smith': 'Full of the classic timing and slapstick humor that have made the Stooges fan favorites for almost a century, \"The Three Stooges\" could have been a horrible disappointment.', 'Mark Dujsik': 'The movie is the embodiment of mediocre comedy, which might be exactly what the Stooges deserve or would ever want.', 'David Poland': 'Anyone who pans this film needs the stick taken out of their butt. Nyuk Nyuk.', 'Owen Gleiberman': \"It's an enchantingly well-done tribute that revives, and even refreshes, our affection for the Stooges, yet at its core it lacks the completely and totally unhinged shock of the new.\", 'Betsy Sharkey': 'There is an appealing nyuk, nyuk nostalgic spirit to\"The Three Stooges.\"', 'Dustin Putman': 'All things considered, a few sawed-off ladder steps better than the alternative of sheer, brain-numbing misery.', 'Leslie Gornstein': 'The guys anchoring the latest iteration of The Three Stooges make every bark and eye-poke look like second nature.', 'Claudia Puig': \"Pop culture references intermingle with the loopy trio's iconic foolishness, and the result is a movie with some big laughs, plenty of heart and terrible coifs.\", 'Peter Sobczynski': 'In the end, \"The Three Stooges\" is neither as good as some might have secretly hoped it might be nor as excruciatingly awful as most may have feared that it would be.', 'Drew McWeeny': '... this throwback is maybe the purest way for the Farrellys to reconnect with what it was that made them get into comedy in the first place.', 'Frank Swietek': 'A misguided homage that mistakes clutter for comedy.', 'Nell Minow': 'Is this funny? Soitenly not!', 'Alonso Duralde': 'Get ready for something more shocking than a poke in the eye: The Three Stooges is genuinely funny, a no-holds-barred, smart-stupid comedy that (at the screening I attended, anyway) will win over Stooge-philes and non-believers alike.', 'Brian Orndorf': 'The Stooges themselves often had trouble sustaining their breezy brutality for 90 minutes, leaving the Farrellys out of ideas early on, resorting to fart jokes to nab laughs.', 'Wesley Morris': \"It pleases me to report that the movie is far from a disaster - on a dozen or so occasions, it's even funny.\", 'Laura Clifford': \"The second and third installments don't hold up because the Farrellys don't always adhere to Stooges' classicism when 'modernizing' them...there is simply no place for pee and fart jokes in the Stooges' lexicon.\", 'Jon Niccum': 'It offers a smorgasbord of pratfalls, mock injuries, humiliations and general physical nonsense.', 'Stephanie Zacharek': \"The Three Stooges is not particularly great, though it is possibly brilliant, a picture that goes beyond homage to become its own rambunctious invention - it's one big eye-poke, with footnotes.\", 'Gary Thompson': \"The problem is that you feel the Farrellys' attention to detail may have gotten in the way of the larger mission - to create a workable movie around the central performances.\", 'Pete Hammond': 'Actually feels like something the original Stooges might have made themselves, if they were alive and in their prime circa 2012.', 'Stephen Silver': \"A little of it goes a long way. There's a reason the Stooges always made short films.\", 'Manohla Dargis': \"Peter and Bobby Farrelly's thoroughly enjoyable paean to Moe, Larry and Curly and the art of the eye poke.\", 'Joe Neumaier': \"It's a concept that shouldn't work at all. But - who'da thunk it? - it's better than a hammer to the head.\", 'Michael Phillips': 'I spent a lot of \"The Three Stooges\" staring, not laughing. For me this was a stare-out-loud affair.', 'Richard Corliss': 'The purpose of the entire enterprise seems to demonstrate the superiority of slapstick sadism from 75 years ago to the wan attempts at PG-rated roughhouse today.', 'Todd McCarthy': \"[A] funny, good-hearted resuscitation of Hollywood's beloved lowbrow lunkheads.\", 'Bill Goodykoontz': 'The movie is content to simply mimic the old Stooges, bringing nothing new to the table.', 'Peter Debruge': \"Leave it to a sibling comedy duo to recognize the potential for brotherly love amid the Three Stooges' slap-happy antics, adding a welcome heartwarming dynamic to the gang's signature eye-poking, head-knocking routine.\", 'Tim Grierson': \"Proudly, gleefully stupid, The Three Stooges may not be witty or subtle, but it's pretty darn funny.\", 'Christy Lemire': 'A little nyuk-nyuk-nyuk goes a long way in \"The Three Stooges,\" Peter and Bobby Farrelly\\'s feature-length homage to the classic slapstick comedy trio.', 'Glenn Kenny': \"...while a good part of the picture reached my submerged Stooges person and made him laugh, too much of it just didn't connect at all.\", 'John Anderson': \"One of the Farrellys' better films and a movie in which excess -- the hallmark of everyone involved -- is decidedly a virtue.\", 'Steve Persall': \"Don't be a numbskull and write off Peter and Bobby Farrelly's remake of The Three Stooges before seeing it. This is a more than reasonable facsimile of the comedy act that launched 1,000 emergency room visits.\", 'Soren Andersen': \"They're mere imitations. There's nothing beneath the surface similarities and programmed franticness.\", 'Matt Pais': \"Silly, harmless laughs--unless you're some kinda wise guy, ay?\", 'Roger Moore': 'The Farrellys cleaned up their act for a kiddie audience. They even appear on camera for a \"don\\'t do this at home\" disclaimer at the end, because, as ever, the Stooges are for kids.', 'Alison Willmore': \"The Three Stooges isn't very funny, but it is, like last year's far superior The Muppets, a sincere act of fandom on an epic scale.\", 'Roger Ebert': \"I didn't laugh much.\", 'Josh Bell': \"Neither honors the Stooges' legacy nor provides any justification for bringing them into the present day.\"}",
         "77",
         "74",
         "151",
         "2012-08-14",
         "92.0",
         "['comedy']",
         "English",
         "Peter Farrelly,Robert Farrelly",
         "Peter Farrelly,Robert Farrelly,Mike Cerrone"
        ],
        [
         "1",
         "The General",
         "During America’s Civil War, Union spies steal engineer Johnnie Gray's beloved locomotive, 'The General'—with Johnnie's lady love aboard an attached boxcar—and he single-handedly must do all in his power to both get The General back and to rescue Annabelle.",
         "1008166-general",
         "[nan, '4.5/5', '3.5/4', nan, nan, '10/10', '5/5', '10/10', '5/5', nan, nan, '4/4', '4/4', '4/4', '4/4', nan, '10/10', '9/10', '5/5', '5/5', '5/5', '4/5', '5/5', 'A', 'A', '5/5', '95/95', '4/4', '4/4', nan, '5/5', '5/5', '5/5', nan, nan, '2.5', '5/5', '5/5', '5/5', '5/5', '5/5', '5/5', 'A+', nan, '2/5', '5/5', '5/5', '5/5', '5/5', '5/5', '4/4', '4/5', '5/5', 'A+', '5', nan, nan, '93/100', '4/4', '4/4']",
         "{'Sean Axmaker': '&#46;&#46;&#46; a masterpiece&#44; one of the finest silent films ever made and one of the great film comedies of all time&#46;', 'Adam Kempenaar': 'The Mad Max&#58; Fury Road of its day&#46;', 'Josh Larsen': 'It&#8217;s hard to imagine Buster Keaton without trains&#46;', 'Robert E. Sherwood': 'Keaton shows signs of vaulting ambition in The General... That he fails to get across is due to the scantiness of his material as compared with the length of his film; he has also displayed woefully bad judgment in deciding just where and when to stop.', 'Sarah Brinks': 'Buster Keaton is brilliant in the film.', 'Grant Watson': 'All but required viewing for anyone with an interest in comedy, film, film comedy, history, film history, or historical comedy film.', 'Matt Neal': 'The peak of silent cinema.', 'Mike Massie': 'One of the greatest of all silent films.', 'Michael J. Casey': \"The movie is one death-defying stunt piece after another, and each is jaw-dropping by even today's standards.\", 'Alberto Abuín': 'The moments with the cannon, or that of the bridge - the most expensive gag in the history of cinema - are those that are not forgotten. [Full Review in Spanish]', 'Pamela Hutchinson': 'The General is one of the funniest, most ingenious, and gosh-darn exciting films you will ever see in your long and happy life.', 'Luke Parker': 'Artistic perfection. [February 19, 2019]', 'James Kendrick': \"features gags that are as much artful exercises in stuntwork and timing as they are orchestrated attempts at humor, and the fact that they work so well as both is testament to Keaton's brilliance as a filmmaker and performer\", 'Matt Brunson': 'Like the train itself, The General rarely ever slows down, barreling from one hair-raising (and frequently hilarious) set-piece to the next.', 'Mattie Lucas': 'Not just one of the greatest films of the silent period, but of all time, and arguably the greatest comedy ever made.', 'Jana Prikryl': 'The General...lets you see the result in luminous high definition.', 'Gary Shannon': '\"The General\" explores man\\'s tumultuous relationship with technology through the propulsive images and rushing emotion available only to the advents of cinema.', 'Mark R. Leeper': 'Keaton has great sight gags and goes to amazing ends to get the thrills he wants.', 'Kate Muir': \"In these times when all risk is assumed by CGI effects, Keaton's squealing funny, exquisitely timed, death-defying leaps are all the more breathtaking.\", 'Tim Robey': 'The film boasts the most sustained passages of virtuoso slapstick genius Keaton ever shot, and an unflagging momentum that lets it get away with being a reel longer than most of his best-known pictures.', 'Philip Concannon': 'A hilarious comedy and a thrilling action film. The General has it all.', 'Jennie Kermode': 'This is a silent film worth making a noise about.', 'James Mottram': 'A jaw-plunging blend of physical dexterity and bravura moviemaking.', 'Cole Smithey': '[VIDEO ESSAY] There was only one Buster Keaton. \"The General\" is his swansong.', 'Emanuel Levy': \"One of Buster Keaton's most hilarious and most popular comedies\", 'Charles Cassady': 'Silent masterpiece is enter-train-ment for all ages.', 'Sean Gandert': \"he General is the highlight of his career's tragicomic performances, featuring not just the awe-inspiring stunts that were his bread and butter, but also a level of fluidity only he and Chaplin attained at the top of their games.\", 'Peter Canavese': 'Keaton proves as endlessly clever and athletic as his screen surrogates...chock-full of hilarious sight gags, including bits of business that incorporate moving trains, cow-catchers, a bear (and bear trap), and a misbehaving cannon. [Blu-ray]', 'Bill Weber': \"The General isn't likely to be the favorite opus of the star's purist fans, but it's the one with the trappings of ambition and historical poesy\", 'Philip French': 'Among the finest comedies of all time, it wears its greatness lightly.', 'Peter Bradshaw': 'Spectacular chases, fires and explosions are captured with fluid camerawork. There are no stunt doubles for Keaton and of course no digital effects.', 'Simon Braund': 'The birth of slapstick.', 'Film4 Staff': \"Amongst the greatest of all silent comedies, The General isn't just important, it's bloody hilarious.\", 'Variety Staff': 'The result is a flop.', 'Dave Kehr': 'An almost perfect entertainment.', 'Mordaunt Hall': \"This is by no means so good as Mr. Keaton's previous efforts.\", 'Bob Bloom': 'One of the greatest comedies ever produced. It is Keaton at his inventive best.', 'Philip Martin': nan, 'Jon Niccum': nan, 'Daniel Eagan': \"Silent classic is one of Keaton's best\", 'Frank Swietek': nan, 'Rob Vaux': \"Keaton's genius has never found more perfect expression.\", 'Steven D. Greydanus': 'Begins with a single, brilliantly sustained premise and works it into an engaging story with edge-of-your-seat excitement and stunningly conceived stunts and sight gags.', 'Katherine Lipke': 'A picture which is neither straight comedy nor is it thrilling drama.', 'Gabe Leibowitz': 'Vastly overrated; moderately charming but I think I laughed once.', 'Carol Cling': nan, 'Nell Minow': 'Perfection.', 'Ken Hanke': 'Keaton at the top of his form.', 'Dan Lybarger': \"Keaton's most ambitious and one of his most rewarding.\", 'Jeffrey Westhoff': nan, 'Jeremy Heilman': \"Its peerless mixture of exciting action and kinetic comedy are one of moviedom's supreme pleasures.\", 'Michael W. Phillips, Jr.': 'One of the greatest films of the silent era.', 'Almar Haflidason': 'Newcomers will doubtless be surprised at the excellent pacing of the action.', 'Dennis Schwartz': \"This is Buster Keaton's ageless masterpiece.\", 'Karina Montgomery': \"Sure, it's got that cornball '20's dialogue and plays the underdog Confederacy as the heroes, but it's a truly fantastic piece of cinema.\", 'Marjorie Baumgarten': 'Keaton is a wonderful treasure no matter the movie, and The General is certainly among his best.', 'Tim Dirks': 'An imaginative masterpiece of dead-pan \"Stone-Face\" Buster Keaton comedy, the silent Civil War adventure epic classic, The General (1927)', 'Dan Jardine': \"There's no point sitting on the fence on this one. Buster Keaton's The General is a work of genius.\", 'Roger Ebert': \"[Keaton's films] have such a graceful perfection, such a meshing of story, character and episode, that they unfold like music.\", 'Jeffrey M. Anderson': 'Ranks among the greatest movies ever made.'}",
         "55",
         "5",
         "60",
         "2007-03-22",
         "83.0",
         "['comedy', 'action', 'adventure', 'drama', 'war']",
         "English",
         "Clyde Bruckman,Buster Keaton",
         "Clyde Bruckman,Al Boasberg,Buster Keaton,William Pittenger,Charles Smith,Paul Smith"
        ],
        [
         "2",
         "The General",
         "During America’s Civil War, Union spies steal engineer Johnnie Gray's beloved locomotive, 'The General'—with Johnnie's lady love aboard an attached boxcar—and he single-handedly must do all in his power to both get The General back and to rescue Annabelle.",
         "1087427-general",
         "[nan, '3/4', '3.5/4', nan, '2.5/4', nan, nan, '4/5', '3/5', '1/5', 'B+', '3/4', '4/5', '5/5', '4/5', '4/4', '3.5/4', '3/5', 'B', '1.5/5', '3/4', nan, nan, 'B', 'C', '4/5', '8/10', '4/5', '78/100', nan, '4/5', nan, nan, '3/4', '3.5/5', '2.5/4', '3/5', nan, nan, nan, '3/4', '3.5/4', nan, nan, '4/4', '3.5/4', 'B-']",
         "{'Richard Schickel': \"Neither film nor actor tries to resolve Cahill's contradictions or anyone's feelings for him.\", 'Roger Moore': 'Before he was Mad Eye Moody, before he took Colin Farrell to the woodshed \"In Bruges,\" before \"The Guard,\" the great Irish actor Brendan Gleeson was the infamous Irish crook known as \"The General.\"', 'Ken Fox': \"The film has little of the visual dazzle often associated with Boorman's movies, but the somber, black-and-white cinematography helps even out the often larger-than-life tone.\", 'Jonathan Rosenbaum': \"I can no longer stomach the premise in so many Anglo-American crime pictures that mavericks are admirable simply because they're mavericks\", 'Michael Dequina': \"Enjoyable for what it is; problem is, what it is doesn't amount to much in the end.\", 'Derek Elley': 'A movie that says more about the rebellious Irish psyche than a heap of overtly political pictures.', 'Geoff Andrew': \"All the performances are impressive, but Gleeson and Voight are especially memorable, lending an almost tragic air of inexorability to Cahill and Kenny's cat-and-mouse games.\", 'Emanuel Levy': nan, 'Thomas Delapa': nan, 'Michael Szymanski': nan, 'Robin Clifford': 'An interesting, entertaining view into the life of an Irish crime legend who is almost a Robin Hood, but not quite.', 'Judith Egerton': \"Neither Boorman's cinematic expertise nor Gleeson's canny performance is enough to make us care about Cahill's destruction.\", 'Frank Swietek': nan, 'Jake Euker': 'The most lyric crime picture since Band of Outsiders, with a sublime performance by Gleeson at its core.', 'Brian J. Arthurs': nan, 'Jeffrey M. Anderson': \"The film glides on seriocomic wings and whisks us rapturously away. It ranks with Boorman's own classic crime film Point Blank (1967), and that's high praise.\", 'Jeanne Aufmuth': nan, 'Luke Y. Thompson': 'A well-made film, but a hard one to actually like.', 'Philip Martin': 'The General is more character study than cops-and-robbers action drama.', 'Ron Wells': \"It's too bad Marvin isn't still around, to at least knock some sense into his old friend, Boorman.\", 'Marty Mapes': 'The General is a great character study.', 'Ed Scheid': 'In The General, director John Boorman is back in top form.', 'Frederic and Mary Ann Brussat': 'A notorious Irish crime lord serves as a mirror for the worst that is in others in this psychologically rich drama.', 'Robert Roten': \"This probably wouldn't have been such a thought-provoking film if it hadn't been based on a true story.\", 'Dennis Schwartz': 'It was great casting to make Gleeson the lead.', 'Janet Maslin': 'The black-and-white tones (shot on color stock) are so rich that the ski masks of burglars wind up looking like velvet.', 'Harvey S. Karten': \"The General is an original take on the crime genre, photographed in black and white and cleverly edited to underscore its title character's status as a legend in his time.\", 'Oz': nan, 'Dan Jardine': nan, 'Ed Kelleher': 'The General is pure cinema, a darkly comic trip into \"the hidden places.\"', 'Ian Nathan': 'A fulsome, fascinating piece of 20th century Irish folklore.', 'Shane Burridge': 'A film that manages to look both the opus of a mature film-maker and the early work of a talented new arrival', 'James Sanford': \"though this is one of Boorman's lighter works, it still has plenty of violence, colorful language and raging testosterone...\", 'G. Allen Johnson': 'The General is sharply written, by Boorman, but its fascination lies in the contrast between the energetic, almost goofy performance by Gleeson.', 'Russell Smith': 'Funny, scabrous, disturbing, tragic, and improbably life-affirming, The General travels its own idiosyncratic path with more real style and substance than the past half-decade of Hollywood gangster movies combined.', 'Bob Bloom': \"The force of Cahill's personality draws you to the screen and rivets your attention.\", 'Christopher Null': 'Large chunks of The General are completely incomprehensible.', 'Amy Taubin': \"The General is a refined, traditional movie about a character who is never more traditional than when he imagines himself outside the law. It's a great paradox, but it barely comes alive on the screen.\", 'Jeff Vice': 'The film is full of wonderful surprises, not the least of which is the dark, and at times hilarious, script -- as well as a slew of terrific performances', 'Charles Taylor': 'Gleeson is one of those rare actors who has an instinctive rapport with the audience from the moment he appears on-screen.', 'James Berardinelli': 'Veteran director John Boorman weaves together real-life incidents and fictional anecdotes to create a fascinating portrait of a man who was both more human and more humane than the legends about him indicate.', 'Roger Ebert': \"Boorman's film is shot in wide-screen black and white, and as it often does, black and white emphasizes the characters and the story, instead of setting them awash in atmosphere.\", 'Urban Cinefile Critics': \"The General is something of a salute to Boorman's talents and to cinema in general, with great images and enough grunt to satisfy the hungriest cinephile.\", 'Arthur Lazere': 'an impeccably made film, stunningly photographed in black and white, and featuring powerful performances by the entire cast', 'Edward Guthmann': \"Gleeson plays Cahill as an ordinary man who does this stuff because he's good at it.\", 'Steve Rhodes': 'An astonishing and captivating portrait of an iconoclastic criminal.', 'Owen Gleiberman': 'Cahill is played by Brendan Gleeson, an actor of blustery ferocity whose greasy hair, piggy jowls, and lumpish, slovenly physique would make him look harmless were it not for the angry dark pools of his eyes.'}",
         "39",
         "8",
         "47",
         "1999-07-20",
         "123.0",
         "['biography', 'drama']",
         "English",
         "John Boorman",
         "John Boorman,Paul Williams"
        ],
        [
         "3",
         "The Best Years of Our Lives",
         "It's the hope that sustains the spirit of every GI: the dream of the day when he will finally return home. For three WWII veterans, the day has arrived. But for each man, the dream is about to become a nightmare.",
         "best_years_of_our_lives",
         "[nan, nan, nan, nan, '4/4', nan, '4/5', nan, nan, nan, nan, nan, nan, nan, nan, nan, nan, nan, nan, nan, nan, nan, nan, nan, nan, nan, nan, nan, '4/4', nan, nan, nan, nan, nan, nan, nan, nan, nan, '10/10', '5/5', nan, nan, nan, nan, nan, '10/10', nan, nan, nan, '3/5', nan, nan, nan, nan, '4/5', nan, '3.5/4', '4/4', '3.5/4', 'A+', '4/5', nan, '4/5', '5/5', nan, nan, nan, nan, nan, 'A', '2/5', nan, nan, '4/4', nan, '5/5', '5/5', '3/4', 'A', '5/5', '4/5', '5/5', '5/5', '5/5', nan, '4/5', '5/5', '3/5', '5/5', '4/5', '4/5', nan, '4/4', '5/5', 'A+', '9/10']",
         "{'Edwin F. Melvin': 'On the surface, the tale seems easy-going and loosely knit. But it is compounded of an abundance of illuminating detail. The characters are of more than one dimension.', 'Dilys Powell': 'It has something to say to a dozen other publics... What I regret is that Sherwood, Wyler and Goldwyn should have preferred to say it in such naïve, really such rock-bottom terms. ', 'Pauline Kael': \"It's too schematic and it drags on after you get the points. However, episodes and details stand out and help to compensate for the soggy plot strands, and there's something absorbing about the banality of its large-scale good intentions. \", 'André Bazin': \"Nonetheless, these reservations are not intended to diminish the eminent merits of The Best Years of Our Lives, in which the mastery of one of the world's greatest directors is ever on display. \", 'Brian Eggert': \"The Best Years of Our Lives remains so singularly honest in its description of veterans that Wyler's treatment cannot help but supply an editorial on the social landscape of postwar America.\", 'Howard Pearson': 'Splendid producing, acting, directing of a realistic, down-to-earth plot such as this results then in a living portrayal of what peoples actually are experiencing today.', 'Matt Neal': 'Very much of its time in some ways, but what makes it memorable is how ahead of its time it was in the ways that really mattered.', 'Virginia Wright': 'The Best Years of Our Lives is the most rewarding picture in a long, long time.', 'Nancy Philips': 'The Best Years of Our Lives is a fine example of what Hollywood Is capable of doing once they set their minds to it.', 'Marjory Adams': 'The Best Years Of Our Lives is an eloquent tribute to returned veterans [and] a magnificent, brilliant contribution to motion pictures as an art.', 'Mae Tinee': 'Every member of the cast Is so much like some one you know, every one so natural and likable, as real and pathetic as any human being close to your heart, but Fredric March, Dana Andrews, and Harold Russell give faultless performances.', 'Philip Hope-Wallace': 'The playing is magnificent -- especially that of Fredric March.', 'C.A. Lejeune': '[Wyler] has made another film that uses all the knowing tricks of Mrs. Miniver, and uses them to far better purpose, because this time Mr. Wyler is dealing with a class of people and a set of circumstances that he thoroughly understands.', 'Herman G. Weinberg': 'It has everything it should have -- a literate and often sharp and honest script by Robert E. Sherwood, supple direction by William Wyler, and is ingratiatingly played by at least one actor -- Frederic March.', 'Donald Kirkley': 'The photoplay, which runs for 165 minutes, is approximately three times as good as its nearest American competitor, vintage 1946.', 'KC Star Staff': \"The characters in The Best Years of Our Lives are alive and interesting as they take their parts in the drama. One of these you'll remember a long time -- that fine lad, Harold Russell, the natural actor who sets the pace for the Hollywood players.\", 'Dick Pitts': 'Don\\'t get the impression that this is a \"sermon\" or a picture with a \"great message\" (although there is e message there). No -- it\\'s simply a true-to-life drama so expertly presented that its wonderful entertainment.', 'Harold V. Cohen': 'The players without exception have quickly recognized the challenge of a remarkably forthright script and they respond handsomely.', 'Herbert Cohn': 'A fresh and utterly human drama with beautiful acting, heart-warming writing, gentle, unpretentious direction and the fine technical touches -- photographic, scenic and sound.', 'Times (UK) Staff': 'This long American film is a gallant and sincere attempt to examine the difficulties of ex-service men in returning to civil life.', 'William M. Gladish': 'The film does give you something to think about, for a long time afterwards. There are Incidents of natural humor and, with a gripping story, they come as welcome relief. The multi-award picture will not disappoint the masses.', 'Helen Bower': 'The film, throughout, presents the American scene with homely, familiar touches.', 'Mildred Martin': 'On the distaff side, honors are glowingly upheld by Myrna Loy and Teresa Wright, March\\'s genuinely charming wife and daughter. Cathy O\\'Donnell, new Goldwyn \"discovery,\" Ls wistful and affecting as Russell\\'s sweetheart.', 'Nell Battle Lewis': 'This picture is thoughtful, timely, and very well acted.', 'Herbert Whittaker': 'The result is something pretty neatly turned out, full of emotion for everybody and given very neat little touches to keep it alive for those who rear back from anything as universal as hokem.', 'Hortense Morton (Screen Scout)': \"Adapted to the screen by that virtuoso of words, Robert Sherwood, from Mackinlay Kantor's novel, the film unfolds an honest and heartwarming story about people and events as they are -- as you and I encounter them in every day living.\", 'George Bourke': \"You'll be entertained; you'll be thrilled; you'll be spiritually elevated by it. The Best Years of Our Lives takes its place among the 10 most emotionally moving motion pictures we've ever seen.\", 'Dorothy Kilgallen': 'The Best Years Of Our Lives is never a preachment. It is just an excellent piece of entertainment, sometimes sad, often very funny, sensitively directed with the sympathetic, amusing and recognizable details that Hollywood loves to call \"great touches.\"', 'Sara Corpening': \"There may have been finer movies made, but offhand we can't think of one.\", 'Terry Ramsaye': 'The Best Years of Our Lives is a long title for a long picture about a long story. By name and fame and skilled performance full of long thoughts. They will cry over it, every little while.', 'Sherwin Kane': 'The homecoming of a trio of World War II veterans, each to his own problems, is the subject of this warmly human and exceptionally well acted Samuel Goldwyn production.', 'Film Daily Staff': \"The Best Years of Our Lives comes close to being the perfect film -- as close indeed as you've ever seen.\", 'Edwin Schallert': 'It is the finest subject of its type yet made visible. It has the genuine note.', 'Myles Standish': 'Great efforts have been made, in holding up this mirror to the lives of so many Americans, to make it as realistic as possible.', 'P.S. Harrison': \"William Wyler's sensitive direction, Robert E. Sherwood's superlative screen play, and great performances by the entire cast combine to make this picture go down in the industry's history as one of its finest achievements.\", 'Sarah Brinks': 'I was really touched by this film and surprised by how progressive some of its story telling was and how timeless it is.', 'Jack Moffitt': 'It makes no attempt to oversimplify these millions of individuals into One Composite Veteran. This strong picture presents them as men, matured by combat, who face the problems of readjustment with dignity, courage and patience.', 'Dudley Early': 'So much has been said and written about this picture that we pass it along to you with only the comment that we have never heard a word said against it.', 'Mike Massie': 'Perhaps its most enduring quality is that the love stories are so universal and timeless that they easily transcend the postwar setting.', 'Danielle Solzman': \"Whenever The Best Years of Our Lives is scheduled to air on TCM, it's definitely worth the time to watch the classic.\", 'Jay Carmody': 'The genius of Wyler as director of the Goldwyn screenplay is that he never lets his principals become mere symbols and succeeds marvelously in keeping their story from becoming fuzzy and too involved.', \"Josephine O'Neill\": \"William Wyler, noted for his wise taste, keeps the balance adroitly between emotion and lusty humor. The dialogue is particularly skilled; and the whole production, from Gregg Toland's photograph, to the realist city backgrounds, has smooth distinction.\", 'Erle Cox (The Chiel)': 'It is not often that a film that is heralded by a blast of trumpets lives up to Its reputation, but this picture does all that, and more.', 'Nelson Burns (Te Pana)': 'Chalk up full marks for the superb acting of Fredric March, Teresa Wright, Myrna Loy, Dana Andrews, and Virginia Mayo.', 'SMH Staff': 'The Best Years of Our Lives is a fine arid fascinating example of Hollywood craftsmanship in its most mellowly sentimental and richly observant mood.', 'Rachel Wagner': \"If you haven't seen 'The Best Years of Our Lives' don't wait as long as I did to give it a watch. You will be rewarded by a moving story of love, family, and the ability of the human spirit to turn the worst years into the best.\", 'Michael J. Casey': 'The Best Years of Our Lives is full of visually poetic scenes that speak louder than words ever could.', 'Alexander Shaw': 'This happy result is entirely due to the fact that... The Best Years of Our Lives is one of the most excellently made films to come from Hollywood for a long time.', 'Sean Axmaker': 'By all rights, the homecoming drama The Best Years of Our Lives should have been another well intentioned film left to the dated dustbins of history, but World War II vet William Wyler put more soul into this picture than anything else in his career.', 'James Wegg': 'In our own era of continuous armed conflicts, innocent deaths and PTSD, the public\\'s naiveté about the \"glories\" of war has long since faded to black...', 'Michael Atkinson': \"William Wyler's heartbreaking postwar ballad seems even more radical today than it did in its Oscar-thick heyday. It's as non-propagandistic as an unemployment line.\", 'Witney Seibold': 'The Best Years of Our Lives is one of the most timely and immediate Best Picture winners in Academy history, beating even Mrs. Miniver in terms of topicality.', 'Kate Cameron': 'As far as this review is concerned, it is the best picture to come out of Hollywood since the end of the war.', 'David Stratton': \"It's a masterpiece, a combination of a genuinely felt emotional narrative and a microcosm of a country recovering from war.\", 'Keith Uhlich': '[A] powerful, if cumbersome prestige picture.', 'Richard Brody': 'Profoundly and sensitively balances the private demons of scarred veterans and the press of public policies that leave their mark on daily life.', 'Eric Henderson': \"The nation's problems are right there in plain sight, just as clear as cinematographer Gregg Toland's typically precise deep-focus shots.\", 'Matt Brunson': 'This enduring classic remains perhaps the best film ever made about the hardships endured by soldiers returning home from war.', 'Josh Larsen': '...captures the sort of confusion, condescension and even revulsion faced by returning veterans, then and today.', 'Cole Smithey': \"The underlying satirical nature of William Wyler's post-war paean to American soldiers returning home from World War II lurks throughout this beloved drama.\", 'Total Film Staff': 'This is intelligent, liberal-minded Hollywood moviemaking at its most crafted -- if a tad overlong at just under three hours.', 'James Agee': 'The movie has plenty of faults, and the worst of them are painfully exasperating; yet this is one of the very few American studio-made movies in years that seem to me profoundly pleasing, moving, and encouraging.', 'Nell Minow': 'Fine movie for families with older kids.', 'Pablo Villaça': 'Este belíssimo estudo sobre as seqüelas sociais e psicológicas da guerra (para não mencionar as físicas) permanece atual mais de 60 anos depois de seu lançamento, impressionando não só pelas atuações, mas também pelo virtuosismo estético.', 'TIME Staff': 'Like most good mass entertainments, this picture has occasional moments of knowing hokum; but unlike most sure-fire movies, it was put together with good taste, honesty, wit -- and even a strong suggestion of guts.', 'Jeffrey M. Anderson': 'I found it notable mainly because its massive 172 minutes are exclusively devoted to exploring characters, rather than showing any giant-sized, dazzling \"epic\" scenes.', 'Film4 Staff': \"It may be corny, but you'd have to be a real cynic not to be drawn in.\", 'Abel Green': 'One of the best pictures of our lives.', 'Roger Ebert': 'Surprisingly modern: lean, direct, honest about issues that Hollywood then studiously avoided.', 'Dennis Schwartz': 'One of the few films that deserved all the awards heaped on it from the Oscars.', 'Jake Euker': nan, 'Jonathan Rosenbaum': \"I'd call this the best American movie about returning soldiers I've ever seen -- the most moving and the most deeply felt.\", 'Dave Kehr': 'The film is very proud of itself, exuding a stifling piety at times, but it works as well as this sort of thing can, thanks to accomplished performances by Fredric March, Myrna Loy, and Dana Andrews, who keep the human element afloat.', 'Wesley Lovell': 'A biting look at the devestation caused by war on returning soldiers.', 'Geoff Andrew': \"Overlong, perhaps, but this tender and occasionally tough look at the plight of returning war veterans is one of Wyler's best films.\", 'Carol Cling': 'Post-war Hollywood drama at its heartfelt best.', \"Chuck O'Leary\": nan, 'Scott Nash': 'All three of the leading actors do a great job. You empathize with each one of them for different reasons. They put a human face on the returning soldiers and made me want to find a Vet and shake his hand.', 'Emanuel Levy': \"The film captured the mood of post-WWII America so well that even harsher critics like James Agee failed to see the film's dramatic flaws, instead stressing its realism and black-and-white deep focus photography by Gregg Toland.\", 'David Cornelius': \"Wyler and Goldwyn have made a glorious 'intimate epic,' one worthy of every honor bestowed upon it.\", 'David Parkinson': 'This is intelligent, admirably unsentimental and utterly involving for its full three-hour running time.', 'Matt Easterbrook': \"The Best Years Of Our Lives is a wonderful character study, and touches on points of humankind's psychiatric makeup that are so obvious they are rarely discussed in cinematic form.\", 'Josh Gilchrist': nan, 'Michael W. Phillips, Jr.': 'One of the greatest Hollywood films ever produced.', 'Bosley Crowther': 'It is seldom that there comes a motion picture which can be wholly and enthusiastically endorsed not only as superlative entertainment but as food for quiet and humanizing thought.', 'Dan Jardine': nan, 'Ken Hanke': 'Brilliant post-War drama.', 'Philip Martin': nan, 'Robin Clifford': 'This masterpiece may seem corny to some 55 years later but it never fails to bring a tear to my eye and an ache in my heart.', 'David Poland': nan, 'Jeffrey Westhoff': nan, 'Boxoffice Staff': \"It's priceless -- one of those pictures every producer hopes to make.\", 'James Berardinelli': 'The feeling of warmth and satisfaction that accompanies the conclusion is the hallmark of a great drama.', 'TV Guide Staff': 'The best coming home movie ever made.', 'Tim Dirks': \"The Best Years of Our Lives (1946) is producer Samuel Goldwyn's classic, significant American film about the difficult, traumatic adjustments (unemployment, adultery, alcoholism, and ostracism) that three returning veteran servicemen...\", 'MaryAnn Johanson': 'The very best kind of soap opera, detailing the problems and heartaches of people we come instantly to care about.'}",
         "93",
         "3",
         "96",
         "2000-07-18",
         "172.0",
         "['drama']",
         "English",
         "William Wyler",
         "MacKinlay Kantor,Robert E. Sherwood"
        ],
        [
         "4",
         "His Girl Friday",
         "Hildy, the journalist former wife of newspaper editor Walter Burns, visits his office to inform him that she's engaged and will be getting remarried the next day. Walter can't let that happen and frames the fiancé, Bruce Baldwin, for one thing after another, to keep him temporarily held in prison, while trying to steer Hildy into returning to her old job as his employee.",
         "his_girl_friday",
         "['4/4', nan, nan, '4/4', nan, nan, nan, nan, nan, '3.5/4', nan, nan, nan, nan, nan, nan, nan, nan, nan, nan, nan, nan, nan, nan, nan, nan, nan, nan, nan, nan, nan, nan, nan, nan, nan, nan, nan, nan, nan, nan, nan, nan, '8/10', nan, nan, nan, nan, nan, nan, nan, nan, '3/5', '5/5', nan, '5/5', nan, '5/5', nan, '10/10', '5/5', '4/4', '10/10', nan, '5/5', '5/5', '5/5', '5/5', '4/4', nan, nan, '5/5', nan, nan, nan, nan, '5/5', 'A', '5/5', '3/5', 'C', nan, 'A', '3/5', '4/4', 'A+', '5/5', '5/5', '5/5', '5/5', '5/5', '5/5', nan, '4/4', '4/5', '5/5', '3/5', '5/5', '3/5', '5/5', '90/100', '5/5', nan, '8/10', '4/4']",
         "{'Matt Brunson': 'One of the all-time great motion pictures -- if anyone ever elects to place a screwball comedy in a time capsule for 25th-century historians to analyze&#44; it might as well be this one&#46;', 'Kate Muir': 'The zingers don’t stop...', 'Dilys Powell': 'It is intensely exciting and funny, a picture which flashes by you before you have had time to remember that for an hour and a half you have forgotten the war. ', 'Brian Eggert': \"A film resting on the speed and timing of its delivery, as well as the talent of Cary Grant and Rosalind Russell, His Girl Friday remains a whimsical classic whose sheer velocity earned Hawks boasting rights over Milestone's earlier version.\", 'Virginia Wright': 'Rosalind Russell and Cary Grant are perfectly paired. Their comedy performances set a new speed record on the screen.', 'Frank Morriss': 'There are few breathing spells in His Girl Friday. The film starts out at a breakneck speed, and continues it all the way through.', 'Katherine Howard': 'It is with a great deal of envy that this real Girl Friday reports on the reel Girl Friday who cavorts on the [screen in] His Girl Friday. We can only say: It must have been wonderful to work in the \"dark ages\" of newspapering.', 'Ruth Lewis': \"Miss Russell's lively interpretation is good and the repartee between her and Cary Grant fun.\", 'Mae Tinee': 'This farcical film is smartly acted, dialoged, and directed. It has nary a \"Go\" light for boredom.', 'Kate Cameron': \"The picture is a blessed relief from most of the solemn and oppressively sad stories that have been occupying New York screens since before the holidays, and it moves Rosalind Russell to the very top of the roster of Hollywood's cleverest comediennes.\", 'Douglas M. Fellows': \"It's Rosalind Russell's picture, of that there can be no doubt. She's In practically every scene and keeps the excitement moving like a house afire.\", 'Mildred Martin': 'Fast, funny and vastly entertaining, His Girl Friday is, if anything, brighter and breezier than The Front Page of which it is a brilliant remake.', 'Harold V. Cohen': \"[Russell] plays it with a fine comedienne's consummate touch, turning on the steam when the heat is on and sparking the mounting crescendo of excitement with a performance that stays at the boiling point every inch of the way.\", 'Donald Kirkley': 'His Girl Friday owes most of its appeal to the snappy performances of Cary Grant as the brassy, unscrupulous managing editor and Miss Russell as the girl reporter.', 'Charles E. Ward': 'Wisecracks and jibes march across the screen in double time in the film His Girl Friday as a woman reporter and an editor engage in a sort of romantic blitzkreig.', 'Marion Aitchison': 'Boisterous entertainment, ably handled by the principals who are backed up by Ralph Bellamy, Gene Lockhart, John Qualen, Helen Mack, and others.', 'Globe Staff': 'Rosalind Russell and Cary Grant rush through the picture in the highest spirits and from appearance the entire cast must have had a gay time on the set.', 'James S. Pooler': 'The sparkle comes from the fast dialog, the pace and excitement and the constant trickery in all quarters.', 'Colvin McPherson': \"Grant's role as the slick, conniving managing editor is ideal for him.\", 'Jack Moffitt': 'The smartest and most sophisticated piece of entertainment in a week that is notable for its high entertainment average.', 'Ronald D. Schofield': 'It is no fare for the sentimentalist, romance seeker or sober problem play fan, but for those who want fast, hilarious and brittle farce it is tops.', 'John L. Scott': 'Miss Russell gives a top-notch portrayal as Hildy. She has the natural enthusiasm and spirit for the job and undoubtedly will score hits with audiences.', 'Richard W. Statham': 'The picture is really a howl and should find favor with every member of the family.', 'Mercury Staff': '[His Girl Friday] is one of the raciest, slickest comedies in months. It gets away to a flying start and gains rather than loses momentum as it speeds to Its climax.', 'Herbert Whittaker': 'Mr. Grant. Miss Russell and Mr. Bellamy present a combination hard to beat on the screen today. Miss Russell, if somebody in Hollywood is bright, should shortly be among the top-ranking stars in the business.', 'Herbert Cohn': 'So long as Hollywood is determined to have remakes, may they follow in the footsteps of His Girl Friday.', 'Ian Coster': 'Cary Grant gives the managing editor a fine, hard glitter. And Miss Russell is as good as she was in The Women as the girl reporter.', 'Alan Dent': 'A crackling, ingenious, and almost bewilderingly lively film.', 'Franz Hoellering': 'Rosalind Russell and Cary Grant give such entertaining performances that nobody in the roaring audience seems to notice the tastelessness, to say the least, of playing hide-and-seek with a man condemned to death.', 'P.S. Harrison': 'A very good remake of The Front Page. It is just as racy, as fast-moving, and as comical as was the first picture.', 'Boxoffice Staff': 'Grant and Miss Russell are swell. Ditto the script and the direction of Howard Hawks.', 'Walter Selden': 'The unfolding of the screen play is primarily by means of dialogue, but dialogue of a caliber and pace which makes it the essence of action.', 'Shadow Stage': \"No matter what fault you might find with the picture itself, you know you'll be entertained by a cast like that.\", 'Modern Screen Staff': 'The cast comes to life with an equally amusing vehemence, Cary Grant, Rosalind Russell and Ralph Bellamy behaving like three people imitating the Marx brothers, and doing a swell job of it, too.', 'NZ Herald Staff': 'Although the keynote of the picture is comedy, there are some grim moments, this blend of moods being perfectly balanced by the consummate character portrayal ol the main players.', 'Film Daily Staff': 'Never a dull moment has been allowed to creep into the picture from start to finish.', 'Charlotte Harrison': 'Just brilliant.', 'C.A. Lejeune': \"Youngsters who didn't see The Front Pace, and who can stand the strain of pace and pep will probably enjoy themselves with His Girl Friday. Oldsters like myself may look back to 1931 with a certain wistfulness.\", 'Times (UK) Staff': 'His Girl Friday is tough, cynical, and wholly objective, but it is a hard brilliance and its very refusal to comment adds to the force of the revelations it makes.', 'Charles S. Aaronson': 'A racy, action-plus yarn, a bit spicy as to occasional bits of dialogue, but first rate, fast paced entertainment, where the laughs plug the spots where the action lets up.', 'Joe Leydon': \"Whenever I screen His Girl Friday for college-level film courses, female students seem particularly impressed by Russell's portrayal of a woman liberated way before women's liberation was cool.\", 'Rachel Wagner': 'One of the greatest rom-coms ever made', 'Mike Massie': \"If it wasn't so humorous, it might be a downright horrific examination of true love.\", 'James T. Hamada': 'Remakes are seldom better than the original film but His Girl Friday is one of those rare exceptions.', 'Elena de la Torre': 'The film, very well directed by Howard Hawks, is a wonder of performances on the part of the principle artists, Rosalind Russell, Cary Grant and Ralph Bellamy, and by some secondary, like Helen Mack. [Full review in Spanish]', 'Jay Carmody': 'The whole casting of the picture, indeed, represents Mr. Hawks at his best in a department in which his skill needs no further praise.', \"Josephine O'Neill\": 'The film is extremely funny at top-speed.', 'Age Staff': 'Cary Grant here reaches his zenith in the mental agility of crazy comedy.', 'Basil Wright': 'His Girl Friday is certainly very funny it is also slickly directed, and the chief parts are acted with diamond-cut-diamond precision by Rosalind Russell and Cary Grant.', 'Nelson Burns (Te Pana)': 'As motion picture entertainment of the bright and sparkling order, His Girl Friday is recommended without reservation.', 'Jesse Hassenger': 'This unflappable, unflagging energy makes His Girl Friday one of the snappiest and most purely enjoyable rom-coms ever made.', 'Sophie WIng': \"Unquestionably enjoyable, it's nevertheless hard not to imagine what Grant and Russell could have done with more time on screen together. If you want to see Cary Grant wooing his ex-wife, try The Philadelphia Story.\", 'Danielle Solzman': 'Newspaper screwball comedy His Girl Friday, starring Cary Grant and Rosalind Russell, remains one of the funniest comedy films of all time.', 'Manny Farber': 'A line is never allowed to reverberate but is quickly attached to another, funnier line in a very underrated comedy that champions the sardonic and quick-witted over the plodding, sober citizens.', 'Sean Mulvihill': \"Characters step on each other's lines in the speedy exchanges of weaponized words, and the humor of the banter and their delivery haven't lost their punch in nearly 80 years.\", 'Sean Axmaker': 'Howard Hawks returned to the material and added a twist that made it all his own: he transformed the love-hate buddy comedy of dirty tricks into a delicious battle of the sexes.', 'Jason Best': 'Hawks conducts the intrigue at such a frantic lick - achieving speed by means of overlapping dialogue and manoeuvring the actors within the frame rather than by quick cutting - that we are willingly swept along.', 'Witney Seibold': \"'His Girl Friday' is more feminist than it even gets credit for.\", 'Chris Barsanti': \"By switching the main character's gender and adding romantic sparks, Hawks turned the masterful, raucous Chicago newsroom farce The Front Page into the perfect screwball comedy.\", 'Christopher Machell': 'Delivering a parity of belly laughs and social commentary, His Girl Friday is satire of the highest order.', 'James Kendrick': 'one of the fastest, funniest, and most honestly brutal comedies of the classical Hollywood era', 'Tim Brayton': \"It's one of the most aggressive comedies of all time, and it earns that aggression by also being one of the most perfect.\", 'TIME Staff': \"Roughest spots in the original versions have been sandpapered or excised, the pressroom's whiskey cynicism toned down to half of one per cent, but the comedy still has enough Hecht-MacArthur kick to make later interpolations smell synthetic.\", 'Total Film Staff': \"It's a miraculous balancing act from Hawks, who keeps death-row drama bleeding under the movie's screwball skin to give this frantic battle of the sexes a fiendishly dark sophistication.\", 'Tony Sloman': 'Clever, witty and extremely satisfying, this marvellous film is still achingly funny today.', 'Joshua Rothkopf': 'One is tempted to throw away any semblance of persuasion and simply demand that you go see this movie.', 'Heather Boerner': 'Sassy, screwball classic with a feminist twist.', 'Josh Larsen': 'Have the movies ever talked this quickly, before or since?', 'Nick Pinkerton': \"The movie bears reviewing because there's always something new in the confetti of one-liners, while its depiction of the Fourth Estate remains relevant.\", 'Rob Nelson': \"The ultimate lesson of His Girl Friday--that it's tougher to manage a marriage than a newspaper--looks in 2008 like pure nostalgia.\", 'Colin Kennedy': 'A fast talking screwball delight that remains the finest example of its genre.', 'Film4 Staff': 'As close to perfection as you could possibly hope for, His Girl Friday is a delirious joy.', 'Dave Kehr': \"Cary Grant's performance is truly virtuoso -- stunning technique applied to the most challenging material.\", 'Raoul Hernandez': \"It's exactly the type of craziness that good newspapers thrive on. Stop the presses.\", 'Herb Golden': 'Casting is excellent, with Cary Grant and Rosalind Russell in the top roles.', 'Jake Euker': nan, 'Emanuel Levy': 'One of the best screwball comedies, a remake that improves on the source material due to Hawks brilliant idea of changing the protag\\'s gender thus turning it into a romantic \"newspaper\" film; Cary Grant, Rosalind Russell, and Ralph Bellamy at their best', 'Pablo Villaça': 'O ritmo frentico com que os excelentes dilogos so trocados (algo inovador para a poca) e o timing cmico impecvel de Grant e Russell garantem a permanncia deste filme na lista de clssicos inquestionveis.', 'Kent Turner': \"A double espresso is needed to keep up with the rapid-fire exchanges of Hawks' no-holds-barred muckraking comedy.\", 'Steven D. Greydanus': \"I've tried to love His Girl Friday, really I have.\", 'Geoff Andrew': 'Perhaps the funniest, certainly the fastest talkie comedy ever made.', 'Christopher Smith': 'It\\'s the energy of \"His Girl Friday\" that grabs you, its heated lines of dialogue that leave you satisfied and spent.', \"Chuck O'Leary\": nan, 'Scott Nash': \"They really don't make them like this anymore.\", 'Dennis Schwartz': 'Cary Grant as the ruthless fast-talking sharpie newspaper editor gives one of his finest performances.', 'Nell Minow': nan, 'Rich Cline': 'brilliant', 'Arthur Lazere': nan, 'Rob Blackwelder': nan, 'Carol Cling': nan, 'Ken Hanke': 'Fast, funny, cynical and -- in its own peculiar way -- romantic, His Girl Friday is one of the all-time great movies.', 'Frank S. Nugent': \"It takes you by the scruff of the neck in the first reel and it shakes you madly, bellowing hoarsely the. while, for the remaining six or seven. Before it's over you don't know whether you have been laughing or having your ears boxed.\", 'Jeremy Heilman': \"Howard Hawks' superb screwball workplace comedy is one of those classics that manages to convince new viewers of its greatness despite any inflated expectations caused by its sky-high reputation.\", 'Brad Laidman': 'The thing I like about Cary Grant in these movies was how utterly sure and pleased with himself he was. His screen characters always knew the working of the world.', 'Jeffrey Westhoff': nan, 'Philip Martin': nan, 'Scott Weinberg': 'The very definition of Screwball Classic.', 'Bob Grimm': nan, 'Simon Braund': \"Howard Hawks' finest moment.\", 'Brian Webster': \"If sharp wit and rapid-fire comedy is your cup of tea, then His Girl Friday must have a place on your movie menu. It's great fun from frenetic start to finish.\", 'TV Guide Staff': 'Perfection and possibly the fastest comedy on record.', 'Tim Dirks': \"His Girl Friday (1940) is Howard Hawks' speedy and hysterically funny screwball comedy, and one of the best examples of its kind in film history\", 'John J. Puccio': '...the movie puts Cary Grant and Rosalind Russell into a whirlwind of words.', 'Jeffrey M. Anderson': 'Grant is arguably the greatest screen actor of all time, and in this movie, Russell was the closest thing to his equal. They whip irreverent barbs back and forth like expert swordsmen.'}",
         "103",
         "1",
         "104",
         "2000-11-21",
         "92.0",
         "['comedy']",
         "English",
         "Howard Hawks",
         "Ben Hecht,Charles MacArthur,Charles Lederer"
        ]
       ],
       "shape": {
        "columns": 14,
        "rows": 5
       }
      },
      "text/html": [
       "<div>\n",
       "<style scoped>\n",
       "    .dataframe tbody tr th:only-of-type {\n",
       "        vertical-align: middle;\n",
       "    }\n",
       "\n",
       "    .dataframe tbody tr th {\n",
       "        vertical-align: top;\n",
       "    }\n",
       "\n",
       "    .dataframe thead th {\n",
       "        text-align: right;\n",
       "    }\n",
       "</style>\n",
       "<table border=\"1\" class=\"dataframe\">\n",
       "  <thead>\n",
       "    <tr style=\"text-align: right;\">\n",
       "      <th></th>\n",
       "      <th>title</th>\n",
       "      <th>plot</th>\n",
       "      <th>id</th>\n",
       "      <th>originalScore</th>\n",
       "      <th>reviewText</th>\n",
       "      <th>PositiveCount</th>\n",
       "      <th>NegativeCount</th>\n",
       "      <th>TotalReviews</th>\n",
       "      <th>releaseDateStreaming</th>\n",
       "      <th>runtimeMinutes</th>\n",
       "      <th>genre</th>\n",
       "      <th>originalLanguage</th>\n",
       "      <th>director</th>\n",
       "      <th>writer</th>\n",
       "    </tr>\n",
       "  </thead>\n",
       "  <tbody>\n",
       "    <tr>\n",
       "      <th>0</th>\n",
       "      <td>The Three Stooges</td>\n",
       "      <td>The Three Stooges were an American vaudeville ...</td>\n",
       "      <td>1205530-three_stooges</td>\n",
       "      <td>['2/5', '4/10', '3.0/4.0', nan, nan, '1.5/4', ...</td>\n",
       "      <td>{'Keith Garlington': 'Even with their tremendo...</td>\n",
       "      <td>77</td>\n",
       "      <td>74</td>\n",
       "      <td>151</td>\n",
       "      <td>2012-08-14</td>\n",
       "      <td>92.0</td>\n",
       "      <td>['comedy']</td>\n",
       "      <td>English</td>\n",
       "      <td>Peter Farrelly,Robert Farrelly</td>\n",
       "      <td>Peter Farrelly,Robert Farrelly,Mike Cerrone</td>\n",
       "    </tr>\n",
       "    <tr>\n",
       "      <th>1</th>\n",
       "      <td>The General</td>\n",
       "      <td>During America’s Civil War, Union spies steal ...</td>\n",
       "      <td>1008166-general</td>\n",
       "      <td>[nan, '4.5/5', '3.5/4', nan, nan, '10/10', '5/...</td>\n",
       "      <td>{'Sean Axmaker': '&amp;#46;&amp;#46;&amp;#46; a masterpiec...</td>\n",
       "      <td>55</td>\n",
       "      <td>5</td>\n",
       "      <td>60</td>\n",
       "      <td>2007-03-22</td>\n",
       "      <td>83.0</td>\n",
       "      <td>['comedy', 'action', 'adventure', 'drama', 'war']</td>\n",
       "      <td>English</td>\n",
       "      <td>Clyde Bruckman,Buster Keaton</td>\n",
       "      <td>Clyde Bruckman,Al Boasberg,Buster Keaton,Willi...</td>\n",
       "    </tr>\n",
       "    <tr>\n",
       "      <th>2</th>\n",
       "      <td>The General</td>\n",
       "      <td>During America’s Civil War, Union spies steal ...</td>\n",
       "      <td>1087427-general</td>\n",
       "      <td>[nan, '3/4', '3.5/4', nan, '2.5/4', nan, nan, ...</td>\n",
       "      <td>{'Richard Schickel': \"Neither film nor actor t...</td>\n",
       "      <td>39</td>\n",
       "      <td>8</td>\n",
       "      <td>47</td>\n",
       "      <td>1999-07-20</td>\n",
       "      <td>123.0</td>\n",
       "      <td>['biography', 'drama']</td>\n",
       "      <td>English</td>\n",
       "      <td>John Boorman</td>\n",
       "      <td>John Boorman,Paul Williams</td>\n",
       "    </tr>\n",
       "    <tr>\n",
       "      <th>3</th>\n",
       "      <td>The Best Years of Our Lives</td>\n",
       "      <td>It's the hope that sustains the spirit of ever...</td>\n",
       "      <td>best_years_of_our_lives</td>\n",
       "      <td>[nan, nan, nan, nan, '4/4', nan, '4/5', nan, n...</td>\n",
       "      <td>{'Edwin F. Melvin': 'On the surface, the tale ...</td>\n",
       "      <td>93</td>\n",
       "      <td>3</td>\n",
       "      <td>96</td>\n",
       "      <td>2000-07-18</td>\n",
       "      <td>172.0</td>\n",
       "      <td>['drama']</td>\n",
       "      <td>English</td>\n",
       "      <td>William Wyler</td>\n",
       "      <td>MacKinlay Kantor,Robert E. Sherwood</td>\n",
       "    </tr>\n",
       "    <tr>\n",
       "      <th>4</th>\n",
       "      <td>His Girl Friday</td>\n",
       "      <td>Hildy, the journalist former wife of newspaper...</td>\n",
       "      <td>his_girl_friday</td>\n",
       "      <td>['4/4', nan, nan, '4/4', nan, nan, nan, nan, n...</td>\n",
       "      <td>{'Matt Brunson': 'One of the all-time great mo...</td>\n",
       "      <td>103</td>\n",
       "      <td>1</td>\n",
       "      <td>104</td>\n",
       "      <td>2000-11-21</td>\n",
       "      <td>92.0</td>\n",
       "      <td>['comedy']</td>\n",
       "      <td>English</td>\n",
       "      <td>Howard Hawks</td>\n",
       "      <td>Ben Hecht,Charles MacArthur,Charles Lederer</td>\n",
       "    </tr>\n",
       "  </tbody>\n",
       "</table>\n",
       "</div>"
      ],
      "text/plain": [
       "                         title  \\\n",
       "0            The Three Stooges   \n",
       "1                  The General   \n",
       "2                  The General   \n",
       "3  The Best Years of Our Lives   \n",
       "4              His Girl Friday   \n",
       "\n",
       "                                                plot                       id  \\\n",
       "0  The Three Stooges were an American vaudeville ...    1205530-three_stooges   \n",
       "1  During America’s Civil War, Union spies steal ...          1008166-general   \n",
       "2  During America’s Civil War, Union spies steal ...          1087427-general   \n",
       "3  It's the hope that sustains the spirit of ever...  best_years_of_our_lives   \n",
       "4  Hildy, the journalist former wife of newspaper...          his_girl_friday   \n",
       "\n",
       "                                       originalScore  \\\n",
       "0  ['2/5', '4/10', '3.0/4.0', nan, nan, '1.5/4', ...   \n",
       "1  [nan, '4.5/5', '3.5/4', nan, nan, '10/10', '5/...   \n",
       "2  [nan, '3/4', '3.5/4', nan, '2.5/4', nan, nan, ...   \n",
       "3  [nan, nan, nan, nan, '4/4', nan, '4/5', nan, n...   \n",
       "4  ['4/4', nan, nan, '4/4', nan, nan, nan, nan, n...   \n",
       "\n",
       "                                          reviewText  PositiveCount  \\\n",
       "0  {'Keith Garlington': 'Even with their tremendo...             77   \n",
       "1  {'Sean Axmaker': '&#46;&#46;&#46; a masterpiec...             55   \n",
       "2  {'Richard Schickel': \"Neither film nor actor t...             39   \n",
       "3  {'Edwin F. Melvin': 'On the surface, the tale ...             93   \n",
       "4  {'Matt Brunson': 'One of the all-time great mo...            103   \n",
       "\n",
       "   NegativeCount  TotalReviews releaseDateStreaming  runtimeMinutes  \\\n",
       "0             74           151           2012-08-14            92.0   \n",
       "1              5            60           2007-03-22            83.0   \n",
       "2              8            47           1999-07-20           123.0   \n",
       "3              3            96           2000-07-18           172.0   \n",
       "4              1           104           2000-11-21            92.0   \n",
       "\n",
       "                                               genre originalLanguage  \\\n",
       "0                                         ['comedy']          English   \n",
       "1  ['comedy', 'action', 'adventure', 'drama', 'war']          English   \n",
       "2                             ['biography', 'drama']          English   \n",
       "3                                          ['drama']          English   \n",
       "4                                         ['comedy']          English   \n",
       "\n",
       "                         director  \\\n",
       "0  Peter Farrelly,Robert Farrelly   \n",
       "1    Clyde Bruckman,Buster Keaton   \n",
       "2                    John Boorman   \n",
       "3                   William Wyler   \n",
       "4                    Howard Hawks   \n",
       "\n",
       "                                              writer  \n",
       "0        Peter Farrelly,Robert Farrelly,Mike Cerrone  \n",
       "1  Clyde Bruckman,Al Boasberg,Buster Keaton,Willi...  \n",
       "2                         John Boorman,Paul Williams  \n",
       "3                MacKinlay Kantor,Robert E. Sherwood  \n",
       "4        Ben Hecht,Charles MacArthur,Charles Lederer  "
      ]
     },
     "execution_count": 14,
     "metadata": {},
     "output_type": "execute_result"
    }
   ],
   "source": [
    "merged_df = pd.merge(df_combined, df, on='title', how='inner')\n",
    "print(f\"Merged DataFrame shape: {merged_df.shape}\")\n",
    "merged_df.head()"
   ]
  },
  {
   "cell_type": "code",
   "execution_count": 16,
   "id": "17cade7e",
   "metadata": {},
   "outputs": [
    {
     "name": "stdout",
     "output_type": "stream",
     "text": [
      "Title: Death and the Maiden\n",
      "Streaming Release Date: 2020-12-14\n",
      "Runtime (minutes): 103.0\n",
      "Genre: ['drama']\n",
      "Language: English\n",
      "Director: Roman Polanski\n",
      "Writer: Ariel Dorfman,Rafael Yglesias\n",
      "\n",
      "Review Texts: {'Quentin Crisp': 'Miss Weaver plays the victim with quite astonishing intensity, and deals with Mr. Kingsley in a manner that is quite convincing.', 'Yasser Medina': 'Polanski manages to size the fundamental components of the mystery and suspense so that the atmosphere of the film is sinister in some scenes. But what I see hardly captivates me. [Full review in Spanish]', 'Dennis Schwartz': \"It's based on the gripping three-character play by Ariel Dorfman.\", 'Kim Newman': 'Even by their high standards, the performances of Weaver and Kingsley here are impressive, and Polanski ratchetts up the tension nicely. A chilling and thought-provoking piece.', 'Jonathan Rosenbaum': 'Polanski certainly gets the maximum voltage and precision out of his story and actors, keeping us preternaturally alert to shifting power relationships and delayed revelations.', 'Todd McCarthy': \"Kingsley shrewdly tantalizes the viewer about his identity, and gets to deliver the text's most riveting monologue at the end. The lesser-known Wilson may be the first among equals, impressing strongly as the equivocating husband.\", 'Susan Granger': nan, 'Rob Gonsalves': 'Polanski kicks the movie up to a level of emotional violence rare in English-speaking films&#46;', 'Neil Cohen': nan, 'Jake Euker': nan, 'Emanuel Levy': \"Polanksi's direction is crisp and precise but he doesn't resolve basic problems of the stage-to-screen transfer: The tale is claustrophobic (mostly limited to one set) and schematic, with all three characters serving as ideological mouthpieces.\", 'Jeffrey M. Anderson': 'A relentless, superb thriller.', 'Geoff Andrew': 'Polanski wisely never opens out the action from the remote clifftop house. In keeping things claustrophobic, close-up and ambivalent, he heightens the suspense (not to mention the sexual tension).', 'Cole Smithey': nan, \"Chuck O'Leary\": nan, 'Fred Topel': nan, 'Michael Dequina': nan, 'Andy Klein': nan, 'Jon Niccum': nan, 'Rebecca Murray': nan, 'Daniel M. Kimmel': nan, 'Carol Cling': nan, 'Robin Clifford': nan, 'Bill Chambers': 'At once caustic and sincere.', 'Nick Schager': \"Roman Polanski's underappreciated 1994 thriller Death and the Maiden confronts a litany of moral conundrums regarding guilt, revenge, punishment, justice, and man's responsibility to himself and society.\", 'Susan Tavernetti': nan, 'Caryn James': 'Mr. Polanski treads lightly on the clumsier lines, and sustains tension by creating an elegant, unobtrusive dance with the camera.', 'Oz': 'Gripping stuff.', 'John Esther': 'Weaver and Kingsley move.', 'Caffeinated Clint': \"They haven't made a stellar film like this in years. Wonderfully performed.\", 'Frederic and Mary Ann Brussat': 'Probes the moral edge of anger that feeds the passionate pursuit of justice.', 'Erik Childress': nan, 'Ken Hanke': 'Powerful story and acting, but fairly faceless direction from Polanski', 'Philip Martin': nan, 'Scott Weinberg': 'The premise grabs you early and the actors keep you watching.', 'Mick LaSalle': 'Death and the Maiden forces the audience to confront questions about torture and punishment.', 'Peter Travers': 'Polanski keeps the situation ambiguous to provoke questions of guilt and responsibility.', 'Steve Rhodes': 'Have yourself some fun and try to guess the ending. You will find there are many possibilities from which to choose.', 'Mark R. Leeper': 'Powerful, intelligent, and suspenseful.', 'Scott Rosenberg': 'The lesson shapes the drama, rather than arising from it.', 'Desson Thomson': 'The Polanski touch -- apart from a little suspense here and there -- is limited.', 'James Berardinelli': \"Any degree of tension cultivated by Polanski is frequently undermined by Rafael Yglesias and Ariel Dorfman's sputtering script.\", 'Chris Hicks': \"The more serious problem here is Polanski's decision to keep the film housebound, using only camera movements to break things up. The result is a stilted, claustrophobic effect.\", 'Roger Ebert': 'Richer than its materials might promise.', 'Marc Savlov': 'A streamlined razor-ride of a movie: taut, riveting, and a psychological horror show that will leave nail-marks in your palms for days afterwards.', 'Christopher Null': 'A haunting and powerful work of genius.', 'Scott Renshaw': 'It is sabotaged by actors who often appear not to have the faintest idea what to do with the material.', 'Hal Hinson': \"The fundamental strength of Weaver's personality doesn't work here. Nor does her particular style of rage and sorrow.\"}\n",
      "\n",
      "Movie Plot: A political activist is convinced that her guest is a man who once tortured her for the government.\n",
      "\n",
      "Positive Count: 40\n",
      "Negative Count: 9\n",
      "Total Review Count: 49\n"
     ]
    }
   ],
   "source": [
    "# Select a random index\n",
    "random_index = random.randint(0, len(merged_df) - 1)\n",
    "\n",
    "# Fetch the row\n",
    "random_row = merged_df.iloc[random_index]\n",
    "\n",
    "# Print the full row neatly\n",
    "print(f\"Title: {random_row['title']}\")\n",
    "print(f\"Streaming Release Date: {random_row['releaseDateStreaming']}\")\n",
    "print(f\"Runtime (minutes): {random_row['runtimeMinutes']}\")\n",
    "print(f\"Genre: {random_row['genre']}\")\n",
    "print(f\"Language: {random_row['originalLanguage']}\")\n",
    "print(f\"Director: {random_row['director']}\")\n",
    "print(f\"Writer: {random_row['writer']}\\n\")\n",
    "print(f\"Review Texts: {random_row['reviewText']}\\n\")\n",
    "print(f\"Movie Plot: {random_row['plot']}\\n\")\n",
    "print(f\"Positive Count: {random_row['PositiveCount']}\")\n",
    "print(f\"Negative Count: {random_row['NegativeCount']}\")\n",
    "print(f\"Total Review Count: {random_row['TotalReviews']}\")"
   ]
  },
  {
   "cell_type": "code",
   "execution_count": 17,
   "id": "f9ad6ba2",
   "metadata": {},
   "outputs": [
    {
     "data": {
      "text/plain": [
       "(17769, 14)"
      ]
     },
     "execution_count": 17,
     "metadata": {},
     "output_type": "execute_result"
    }
   ],
   "source": [
    "merged_df.shape"
   ]
  },
  {
   "cell_type": "code",
   "execution_count": 18,
   "id": "2c10fea6",
   "metadata": {},
   "outputs": [
    {
     "data": {
      "application/vnd.microsoft.datawrangler.viewer.v0+json": {
       "columns": [
        {
         "name": "index",
         "rawType": "object",
         "type": "string"
        },
        {
         "name": "0",
         "rawType": "int64",
         "type": "integer"
        }
       ],
       "ref": "eea23d32-979f-4685-bf03-2531d0543af5",
       "rows": [
        [
         "title",
         "0"
        ],
        [
         "plot",
         "0"
        ],
        [
         "id",
         "0"
        ],
        [
         "originalScore",
         "0"
        ],
        [
         "reviewText",
         "0"
        ],
        [
         "PositiveCount",
         "0"
        ],
        [
         "NegativeCount",
         "0"
        ],
        [
         "TotalReviews",
         "0"
        ],
        [
         "releaseDateStreaming",
         "1043"
        ],
        [
         "runtimeMinutes",
         "178"
        ],
        [
         "genre",
         "118"
        ],
        [
         "originalLanguage",
         "240"
        ],
        [
         "director",
         "44"
        ],
        [
         "writer",
         "2619"
        ]
       ],
       "shape": {
        "columns": 1,
        "rows": 14
       }
      },
      "text/plain": [
       "title                      0\n",
       "plot                       0\n",
       "id                         0\n",
       "originalScore              0\n",
       "reviewText                 0\n",
       "PositiveCount              0\n",
       "NegativeCount              0\n",
       "TotalReviews               0\n",
       "releaseDateStreaming    1043\n",
       "runtimeMinutes           178\n",
       "genre                    118\n",
       "originalLanguage         240\n",
       "director                  44\n",
       "writer                  2619\n",
       "dtype: int64"
      ]
     },
     "execution_count": 18,
     "metadata": {},
     "output_type": "execute_result"
    }
   ],
   "source": [
    "merged_df.isnull().sum()    "
   ]
  },
  {
   "cell_type": "code",
   "execution_count": 19,
   "id": "3b8ec24b",
   "metadata": {},
   "outputs": [],
   "source": [
    "merged_df.to_csv('../../data/final-data/data.csv', index=False)"
   ]
  },
  {
   "cell_type": "code",
   "execution_count": null,
   "id": "8b53a05f",
   "metadata": {},
   "outputs": [],
   "source": []
  }
 ],
 "metadata": {
  "kernelspec": {
   "display_name": "base",
   "language": "python",
   "name": "python3"
  },
  "language_info": {
   "codemirror_mode": {
    "name": "ipython",
    "version": 3
   },
   "file_extension": ".py",
   "mimetype": "text/x-python",
   "name": "python",
   "nbconvert_exporter": "python",
   "pygments_lexer": "ipython3",
   "version": "3.12.2"
  }
 },
 "nbformat": 4,
 "nbformat_minor": 5
}
