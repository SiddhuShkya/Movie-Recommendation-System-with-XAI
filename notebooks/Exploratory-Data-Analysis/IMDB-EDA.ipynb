{
 "cells": [
  {
   "cell_type": "code",
   "execution_count": 21,
   "metadata": {
    "colab": {
     "base_uri": "https://localhost:8080/"
    },
    "id": "QTvwGEa3QZ3M",
    "outputId": "8a93a0c3-5808-4c0c-a359-dcc1df4dc78d"
   },
   "outputs": [],
   "source": [
    "# Mount our Google Drive\n",
    "# from google.colab import drive\n",
    "\n",
    "# drive.mount('/content/drive')"
   ]
  },
  {
   "cell_type": "code",
   "execution_count": 22,
   "metadata": {
    "id": "d_cssACGQuyK"
   },
   "outputs": [],
   "source": [
    "# Importing Necessary Libraries\n",
    "import pandas as pd\n",
    "import matplotlib.pyplot as plt\n",
    "import seaborn as sns"
   ]
  },
  {
   "cell_type": "code",
   "execution_count": 23,
   "metadata": {
    "colab": {
     "base_uri": "https://localhost:8080/",
     "height": 206
    },
    "id": "iH4fyVZXQ7BR",
    "outputId": "ffc42e2c-09b9-4da6-a9ff-11b979a438da"
   },
   "outputs": [
    {
     "data": {
      "application/vnd.microsoft.datawrangler.viewer.v0+json": {
       "columns": [
        {
         "name": "index",
         "rawType": "object",
         "type": "string"
        },
        {
         "name": "0",
         "rawType": "object",
         "type": "unknown"
        },
        {
         "name": "1",
         "rawType": "object",
         "type": "unknown"
        }
       ],
       "ref": "6dc3fa0a-281f-48a9-97bc-42e7419ebde3",
       "rows": [
        [
         "ID",
         "1",
         "2"
        ],
        [
         "Title",
         "Oscar et la dame rose",
         "Cupid"
        ],
        [
         "genres",
         "drama",
         "thriller"
        ],
        [
         "plot",
         "Listening in to a conversation between his doctor and parents, 10-year-old Oscar learns what nobody has the courage to tell him. He only has a few weeks to live. Furious, he refuses to speak to anyone except straight-talking Rose, the lady in pink he meets on the hospital stairs. As Christmas approaches, Rose uses her fantastical experiences as a professional wrestler, her imagination, wit and charm to allow Oscar to live life and love to the full, in the company of his friends Pop Corn, Einstein, Bacon and childhood sweetheart Peggy Blue.",
         "A brother and sister with a past incestuous relationship have a current murderous relationship. He murders the women who reject him and she murders the women who get too close to him."
        ],
        [
         "date",
         "2009.0",
         "1997.0"
        ]
       ],
       "shape": {
        "columns": 2,
        "rows": 5
       }
      },
      "text/html": [
       "<div>\n",
       "<style scoped>\n",
       "    .dataframe tbody tr th:only-of-type {\n",
       "        vertical-align: middle;\n",
       "    }\n",
       "\n",
       "    .dataframe tbody tr th {\n",
       "        vertical-align: top;\n",
       "    }\n",
       "\n",
       "    .dataframe thead th {\n",
       "        text-align: right;\n",
       "    }\n",
       "</style>\n",
       "<table border=\"1\" class=\"dataframe\">\n",
       "  <thead>\n",
       "    <tr style=\"text-align: right;\">\n",
       "      <th></th>\n",
       "      <th>0</th>\n",
       "      <th>1</th>\n",
       "    </tr>\n",
       "  </thead>\n",
       "  <tbody>\n",
       "    <tr>\n",
       "      <th>ID</th>\n",
       "      <td>1</td>\n",
       "      <td>2</td>\n",
       "    </tr>\n",
       "    <tr>\n",
       "      <th>Title</th>\n",
       "      <td>Oscar et la dame rose</td>\n",
       "      <td>Cupid</td>\n",
       "    </tr>\n",
       "    <tr>\n",
       "      <th>genres</th>\n",
       "      <td>drama</td>\n",
       "      <td>thriller</td>\n",
       "    </tr>\n",
       "    <tr>\n",
       "      <th>plot</th>\n",
       "      <td>Listening in to a conversation between his doc...</td>\n",
       "      <td>A brother and sister with a past incestuous re...</td>\n",
       "    </tr>\n",
       "    <tr>\n",
       "      <th>date</th>\n",
       "      <td>2009.0</td>\n",
       "      <td>1997.0</td>\n",
       "    </tr>\n",
       "  </tbody>\n",
       "</table>\n",
       "</div>"
      ],
      "text/plain": [
       "                                                        0  \\\n",
       "ID                                                      1   \n",
       "Title                               Oscar et la dame rose   \n",
       "genres                                              drama   \n",
       "plot    Listening in to a conversation between his doc...   \n",
       "date                                               2009.0   \n",
       "\n",
       "                                                        1  \n",
       "ID                                                      2  \n",
       "Title                                               Cupid  \n",
       "genres                                           thriller  \n",
       "plot    A brother and sister with a past incestuous re...  \n",
       "date                                               1997.0  "
      ]
     },
     "execution_count": 23,
     "metadata": {},
     "output_type": "execute_result"
    }
   ],
   "source": [
    "df = pd.read_csv(\"../../data/movie-data-csv/imdb.csv\")\n",
    "df.head(2).T"
   ]
  },
  {
   "cell_type": "markdown",
   "metadata": {
    "id": "tIfKTRfhUC_U"
   },
   "source": [
    "### Data Understanding"
   ]
  },
  {
   "cell_type": "code",
   "execution_count": 24,
   "metadata": {
    "colab": {
     "base_uri": "https://localhost:8080/"
    },
    "id": "2hzcG_1mRC7Q",
    "outputId": "55effa7f-035d-4223-e618-0d1a03c72e59"
   },
   "outputs": [
    {
     "data": {
      "text/plain": [
       "Index(['ID', 'Title', 'genres', 'plot', 'date'], dtype='object')"
      ]
     },
     "execution_count": 24,
     "metadata": {},
     "output_type": "execute_result"
    }
   ],
   "source": [
    "df.columns"
   ]
  },
  {
   "cell_type": "code",
   "execution_count": 25,
   "metadata": {
    "colab": {
     "base_uri": "https://localhost:8080/"
    },
    "id": "_NIDEDDDUH40",
    "outputId": "aeece044-aaa3-494c-eb85-0628510caf14"
   },
   "outputs": [
    {
     "data": {
      "text/plain": [
       "(108414, 5)"
      ]
     },
     "execution_count": 25,
     "metadata": {},
     "output_type": "execute_result"
    }
   ],
   "source": [
    "df.shape"
   ]
  },
  {
   "cell_type": "code",
   "execution_count": 26,
   "metadata": {
    "colab": {
     "base_uri": "https://localhost:8080/"
    },
    "id": "LRswgqfARpPQ",
    "outputId": "f6f1f635-0fb5-44c2-fead-5513bf889e6d"
   },
   "outputs": [
    {
     "name": "stdout",
     "output_type": "stream",
     "text": [
      "<class 'pandas.core.frame.DataFrame'>\n",
      "RangeIndex: 108414 entries, 0 to 108413\n",
      "Data columns (total 5 columns):\n",
      " #   Column  Non-Null Count   Dtype  \n",
      "---  ------  --------------   -----  \n",
      " 0   ID      108414 non-null  int64  \n",
      " 1   Title   108414 non-null  object \n",
      " 2   genres  108414 non-null  object \n",
      " 3   plot    108414 non-null  object \n",
      " 4   date    99682 non-null   float64\n",
      "dtypes: float64(1), int64(1), object(3)\n",
      "memory usage: 4.1+ MB\n"
     ]
    }
   ],
   "source": [
    "df.info()"
   ]
  },
  {
   "cell_type": "code",
   "execution_count": 27,
   "metadata": {
    "colab": {
     "base_uri": "https://localhost:8080/",
     "height": 206
    },
    "id": "Fd76UN03UGhP",
    "outputId": "e672d774-252e-4532-e9db-162b88e7fb08"
   },
   "outputs": [
    {
     "data": {
      "application/vnd.microsoft.datawrangler.viewer.v0+json": {
       "columns": [
        {
         "name": "index",
         "rawType": "object",
         "type": "string"
        },
        {
         "name": "Null Count",
         "rawType": "int64",
         "type": "integer"
        },
        {
         "name": "Null Percentage (%)",
         "rawType": "float64",
         "type": "float"
        }
       ],
       "ref": "e9cbb51e-938f-465b-9407-85e6688c632f",
       "rows": [
        [
         "date",
         "8732",
         "8.05"
        ],
        [
         "ID",
         "0",
         "0.0"
        ],
        [
         "Title",
         "0",
         "0.0"
        ],
        [
         "genres",
         "0",
         "0.0"
        ],
        [
         "plot",
         "0",
         "0.0"
        ]
       ],
       "shape": {
        "columns": 2,
        "rows": 5
       }
      },
      "text/html": [
       "<div>\n",
       "<style scoped>\n",
       "    .dataframe tbody tr th:only-of-type {\n",
       "        vertical-align: middle;\n",
       "    }\n",
       "\n",
       "    .dataframe tbody tr th {\n",
       "        vertical-align: top;\n",
       "    }\n",
       "\n",
       "    .dataframe thead th {\n",
       "        text-align: right;\n",
       "    }\n",
       "</style>\n",
       "<table border=\"1\" class=\"dataframe\">\n",
       "  <thead>\n",
       "    <tr style=\"text-align: right;\">\n",
       "      <th></th>\n",
       "      <th>Null Count</th>\n",
       "      <th>Null Percentage (%)</th>\n",
       "    </tr>\n",
       "  </thead>\n",
       "  <tbody>\n",
       "    <tr>\n",
       "      <th>date</th>\n",
       "      <td>8732</td>\n",
       "      <td>8.05</td>\n",
       "    </tr>\n",
       "    <tr>\n",
       "      <th>ID</th>\n",
       "      <td>0</td>\n",
       "      <td>0.00</td>\n",
       "    </tr>\n",
       "    <tr>\n",
       "      <th>Title</th>\n",
       "      <td>0</td>\n",
       "      <td>0.00</td>\n",
       "    </tr>\n",
       "    <tr>\n",
       "      <th>genres</th>\n",
       "      <td>0</td>\n",
       "      <td>0.00</td>\n",
       "    </tr>\n",
       "    <tr>\n",
       "      <th>plot</th>\n",
       "      <td>0</td>\n",
       "      <td>0.00</td>\n",
       "    </tr>\n",
       "  </tbody>\n",
       "</table>\n",
       "</div>"
      ],
      "text/plain": [
       "        Null Count  Null Percentage (%)\n",
       "date          8732                 8.05\n",
       "ID               0                 0.00\n",
       "Title            0                 0.00\n",
       "genres           0                 0.00\n",
       "plot             0                 0.00"
      ]
     },
     "execution_count": 27,
     "metadata": {},
     "output_type": "execute_result"
    }
   ],
   "source": [
    "missing_info = df.isnull().sum().to_frame(name='Null Count')\n",
    "missing_info['Null Percentage (%)'] = (df.isnull().mean() * 100).round(2)\n",
    "missing_info = missing_info.sort_values(by='Null Count', ascending=False)\n",
    "missing_info"
   ]
  },
  {
   "cell_type": "code",
   "execution_count": 28,
   "metadata": {
    "colab": {
     "base_uri": "https://localhost:8080/",
     "height": 112
    },
    "id": "02y_e1YrULJu",
    "outputId": "f5442793-15e3-4e58-d781-71057cfb831a"
   },
   "outputs": [
    {
     "data": {
      "application/vnd.microsoft.datawrangler.viewer.v0+json": {
       "columns": [
        {
         "name": "index",
         "rawType": "object",
         "type": "string"
        },
        {
         "name": "count",
         "rawType": "float64",
         "type": "float"
        },
        {
         "name": "mean",
         "rawType": "float64",
         "type": "float"
        },
        {
         "name": "std",
         "rawType": "float64",
         "type": "float"
        },
        {
         "name": "min",
         "rawType": "float64",
         "type": "float"
        },
        {
         "name": "25%",
         "rawType": "float64",
         "type": "float"
        },
        {
         "name": "50%",
         "rawType": "float64",
         "type": "float"
        },
        {
         "name": "75%",
         "rawType": "float64",
         "type": "float"
        },
        {
         "name": "max",
         "rawType": "float64",
         "type": "float"
        }
       ],
       "ref": "044bd38e-00a2-4009-b57d-93f1d132c299",
       "rows": [
        [
         "ID",
         "108414.0",
         "27104.000451971147",
         "15648.285970441784",
         "1.0",
         "13552.25",
         "27104.0",
         "40655.75",
         "54214.0"
        ],
        [
         "date",
         "99682.0",
         "1998.7187857386489",
         "22.928414509303785",
         "1891.0",
         "1995.0",
         "2008.0",
         "2013.0",
         "2022.0"
        ]
       ],
       "shape": {
        "columns": 8,
        "rows": 2
       }
      },
      "text/html": [
       "<div>\n",
       "<style scoped>\n",
       "    .dataframe tbody tr th:only-of-type {\n",
       "        vertical-align: middle;\n",
       "    }\n",
       "\n",
       "    .dataframe tbody tr th {\n",
       "        vertical-align: top;\n",
       "    }\n",
       "\n",
       "    .dataframe thead th {\n",
       "        text-align: right;\n",
       "    }\n",
       "</style>\n",
       "<table border=\"1\" class=\"dataframe\">\n",
       "  <thead>\n",
       "    <tr style=\"text-align: right;\">\n",
       "      <th></th>\n",
       "      <th>count</th>\n",
       "      <th>mean</th>\n",
       "      <th>std</th>\n",
       "      <th>min</th>\n",
       "      <th>25%</th>\n",
       "      <th>50%</th>\n",
       "      <th>75%</th>\n",
       "      <th>max</th>\n",
       "    </tr>\n",
       "  </thead>\n",
       "  <tbody>\n",
       "    <tr>\n",
       "      <th>ID</th>\n",
       "      <td>108414.0</td>\n",
       "      <td>27104.000452</td>\n",
       "      <td>15648.285970</td>\n",
       "      <td>1.0</td>\n",
       "      <td>13552.25</td>\n",
       "      <td>27104.0</td>\n",
       "      <td>40655.75</td>\n",
       "      <td>54214.0</td>\n",
       "    </tr>\n",
       "    <tr>\n",
       "      <th>date</th>\n",
       "      <td>99682.0</td>\n",
       "      <td>1998.718786</td>\n",
       "      <td>22.928415</td>\n",
       "      <td>1891.0</td>\n",
       "      <td>1995.00</td>\n",
       "      <td>2008.0</td>\n",
       "      <td>2013.00</td>\n",
       "      <td>2022.0</td>\n",
       "    </tr>\n",
       "  </tbody>\n",
       "</table>\n",
       "</div>"
      ],
      "text/plain": [
       "         count          mean           std     min       25%      50%  \\\n",
       "ID    108414.0  27104.000452  15648.285970     1.0  13552.25  27104.0   \n",
       "date   99682.0   1998.718786     22.928415  1891.0   1995.00   2008.0   \n",
       "\n",
       "           75%      max  \n",
       "ID    40655.75  54214.0  \n",
       "date   2013.00   2022.0  "
      ]
     },
     "execution_count": 28,
     "metadata": {},
     "output_type": "execute_result"
    }
   ],
   "source": [
    "df.describe().T"
   ]
  },
  {
   "cell_type": "markdown",
   "metadata": {
    "id": "9vb_PHs5UYIM"
   },
   "source": [
    "Check the maximum and minimum length of plot description"
   ]
  },
  {
   "cell_type": "code",
   "execution_count": 29,
   "metadata": {
    "colab": {
     "base_uri": "https://localhost:8080/"
    },
    "id": "3UUJzWTFUPtv",
    "outputId": "c5a7c801-12e4-4dc8-f762-99e1ebae1bab"
   },
   "outputs": [
    {
     "name": "stdout",
     "output_type": "stream",
     "text": [
      "Maximum plot description length: 10503\n",
      "Minimum plot description length: 37\n"
     ]
    }
   ],
   "source": [
    "# Calculate the length of each description\n",
    "description_lengths = df['plot'].str.len()\n",
    "\n",
    "max_length = description_lengths.max()\n",
    "min_length = description_lengths.min()\n",
    "\n",
    "print(f\"Maximum plot description length: {max_length}\")\n",
    "print(f\"Minimum plot description length: {min_length}\")"
   ]
  },
  {
   "cell_type": "markdown",
   "metadata": {
    "id": "KQ1EdZJeVEHU"
   },
   "source": [
    " Display the longest and shortest plot"
   ]
  },
  {
   "cell_type": "code",
   "execution_count": 30,
   "metadata": {
    "colab": {
     "base_uri": "https://localhost:8080/",
     "height": 202
    },
    "id": "tICL8qr9UjTH",
    "outputId": "dbdaccf8-d9e3-4e18-a227-be33788d98a7"
   },
   "outputs": [
    {
     "name": "stdout",
     "output_type": "stream",
     "text": [
      "Longest Plot:\n"
     ]
    },
    {
     "data": {
      "text/plain": [
       "'Guy Gabaldon died on August 31, 2006 and the world lost someone very special. During the bloody struggle for Saipan in July 1944, U.S. Marine PFC Guy Gabaldon is indeed officially credited with capturing over 1500 Japanese soldiers and civilians - singlehandedly, a record that is untouchable in the annals of American military history. For over sixty years, Guy talked about his exploits on that island, sharing his experience and using his celebrity to inspire new generations who valued bravery and bravado. However, war experience alone does not make a life, and Guy\\'s didn\\'t stop in 1944. He lived many different lives and most importantly he took it upon himself to help the less fortunate, particularly the wayward teenagers he encountered when he returned to the Mariana Islands in 1980, where he would live for twenty years. Guy Gabaldon grew up in East Los Angeles where he spent more time on the streets than at home. He would get into fights and he was thrown out of school at one point, but things began to change when he was introduced to the Japanese American community. Practically adopted by his Nisei school friends, Guy learned about the Japanese culture, its language, and the tight family structure that was alien to him. All of these elements - learned at first hand - would have a dramatic effect on his experiences on Saipan. When his Japanese American friends were interned after Pearl Harbor, Guy, 17, joined the Marine Corps, trained at Camp Pendleton, and was assigned as a scout to the 2nd Regiment of the 2nd Marine Division. His unit was then shipped to Hawaii, and then on into the Central Pacific, where he landed on Saipan, nine days after D-Day in Europe. Saipan was a rocky, cave-strewn island in the Mariana chain. It was part of the Japanese Empire\\'s inner defense perimeter and it had an airfield within striking distance of Japan. It also had a large civilian population of Japanese and native islanders. The American high command in the Pacific had determined that the Marianas - Guam, Tinian and Saipan were a high priority for the war effort. B-29s were now flying and they needed a base to attack Japan. Saipan fit that bill. Guy Gabaldon didn\\'t set out to be a hero. In the first few days of heavy fighting, he simply tried to survive murderous mortar, artillery and machine gun fire. But in succeeding days, he began to go on lone-wolf excursions into the countryside and he brought prisoners back. Japanese prisoners were a bit of an oddity at that time. The credo of most soldiers of the Japanese Army was kill or be killed. Japanese soldiers on Saipan were ordered to kill seven Marines for one Japanese. Thus, the campaign featured one suicide banzai charge after another. Capturing one Japanese was considered a feat - bringing in 1500 was unthinkable. But, amazingly, that\\'s exactly what Guy Gabaldon did during the two months of early fighting on Saipan. At one point, he captured 800 in one day - his commanding officer Captain John Schwabe would later dub him \"The Pied Piper of Saipan.\" How did Guy do it? Perhaps it was his language skill - Guy was hardly fluent in Japanese but he spoke the language with a certain inflection that reached into the psyche of the exhausted, hopelessly outnumbered island garrison. He had learned the words on the streets of L.A. with his Japanese-American friends, and those words helped him on the island. Perhaps it was the fact that the Japanese were, in the end, human beings who just couldn\\'t fight anymore. Timing was thus everything. Guy wasn\\'t hesitant to make a point with a hand grenade of a carbine if the enemy proved stubborn. But they eventually came out of their caves and became his prisoner. Guy was later wounded after the island was secured. Astonishingly, he was denied the Congressional Medal of Honor - a medal for which he was recommended by Captain Schwabe of the 2nd Marines. He did receive the Silver Star for his valor, but he was not promoted and left the Marine service as a PFC. Being Hispanic, perhaps, didn\\'t help his cause. Racism and prejudice was rife throughout the U.S. armed forces in World War II and Guy was not immune to it. Guy returned to the United States, married a Japanese woman who was living in Mexico and became a successful pilot and importer. His story was first told on the television program \"This is your Life\" in the late 1950s. That program came to the attention of Hollywood and a movie was produced in 1960 entitled \"Hell to Eternity.\" Actor Jeffrey Hunter played Guy. Hunter was your poster boy U.S. Marine - no reference was ever made to his Guy\\'s Hispanic ethnicity. However, the notoriety of the film at that time encouraged the U.S. Navy to award Guy its highest decoration - the Navy Cross. But no Medal of Honor. Today, a strong effort is being waged by Congressmen, private business people and friends of Guy to get him the Medal. It would be measured as a sign of respect, not only to Guy, but to the people in America of Hispanic descent. Production Production on \"East L.A. Marine\" commenced in late 2003. Guy Gabaldon was enlisted as a creative partner on the project, and he was interviewed, at length, at his home outside Gainsville, Florida. We later interviewed his commanding officer, U.S. Marine Colonel John Schwabe, at his winter home in Tucson, Arizona. In June 2004, during the 60th Anniversary celebrations on Saipan, a local DV crew was hired and footage was gathered all over the island. Seventeen additional interviews were completed with returning veterans, local historians and friends of Guys. Guy and his wife had returned to the Island and lived there for many years - so he was well known throughout the Marianas. His autobiographical book Maverick Marine was published in 1990. Much of the footage that was gathered on the island is designed to match combat footage and still photographs taken of the campaign (yesterday and today shots). In early 2005, we interviewed a number of Hispanic veterans in Montebello, California. That May, we met Guy in Corpus Christi, Texas and helped celebrate Memorial Day with him. Footage of Guy participating in solemn commemorative ceremonies combined with nostalgic trips to the U.S.S. Lexington - a U.S. Essex-class aircraft carrier, that participated in the invasion of Saipan, sixty one years ago. In July 2006, Guy was honored by Mayor Antonio Villagairosa and the Los Angeles City Council. He was indeed a \"favorite son\" of the City of Los Angeles. This is the story of an extraordinary man - Guy Gabaldon - a U.S. Marine of Hispanic descent who single-handedly captured over 1100 Japanese during the bloody fighting on Saipan in the summer of 1944. One of the legendary heroes of World War II, Guy Gabaldon\\'s true story is now told for the very first time in EAST L.A. MARINE: THE UNTOLD TRUE STORY OF GUY GABALDON. Guy Gabaldon\\'s roots date back to the time of the Spanish conquistadors in New Mexico. Born in Los Angeles, Guy grew up in Boyle Heights where he spent more time on the streets than at home. He would get into fights and he was thrown out of school at one point, but things began to change when he was introduced to the Japanese American community. Practically adopted by his Nisei school friends, Guy learned about the Japanese culture, its language, and the tight family structure that was alien to him. All of these elements - learned at first hand - would have a dramatic effect on his experiences on Saipan. When his Japanese American friends were interned after Pearl Harbor, Guy, 17, joined the Marine Corps, trained at Camp Pendleton, and was assigned as a scout to the 2nd Regiment of the 2nd Marine Division. His combat unit landed on Saipan, nine days after D-Day in Europe. Saipan was a rocky, cave-strewn island in the Mariana chain. Guy Gabaldon didn\\'t set out to be a hero. In the first few days of heavy fighting, he simply tried to survive murderous mortar, artillery and machine gun fire. But in succeeding days, he began to go on lone-wolf excursions into the countryside and he brought prisoners back. Japanese prisoners were an oddity at that time. The credo of most soldiers of the Japanese Army was kill or be killed. Japanese soldiers on Saipan were ordered to kill seven Marines for one Japanese. Thus, the campaign featured one suicide banzai charge after another. Capturing one Japanese was considered a feat - bringing in over 1500 was unthinkable. But, amazingly, that\\'s exactly what Guy Gabaldon did during the two months of early fighting on Saipan. At one point, he captured 800 in one day - his commanding officer Captain John Schwabe would later dub him \"The Pied Piper of Saipan.\" Guy was later wounded after the island was secured. Astonishingly, he was denied the Congressional Medal of Honor - a medal for which he was recommended by Captain Schwabe of the 2nd Marines. He did receive the Silver Star for his valor, but he was not promoted and left the Marine service as a PFC. Being Hispanic, perhaps, didn\\'t help his cause. Racism and prejudice was rife throughout the U.S. armed forces in World War II and Guy was not immune to it. Fifteen years after the end of World War II, Guy\\'s story was dramatized in the 1960 war film, HELL TO ETERNITY. Since there were no Hispanic leading men at that time, producer Irvin Levin decided to cast Jeffrey Hunter as Guy. Hunter was 6\\'1\" and Caucasian, a poster-boy Marine type. In reality, Guy \"Gabby\" Gabaldon was 5\\' 3 3/4\" and of Hispanic descent - an important facet of Guy\\'s life that was ignored in the film. Although nicely written by Ted Sherdeman and directed in slam bang style by Phil Karlson (the movie was the first to feature on-screen squib bullet hits on bodies), much of the story was invented and the manner in which General Matsui (\"Bridge on the River Kwai\\'s\" Sessue Hayakawa) personally ordered the whole island to surrender to Guy was ludicrous. One positive aspect of HELL TO ETERNITY was that it woke up the Marine Corps to Gabaldon\\'s contribution and he was awarded the Navy Cross at El Toro Marine Air Station in 1960. However, any effort to get the Corps to endorse the Congressional Medal of Honor was stymied. Guy Lewis Gabaldon died of a heart attack on August 31, 2006. He was 80. Today, a strong effort is being waged by Congressmen, private business people and friends of Guy to get him the Medal posthumously. It would be measured as a sign of respect, not only to Guy, but to the people in America of Hispanic descent who fought in World War II. ###'"
      ]
     },
     "execution_count": 30,
     "metadata": {},
     "output_type": "execute_result"
    }
   ],
   "source": [
    "# Get the index of the longest and shortest plot\n",
    "longest_plot_index = description_lengths.idxmax()\n",
    "shortest_plot_index = description_lengths.idxmin()\n",
    "\n",
    "# Display the longest plot\n",
    "print(\"Longest Plot:\")\n",
    "df.loc[longest_plot_index, 'plot']"
   ]
  },
  {
   "cell_type": "code",
   "execution_count": 31,
   "metadata": {
    "colab": {
     "base_uri": "https://localhost:8080/",
     "height": 55
    },
    "id": "NNzjhYJYUxkO",
    "outputId": "687726e9-3164-43e7-8c57-de28c4ed3e9b"
   },
   "outputs": [
    {
     "name": "stdout",
     "output_type": "stream",
     "text": [
      "Shortest Plot:\n"
     ]
    },
    {
     "data": {
      "text/plain": [
       "'Documental sobre trabajo en el campo.'"
      ]
     },
     "execution_count": 31,
     "metadata": {},
     "output_type": "execute_result"
    }
   ],
   "source": [
    "print(\"Shortest Plot:\")\n",
    "df.loc[shortest_plot_index, 'plot']"
   ]
  },
  {
   "cell_type": "markdown",
   "metadata": {
    "id": "EWIaW7_WVfpl"
   },
   "source": [
    "Maximum and minimum movie released year"
   ]
  },
  {
   "cell_type": "code",
   "execution_count": 32,
   "metadata": {
    "colab": {
     "base_uri": "https://localhost:8080/"
    },
    "id": "L53uxpi9VCne",
    "outputId": "339db6f7-7cbf-4ecf-edac-fc4b9b184025"
   },
   "outputs": [
    {
     "name": "stdout",
     "output_type": "stream",
     "text": [
      "Latest oldest year of a movie : 2022.0\n",
      "Oldest realease year a movie: 1891.0\n"
     ]
    }
   ],
   "source": [
    "latest_movie_year = df['date'].max()\n",
    "oldest_movie_year = df['date'].min()\n",
    "\n",
    "print(f\"Latest oldest year of a movie : {latest_movie_year}\")\n",
    "print(f\"Oldest realease year a movie: {oldest_movie_year}\")"
   ]
  },
  {
   "cell_type": "markdown",
   "metadata": {
    "id": "SgjLdo7AZXb6"
   },
   "source": [
    "Unique Genres"
   ]
  },
  {
   "cell_type": "code",
   "execution_count": 33,
   "metadata": {
    "colab": {
     "base_uri": "https://localhost:8080/"
    },
    "id": "scI90ZVxZhvj",
    "outputId": "7d56ff58-7b10-49f4-8bef-011e5303f8a4"
   },
   "outputs": [
    {
     "data": {
      "text/plain": [
       "27"
      ]
     },
     "execution_count": 33,
     "metadata": {},
     "output_type": "execute_result"
    }
   ],
   "source": [
    "df['genres'].nunique()"
   ]
  },
  {
   "cell_type": "code",
   "execution_count": 34,
   "metadata": {
    "colab": {
     "base_uri": "https://localhost:8080/"
    },
    "id": "a9Hf3pKYZZxC",
    "outputId": "9c38e4b5-4509-4acb-8bbf-dec73733ed93"
   },
   "outputs": [
    {
     "data": {
      "text/plain": [
       "array(['drama', 'thriller', 'adult', 'documentary', 'comedy', 'crime',\n",
       "       'reality-tv', 'horror', 'sport', 'animation', 'action', 'fantasy',\n",
       "       'short', 'sci-fi', 'music', 'adventure', 'talk-show', 'western',\n",
       "       'family', 'mystery', 'history', 'news', 'biography', 'romance',\n",
       "       'game-show', 'musical', 'war'], dtype=object)"
      ]
     },
     "execution_count": 34,
     "metadata": {},
     "output_type": "execute_result"
    }
   ],
   "source": [
    "df['genres'].unique()"
   ]
  },
  {
   "cell_type": "markdown",
   "metadata": {
    "id": "VruZtDR7Wvt4"
   },
   "source": [
    "### EDA"
   ]
  },
  {
   "cell_type": "code",
   "execution_count": 35,
   "metadata": {
    "colab": {
     "base_uri": "https://localhost:8080/",
     "height": 206
    },
    "id": "a--LUFYFV5kU",
    "outputId": "f8d73a06-35c4-4a54-815c-a286a180139c"
   },
   "outputs": [
    {
     "data": {
      "application/vnd.microsoft.datawrangler.viewer.v0+json": {
       "columns": [
        {
         "name": "index",
         "rawType": "int64",
         "type": "integer"
        },
        {
         "name": "ID",
         "rawType": "int64",
         "type": "integer"
        },
        {
         "name": "Title",
         "rawType": "object",
         "type": "string"
        },
        {
         "name": "genres",
         "rawType": "object",
         "type": "string"
        },
        {
         "name": "plot",
         "rawType": "object",
         "type": "string"
        },
        {
         "name": "date",
         "rawType": "float64",
         "type": "float"
        }
       ],
       "ref": "cc5ea3c4-65f3-4f76-8b6a-b32f5574cf6b",
       "rows": [
        [
         "0",
         "1",
         "Oscar et la dame rose",
         "drama",
         "Listening in to a conversation between his doctor and parents, 10-year-old Oscar learns what nobody has the courage to tell him. He only has a few weeks to live. Furious, he refuses to speak to anyone except straight-talking Rose, the lady in pink he meets on the hospital stairs. As Christmas approaches, Rose uses her fantastical experiences as a professional wrestler, her imagination, wit and charm to allow Oscar to live life and love to the full, in the company of his friends Pop Corn, Einstein, Bacon and childhood sweetheart Peggy Blue.",
         "2009.0"
        ],
        [
         "1",
         "2",
         "Cupid",
         "thriller",
         "A brother and sister with a past incestuous relationship have a current murderous relationship. He murders the women who reject him and she murders the women who get too close to him.",
         "1997.0"
        ],
        [
         "2",
         "3",
         "Young, Wild and Wonderful",
         "adult",
         "As the bus empties the students for their field trip to the Museum of Natural History, little does the tour guide suspect that the students are there for more than just another tour. First, during the lecture films, the coeds drift into dreams of the most erotic fantasies one can imagine. After the films, they release the emotion of the fantasies in the most erotic and uncommon ways. One slips off to the curator's office for a little \"acquisition. \" Another finds the anthropologist to see what bones can be identified. Even the head teacher isn't immune. Soon the tour is over, but as the bus departs, everyone admits it was quite an education.",
         "1980.0"
        ],
        [
         "3",
         "4",
         "The Secret Sin",
         "drama",
         "To help their unemployed father make ends meet, Edith and her twin sister Grace work as seamstresses . An invalid, Grace falls prey to the temptations of Chinatown opium and becomes an addict, a condition worsened by a misguided physician who prescribes morphine to ease her pain. When their father strikes oil, the family enjoys a new prosperity and the sisters meet the eligible Jack Herron, a fellow oil prospector. To Grace's shock, Jack falls in love with Edith and in her jealousy, Grace tells Jack that Edith, not she, has a drug problem. Hinting that her sister will soon need more morphine, Grace arranges for a dinner in Chinatown with the couple. While her sister and Jack dance, Grace slips away to an opium den. Edith follows her, but ends up in the wrong den and is arrested in an ensuing drug raid. After he bails her out of jail, Edith takes an angry Jack to search for Grace and stumbles across her half-conscious body lying in the street. The truth about the sisters is revealed, and after sending Grace to a sanitarium in the country, Jack and Edith are married.",
         "1915.0"
        ],
        [
         "4",
         "5",
         "The Unrecovered",
         "drama",
         "The film's title refers not only to the un-recovered bodies at ground zero, but also to the state of the nation at large. Set in the hallucinatory period of time between September 11 and Halloween of 2001, The Unrecovered examines the effect of terror on the average mind, the way a state of heightened anxiety and/or alertness can cause the average person to make the sort of imaginative connections that are normally made only by artists and conspiracy theorists-both of whom figure prominently in this film. The Unrecovered explores the way in which irony, empathy, and paranoia relate to one another in the wake of 9/11.",
         "2007.0"
        ]
       ],
       "shape": {
        "columns": 5,
        "rows": 5
       }
      },
      "text/html": [
       "<div>\n",
       "<style scoped>\n",
       "    .dataframe tbody tr th:only-of-type {\n",
       "        vertical-align: middle;\n",
       "    }\n",
       "\n",
       "    .dataframe tbody tr th {\n",
       "        vertical-align: top;\n",
       "    }\n",
       "\n",
       "    .dataframe thead th {\n",
       "        text-align: right;\n",
       "    }\n",
       "</style>\n",
       "<table border=\"1\" class=\"dataframe\">\n",
       "  <thead>\n",
       "    <tr style=\"text-align: right;\">\n",
       "      <th></th>\n",
       "      <th>ID</th>\n",
       "      <th>Title</th>\n",
       "      <th>genres</th>\n",
       "      <th>plot</th>\n",
       "      <th>date</th>\n",
       "    </tr>\n",
       "  </thead>\n",
       "  <tbody>\n",
       "    <tr>\n",
       "      <th>0</th>\n",
       "      <td>1</td>\n",
       "      <td>Oscar et la dame rose</td>\n",
       "      <td>drama</td>\n",
       "      <td>Listening in to a conversation between his doc...</td>\n",
       "      <td>2009.0</td>\n",
       "    </tr>\n",
       "    <tr>\n",
       "      <th>1</th>\n",
       "      <td>2</td>\n",
       "      <td>Cupid</td>\n",
       "      <td>thriller</td>\n",
       "      <td>A brother and sister with a past incestuous re...</td>\n",
       "      <td>1997.0</td>\n",
       "    </tr>\n",
       "    <tr>\n",
       "      <th>2</th>\n",
       "      <td>3</td>\n",
       "      <td>Young, Wild and Wonderful</td>\n",
       "      <td>adult</td>\n",
       "      <td>As the bus empties the students for their fiel...</td>\n",
       "      <td>1980.0</td>\n",
       "    </tr>\n",
       "    <tr>\n",
       "      <th>3</th>\n",
       "      <td>4</td>\n",
       "      <td>The Secret Sin</td>\n",
       "      <td>drama</td>\n",
       "      <td>To help their unemployed father make ends meet...</td>\n",
       "      <td>1915.0</td>\n",
       "    </tr>\n",
       "    <tr>\n",
       "      <th>4</th>\n",
       "      <td>5</td>\n",
       "      <td>The Unrecovered</td>\n",
       "      <td>drama</td>\n",
       "      <td>The film's title refers not only to the un-rec...</td>\n",
       "      <td>2007.0</td>\n",
       "    </tr>\n",
       "  </tbody>\n",
       "</table>\n",
       "</div>"
      ],
      "text/plain": [
       "   ID                      Title    genres  \\\n",
       "0   1      Oscar et la dame rose     drama   \n",
       "1   2                      Cupid  thriller   \n",
       "2   3  Young, Wild and Wonderful     adult   \n",
       "3   4             The Secret Sin     drama   \n",
       "4   5            The Unrecovered     drama   \n",
       "\n",
       "                                                plot    date  \n",
       "0  Listening in to a conversation between his doc...  2009.0  \n",
       "1  A brother and sister with a past incestuous re...  1997.0  \n",
       "2  As the bus empties the students for their fiel...  1980.0  \n",
       "3  To help their unemployed father make ends meet...  1915.0  \n",
       "4  The film's title refers not only to the un-rec...  2007.0  "
      ]
     },
     "execution_count": 35,
     "metadata": {},
     "output_type": "execute_result"
    }
   ],
   "source": [
    "df.head()"
   ]
  },
  {
   "cell_type": "code",
   "execution_count": 36,
   "metadata": {
    "colab": {
     "base_uri": "https://localhost:8080/",
     "height": 896
    },
    "id": "NrAJz7rWldeV",
    "outputId": "43cfa949-cc96-46ca-da36-727f8f209bb8"
   },
   "outputs": [
    {
     "data": {
      "application/vnd.microsoft.datawrangler.viewer.v0+json": {
       "columns": [
        {
         "name": "index",
         "rawType": "int64",
         "type": "integer"
        },
        {
         "name": "genres",
         "rawType": "object",
         "type": "string"
        },
        {
         "name": "Count",
         "rawType": "int64",
         "type": "integer"
        },
        {
         "name": "Percentage (%)",
         "rawType": "float64",
         "type": "float"
        }
       ],
       "ref": "ce60d155-3c9b-45ff-afc6-c2caa7d06c34",
       "rows": [
        [
         "0",
         "drama",
         "27225",
         "25.112070396812218"
        ],
        [
         "1",
         "documentary",
         "26192",
         "24.159241426384046"
        ],
        [
         "2",
         "comedy",
         "14893",
         "13.737155717896213"
        ],
        [
         "3",
         "short",
         "10145",
         "9.35764753629605"
        ],
        [
         "4",
         "horror",
         "4408",
         "4.065895548545391"
        ],
        [
         "5",
         "thriller",
         "3181",
         "2.9341228992565536"
        ],
        [
         "6",
         "action",
         "2629",
         "2.4249635655911597"
        ],
        [
         "7",
         "western",
         "2064",
         "1.903813160661907"
        ],
        [
         "8",
         "reality-tv",
         "1767",
         "1.6298633017875919"
        ],
        [
         "9",
         "family",
         "1567",
         "1.4453852823436089"
        ],
        [
         "10",
         "adventure",
         "1550",
         "1.4297046506908702"
        ],
        [
         "11",
         "music",
         "1462",
         "1.3485343221355175"
        ],
        [
         "12",
         "romance",
         "1344",
         "1.2396922906635675"
        ],
        [
         "13",
         "sci-fi",
         "1293",
         "1.1926503957053518"
        ],
        [
         "14",
         "adult",
         "1180",
         "1.088420314719501"
        ],
        [
         "15",
         "crime",
         "1010",
         "0.9316139981921154"
        ],
        [
         "16",
         "animation",
         "996",
         "0.9187005368310366"
        ],
        [
         "17",
         "sport",
         "863",
         "0.7960226539007877"
        ],
        [
         "18",
         "talk-show",
         "782",
         "0.7213090560259745"
        ],
        [
         "19",
         "fantasy",
         "645",
         "0.594941612706846"
        ],
        [
         "20",
         "mystery",
         "637",
         "0.5875624919290867"
        ],
        [
         "21",
         "musical",
         "553",
         "0.5100817237626137"
        ],
        [
         "22",
         "biography",
         "529",
         "0.4879443614293357"
        ],
        [
         "23",
         "history",
         "486",
         "0.44828158724887934"
        ],
        [
         "24",
         "game-show",
         "387",
         "0.3569649676241076"
        ],
        [
         "25",
         "news",
         "362",
         "0.33390521519360966"
        ],
        [
         "26",
         "war",
         "264",
         "0.2435109856660579"
        ]
       ],
       "shape": {
        "columns": 3,
        "rows": 27
       }
      },
      "text/html": [
       "<div>\n",
       "<style scoped>\n",
       "    .dataframe tbody tr th:only-of-type {\n",
       "        vertical-align: middle;\n",
       "    }\n",
       "\n",
       "    .dataframe tbody tr th {\n",
       "        vertical-align: top;\n",
       "    }\n",
       "\n",
       "    .dataframe thead th {\n",
       "        text-align: right;\n",
       "    }\n",
       "</style>\n",
       "<table border=\"1\" class=\"dataframe\">\n",
       "  <thead>\n",
       "    <tr style=\"text-align: right;\">\n",
       "      <th></th>\n",
       "      <th>genres</th>\n",
       "      <th>Count</th>\n",
       "      <th>Percentage (%)</th>\n",
       "    </tr>\n",
       "  </thead>\n",
       "  <tbody>\n",
       "    <tr>\n",
       "      <th>0</th>\n",
       "      <td>drama</td>\n",
       "      <td>27225</td>\n",
       "      <td>25.112070</td>\n",
       "    </tr>\n",
       "    <tr>\n",
       "      <th>1</th>\n",
       "      <td>documentary</td>\n",
       "      <td>26192</td>\n",
       "      <td>24.159241</td>\n",
       "    </tr>\n",
       "    <tr>\n",
       "      <th>2</th>\n",
       "      <td>comedy</td>\n",
       "      <td>14893</td>\n",
       "      <td>13.737156</td>\n",
       "    </tr>\n",
       "    <tr>\n",
       "      <th>3</th>\n",
       "      <td>short</td>\n",
       "      <td>10145</td>\n",
       "      <td>9.357648</td>\n",
       "    </tr>\n",
       "    <tr>\n",
       "      <th>4</th>\n",
       "      <td>horror</td>\n",
       "      <td>4408</td>\n",
       "      <td>4.065896</td>\n",
       "    </tr>\n",
       "    <tr>\n",
       "      <th>5</th>\n",
       "      <td>thriller</td>\n",
       "      <td>3181</td>\n",
       "      <td>2.934123</td>\n",
       "    </tr>\n",
       "    <tr>\n",
       "      <th>6</th>\n",
       "      <td>action</td>\n",
       "      <td>2629</td>\n",
       "      <td>2.424964</td>\n",
       "    </tr>\n",
       "    <tr>\n",
       "      <th>7</th>\n",
       "      <td>western</td>\n",
       "      <td>2064</td>\n",
       "      <td>1.903813</td>\n",
       "    </tr>\n",
       "    <tr>\n",
       "      <th>8</th>\n",
       "      <td>reality-tv</td>\n",
       "      <td>1767</td>\n",
       "      <td>1.629863</td>\n",
       "    </tr>\n",
       "    <tr>\n",
       "      <th>9</th>\n",
       "      <td>family</td>\n",
       "      <td>1567</td>\n",
       "      <td>1.445385</td>\n",
       "    </tr>\n",
       "    <tr>\n",
       "      <th>10</th>\n",
       "      <td>adventure</td>\n",
       "      <td>1550</td>\n",
       "      <td>1.429705</td>\n",
       "    </tr>\n",
       "    <tr>\n",
       "      <th>11</th>\n",
       "      <td>music</td>\n",
       "      <td>1462</td>\n",
       "      <td>1.348534</td>\n",
       "    </tr>\n",
       "    <tr>\n",
       "      <th>12</th>\n",
       "      <td>romance</td>\n",
       "      <td>1344</td>\n",
       "      <td>1.239692</td>\n",
       "    </tr>\n",
       "    <tr>\n",
       "      <th>13</th>\n",
       "      <td>sci-fi</td>\n",
       "      <td>1293</td>\n",
       "      <td>1.192650</td>\n",
       "    </tr>\n",
       "    <tr>\n",
       "      <th>14</th>\n",
       "      <td>adult</td>\n",
       "      <td>1180</td>\n",
       "      <td>1.088420</td>\n",
       "    </tr>\n",
       "    <tr>\n",
       "      <th>15</th>\n",
       "      <td>crime</td>\n",
       "      <td>1010</td>\n",
       "      <td>0.931614</td>\n",
       "    </tr>\n",
       "    <tr>\n",
       "      <th>16</th>\n",
       "      <td>animation</td>\n",
       "      <td>996</td>\n",
       "      <td>0.918701</td>\n",
       "    </tr>\n",
       "    <tr>\n",
       "      <th>17</th>\n",
       "      <td>sport</td>\n",
       "      <td>863</td>\n",
       "      <td>0.796023</td>\n",
       "    </tr>\n",
       "    <tr>\n",
       "      <th>18</th>\n",
       "      <td>talk-show</td>\n",
       "      <td>782</td>\n",
       "      <td>0.721309</td>\n",
       "    </tr>\n",
       "    <tr>\n",
       "      <th>19</th>\n",
       "      <td>fantasy</td>\n",
       "      <td>645</td>\n",
       "      <td>0.594942</td>\n",
       "    </tr>\n",
       "    <tr>\n",
       "      <th>20</th>\n",
       "      <td>mystery</td>\n",
       "      <td>637</td>\n",
       "      <td>0.587562</td>\n",
       "    </tr>\n",
       "    <tr>\n",
       "      <th>21</th>\n",
       "      <td>musical</td>\n",
       "      <td>553</td>\n",
       "      <td>0.510082</td>\n",
       "    </tr>\n",
       "    <tr>\n",
       "      <th>22</th>\n",
       "      <td>biography</td>\n",
       "      <td>529</td>\n",
       "      <td>0.487944</td>\n",
       "    </tr>\n",
       "    <tr>\n",
       "      <th>23</th>\n",
       "      <td>history</td>\n",
       "      <td>486</td>\n",
       "      <td>0.448282</td>\n",
       "    </tr>\n",
       "    <tr>\n",
       "      <th>24</th>\n",
       "      <td>game-show</td>\n",
       "      <td>387</td>\n",
       "      <td>0.356965</td>\n",
       "    </tr>\n",
       "    <tr>\n",
       "      <th>25</th>\n",
       "      <td>news</td>\n",
       "      <td>362</td>\n",
       "      <td>0.333905</td>\n",
       "    </tr>\n",
       "    <tr>\n",
       "      <th>26</th>\n",
       "      <td>war</td>\n",
       "      <td>264</td>\n",
       "      <td>0.243511</td>\n",
       "    </tr>\n",
       "  </tbody>\n",
       "</table>\n",
       "</div>"
      ],
      "text/plain": [
       "         genres  Count  Percentage (%)\n",
       "0         drama  27225       25.112070\n",
       "1   documentary  26192       24.159241\n",
       "2        comedy  14893       13.737156\n",
       "3         short  10145        9.357648\n",
       "4        horror   4408        4.065896\n",
       "5      thriller   3181        2.934123\n",
       "6        action   2629        2.424964\n",
       "7       western   2064        1.903813\n",
       "8    reality-tv   1767        1.629863\n",
       "9        family   1567        1.445385\n",
       "10    adventure   1550        1.429705\n",
       "11        music   1462        1.348534\n",
       "12      romance   1344        1.239692\n",
       "13       sci-fi   1293        1.192650\n",
       "14        adult   1180        1.088420\n",
       "15        crime   1010        0.931614\n",
       "16    animation    996        0.918701\n",
       "17        sport    863        0.796023\n",
       "18    talk-show    782        0.721309\n",
       "19      fantasy    645        0.594942\n",
       "20      mystery    637        0.587562\n",
       "21      musical    553        0.510082\n",
       "22    biography    529        0.487944\n",
       "23      history    486        0.448282\n",
       "24    game-show    387        0.356965\n",
       "25         news    362        0.333905\n",
       "26          war    264        0.243511"
      ]
     },
     "execution_count": 36,
     "metadata": {},
     "output_type": "execute_result"
    }
   ],
   "source": [
    "from collections import Counter\n",
    "\n",
    "# Step 1: Split genres (handles multi-genre entries like \"drama, thriller\")\n",
    "df['genres'] = df['genres'].dropna().apply(lambda x: [genre.strip() for genre in x.split(',')])\n",
    "# Step 2: Flatten the list\n",
    "all_genres = sum(df['genres'], [])\n",
    "\n",
    "# Step 3: Count and create DataFrame\n",
    "genre_counts = Counter(all_genres)\n",
    "genre_df = pd.DataFrame(genre_counts.items(), columns=['genres', 'Count']).sort_values(by='Count', ascending=False).reset_index(drop=True)\n",
    "genre_df['Percentage (%)'] = (genre_df['Count'] / genre_df['Count'].sum()) * 100\n",
    "\n",
    "genre_df"
   ]
  },
  {
   "cell_type": "code",
   "execution_count": null,
   "metadata": {
    "id": "1lboNffoZvbm"
   },
   "outputs": [],
   "source": []
  }
 ],
 "metadata": {
  "colab": {
   "provenance": []
  },
  "kernelspec": {
   "display_name": "Python 3 (ipykernel)",
   "language": "python",
   "name": "python3"
  },
  "language_info": {
   "codemirror_mode": {
    "name": "ipython",
    "version": 3
   },
   "file_extension": ".py",
   "mimetype": "text/x-python",
   "name": "python",
   "nbconvert_exporter": "python",
   "pygments_lexer": "ipython3",
   "version": "3.12.2"
  }
 },
 "nbformat": 4,
 "nbformat_minor": 4
}
