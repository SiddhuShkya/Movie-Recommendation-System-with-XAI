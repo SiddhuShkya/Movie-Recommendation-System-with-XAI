{
 "cells": [
  {
   "cell_type": "code",
   "execution_count": 7,
   "id": "b8506f3c",
   "metadata": {},
   "outputs": [],
   "source": [
    "# Importing Necessary Libraries\n",
    "import pandas as pd\n",
    "import numpy as np\n",
    "import matplotlib.pyplot as plt\n",
    "import seaborn as sns"
   ]
  },
  {
   "cell_type": "code",
   "execution_count": 8,
   "id": "bb1d85c6",
   "metadata": {},
   "outputs": [
    {
     "data": {
      "text/html": [
       "<div>\n",
       "<style scoped>\n",
       "    .dataframe tbody tr th:only-of-type {\n",
       "        vertical-align: middle;\n",
       "    }\n",
       "\n",
       "    .dataframe tbody tr th {\n",
       "        vertical-align: top;\n",
       "    }\n",
       "\n",
       "    .dataframe thead th {\n",
       "        text-align: right;\n",
       "    }\n",
       "</style>\n",
       "<table border=\"1\" class=\"dataframe\">\n",
       "  <thead>\n",
       "    <tr style=\"text-align: right;\">\n",
       "      <th></th>\n",
       "      <th>19740</th>\n",
       "      <th>142327</th>\n",
       "      <th>672</th>\n",
       "    </tr>\n",
       "  </thead>\n",
       "  <tbody>\n",
       "    <tr>\n",
       "      <th>id</th>\n",
       "      <td>peliculas-para-no-dormir-la-habitacion-del-nin...</td>\n",
       "      <td>along_with_the_gods_the_last_49_days</td>\n",
       "      <td>calgary_88_16_days_of_glory</td>\n",
       "    </tr>\n",
       "    <tr>\n",
       "      <th>title</th>\n",
       "      <td>The Baby's Room</td>\n",
       "      <td>Along With the Gods: The Last 49 Days</td>\n",
       "      <td>Calgary '88: 16 Days of Glory</td>\n",
       "    </tr>\n",
       "    <tr>\n",
       "      <th>audienceScore</th>\n",
       "      <td>62.0</td>\n",
       "      <td>79.0</td>\n",
       "      <td>NaN</td>\n",
       "    </tr>\n",
       "    <tr>\n",
       "      <th>tomatoMeter</th>\n",
       "      <td>NaN</td>\n",
       "      <td>44.0</td>\n",
       "      <td>NaN</td>\n",
       "    </tr>\n",
       "    <tr>\n",
       "      <th>rating</th>\n",
       "      <td>NaN</td>\n",
       "      <td>NaN</td>\n",
       "      <td>NaN</td>\n",
       "    </tr>\n",
       "    <tr>\n",
       "      <th>ratingContents</th>\n",
       "      <td>NaN</td>\n",
       "      <td>NaN</td>\n",
       "      <td>NaN</td>\n",
       "    </tr>\n",
       "    <tr>\n",
       "      <th>releaseDateTheaters</th>\n",
       "      <td>NaN</td>\n",
       "      <td>2018-08-01</td>\n",
       "      <td>NaN</td>\n",
       "    </tr>\n",
       "    <tr>\n",
       "      <th>releaseDateStreaming</th>\n",
       "      <td>2008-08-19</td>\n",
       "      <td>2018-12-11</td>\n",
       "      <td>NaN</td>\n",
       "    </tr>\n",
       "    <tr>\n",
       "      <th>runtimeMinutes</th>\n",
       "      <td>71.0</td>\n",
       "      <td>135.0</td>\n",
       "      <td>202.0</td>\n",
       "    </tr>\n",
       "    <tr>\n",
       "      <th>genre</th>\n",
       "      <td>Mystery &amp; thriller, Horror</td>\n",
       "      <td>Fantasy, Adventure, Action</td>\n",
       "      <td>Documentary</td>\n",
       "    </tr>\n",
       "    <tr>\n",
       "      <th>originalLanguage</th>\n",
       "      <td>Spanish (Spain)</td>\n",
       "      <td>Korean</td>\n",
       "      <td>Dutch</td>\n",
       "    </tr>\n",
       "    <tr>\n",
       "      <th>director</th>\n",
       "      <td>Alex de la Iglesia</td>\n",
       "      <td>Kim Yong-hwa</td>\n",
       "      <td>Bud Greenspan</td>\n",
       "    </tr>\n",
       "    <tr>\n",
       "      <th>writer</th>\n",
       "      <td>Alex de la Iglesia,Jorge Guerricaechevarría</td>\n",
       "      <td>Kim Yong-hwa</td>\n",
       "      <td>NaN</td>\n",
       "    </tr>\n",
       "    <tr>\n",
       "      <th>boxOffice</th>\n",
       "      <td>NaN</td>\n",
       "      <td>$1.2M</td>\n",
       "      <td>NaN</td>\n",
       "    </tr>\n",
       "    <tr>\n",
       "      <th>distributor</th>\n",
       "      <td>NaN</td>\n",
       "      <td>Well Go USA</td>\n",
       "      <td>NaN</td>\n",
       "    </tr>\n",
       "    <tr>\n",
       "      <th>soundMix</th>\n",
       "      <td>NaN</td>\n",
       "      <td>NaN</td>\n",
       "      <td>NaN</td>\n",
       "    </tr>\n",
       "  </tbody>\n",
       "</table>\n",
       "</div>"
      ],
      "text/plain": [
       "                                                                 19740   \\\n",
       "id                    peliculas-para-no-dormir-la-habitacion-del-nin...   \n",
       "title                                                   The Baby's Room   \n",
       "audienceScore                                                      62.0   \n",
       "tomatoMeter                                                         NaN   \n",
       "rating                                                              NaN   \n",
       "ratingContents                                                      NaN   \n",
       "releaseDateTheaters                                                 NaN   \n",
       "releaseDateStreaming                                         2008-08-19   \n",
       "runtimeMinutes                                                     71.0   \n",
       "genre                                        Mystery & thriller, Horror   \n",
       "originalLanguage                                        Spanish (Spain)   \n",
       "director                                             Alex de la Iglesia   \n",
       "writer                      Alex de la Iglesia,Jorge Guerricaechevarría   \n",
       "boxOffice                                                           NaN   \n",
       "distributor                                                         NaN   \n",
       "soundMix                                                            NaN   \n",
       "\n",
       "                                                     142327  \\\n",
       "id                     along_with_the_gods_the_last_49_days   \n",
       "title                 Along With the Gods: The Last 49 Days   \n",
       "audienceScore                                          79.0   \n",
       "tomatoMeter                                            44.0   \n",
       "rating                                                  NaN   \n",
       "ratingContents                                          NaN   \n",
       "releaseDateTheaters                              2018-08-01   \n",
       "releaseDateStreaming                             2018-12-11   \n",
       "runtimeMinutes                                        135.0   \n",
       "genre                            Fantasy, Adventure, Action   \n",
       "originalLanguage                                     Korean   \n",
       "director                                       Kim Yong-hwa   \n",
       "writer                                         Kim Yong-hwa   \n",
       "boxOffice                                             $1.2M   \n",
       "distributor                                     Well Go USA   \n",
       "soundMix                                                NaN   \n",
       "\n",
       "                                             672     \n",
       "id                      calgary_88_16_days_of_glory  \n",
       "title                 Calgary '88: 16 Days of Glory  \n",
       "audienceScore                                   NaN  \n",
       "tomatoMeter                                     NaN  \n",
       "rating                                          NaN  \n",
       "ratingContents                                  NaN  \n",
       "releaseDateTheaters                             NaN  \n",
       "releaseDateStreaming                            NaN  \n",
       "runtimeMinutes                                202.0  \n",
       "genre                                   Documentary  \n",
       "originalLanguage                              Dutch  \n",
       "director                              Bud Greenspan  \n",
       "writer                                          NaN  \n",
       "boxOffice                                       NaN  \n",
       "distributor                                     NaN  \n",
       "soundMix                                        NaN  "
      ]
     },
     "execution_count": 8,
     "metadata": {},
     "output_type": "execute_result"
    }
   ],
   "source": [
    "# Loading the dataset\n",
    "df = pd.read_csv(\"../../data/movie-raw-data-csv/rotten_tomatoes_movies.csv\", low_memory=False)\n",
    "df.sample(3).T"
   ]
  },
  {
   "cell_type": "code",
   "execution_count": null,
   "id": "ee1b513e",
   "metadata": {},
   "outputs": [
    {
     "data": {
      "text/plain": [
       "Index(['id', 'title', 'audienceScore', 'tomatoMeter', 'rating',\n",
       "       'ratingContents', 'releaseDateTheaters', 'releaseDateStreaming',\n",
       "       'runtimeMinutes', 'genre', 'originalLanguage', 'director', 'writer',\n",
       "       'boxOffice', 'distributor', 'soundMix'],\n",
       "      dtype='object')"
      ]
     },
     "execution_count": 9,
     "metadata": {},
     "output_type": "execute_result"
    }
   ],
   "source": [
    "# Checking the columns of the DataFrame\n",
    "df.columns"
   ]
  },
  {
   "cell_type": "code",
   "execution_count": null,
   "id": "ae512028",
   "metadata": {},
   "outputs": [
    {
     "data": {
      "text/html": [
       "<div>\n",
       "<style scoped>\n",
       "    .dataframe tbody tr th:only-of-type {\n",
       "        vertical-align: middle;\n",
       "    }\n",
       "\n",
       "    .dataframe tbody tr th {\n",
       "        vertical-align: top;\n",
       "    }\n",
       "\n",
       "    .dataframe thead th {\n",
       "        text-align: right;\n",
       "    }\n",
       "</style>\n",
       "<table border=\"1\" class=\"dataframe\">\n",
       "  <thead>\n",
       "    <tr style=\"text-align: right;\">\n",
       "      <th></th>\n",
       "      <th>61940</th>\n",
       "      <th>79232</th>\n",
       "      <th>9898</th>\n",
       "    </tr>\n",
       "  </thead>\n",
       "  <tbody>\n",
       "    <tr>\n",
       "      <th>id</th>\n",
       "      <td>rubble_kings</td>\n",
       "      <td>fellinis_roma</td>\n",
       "      <td>shattered</td>\n",
       "    </tr>\n",
       "    <tr>\n",
       "      <th>title</th>\n",
       "      <td>Rubble Kings</td>\n",
       "      <td>Fellini's Roma</td>\n",
       "      <td>Shattered</td>\n",
       "    </tr>\n",
       "    <tr>\n",
       "      <th>releaseDateStreaming</th>\n",
       "      <td>2015-09-18</td>\n",
       "      <td>2001-04-10</td>\n",
       "      <td>2007-12-26</td>\n",
       "    </tr>\n",
       "    <tr>\n",
       "      <th>runtimeMinutes</th>\n",
       "      <td>71.0</td>\n",
       "      <td>128.0</td>\n",
       "      <td>98.0</td>\n",
       "    </tr>\n",
       "    <tr>\n",
       "      <th>genre</th>\n",
       "      <td>Documentary</td>\n",
       "      <td>Drama</td>\n",
       "      <td>Mystery &amp; thriller, Crime, Drama</td>\n",
       "    </tr>\n",
       "    <tr>\n",
       "      <th>originalLanguage</th>\n",
       "      <td>English</td>\n",
       "      <td>Italian</td>\n",
       "      <td>English</td>\n",
       "    </tr>\n",
       "    <tr>\n",
       "      <th>director</th>\n",
       "      <td>Shan Nicholson</td>\n",
       "      <td>Federico Fellini</td>\n",
       "      <td>Mike Barker</td>\n",
       "    </tr>\n",
       "    <tr>\n",
       "      <th>writer</th>\n",
       "      <td>Shan Nicholson</td>\n",
       "      <td>Federico Fellini,Bernardino Zapponi</td>\n",
       "      <td>William Morrissey</td>\n",
       "    </tr>\n",
       "  </tbody>\n",
       "</table>\n",
       "</div>"
      ],
      "text/plain": [
       "                               61940                                79232  \\\n",
       "id                      rubble_kings                        fellinis_roma   \n",
       "title                   Rubble Kings                       Fellini's Roma   \n",
       "releaseDateStreaming      2015-09-18                           2001-04-10   \n",
       "runtimeMinutes                  71.0                                128.0   \n",
       "genre                    Documentary                                Drama   \n",
       "originalLanguage             English                              Italian   \n",
       "director              Shan Nicholson                     Federico Fellini   \n",
       "writer                Shan Nicholson  Federico Fellini,Bernardino Zapponi   \n",
       "\n",
       "                                                 9898   \n",
       "id                                           shattered  \n",
       "title                                        Shattered  \n",
       "releaseDateStreaming                        2007-12-26  \n",
       "runtimeMinutes                                    98.0  \n",
       "genre                 Mystery & thriller, Crime, Drama  \n",
       "originalLanguage                               English  \n",
       "director                                   Mike Barker  \n",
       "writer                               William Morrissey  "
      ]
     },
     "execution_count": 10,
     "metadata": {},
     "output_type": "execute_result"
    }
   ],
   "source": [
    "# Dropping unnecessary columns\n",
    "df = df.drop(columns=['audienceScore', 'tomatoMeter', 'rating', 'ratingContents','releaseDateTheaters', 'boxOffice', 'distributor', 'soundMix'])\n",
    "df.sample(3).T"
   ]
  },
  {
   "cell_type": "code",
   "execution_count": null,
   "id": "d8e5e0bf",
   "metadata": {},
   "outputs": [
    {
     "data": {
      "text/plain": [
       "id                          0\n",
       "title                     367\n",
       "releaseDateStreaming    63838\n",
       "runtimeMinutes          13827\n",
       "genre                   11083\n",
       "originalLanguage        13858\n",
       "director                 4217\n",
       "writer                  53142\n",
       "dtype: int64"
      ]
     },
     "execution_count": 11,
     "metadata": {},
     "output_type": "execute_result"
    }
   ],
   "source": [
    "# Checking for missing values\n",
    "df.isnull().sum()"
   ]
  },
  {
   "cell_type": "code",
   "execution_count": null,
   "id": "c1d64caa",
   "metadata": {},
   "outputs": [
    {
     "data": {
      "text/plain": [
       "(143258, 8)"
      ]
     },
     "execution_count": 12,
     "metadata": {},
     "output_type": "execute_result"
    }
   ],
   "source": [
    "# Shape before dropping missing values\n",
    "df.shape"
   ]
  },
  {
   "cell_type": "code",
   "execution_count": null,
   "id": "bce94a89",
   "metadata": {},
   "outputs": [
    {
     "data": {
      "text/plain": [
       "(57860, 8)"
      ]
     },
     "execution_count": 13,
     "metadata": {},
     "output_type": "execute_result"
    }
   ],
   "source": [
    "df = df.dropna()"
   ]
  },
  {
   "cell_type": "code",
   "execution_count": 15,
   "id": "98b3f847",
   "metadata": {},
   "outputs": [
    {
     "data": {
      "text/plain": [
       "(57860, 8)"
      ]
     },
     "execution_count": 15,
     "metadata": {},
     "output_type": "execute_result"
    }
   ],
   "source": [
    "# Shape after dropping missing values\n",
    "df.shape"
   ]
  },
  {
   "cell_type": "code",
   "execution_count": null,
   "id": "37c01365",
   "metadata": {},
   "outputs": [
    {
     "data": {
      "text/plain": [
       "id                      0\n",
       "title                   0\n",
       "releaseDateStreaming    0\n",
       "runtimeMinutes          0\n",
       "genre                   0\n",
       "originalLanguage        0\n",
       "director                0\n",
       "writer                  0\n",
       "dtype: int64"
      ]
     },
     "execution_count": 14,
     "metadata": {},
     "output_type": "execute_result"
    }
   ],
   "source": [
    "# CHecking for null values again\n",
    "df.isnull().sum()"
   ]
  },
  {
   "cell_type": "code",
   "execution_count": 17,
   "id": "a55eec43",
   "metadata": {},
   "outputs": [
    {
     "data": {
      "text/html": [
       "<div>\n",
       "<style scoped>\n",
       "    .dataframe tbody tr th:only-of-type {\n",
       "        vertical-align: middle;\n",
       "    }\n",
       "\n",
       "    .dataframe tbody tr th {\n",
       "        vertical-align: top;\n",
       "    }\n",
       "\n",
       "    .dataframe thead th {\n",
       "        text-align: right;\n",
       "    }\n",
       "</style>\n",
       "<table border=\"1\" class=\"dataframe\">\n",
       "  <thead>\n",
       "    <tr style=\"text-align: right;\">\n",
       "      <th></th>\n",
       "      <th>111424</th>\n",
       "      <th>128933</th>\n",
       "      <th>140733</th>\n",
       "    </tr>\n",
       "  </thead>\n",
       "  <tbody>\n",
       "    <tr>\n",
       "      <th>id</th>\n",
       "      <td>hecho_en_china</td>\n",
       "      <td>7_dias</td>\n",
       "      <td>sweet_river</td>\n",
       "    </tr>\n",
       "    <tr>\n",
       "      <th>title</th>\n",
       "      <td>Made in China</td>\n",
       "      <td>7 Days</td>\n",
       "      <td>Sweet River</td>\n",
       "    </tr>\n",
       "    <tr>\n",
       "      <th>releaseDateStreaming</th>\n",
       "      <td>2016-09-07</td>\n",
       "      <td>2007-12-04</td>\n",
       "      <td>2021-04-23</td>\n",
       "    </tr>\n",
       "    <tr>\n",
       "      <th>runtimeMinutes</th>\n",
       "      <td>91.0</td>\n",
       "      <td>95.0</td>\n",
       "      <td>102.0</td>\n",
       "    </tr>\n",
       "    <tr>\n",
       "      <th>genre</th>\n",
       "      <td>Comedy, Drama, Adventure</td>\n",
       "      <td>Comedy, Drama</td>\n",
       "      <td>Horror, Mystery &amp; thriller</td>\n",
       "    </tr>\n",
       "    <tr>\n",
       "      <th>originalLanguage</th>\n",
       "      <td>Spanish</td>\n",
       "      <td>Spanish</td>\n",
       "      <td>English (Australia)</td>\n",
       "    </tr>\n",
       "    <tr>\n",
       "      <th>director</th>\n",
       "      <td>Gabriel Guzmán</td>\n",
       "      <td>Fernando Kalife</td>\n",
       "      <td>Justin McMillan</td>\n",
       "    </tr>\n",
       "    <tr>\n",
       "      <th>writer</th>\n",
       "      <td>Gabriel Guzmán</td>\n",
       "      <td>Fernando Kalife</td>\n",
       "      <td>Eddie Baroo,Marc Furmie</td>\n",
       "    </tr>\n",
       "  </tbody>\n",
       "</table>\n",
       "</div>"
      ],
      "text/plain": [
       "                                        111424           128933  \\\n",
       "id                              hecho_en_china           7_dias   \n",
       "title                            Made in China           7 Days   \n",
       "releaseDateStreaming                2016-09-07       2007-12-04   \n",
       "runtimeMinutes                            91.0             95.0   \n",
       "genre                 Comedy, Drama, Adventure    Comedy, Drama   \n",
       "originalLanguage                       Spanish          Spanish   \n",
       "director                        Gabriel Guzmán  Fernando Kalife   \n",
       "writer                          Gabriel Guzmán  Fernando Kalife   \n",
       "\n",
       "                                          140733  \n",
       "id                                   sweet_river  \n",
       "title                                Sweet River  \n",
       "releaseDateStreaming                  2021-04-23  \n",
       "runtimeMinutes                             102.0  \n",
       "genre                 Horror, Mystery & thriller  \n",
       "originalLanguage             English (Australia)  \n",
       "director                         Justin McMillan  \n",
       "writer                   Eddie Baroo,Marc Furmie  "
      ]
     },
     "execution_count": 17,
     "metadata": {},
     "output_type": "execute_result"
    }
   ],
   "source": [
    "df.sample(3).T"
   ]
  },
  {
   "cell_type": "code",
   "execution_count": null,
   "id": "51ded9dc",
   "metadata": {},
   "outputs": [],
   "source": []
  }
 ],
 "metadata": {
  "kernelspec": {
   "display_name": "base",
   "language": "python",
   "name": "python3"
  },
  "language_info": {
   "codemirror_mode": {
    "name": "ipython",
    "version": 3
   },
   "file_extension": ".py",
   "mimetype": "text/x-python",
   "name": "python",
   "nbconvert_exporter": "python",
   "pygments_lexer": "ipython3",
   "version": "3.12.2"
  }
 },
 "nbformat": 4,
 "nbformat_minor": 5
}
